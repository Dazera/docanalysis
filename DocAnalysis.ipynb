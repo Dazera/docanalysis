{
 "cells": [
  {
   "cell_type": "markdown",
   "metadata": {},
   "source": [
    "## Document Analysis of 20 Histories"
   ]
  },
  {
   "cell_type": "markdown",
   "metadata": {},
   "source": [
    "#### Project HackMD card\n",
    "https://hackmd.io/DgWmLHo_SvGBVjUs57O70g?both"
   ]
  },
  {
   "cell_type": "code",
   "execution_count": 1,
   "metadata": {},
   "outputs": [],
   "source": [
    "from Book2 import Book\n",
    "import re\n",
    "import os, time, datetime\n",
    "import pandas as pd\n",
    "import altair as alt\n",
    "import numpy as np\n"
   ]
  },
  {
   "cell_type": "code",
   "execution_count": 2,
   "metadata": {},
   "outputs": [
    {
     "data": {
      "text/plain": [
       "'＂＃＄％＆＇（）＊＋，－／：；＜＝＞＠［＼］＾＿｀｛｜｝～｟｠｢｣､\\u3000、〃〈〉《》「」『』【】〔〕〖〗〘〙〚〛〜〝〞〟〰〾〿–—‘’‛“”„‟…‧﹏﹑﹔·！？｡。'"
      ]
     },
     "execution_count": 2,
     "metadata": {},
     "output_type": "execute_result"
    }
   ],
   "source": [
    "from zhon import hanzi\n",
    "hanzi.punctuation"
   ]
  },
  {
   "cell_type": "code",
   "execution_count": 3,
   "metadata": {},
   "outputs": [],
   "source": [
    "from DocCollect import AddChar2Dict, AddWord2Dict, DictTopN, \\\n",
    "getIndentedDocuments, getQuotedDocuments, getQuotedDocumentsFromCommentaries, \\\n",
    "Histories, HistoryE2C, HistoryC2E, normalizeBookNames, \\\n",
    "RetrieveDocumentsMain, RetrieveDocumentsCommentary, \\\n",
    "scrollNum, sectionType, processScrollSectionDicts, \\\n",
    "consolidateCommentaries, getDocsSummary"
   ]
  },
  {
   "cell_type": "code",
   "execution_count": 4,
   "metadata": {},
   "outputs": [
    {
     "data": {
      "text/plain": [
       "('三國志', 'HouHanShu')"
      ]
     },
     "execution_count": 4,
     "metadata": {},
     "output_type": "execute_result"
    }
   ],
   "source": [
    "HistoryE2C['Sanguozhi'], HistoryC2E['後漢書']"
   ]
  },
  {
   "cell_type": "code",
   "execution_count": 5,
   "metadata": {},
   "outputs": [],
   "source": [
    "#hist = HistoryC2E['三國志']\n",
    "#book = Book(hist)"
   ]
  },
  {
   "cell_type": "code",
   "execution_count": 44,
   "metadata": {},
   "outputs": [
    {
     "name": "stderr",
     "output_type": "stream",
     "text": [
      "INFO:root:Stop at loading ./data/medievalHistories/Shiji/Shiji_0392.html.\n",
      "INFO:root:Total length of the data is 392.\n"
     ]
    },
    {
     "name": "stdout",
     "output_type": "stream",
     "text": [
      "Shiji\n",
      "list index out of range\n",
      "list index out of range\n",
      "list index out of range\n",
      "list index out of range\n",
      "list index out of range\n",
      "392\n"
     ]
    },
    {
     "name": "stderr",
     "output_type": "stream",
     "text": [
      "INFO:root:Remove the new lines added by the page dividers, connect the paragraphs before and after the new lines.\n",
      "INFO:root:Remove 標註, page number, and page dividers from the tree structure.\n",
      "INFO:root:Stop at loading ./data/medievalHistories/Hanshu/Hanshu_0897.html.\n",
      "INFO:root:Total length of the data is 897.\n"
     ]
    },
    {
     "name": "stdout",
     "output_type": "stream",
     "text": [
      "Hanshu\n",
      "list index out of range\n",
      "897\n"
     ]
    },
    {
     "name": "stderr",
     "output_type": "stream",
     "text": [
      "INFO:root:Remove the new lines added by the page dividers, connect the paragraphs before and after the new lines.\n",
      "INFO:root:Remove 標註, page number, and page dividers from the tree structure.\n",
      "INFO:root:Stop at loading ./data/medievalHistories/Sanguozhi/Sanguozhi_0495.html.\n",
      "INFO:root:Total length of the data is 495.\n"
     ]
    },
    {
     "name": "stdout",
     "output_type": "stream",
     "text": [
      "Sanguozhi\n",
      "list index out of range\n",
      "list index out of range\n",
      "list index out of range\n",
      "list index out of range\n",
      "list index out of range\n",
      "495\n"
     ]
    },
    {
     "name": "stderr",
     "output_type": "stream",
     "text": [
      "INFO:root:Remove the new lines added by the page dividers, connect the paragraphs before and after the new lines.\n",
      "INFO:root:Remove 標註, page number, and page dividers from the tree structure.\n",
      "INFO:root:Stop at loading ./data/medievalHistories/HouHanShu/HouHanShu_1141.html.\n",
      "INFO:root:Total length of the data is 1141.\n"
     ]
    },
    {
     "name": "stdout",
     "output_type": "stream",
     "text": [
      "HouHanShu\n",
      "1141\n"
     ]
    },
    {
     "name": "stderr",
     "output_type": "stream",
     "text": [
      "INFO:root:Remove the new lines added by the page dividers, connect the paragraphs before and after the new lines.\n",
      "INFO:root:Remove 標註, page number, and page dividers from the tree structure.\n",
      "INFO:root:Stop at loading ./data/medievalHistories/Songshu/Songshu_0969.html.\n",
      "INFO:root:Total length of the data is 969.\n"
     ]
    },
    {
     "name": "stdout",
     "output_type": "stream",
     "text": [
      "Songshu\n",
      "969\n"
     ]
    },
    {
     "name": "stderr",
     "output_type": "stream",
     "text": [
      "INFO:root:Remove the new lines added by the page dividers, connect the paragraphs before and after the new lines.\n",
      "INFO:root:Remove 標註, page number, and page dividers from the tree structure.\n",
      "INFO:root:Stop at loading ./data/medievalHistories/Nanqishu/Nanqishu_0822.html.\n",
      "INFO:root:Total length of the data is 822.\n"
     ]
    },
    {
     "name": "stdout",
     "output_type": "stream",
     "text": [
      "Nanqishu\n",
      "list index out of range\n",
      "822\n"
     ]
    },
    {
     "name": "stderr",
     "output_type": "stream",
     "text": [
      "INFO:root:Remove the new lines added by the page dividers, connect the paragraphs before and after the new lines.\n",
      "INFO:root:Remove 標註, page number, and page dividers from the tree structure.\n",
      "INFO:root:Stop at loading ./data/medievalHistories/Weishu/Weishu_1614.html.\n",
      "INFO:root:Total length of the data is 1614.\n"
     ]
    },
    {
     "name": "stdout",
     "output_type": "stream",
     "text": [
      "Weishu\n",
      "1614\n"
     ]
    },
    {
     "name": "stderr",
     "output_type": "stream",
     "text": [
      "INFO:root:Remove the new lines added by the page dividers, connect the paragraphs before and after the new lines.\n",
      "INFO:root:Remove 標註, page number, and page dividers from the tree structure.\n",
      "INFO:root:Stop at loading ./data/medievalHistories/LiangShu/LiangShu_0399.html.\n",
      "INFO:root:Total length of the data is 399.\n"
     ]
    },
    {
     "name": "stdout",
     "output_type": "stream",
     "text": [
      "LiangShu\n",
      "list index out of range\n",
      "399\n"
     ]
    },
    {
     "name": "stderr",
     "output_type": "stream",
     "text": [
      "INFO:root:Remove the new lines added by the page dividers, connect the paragraphs before and after the new lines.\n",
      "INFO:root:Remove 標註, page number, and page dividers from the tree structure.\n",
      "INFO:root:Stop at loading ./data/medievalHistories/Chenshu/Chenshu_0255.html.\n",
      "INFO:root:Total length of the data is 255.\n"
     ]
    },
    {
     "name": "stdout",
     "output_type": "stream",
     "text": [
      "Chenshu\n",
      "list index out of range\n",
      "255\n"
     ]
    },
    {
     "name": "stderr",
     "output_type": "stream",
     "text": [
      "INFO:root:Remove the new lines added by the page dividers, connect the paragraphs before and after the new lines.\n",
      "INFO:root:Remove 標註, page number, and page dividers from the tree structure.\n",
      "INFO:root:Stop at loading ./data/medievalHistories/BeiQishu/BeiQishu_0342.html.\n",
      "INFO:root:Total length of the data is 342.\n"
     ]
    },
    {
     "name": "stdout",
     "output_type": "stream",
     "text": [
      "BeiQishu\n",
      "list index out of range\n",
      "342\n"
     ]
    },
    {
     "name": "stderr",
     "output_type": "stream",
     "text": [
      "INFO:root:Remove the new lines added by the page dividers, connect the paragraphs before and after the new lines.\n",
      "INFO:root:Remove 標註, page number, and page dividers from the tree structure.\n",
      "INFO:root:Stop at loading ./data/medievalHistories/Zhoushu/Zhoushu_0358.html.\n",
      "INFO:root:Total length of the data is 358.\n"
     ]
    },
    {
     "name": "stdout",
     "output_type": "stream",
     "text": [
      "Zhoushu\n",
      "list index out of range\n",
      "358\n"
     ]
    },
    {
     "name": "stderr",
     "output_type": "stream",
     "text": [
      "INFO:root:Remove the new lines added by the page dividers, connect the paragraphs before and after the new lines.\n",
      "INFO:root:Remove 標註, page number, and page dividers from the tree structure.\n",
      "INFO:root:Stop at loading ./data/medievalHistories/SuiShu/SuiShu_1003.html.\n",
      "INFO:root:Total length of the data is 1003.\n"
     ]
    },
    {
     "name": "stdout",
     "output_type": "stream",
     "text": [
      "SuiShu\n",
      "list index out of range\n",
      "1003\n"
     ]
    },
    {
     "name": "stderr",
     "output_type": "stream",
     "text": [
      "INFO:root:Remove the new lines added by the page dividers, connect the paragraphs before and after the new lines.\n",
      "INFO:root:Remove 標註, page number, and page dividers from the tree structure.\n",
      "INFO:root:Stop at loading ./data/medievalHistories/Jinshu/Jinshu_1454.html.\n",
      "INFO:root:Total length of the data is 1454.\n"
     ]
    },
    {
     "name": "stdout",
     "output_type": "stream",
     "text": [
      "Jinshu\n",
      "1454\n"
     ]
    },
    {
     "name": "stderr",
     "output_type": "stream",
     "text": [
      "INFO:root:Remove the new lines added by the page dividers, connect the paragraphs before and after the new lines.\n",
      "INFO:root:Remove 標註, page number, and page dividers from the tree structure.\n",
      "INFO:root:Stop at loading ./data/medievalHistories/Nanshi/Nanshi_1066.html.\n",
      "INFO:root:Total length of the data is 1066.\n"
     ]
    },
    {
     "name": "stdout",
     "output_type": "stream",
     "text": [
      "Nanshi\n",
      "1066\n"
     ]
    },
    {
     "name": "stderr",
     "output_type": "stream",
     "text": [
      "INFO:root:Remove the new lines added by the page dividers, connect the paragraphs before and after the new lines.\n",
      "INFO:root:Remove 標註, page number, and page dividers from the tree structure.\n",
      "INFO:root:Stop at loading ./data/medievalHistories/Beishi/Beishi_1435.html.\n",
      "INFO:root:Total length of the data is 1435.\n"
     ]
    },
    {
     "name": "stdout",
     "output_type": "stream",
     "text": [
      "Beishi\n",
      "1435\n"
     ]
    },
    {
     "name": "stderr",
     "output_type": "stream",
     "text": [
      "INFO:root:Remove the new lines added by the page dividers, connect the paragraphs before and after the new lines.\n",
      "INFO:root:Remove 標註, page number, and page dividers from the tree structure.\n",
      "INFO:root:Stop at loading ./data/medievalHistories/JiuTangshu/JiuTangshu_2368.html.\n",
      "INFO:root:Total length of the data is 2368.\n"
     ]
    },
    {
     "name": "stdout",
     "output_type": "stream",
     "text": [
      "JiuTangshu\n",
      "list index out of range\n",
      "list index out of range\n",
      "2368\n"
     ]
    },
    {
     "name": "stderr",
     "output_type": "stream",
     "text": [
      "INFO:root:Remove the new lines added by the page dividers, connect the paragraphs before and after the new lines.\n",
      "INFO:root:Remove 標註, page number, and page dividers from the tree structure.\n",
      "INFO:root:Stop at loading ./data/medievalHistories/XinTangshu/XinTangshu_2727.html.\n",
      "INFO:root:Total length of the data is 2727.\n"
     ]
    },
    {
     "name": "stdout",
     "output_type": "stream",
     "text": [
      "XinTangshu\n",
      "list index out of range\n",
      "2727\n"
     ]
    },
    {
     "name": "stderr",
     "output_type": "stream",
     "text": [
      "INFO:root:Remove the new lines added by the page dividers, connect the paragraphs before and after the new lines.\n",
      "INFO:root:Remove 標註, page number, and page dividers from the tree structure.\n",
      "INFO:root:Stop at loading ./data/medievalHistories/JiuWudaishi/JiuWudaishi_0858.html.\n",
      "INFO:root:Total length of the data is 858.\n"
     ]
    },
    {
     "name": "stdout",
     "output_type": "stream",
     "text": [
      "JiuWudaishi\n",
      "list index out of range\n",
      "list index out of range\n",
      "list index out of range\n",
      "list index out of range\n",
      "list index out of range\n",
      "list index out of range\n",
      "list index out of range\n",
      "858\n"
     ]
    },
    {
     "name": "stderr",
     "output_type": "stream",
     "text": [
      "INFO:root:Remove the new lines added by the page dividers, connect the paragraphs before and after the new lines.\n",
      "INFO:root:Remove 標註, page number, and page dividers from the tree structure.\n",
      "INFO:root:Stop at loading ./data/medievalHistories/XinWudaishi/XinWudaishi_0498.html.\n",
      "INFO:root:Total length of the data is 498.\n"
     ]
    },
    {
     "name": "stdout",
     "output_type": "stream",
     "text": [
      "XinWudaishi\n",
      "498\n"
     ]
    },
    {
     "name": "stderr",
     "output_type": "stream",
     "text": [
      "INFO:root:Remove the new lines added by the page dividers, connect the paragraphs before and after the new lines.\n",
      "INFO:root:Remove 標註, page number, and page dividers from the tree structure.\n",
      "INFO:root:Stop at loading ./data/medievalHistories/Songshi/Songshi_4413.html.\n",
      "INFO:root:Total length of the data is 4413.\n"
     ]
    },
    {
     "name": "stdout",
     "output_type": "stream",
     "text": [
      "Songshi\n",
      "4413\n"
     ]
    },
    {
     "name": "stderr",
     "output_type": "stream",
     "text": [
      "INFO:root:Remove the new lines added by the page dividers, connect the paragraphs before and after the new lines.\n",
      "INFO:root:Remove 標註, page number, and page dividers from the tree structure.\n"
     ]
    }
   ],
   "source": [
    "Books = [None] * len(Histories)\n",
    "for i, hist in enumerate(Histories):\n",
    "    #if hist != 'Sanguozhi': continue\n",
    "    Books[i] = Book(bookname=hist, date=\"2019-07-23\", creator=\"ILP\")\n",
    "    Books[i].load_htmls(f\"./data/medievalHistories/{hist}/\")\n",
    "    Books[i].extract_paths()\n",
    "    Books[i].metainfo()\n",
    "    Books[i].strip_all_irrelevant_tags()\n",
    "    normalizeBookNames(Books[i]) # change 'book title' in flat_meta from Chinese to pinyin \n",
    "    processScrollSectionDicts(Books[i])\n",
    "    #\n",
    "    ## BEGIN: Special treatment for Sanguozhi\n",
    "    if hist == 'Sanguozhi':\n",
    "        consolidateCommentaries(Books[i])\n",
    "        RetrieveDocumentsCommentary(Books[i])\n",
    "    else:  # Commentaries for all the other 19 books should be deleted \n",
    "        Books[i].commentaries = None\n",
    "    ## END: Special treatment for Sanguozhi\n",
    "    RetrieveDocumentsMain(Books[i])\n",
    "    getDocsSummary(Books[i])\n",
    "    #if i > 6: break\n"
   ]
  },
  {
   "cell_type": "markdown",
   "metadata": {},
   "source": [
    "### Create a unifed pandas dataframe from the docsSummary attribute of each book"
   ]
  },
  {
   "cell_type": "code",
   "execution_count": 45,
   "metadata": {},
   "outputs": [
    {
     "data": {
      "text/plain": [
       "{'book': 'str',\n",
       " 'fileno': 'str',\n",
       " 'scrollno': 'Int64',\n",
       " 'section': 'str',\n",
       " 'grandChar': 'Int64',\n",
       " 'commentaryChar': 'Int64',\n",
       " 'iDocsM': 'Int64',\n",
       " 'iDocsCharM': 'Int64',\n",
       " 'qDocsM': 'Int64',\n",
       " 'qDocsCharM': 'Int64',\n",
       " 'qDocsC': 'Int64',\n",
       " 'qDocsCharC': 'Int64'}"
      ]
     },
     "execution_count": 45,
     "metadata": {},
     "output_type": "execute_result"
    }
   ],
   "source": [
    "# Column names and their data types for pandas dataframe\n",
    "\n",
    "column_names_text = '''\n",
    "book fileno scrollno section \n",
    "grandChar commentaryChar\n",
    "iDocsM iDocsCharM qDocsM qDocsCharM \n",
    "qDocsC qDocsCharC \n",
    "'''\n",
    "column_names = column_names_text.strip().split()\n",
    "\n",
    "### Data dictionary (meanings of column names above)\n",
    "# book           = 'book name', e.g. Sanguozhi\n",
    "# fileno         = 'file no.' (HTML serial no.)\n",
    "# scrollno       = 'scroll no.' i.e., 卷\n",
    "# section        = 'section', e.g., 列傳，本紀\n",
    "# grandChar      = 'total char count, minus commentaries, bookmark'\n",
    "# commentaryChar = 'total commentary char count'\n",
    "# iDocsM         = indented docs from Main Text, document count\n",
    "# iDocsCharM     = indented docs from Main Text, total char count\n",
    "# qDocsM         = quoted docs from Main Text, document count\n",
    "# qDocsCharM     = quoted docs from Main Text, total char count\n",
    "# qDocsC         = quoted docs from Commentaries, document count\n",
    "# qDocsCharC     = quoted docs from Commentaries, total char count\n",
    "\n",
    "data_types_str = '''\n",
    "str str Int64 str\n",
    "Int64 Int64 \n",
    "Int64 Int64 Int64 Int64 \n",
    "Int64 Int64\n",
    "'''\n",
    "data_types = data_types_str.strip().split()\n",
    "\n",
    "# the following column data types will be imposed on the DataFrame after it is created ('astype')\n",
    "col_dtype = {c: data_types[i] for i, c in enumerate(column_names)}  # dictionary comprehension\n",
    "col_dtype"
   ]
  },
  {
   "cell_type": "code",
   "execution_count": 46,
   "metadata": {},
   "outputs": [],
   "source": [
    "All_Summary = []\n",
    "for book in Books:\n",
    "    if book is None: continue\n",
    "    All_Summary.extend(book.docsSummary)\n",
    "df = pd.DataFrame(data=All_Summary, columns=column_names)\n",
    "df = df.astype(col_dtype)\n",
    "\n",
    "## Now add two columns: 'total docs count' and 'total docs char count'\n",
    "df['docsTotal']     = df['iDocsM'] + df['qDocsM'] + df['qDocsC']\n",
    "df['docsCharTotal'] = df['iDocsCharM'] + df['qDocsCharM'] + df['qDocsCharC']\n",
    "df['regTextMCharTotal'] = df['grandChar'] - df['iDocsM'] - df['qDocsM']\n"
   ]
  },
  {
   "cell_type": "code",
   "execution_count": 47,
   "metadata": {},
   "outputs": [
    {
     "data": {
      "text/plain": [
       "(23506, 15)"
      ]
     },
     "execution_count": 47,
     "metadata": {},
     "output_type": "execute_result"
    }
   ],
   "source": [
    "df.shape"
   ]
  },
  {
   "cell_type": "markdown",
   "metadata": {},
   "source": [
    "#### Possible values of 'section' column\n",
    " '世家',  '傳:', '列傳', '史記正義', '吳書', '志', '書', '本紀',\n",
    " '紀:', '蜀書', '表', '魏書', '點校後記'"
   ]
  },
  {
   "cell_type": "markdown",
   "metadata": {},
   "source": [
    "### 'dfBios' below contains the portions of the histories that we're studying (列傳, except 三國志)"
   ]
  },
  {
   "cell_type": "code",
   "execution_count": 48,
   "metadata": {},
   "outputs": [],
   "source": [
    "# Concatenating history using pandas.concat() function\n",
    "dfBios = df[ (df.book==Histories[0]) & (df.section.isin(['列傳'])) ]  # initialize first book\n",
    "for hist in Histories[1:]:\n",
    "    if hist is None: continue\n",
    "    #print(hist)\n",
    "    if hist == 'Sanguozhi': # we want everything\n",
    "        newdf = df[ df.book==hist ]  \n",
    "    else:\n",
    "        newdf = df[ (df.book==hist) & (df.section.isin(['列傳'])) ]\n",
    "    dfBios = pd.concat([dfBios, newdf])\n",
    "        "
   ]
  },
  {
   "cell_type": "code",
   "execution_count": 49,
   "metadata": {},
   "outputs": [
    {
     "data": {
      "text/plain": [
       "(12533, 15)"
      ]
     },
     "execution_count": 49,
     "metadata": {},
     "output_type": "execute_result"
    }
   ],
   "source": [
    "dfBios.shape"
   ]
  },
  {
   "cell_type": "markdown",
   "metadata": {},
   "source": [
    "### Plot total no. of characters in documents by book"
   ]
  },
  {
   "cell_type": "code",
   "execution_count": 50,
   "metadata": {},
   "outputs": [
    {
     "data": {
      "text/html": [
       "<div>\n",
       "<style scoped>\n",
       "    .dataframe tbody tr th:only-of-type {\n",
       "        vertical-align: middle;\n",
       "    }\n",
       "\n",
       "    .dataframe tbody tr th {\n",
       "        vertical-align: top;\n",
       "    }\n",
       "\n",
       "    .dataframe thead th {\n",
       "        text-align: right;\n",
       "    }\n",
       "</style>\n",
       "<table border=\"1\" class=\"dataframe\">\n",
       "  <thead>\n",
       "    <tr style=\"text-align: right;\">\n",
       "      <th></th>\n",
       "      <th>grandChar</th>\n",
       "      <th>iDocsM</th>\n",
       "      <th>iDocsCharM</th>\n",
       "      <th>qDocsM</th>\n",
       "      <th>qDocsCharM</th>\n",
       "      <th>commentaryChar</th>\n",
       "      <th>qDocsC</th>\n",
       "      <th>qDocsCharC</th>\n",
       "      <th>DocPercentage</th>\n",
       "    </tr>\n",
       "    <tr>\n",
       "      <th>book</th>\n",
       "      <th></th>\n",
       "      <th></th>\n",
       "      <th></th>\n",
       "      <th></th>\n",
       "      <th></th>\n",
       "      <th></th>\n",
       "      <th></th>\n",
       "      <th></th>\n",
       "      <th></th>\n",
       "    </tr>\n",
       "  </thead>\n",
       "  <tbody>\n",
       "    <tr>\n",
       "      <th>BeiQishu</th>\n",
       "      <td>217321</td>\n",
       "      <td>12</td>\n",
       "      <td>11259</td>\n",
       "      <td>14</td>\n",
       "      <td>3234</td>\n",
       "      <td>0</td>\n",
       "      <td>0</td>\n",
       "      <td>0</td>\n",
       "      <td>0.066689</td>\n",
       "    </tr>\n",
       "    <tr>\n",
       "      <th>Beishi</th>\n",
       "      <td>1194214</td>\n",
       "      <td>111</td>\n",
       "      <td>79844</td>\n",
       "      <td>137</td>\n",
       "      <td>32845</td>\n",
       "      <td>0</td>\n",
       "      <td>0</td>\n",
       "      <td>0</td>\n",
       "      <td>0.094362</td>\n",
       "    </tr>\n",
       "    <tr>\n",
       "      <th>Chenshu</th>\n",
       "      <td>151600</td>\n",
       "      <td>14</td>\n",
       "      <td>15122</td>\n",
       "      <td>34</td>\n",
       "      <td>9105</td>\n",
       "      <td>0</td>\n",
       "      <td>0</td>\n",
       "      <td>0</td>\n",
       "      <td>0.159809</td>\n",
       "    </tr>\n",
       "    <tr>\n",
       "      <th>Hanshu</th>\n",
       "      <td>633699</td>\n",
       "      <td>110</td>\n",
       "      <td>115276</td>\n",
       "      <td>271</td>\n",
       "      <td>76805</td>\n",
       "      <td>0</td>\n",
       "      <td>0</td>\n",
       "      <td>0</td>\n",
       "      <td>0.303111</td>\n",
       "    </tr>\n",
       "    <tr>\n",
       "      <th>HouHanShu</th>\n",
       "      <td>649958</td>\n",
       "      <td>93</td>\n",
       "      <td>84869</td>\n",
       "      <td>262</td>\n",
       "      <td>77377</td>\n",
       "      <td>0</td>\n",
       "      <td>0</td>\n",
       "      <td>0</td>\n",
       "      <td>0.249625</td>\n",
       "    </tr>\n",
       "    <tr>\n",
       "      <th>Jinshu</th>\n",
       "      <td>790750</td>\n",
       "      <td>178</td>\n",
       "      <td>150417</td>\n",
       "      <td>265</td>\n",
       "      <td>68055</td>\n",
       "      <td>0</td>\n",
       "      <td>0</td>\n",
       "      <td>0</td>\n",
       "      <td>0.276285</td>\n",
       "    </tr>\n",
       "    <tr>\n",
       "      <th>JiuTangshu</th>\n",
       "      <td>1538613</td>\n",
       "      <td>338</td>\n",
       "      <td>230831</td>\n",
       "      <td>295</td>\n",
       "      <td>64254</td>\n",
       "      <td>0</td>\n",
       "      <td>0</td>\n",
       "      <td>0</td>\n",
       "      <td>0.191786</td>\n",
       "    </tr>\n",
       "    <tr>\n",
       "      <th>LiangShu</th>\n",
       "      <td>300801</td>\n",
       "      <td>40</td>\n",
       "      <td>45658</td>\n",
       "      <td>80</td>\n",
       "      <td>22898</td>\n",
       "      <td>0</td>\n",
       "      <td>0</td>\n",
       "      <td>0</td>\n",
       "      <td>0.227911</td>\n",
       "    </tr>\n",
       "    <tr>\n",
       "      <th>Nanqishu</th>\n",
       "      <td>246422</td>\n",
       "      <td>38</td>\n",
       "      <td>31032</td>\n",
       "      <td>101</td>\n",
       "      <td>28595</td>\n",
       "      <td>0</td>\n",
       "      <td>0</td>\n",
       "      <td>0</td>\n",
       "      <td>0.241971</td>\n",
       "    </tr>\n",
       "    <tr>\n",
       "      <th>Nanshi</th>\n",
       "      <td>718392</td>\n",
       "      <td>54</td>\n",
       "      <td>28864</td>\n",
       "      <td>73</td>\n",
       "      <td>17786</td>\n",
       "      <td>0</td>\n",
       "      <td>0</td>\n",
       "      <td>0</td>\n",
       "      <td>0.064937</td>\n",
       "    </tr>\n",
       "    <tr>\n",
       "      <th>Sanguozhi</th>\n",
       "      <td>466238</td>\n",
       "      <td>25</td>\n",
       "      <td>28462</td>\n",
       "      <td>241</td>\n",
       "      <td>75562</td>\n",
       "      <td>335000</td>\n",
       "      <td>182</td>\n",
       "      <td>68628</td>\n",
       "      <td>0.215482</td>\n",
       "    </tr>\n",
       "    <tr>\n",
       "      <th>Shiji</th>\n",
       "      <td>320883</td>\n",
       "      <td>37</td>\n",
       "      <td>50926</td>\n",
       "      <td>113</td>\n",
       "      <td>31090</td>\n",
       "      <td>0</td>\n",
       "      <td>0</td>\n",
       "      <td>0</td>\n",
       "      <td>0.255595</td>\n",
       "    </tr>\n",
       "    <tr>\n",
       "      <th>Songshi</th>\n",
       "      <td>2581534</td>\n",
       "      <td>228</td>\n",
       "      <td>153719</td>\n",
       "      <td>492</td>\n",
       "      <td>114783</td>\n",
       "      <td>0</td>\n",
       "      <td>0</td>\n",
       "      <td>0</td>\n",
       "      <td>0.104009</td>\n",
       "    </tr>\n",
       "    <tr>\n",
       "      <th>Songshu</th>\n",
       "      <td>524083</td>\n",
       "      <td>114</td>\n",
       "      <td>111375</td>\n",
       "      <td>203</td>\n",
       "      <td>58331</td>\n",
       "      <td>0</td>\n",
       "      <td>0</td>\n",
       "      <td>0</td>\n",
       "      <td>0.323815</td>\n",
       "    </tr>\n",
       "    <tr>\n",
       "      <th>SuiShu</th>\n",
       "      <td>366717</td>\n",
       "      <td>62</td>\n",
       "      <td>52022</td>\n",
       "      <td>68</td>\n",
       "      <td>15075</td>\n",
       "      <td>0</td>\n",
       "      <td>0</td>\n",
       "      <td>0</td>\n",
       "      <td>0.182967</td>\n",
       "    </tr>\n",
       "    <tr>\n",
       "      <th>Weishu</th>\n",
       "      <td>866751</td>\n",
       "      <td>76</td>\n",
       "      <td>79618</td>\n",
       "      <td>279</td>\n",
       "      <td>86101</td>\n",
       "      <td>0</td>\n",
       "      <td>0</td>\n",
       "      <td>0</td>\n",
       "      <td>0.191196</td>\n",
       "    </tr>\n",
       "    <tr>\n",
       "      <th>XinTangshu</th>\n",
       "      <td>1413549</td>\n",
       "      <td>126</td>\n",
       "      <td>86603</td>\n",
       "      <td>225</td>\n",
       "      <td>57068</td>\n",
       "      <td>0</td>\n",
       "      <td>0</td>\n",
       "      <td>0</td>\n",
       "      <td>0.101638</td>\n",
       "    </tr>\n",
       "    <tr>\n",
       "      <th>Zhoushu</th>\n",
       "      <td>277868</td>\n",
       "      <td>35</td>\n",
       "      <td>21097</td>\n",
       "      <td>15</td>\n",
       "      <td>3159</td>\n",
       "      <td>0</td>\n",
       "      <td>0</td>\n",
       "      <td>0</td>\n",
       "      <td>0.087293</td>\n",
       "    </tr>\n",
       "  </tbody>\n",
       "</table>\n",
       "</div>"
      ],
      "text/plain": [
       "            grandChar  iDocsM  iDocsCharM  qDocsM  qDocsCharM  commentaryChar  \\\n",
       "book                                                                            \n",
       "BeiQishu       217321      12       11259      14        3234               0   \n",
       "Beishi        1194214     111       79844     137       32845               0   \n",
       "Chenshu        151600      14       15122      34        9105               0   \n",
       "Hanshu         633699     110      115276     271       76805               0   \n",
       "HouHanShu      649958      93       84869     262       77377               0   \n",
       "Jinshu         790750     178      150417     265       68055               0   \n",
       "JiuTangshu    1538613     338      230831     295       64254               0   \n",
       "LiangShu       300801      40       45658      80       22898               0   \n",
       "Nanqishu       246422      38       31032     101       28595               0   \n",
       "Nanshi         718392      54       28864      73       17786               0   \n",
       "Sanguozhi      466238      25       28462     241       75562          335000   \n",
       "Shiji          320883      37       50926     113       31090               0   \n",
       "Songshi       2581534     228      153719     492      114783               0   \n",
       "Songshu        524083     114      111375     203       58331               0   \n",
       "SuiShu         366717      62       52022      68       15075               0   \n",
       "Weishu         866751      76       79618     279       86101               0   \n",
       "XinTangshu    1413549     126       86603     225       57068               0   \n",
       "Zhoushu        277868      35       21097      15        3159               0   \n",
       "\n",
       "            qDocsC  qDocsCharC  DocPercentage  \n",
       "book                                           \n",
       "BeiQishu         0           0       0.066689  \n",
       "Beishi           0           0       0.094362  \n",
       "Chenshu          0           0       0.159809  \n",
       "Hanshu           0           0       0.303111  \n",
       "HouHanShu        0           0       0.249625  \n",
       "Jinshu           0           0       0.276285  \n",
       "JiuTangshu       0           0       0.191786  \n",
       "LiangShu         0           0       0.227911  \n",
       "Nanqishu         0           0       0.241971  \n",
       "Nanshi           0           0       0.064937  \n",
       "Sanguozhi      182       68628       0.215482  \n",
       "Shiji            0           0       0.255595  \n",
       "Songshi          0           0       0.104009  \n",
       "Songshu          0           0       0.323815  \n",
       "SuiShu           0           0       0.182967  \n",
       "Weishu           0           0       0.191196  \n",
       "XinTangshu       0           0       0.101638  \n",
       "Zhoushu          0           0       0.087293  "
      ]
     },
     "execution_count": 50,
     "metadata": {},
     "output_type": "execute_result"
    }
   ],
   "source": [
    "xx = dfBios.groupby('book')['grandChar', 'iDocsM', 'iDocsCharM', 'qDocsM', 'qDocsCharM', 'commentaryChar', 'qDocsC', 'qDocsCharC'].sum()\n",
    "xx['DocPercentage'] = (xx['iDocsCharM'] + xx['qDocsCharM'] + xx['qDocsCharC']) / (xx['grandChar']  + xx['commentaryChar'])                  \n",
    "xx"
   ]
  },
  {
   "cell_type": "code",
   "execution_count": null,
   "metadata": {},
   "outputs": [],
   "source": [
    "Histories"
   ]
  },
  {
   "cell_type": "markdown",
   "metadata": {},
   "source": [
    "#### Show doc percentage by book"
   ]
  },
  {
   "cell_type": "code",
   "execution_count": 57,
   "metadata": {},
   "outputs": [],
   "source": [
    "def percentagDocByBook(df):\n",
    "    dfPlot1 = pd.DataFrame({\n",
    "        'book': df.index.to_numpy(),\n",
    "        'DocPercentage': df['DocPercentage'].to_numpy()\n",
    "    })\n",
    "    return alt.Chart(dfPlot1).mark_bar().encode(\n",
    "        y=alt.Y('book', sort=Histories),\n",
    "        x=alt.X('DocPercentage', axis=alt.Axis(format='%', title='Document % by Book'))\n",
    "    )"
   ]
  },
  {
   "cell_type": "code",
   "execution_count": 58,
   "metadata": {},
   "outputs": [
    {
     "data": {
      "application/vnd.vegalite.v3+json": {
       "$schema": "https://vega.github.io/schema/vega-lite/v3.3.0.json",
       "config": {
        "mark": {
         "tooltip": null
        },
        "view": {
         "height": 300,
         "width": 400
        }
       },
       "data": {
        "name": "data-859cc5eca0300f563d06de28f64b5c50"
       },
       "datasets": {
        "data-859cc5eca0300f563d06de28f64b5c50": [
         {
          "DocPercentage": 0.06668936734139821,
          "book": "BeiQishu"
         },
         {
          "DocPercentage": 0.09436248444583634,
          "book": "Beishi"
         },
         {
          "DocPercentage": 0.15980870712401055,
          "book": "Chenshu"
         },
         {
          "DocPercentage": 0.303110782879569,
          "book": "Hanshu"
         },
         {
          "DocPercentage": 0.24962536040790329,
          "book": "HouHanShu"
         },
         {
          "DocPercentage": 0.2762845399936769,
          "book": "Jinshu"
         },
         {
          "DocPercentage": 0.19178636863200818,
          "book": "JiuTangshu"
         },
         {
          "DocPercentage": 0.2279114763581238,
          "book": "LiangShu"
         },
         {
          "DocPercentage": 0.24197109024356592,
          "book": "Nanqishu"
         },
         {
          "DocPercentage": 0.0649366919453446,
          "book": "Nanshi"
         },
         {
          "DocPercentage": 0.2154815423132702,
          "book": "Sanguozhi"
         },
         {
          "DocPercentage": 0.2555947183241244,
          "book": "Shiji"
         },
         {
          "DocPercentage": 0.10400870180288155,
          "book": "Songshi"
         },
         {
          "DocPercentage": 0.3238151208873404,
          "book": "Songshu"
         },
         {
          "DocPercentage": 0.18296670184365602,
          "book": "SuiShu"
         },
         {
          "DocPercentage": 0.19119562596408887,
          "book": "Weishu"
         },
         {
          "DocPercentage": 0.10163849997417847,
          "book": "XinTangshu"
         },
         {
          "DocPercentage": 0.0872932471533246,
          "book": "Zhoushu"
         }
        ]
       },
       "encoding": {
        "x": {
         "axis": {
          "format": "%",
          "title": "Document % by Book"
         },
         "field": "DocPercentage",
         "type": "quantitative"
        },
        "y": {
         "field": "book",
         "sort": [
          "Shiji",
          "Hanshu",
          "Sanguozhi",
          "HouHanShu",
          "Songshu",
          "Nanqishu",
          "Weishu",
          "LiangShu",
          "Chenshu",
          "BeiQishu",
          "Zhoushu",
          "SuiShu",
          "Jinshu",
          "Nanshi",
          "Beishi",
          "JiuTangshu",
          "XinTangshu",
          "JiuWudaishi",
          "XinWudaishi",
          "Songshi"
         ],
         "type": "nominal"
        }
       },
       "mark": "bar"
      },
      "image/png": "[encoded data removed]",
      "text/plain": [
       "<VegaLite 3 object>\n",
       "\n",
       "If you see this message, it means the renderer has not been properly enabled\n",
       "for the frontend that you are using. For more information, see\n",
       "https://altair-viz.github.io/user_guide/troubleshooting.html\n"
      ]
     },
     "execution_count": 58,
     "metadata": {},
     "output_type": "execute_result"
    }
   ],
   "source": [
    "percentagDocByBook(xx)"
   ]
  },
  {
   "cell_type": "markdown",
   "metadata": {},
   "source": [
    "### Plot total document count and total document character count by scroll no. for a given book"
   ]
  },
  {
   "cell_type": "code",
   "execution_count": 61,
   "metadata": {},
   "outputs": [
    {
     "data": {
      "text/html": [
       "<div>\n",
       "<style scoped>\n",
       "    .dataframe tbody tr th:only-of-type {\n",
       "        vertical-align: middle;\n",
       "    }\n",
       "\n",
       "    .dataframe tbody tr th {\n",
       "        vertical-align: top;\n",
       "    }\n",
       "\n",
       "    .dataframe thead th {\n",
       "        text-align: right;\n",
       "    }\n",
       "</style>\n",
       "<table border=\"1\" class=\"dataframe\">\n",
       "  <thead>\n",
       "    <tr style=\"text-align: right;\">\n",
       "      <th></th>\n",
       "      <th>grandChar</th>\n",
       "      <th>iDocsM</th>\n",
       "      <th>iDocsCharM</th>\n",
       "      <th>qDocsM</th>\n",
       "      <th>qDocsCharM</th>\n",
       "      <th>commentaryChar</th>\n",
       "      <th>qDocsC</th>\n",
       "      <th>qDocsCharC</th>\n",
       "      <th>DocPercentage</th>\n",
       "    </tr>\n",
       "    <tr>\n",
       "      <th>scrollno</th>\n",
       "      <th></th>\n",
       "      <th></th>\n",
       "      <th></th>\n",
       "      <th></th>\n",
       "      <th></th>\n",
       "      <th></th>\n",
       "      <th></th>\n",
       "      <th></th>\n",
       "      <th></th>\n",
       "    </tr>\n",
       "  </thead>\n",
       "  <tbody>\n",
       "    <tr>\n",
       "      <th>11</th>\n",
       "      <td>7011</td>\n",
       "      <td>0</td>\n",
       "      <td>0</td>\n",
       "      <td>1</td>\n",
       "      <td>233</td>\n",
       "      <td>0</td>\n",
       "      <td>0</td>\n",
       "      <td>0</td>\n",
       "      <td>0.033233</td>\n",
       "    </tr>\n",
       "    <tr>\n",
       "      <th>12</th>\n",
       "      <td>6465</td>\n",
       "      <td>0</td>\n",
       "      <td>0</td>\n",
       "      <td>2</td>\n",
       "      <td>471</td>\n",
       "      <td>0</td>\n",
       "      <td>0</td>\n",
       "      <td>0</td>\n",
       "      <td>0.072854</td>\n",
       "    </tr>\n",
       "    <tr>\n",
       "      <th>13</th>\n",
       "      <td>9090</td>\n",
       "      <td>1</td>\n",
       "      <td>835</td>\n",
       "      <td>6</td>\n",
       "      <td>1663</td>\n",
       "      <td>0</td>\n",
       "      <td>0</td>\n",
       "      <td>0</td>\n",
       "      <td>0.274807</td>\n",
       "    </tr>\n",
       "    <tr>\n",
       "      <th>14</th>\n",
       "      <td>6125</td>\n",
       "      <td>0</td>\n",
       "      <td>0</td>\n",
       "      <td>1</td>\n",
       "      <td>203</td>\n",
       "      <td>0</td>\n",
       "      <td>0</td>\n",
       "      <td>0</td>\n",
       "      <td>0.033143</td>\n",
       "    </tr>\n",
       "    <tr>\n",
       "      <th>15</th>\n",
       "      <td>6688</td>\n",
       "      <td>0</td>\n",
       "      <td>0</td>\n",
       "      <td>2</td>\n",
       "      <td>377</td>\n",
       "      <td>0</td>\n",
       "      <td>0</td>\n",
       "      <td>0</td>\n",
       "      <td>0.056370</td>\n",
       "    </tr>\n",
       "    <tr>\n",
       "      <th>16</th>\n",
       "      <td>11143</td>\n",
       "      <td>1</td>\n",
       "      <td>1106</td>\n",
       "      <td>3</td>\n",
       "      <td>581</td>\n",
       "      <td>0</td>\n",
       "      <td>0</td>\n",
       "      <td>0</td>\n",
       "      <td>0.151395</td>\n",
       "    </tr>\n",
       "    <tr>\n",
       "      <th>17</th>\n",
       "      <td>9492</td>\n",
       "      <td>0</td>\n",
       "      <td>0</td>\n",
       "      <td>3</td>\n",
       "      <td>644</td>\n",
       "      <td>0</td>\n",
       "      <td>0</td>\n",
       "      <td>0</td>\n",
       "      <td>0.067847</td>\n",
       "    </tr>\n",
       "    <tr>\n",
       "      <th>18</th>\n",
       "      <td>7372</td>\n",
       "      <td>0</td>\n",
       "      <td>0</td>\n",
       "      <td>2</td>\n",
       "      <td>420</td>\n",
       "      <td>0</td>\n",
       "      <td>0</td>\n",
       "      <td>0</td>\n",
       "      <td>0.056972</td>\n",
       "    </tr>\n",
       "    <tr>\n",
       "      <th>19</th>\n",
       "      <td>8042</td>\n",
       "      <td>0</td>\n",
       "      <td>0</td>\n",
       "      <td>1</td>\n",
       "      <td>222</td>\n",
       "      <td>0</td>\n",
       "      <td>0</td>\n",
       "      <td>0</td>\n",
       "      <td>0.027605</td>\n",
       "    </tr>\n",
       "    <tr>\n",
       "      <th>20</th>\n",
       "      <td>5790</td>\n",
       "      <td>0</td>\n",
       "      <td>0</td>\n",
       "      <td>1</td>\n",
       "      <td>576</td>\n",
       "      <td>0</td>\n",
       "      <td>0</td>\n",
       "      <td>0</td>\n",
       "      <td>0.099482</td>\n",
       "    </tr>\n",
       "    <tr>\n",
       "      <th>21</th>\n",
       "      <td>5091</td>\n",
       "      <td>0</td>\n",
       "      <td>0</td>\n",
       "      <td>1</td>\n",
       "      <td>230</td>\n",
       "      <td>0</td>\n",
       "      <td>0</td>\n",
       "      <td>0</td>\n",
       "      <td>0.045178</td>\n",
       "    </tr>\n",
       "    <tr>\n",
       "      <th>22</th>\n",
       "      <td>6644</td>\n",
       "      <td>0</td>\n",
       "      <td>0</td>\n",
       "      <td>0</td>\n",
       "      <td>0</td>\n",
       "      <td>0</td>\n",
       "      <td>0</td>\n",
       "      <td>0</td>\n",
       "      <td>0.000000</td>\n",
       "    </tr>\n",
       "    <tr>\n",
       "      <th>23</th>\n",
       "      <td>8544</td>\n",
       "      <td>1</td>\n",
       "      <td>355</td>\n",
       "      <td>6</td>\n",
       "      <td>1565</td>\n",
       "      <td>0</td>\n",
       "      <td>0</td>\n",
       "      <td>0</td>\n",
       "      <td>0.224719</td>\n",
       "    </tr>\n",
       "    <tr>\n",
       "      <th>24</th>\n",
       "      <td>10727</td>\n",
       "      <td>1</td>\n",
       "      <td>783</td>\n",
       "      <td>6</td>\n",
       "      <td>2056</td>\n",
       "      <td>0</td>\n",
       "      <td>0</td>\n",
       "      <td>0</td>\n",
       "      <td>0.264659</td>\n",
       "    </tr>\n",
       "    <tr>\n",
       "      <th>25</th>\n",
       "      <td>6046</td>\n",
       "      <td>3</td>\n",
       "      <td>1547</td>\n",
       "      <td>1</td>\n",
       "      <td>216</td>\n",
       "      <td>0</td>\n",
       "      <td>0</td>\n",
       "      <td>0</td>\n",
       "      <td>0.291598</td>\n",
       "    </tr>\n",
       "    <tr>\n",
       "      <th>26</th>\n",
       "      <td>9752</td>\n",
       "      <td>0</td>\n",
       "      <td>0</td>\n",
       "      <td>6</td>\n",
       "      <td>1739</td>\n",
       "      <td>0</td>\n",
       "      <td>0</td>\n",
       "      <td>0</td>\n",
       "      <td>0.178322</td>\n",
       "    </tr>\n",
       "    <tr>\n",
       "      <th>27</th>\n",
       "      <td>6256</td>\n",
       "      <td>0</td>\n",
       "      <td>0</td>\n",
       "      <td>2</td>\n",
       "      <td>386</td>\n",
       "      <td>0</td>\n",
       "      <td>0</td>\n",
       "      <td>0</td>\n",
       "      <td>0.061701</td>\n",
       "    </tr>\n",
       "    <tr>\n",
       "      <th>28</th>\n",
       "      <td>9647</td>\n",
       "      <td>7</td>\n",
       "      <td>6543</td>\n",
       "      <td>1</td>\n",
       "      <td>425</td>\n",
       "      <td>0</td>\n",
       "      <td>0</td>\n",
       "      <td>0</td>\n",
       "      <td>0.722297</td>\n",
       "    </tr>\n",
       "    <tr>\n",
       "      <th>29</th>\n",
       "      <td>6887</td>\n",
       "      <td>1</td>\n",
       "      <td>828</td>\n",
       "      <td>4</td>\n",
       "      <td>1101</td>\n",
       "      <td>0</td>\n",
       "      <td>0</td>\n",
       "      <td>0</td>\n",
       "      <td>0.280093</td>\n",
       "    </tr>\n",
       "    <tr>\n",
       "      <th>30</th>\n",
       "      <td>11086</td>\n",
       "      <td>7</td>\n",
       "      <td>8604</td>\n",
       "      <td>0</td>\n",
       "      <td>0</td>\n",
       "      <td>0</td>\n",
       "      <td>0</td>\n",
       "      <td>0</td>\n",
       "      <td>0.776114</td>\n",
       "    </tr>\n",
       "  </tbody>\n",
       "</table>\n",
       "</div>"
      ],
      "text/plain": [
       "          grandChar  iDocsM  iDocsCharM  qDocsM  qDocsCharM  commentaryChar  \\\n",
       "scrollno                                                                      \n",
       "11             7011       0           0       1         233               0   \n",
       "12             6465       0           0       2         471               0   \n",
       "13             9090       1         835       6        1663               0   \n",
       "14             6125       0           0       1         203               0   \n",
       "15             6688       0           0       2         377               0   \n",
       "16            11143       1        1106       3         581               0   \n",
       "17             9492       0           0       3         644               0   \n",
       "18             7372       0           0       2         420               0   \n",
       "19             8042       0           0       1         222               0   \n",
       "20             5790       0           0       1         576               0   \n",
       "21             5091       0           0       1         230               0   \n",
       "22             6644       0           0       0           0               0   \n",
       "23             8544       1         355       6        1565               0   \n",
       "24            10727       1         783       6        2056               0   \n",
       "25             6046       3        1547       1         216               0   \n",
       "26             9752       0           0       6        1739               0   \n",
       "27             6256       0           0       2         386               0   \n",
       "28             9647       7        6543       1         425               0   \n",
       "29             6887       1         828       4        1101               0   \n",
       "30            11086       7        8604       0           0               0   \n",
       "\n",
       "          qDocsC  qDocsCharC  DocPercentage  \n",
       "scrollno                                     \n",
       "11             0           0       0.033233  \n",
       "12             0           0       0.072854  \n",
       "13             0           0       0.274807  \n",
       "14             0           0       0.033143  \n",
       "15             0           0       0.056370  \n",
       "16             0           0       0.151395  \n",
       "17             0           0       0.067847  \n",
       "18             0           0       0.056972  \n",
       "19             0           0       0.027605  \n",
       "20             0           0       0.099482  \n",
       "21             0           0       0.045178  \n",
       "22             0           0       0.000000  \n",
       "23             0           0       0.224719  \n",
       "24             0           0       0.264659  \n",
       "25             0           0       0.291598  \n",
       "26             0           0       0.178322  \n",
       "27             0           0       0.061701  \n",
       "28             0           0       0.722297  \n",
       "29             0           0       0.280093  \n",
       "30             0           0       0.776114  "
      ]
     },
     "execution_count": 61,
     "metadata": {},
     "output_type": "execute_result"
    }
   ],
   "source": [
    "zz = dfBios[dfBios.book=='HouHanShu'].groupby('scrollno')['grandChar', 'iDocsM', 'iDocsCharM', 'qDocsM', 'qDocsCharM', 'commentaryChar', 'qDocsC', 'qDocsCharC'].sum()\n",
    "zz['DocPercentage'] = (zz['iDocsCharM'] + zz['qDocsCharM'] + zz['qDocsCharC']) / (zz['grandChar']  + zz['commentaryChar'])                  \n",
    "zz.head(20)"
   ]
  },
  {
   "cell_type": "code",
   "execution_count": 68,
   "metadata": {},
   "outputs": [],
   "source": [
    "def chartDocsByScroll(df, book):\n",
    "\n",
    "    zz = df[df.book==book].groupby('scrollno')['grandChar', 'iDocsM', 'iDocsCharM', 'qDocsM', 'qDocsCharM', 'commentaryChar', 'qDocsC', 'qDocsCharC'].sum()\n",
    "    zz['DocPercentage'] = (zz['iDocsCharM'] + zz['qDocsCharM'] + zz['qDocsCharC']) / (zz['grandChar']  + zz['commentaryChar'])                  \n",
    "\n",
    "    # doc count\n",
    "    dfPlot1 = pd.DataFrame({\n",
    "        'scrollno': zz.index.to_numpy(),\n",
    "        'Docs': zz['iDocsM'].to_numpy() + zz['qDocsM'].to_numpy() + zz['qDocsC'].to_numpy()\n",
    "    })\n",
    "    chart1 = alt.Chart(dfPlot1).mark_bar().encode(\n",
    "        y=alt.Y('Docs:Q', axis=alt.Axis(format='', title='Total Document Count \\n(indented+quoted) by Scroll')),\n",
    "        x='scrollno:O'\n",
    "    )\n",
    "    # doc character count\n",
    "    dfPlot2 = pd.DataFrame({\n",
    "        'scrollno': zz.index.to_numpy(),\n",
    "        'DocsChar': zz['iDocsCharM'].to_numpy() + zz['qDocsCharM'].to_numpy() + zz['qDocsCharC'].to_numpy()\n",
    "    })\n",
    "    chart2 = alt.Chart(dfPlot2).mark_bar().encode(\n",
    "        y=alt.Y('DocsChar:Q', axis=alt.Axis(format='', title='Total Document Character Count (indented+quoted) by Scroll')),\n",
    "        x='scrollno:O'\n",
    "    )\n",
    "    # doc character % as total main text\n",
    "    dfPlot3 = pd.DataFrame({\n",
    "        'scrollno': zz.index.to_numpy(),\n",
    "        'DocsPercentM': (zz['iDocsCharM'].to_numpy() + zz['qDocsCharM'].to_numpy()  + zz['qDocsCharC'].to_numpy()) / \\\n",
    "                        (zz['grandChar'].to_numpy() + zz['commentaryChar'].to_numpy())\n",
    "    })\n",
    "    chart3 = alt.Chart(dfPlot3).mark_bar().encode(\n",
    "        y=alt.Y('DocsPercentM:Q', axis=alt.Axis(format='', title='Document % by Scroll')),\n",
    "        x='scrollno:O'\n",
    "    )\n",
    "    \n",
    "    return alt.vconcat(chart1, chart2, chart3)"
   ]
  },
  {
   "cell_type": "code",
   "execution_count": 69,
   "metadata": {},
   "outputs": [
    {
     "data": {
      "application/vnd.vegalite.v3+json": {
       "$schema": "https://vega.github.io/schema/vega-lite/v3.3.0.json",
       "config": {
        "mark": {
         "tooltip": null
        },
        "view": {
         "height": 300,
         "width": 400
        }
       },
       "datasets": {
        "data-2ef33579f4404590d9237991fb31cb23": [
         {
          "DocsChar": 233,
          "scrollno": 11
         },
         {
          "DocsChar": 471,
          "scrollno": 12
         },
         {
          "DocsChar": 2498,
          "scrollno": 13
         },
         {
          "DocsChar": 203,
          "scrollno": 14
         },
         {
          "DocsChar": 377,
          "scrollno": 15
         },
         {
          "DocsChar": 1687,
          "scrollno": 16
         },
         {
          "DocsChar": 644,
          "scrollno": 17
         },
         {
          "DocsChar": 420,
          "scrollno": 18
         },
         {
          "DocsChar": 222,
          "scrollno": 19
         },
         {
          "DocsChar": 576,
          "scrollno": 20
         },
         {
          "DocsChar": 230,
          "scrollno": 21
         },
         {
          "DocsChar": 0,
          "scrollno": 22
         },
         {
          "DocsChar": 1920,
          "scrollno": 23
         },
         {
          "DocsChar": 2839,
          "scrollno": 24
         },
         {
          "DocsChar": 1763,
          "scrollno": 25
         },
         {
          "DocsChar": 1739,
          "scrollno": 26
         },
         {
          "DocsChar": 386,
          "scrollno": 27
         },
         {
          "DocsChar": 6968,
          "scrollno": 28
         },
         {
          "DocsChar": 1929,
          "scrollno": 29
         },
         {
          "DocsChar": 8604,
          "scrollno": 30
         },
         {
          "DocsChar": 1134,
          "scrollno": 31
         },
         {
          "DocsChar": 877,
          "scrollno": 32
         },
         {
          "DocsChar": 1868,
          "scrollno": 33
         },
         {
          "DocsChar": 1241,
          "scrollno": 34
         },
         {
          "DocsChar": 1657,
          "scrollno": 35
         },
         {
          "DocsChar": 3095,
          "scrollno": 36
         },
         {
          "DocsChar": 950,
          "scrollno": 37
         },
         {
          "DocsChar": 364,
          "scrollno": 38
         },
         {
          "DocsChar": 1393,
          "scrollno": 39
         },
         {
          "DocsChar": 8770,
          "scrollno": 40
         },
         {
          "DocsChar": 2782,
          "scrollno": 41
         },
         {
          "DocsChar": 2315,
          "scrollno": 42
         },
         {
          "DocsChar": 3661,
          "scrollno": 43
         },
         {
          "DocsChar": 1458,
          "scrollno": 44
         },
         {
          "DocsChar": 1033,
          "scrollno": 45
         },
         {
          "DocsChar": 3084,
          "scrollno": 46
         },
         {
          "DocsChar": 2201,
          "scrollno": 47
         },
         {
          "DocsChar": 3481,
          "scrollno": 48
         },
         {
          "DocsChar": 8810,
          "scrollno": 49
         },
         {
          "DocsChar": 484,
          "scrollno": 50
         },
         {
          "DocsChar": 1852,
          "scrollno": 51
         },
         {
          "DocsChar": 3733,
          "scrollno": 52
         },
         {
          "DocsChar": 179,
          "scrollno": 53
         },
         {
          "DocsChar": 2650,
          "scrollno": 54
         },
         {
          "DocsChar": 0,
          "scrollno": 55
         },
         {
          "DocsChar": 902,
          "scrollno": 56
         },
         {
          "DocsChar": 3477,
          "scrollno": 57
         },
         {
          "DocsChar": 1831,
          "scrollno": 58
         },
         {
          "DocsChar": 5996,
          "scrollno": 59
         },
         {
          "DocsChar": 8017,
          "scrollno": 60
         },
         {
          "DocsChar": 4005,
          "scrollno": 61
         },
         {
          "DocsChar": 2999,
          "scrollno": 62
         },
         {
          "DocsChar": 2840,
          "scrollno": 63
         },
         {
          "DocsChar": 1997,
          "scrollno": 64
         },
         {
          "DocsChar": 3184,
          "scrollno": 65
         },
         {
          "DocsChar": 2280,
          "scrollno": 66
         },
         {
          "DocsChar": 452,
          "scrollno": 67
         },
         {
          "DocsChar": 0,
          "scrollno": 68
         },
         {
          "DocsChar": 603,
          "scrollno": 69
         },
         {
          "DocsChar": 3515,
          "scrollno": 70
         },
         {
          "DocsChar": 784,
          "scrollno": 71
         },
         {
          "DocsChar": 0,
          "scrollno": 72
         },
         {
          "DocsChar": 850,
          "scrollno": 73
         },
         {
          "DocsChar": 4492,
          "scrollno": 74
         },
         {
          "DocsChar": 540,
          "scrollno": 75
         },
         {
          "DocsChar": 427,
          "scrollno": 76
         },
         {
          "DocsChar": 419,
          "scrollno": 77
         },
         {
          "DocsChar": 2219,
          "scrollno": 78
         },
         {
          "DocsChar": 949,
          "scrollno": 79
         },
         {
          "DocsChar": 7099,
          "scrollno": 80
         },
         {
          "DocsChar": 199,
          "scrollno": 81
         },
         {
          "DocsChar": 807,
          "scrollno": 82
         },
         {
          "DocsChar": 503,
          "scrollno": 83
         },
         {
          "DocsChar": 3238,
          "scrollno": 84
         },
         {
          "DocsChar": 0,
          "scrollno": 85
         },
         {
          "DocsChar": 1453,
          "scrollno": 86
         },
         {
          "DocsChar": 638,
          "scrollno": 87
         },
         {
          "DocsChar": 426,
          "scrollno": 88
         },
         {
          "DocsChar": 1386,
          "scrollno": 89
         },
         {
          "DocsChar": 938,
          "scrollno": 90
         }
        ],
        "data-9490edec9fb2851a3210edf8eadf5932": [
         {
          "Docs": 1,
          "scrollno": 11
         },
         {
          "Docs": 2,
          "scrollno": 12
         },
         {
          "Docs": 7,
          "scrollno": 13
         },
         {
          "Docs": 1,
          "scrollno": 14
         },
         {
          "Docs": 2,
          "scrollno": 15
         },
         {
          "Docs": 4,
          "scrollno": 16
         },
         {
          "Docs": 3,
          "scrollno": 17
         },
         {
          "Docs": 2,
          "scrollno": 18
         },
         {
          "Docs": 1,
          "scrollno": 19
         },
         {
          "Docs": 1,
          "scrollno": 20
         },
         {
          "Docs": 1,
          "scrollno": 21
         },
         {
          "Docs": 0,
          "scrollno": 22
         },
         {
          "Docs": 7,
          "scrollno": 23
         },
         {
          "Docs": 7,
          "scrollno": 24
         },
         {
          "Docs": 4,
          "scrollno": 25
         },
         {
          "Docs": 6,
          "scrollno": 26
         },
         {
          "Docs": 2,
          "scrollno": 27
         },
         {
          "Docs": 8,
          "scrollno": 28
         },
         {
          "Docs": 5,
          "scrollno": 29
         },
         {
          "Docs": 7,
          "scrollno": 30
         },
         {
          "Docs": 4,
          "scrollno": 31
         },
         {
          "Docs": 2,
          "scrollno": 32
         },
         {
          "Docs": 5,
          "scrollno": 33
         },
         {
          "Docs": 4,
          "scrollno": 34
         },
         {
          "Docs": 6,
          "scrollno": 35
         },
         {
          "Docs": 8,
          "scrollno": 36
         },
         {
          "Docs": 2,
          "scrollno": 37
         },
         {
          "Docs": 2,
          "scrollno": 38
         },
         {
          "Docs": 4,
          "scrollno": 39
         },
         {
          "Docs": 8,
          "scrollno": 40
         },
         {
          "Docs": 10,
          "scrollno": 41
         },
         {
          "Docs": 9,
          "scrollno": 42
         },
         {
          "Docs": 10,
          "scrollno": 43
         },
         {
          "Docs": 5,
          "scrollno": 44
         },
         {
          "Docs": 4,
          "scrollno": 45
         },
         {
          "Docs": 8,
          "scrollno": 46
         },
         {
          "Docs": 7,
          "scrollno": 47
         },
         {
          "Docs": 8,
          "scrollno": 48
         },
         {
          "Docs": 10,
          "scrollno": 49
         },
         {
          "Docs": 1,
          "scrollno": 50
         },
         {
          "Docs": 6,
          "scrollno": 51
         },
         {
          "Docs": 5,
          "scrollno": 52
         },
         {
          "Docs": 1,
          "scrollno": 53
         },
         {
          "Docs": 9,
          "scrollno": 54
         },
         {
          "Docs": 0,
          "scrollno": 55
         },
         {
          "Docs": 4,
          "scrollno": 56
         },
         {
          "Docs": 6,
          "scrollno": 57
         },
         {
          "Docs": 5,
          "scrollno": 58
         },
         {
          "Docs": 4,
          "scrollno": 59
         },
         {
          "Docs": 7,
          "scrollno": 60
         },
         {
          "Docs": 9,
          "scrollno": 61
         },
         {
          "Docs": 4,
          "scrollno": 62
         },
         {
          "Docs": 6,
          "scrollno": 63
         },
         {
          "Docs": 6,
          "scrollno": 64
         },
         {
          "Docs": 9,
          "scrollno": 65
         },
         {
          "Docs": 7,
          "scrollno": 66
         },
         {
          "Docs": 2,
          "scrollno": 67
         },
         {
          "Docs": 0,
          "scrollno": 68
         },
         {
          "Docs": 1,
          "scrollno": 69
         },
         {
          "Docs": 12,
          "scrollno": 70
         },
         {
          "Docs": 3,
          "scrollno": 71
         },
         {
          "Docs": 0,
          "scrollno": 72
         },
         {
          "Docs": 2,
          "scrollno": 73
         },
         {
          "Docs": 8,
          "scrollno": 74
         },
         {
          "Docs": 2,
          "scrollno": 75
         },
         {
          "Docs": 2,
          "scrollno": 76
         },
         {
          "Docs": 2,
          "scrollno": 77
         },
         {
          "Docs": 4,
          "scrollno": 78
         },
         {
          "Docs": 3,
          "scrollno": 79
         },
         {
          "Docs": 13,
          "scrollno": 80
         },
         {
          "Docs": 1,
          "scrollno": 81
         },
         {
          "Docs": 3,
          "scrollno": 82
         },
         {
          "Docs": 3,
          "scrollno": 83
         },
         {
          "Docs": 4,
          "scrollno": 84
         },
         {
          "Docs": 0,
          "scrollno": 85
         },
         {
          "Docs": 6,
          "scrollno": 86
         },
         {
          "Docs": 3,
          "scrollno": 87
         },
         {
          "Docs": 1,
          "scrollno": 88
         },
         {
          "Docs": 3,
          "scrollno": 89
         },
         {
          "Docs": 1,
          "scrollno": 90
         }
        ],
        "data-9f143bac596f9b6d9e1c81077d33d115": [
         {
          "DocsPercentM": 0.03323349022963914,
          "scrollno": 11
         },
         {
          "DocsPercentM": 0.0728538283062645,
          "scrollno": 12
         },
         {
          "DocsPercentM": 0.2748074807480748,
          "scrollno": 13
         },
         {
          "DocsPercentM": 0.03314285714285714,
          "scrollno": 14
         },
         {
          "DocsPercentM": 0.05636961722488038,
          "scrollno": 15
         },
         {
          "DocsPercentM": 0.15139549492955218,
          "scrollno": 16
         },
         {
          "DocsPercentM": 0.06784660766961652,
          "scrollno": 17
         },
         {
          "DocsPercentM": 0.05697232772653283,
          "scrollno": 18
         },
         {
          "DocsPercentM": 0.027605073364834618,
          "scrollno": 19
         },
         {
          "DocsPercentM": 0.09948186528497409,
          "scrollno": 20
         },
         {
          "DocsPercentM": 0.04517776468277352,
          "scrollno": 21
         },
         {
          "DocsPercentM": 0,
          "scrollno": 22
         },
         {
          "DocsPercentM": 0.2247191011235955,
          "scrollno": 23
         },
         {
          "DocsPercentM": 0.26465927099841524,
          "scrollno": 24
         },
         {
          "DocsPercentM": 0.29159775057889514,
          "scrollno": 25
         },
         {
          "DocsPercentM": 0.17832239540607056,
          "scrollno": 26
         },
         {
          "DocsPercentM": 0.06170076726342711,
          "scrollno": 27
         },
         {
          "DocsPercentM": 0.7222970871773609,
          "scrollno": 28
         },
         {
          "DocsPercentM": 0.2800929287062582,
          "scrollno": 29
         },
         {
          "DocsPercentM": 0.7761140176799567,
          "scrollno": 30
         },
         {
          "DocsPercentM": 0.13501607334206453,
          "scrollno": 31
         },
         {
          "DocsPercentM": 0.17338869118228548,
          "scrollno": 32
         },
         {
          "DocsPercentM": 0.2833308053996663,
          "scrollno": 33
         },
         {
          "DocsPercentM": 0.1696745966639322,
          "scrollno": 34
         },
         {
          "DocsPercentM": 0.25535521652026505,
          "scrollno": 35
         },
         {
          "DocsPercentM": 0.35959103055652375,
          "scrollno": 36
         },
         {
          "DocsPercentM": 0.16382134850836352,
          "scrollno": 37
         },
         {
          "DocsPercentM": 0.07166765111242371,
          "scrollno": 38
         },
         {
          "DocsPercentM": 0.17916398713826368,
          "scrollno": 39
         },
         {
          "DocsPercentM": 0.7804574174601762,
          "scrollno": 40
         },
         {
          "DocsPercentM": 0.32690951821386605,
          "scrollno": 41
         },
         {
          "DocsPercentM": 0.22195589645254074,
          "scrollno": 42
         },
         {
          "DocsPercentM": 0.42924141165435575,
          "scrollno": 43
         },
         {
          "DocsPercentM": 0.2987704918032787,
          "scrollno": 44
         },
         {
          "DocsPercentM": 0.13599262769878884,
          "scrollno": 45
         },
         {
          "DocsPercentM": 0.4281549354435652,
          "scrollno": 46
         },
         {
          "DocsPercentM": 0.25145664343653606,
          "scrollno": 47
         },
         {
          "DocsPercentM": 0.4607544672402383,
          "scrollno": 48
         },
         {
          "DocsPercentM": 0.8344383405948096,
          "scrollno": 49
         },
         {
          "DocsPercentM": 0.10837438423645321,
          "scrollno": 50
         },
         {
          "DocsPercentM": 0.3444940476190476,
          "scrollno": 51
         },
         {
          "DocsPercentM": 0.5361964952599828,
          "scrollno": 52
         },
         {
          "DocsPercentM": 0.043775984348251404,
          "scrollno": 53
         },
         {
          "DocsPercentM": 0.28713836818723587,
          "scrollno": 54
         },
         {
          "DocsPercentM": 0,
          "scrollno": 55
         },
         {
          "DocsPercentM": 0.12869168212298474,
          "scrollno": 56
         },
         {
          "DocsPercentM": 0.4880685008422235,
          "scrollno": 57
         },
         {
          "DocsPercentM": 0.20107621348561389,
          "scrollno": 58
         },
         {
          "DocsPercentM": 0.8127965297546428,
          "scrollno": 59
         },
         {
          "DocsPercentM": 0.6510475881110931,
          "scrollno": 60
         },
         {
          "DocsPercentM": 0.3771896779054436,
          "scrollno": 61
         },
         {
          "DocsPercentM": 0.4380020446911056,
          "scrollno": 62
         },
         {
          "DocsPercentM": 0.3972583578122814,
          "scrollno": 63
         },
         {
          "DocsPercentM": 0.2841895545752099,
          "scrollno": 64
         },
         {
          "DocsPercentM": 0.34395592524575996,
          "scrollno": 65
         },
         {
          "DocsPercentM": 0.31211498973305957,
          "scrollno": 66
         },
         {
          "DocsPercentM": 0.04299029864941982,
          "scrollno": 67
         },
         {
          "DocsPercentM": 0,
          "scrollno": 68
         },
         {
          "DocsPercentM": 0.10204772381113555,
          "scrollno": 69
         },
         {
          "DocsPercentM": 0.401118338468561,
          "scrollno": 70
         },
         {
          "DocsPercentM": 0.12600450016072,
          "scrollno": 71
         },
         {
          "DocsPercentM": 0,
          "scrollno": 72
         },
         {
          "DocsPercentM": 0.14999117698958886,
          "scrollno": 73
         },
         {
          "DocsPercentM": 0.3175007068136839,
          "scrollno": 74
         },
         {
          "DocsPercentM": 0.07406391441503223,
          "scrollno": 75
         },
         {
          "DocsPercentM": 0.05231560891938251,
          "scrollno": 76
         },
         {
          "DocsPercentM": 0.08046859996159017,
          "scrollno": 77
         },
         {
          "DocsPercentM": 0.20561527057079318,
          "scrollno": 78
         },
         {
          "DocsPercentM": 0.0696156103286385,
          "scrollno": 79
         },
         {
          "DocsPercentM": 0.5205690401114614,
          "scrollno": 80
         },
         {
          "DocsPercentM": 0.01709475131002491,
          "scrollno": 81
         },
         {
          "DocsPercentM": 0.05878496503496503,
          "scrollno": 82
         },
         {
          "DocsPercentM": 0.07658343483556639,
          "scrollno": 83
         },
         {
          "DocsPercentM": 0.40198634388578525,
          "scrollno": 84
         },
         {
          "DocsPercentM": 0,
          "scrollno": 85
         },
         {
          "DocsPercentM": 0.12861821722581215,
          "scrollno": 86
         },
         {
          "DocsPercentM": 0.047098774545991436,
          "scrollno": 87
         },
         {
          "DocsPercentM": 0.04284852142426071,
          "scrollno": 88
         },
         {
          "DocsPercentM": 0.12423807816421656,
          "scrollno": 89
         },
         {
          "DocsPercentM": 0.1494106403313157,
          "scrollno": 90
         }
        ]
       },
       "vconcat": [
        {
         "data": {
          "name": "data-9490edec9fb2851a3210edf8eadf5932"
         },
         "encoding": {
          "x": {
           "field": "scrollno",
           "type": "ordinal"
          },
          "y": {
           "axis": {
            "format": "",
            "title": "Total Document Count \n(indented+quoted) by Scroll"
           },
           "field": "Docs",
           "type": "quantitative"
          }
         },
         "mark": "bar"
        },
        {
         "data": {
          "name": "data-2ef33579f4404590d9237991fb31cb23"
         },
         "encoding": {
          "x": {
           "field": "scrollno",
           "type": "ordinal"
          },
          "y": {
           "axis": {
            "format": "",
            "title": "Total Document Character Count (indented+quoted) by Scroll"
           },
           "field": "DocsChar",
           "type": "quantitative"
          }
         },
         "mark": "bar"
        },
        {
         "data": {
          "name": "data-9f143bac596f9b6d9e1c81077d33d115"
         },
         "encoding": {
          "x": {
           "field": "scrollno",
           "type": "ordinal"
          },
          "y": {
           "axis": {
            "format": "",
            "title": "Document % by Scroll"
           },
           "field": "DocsPercentM",
           "type": "quantitative"
          }
         },
         "mark": "bar"
        }
       ]
      },
      "image/png": "[encoded data removed]",
      "text/plain": [
       "<VegaLite 3 object>\n",
       "\n",
       "If you see this message, it means the renderer has not been properly enabled\n",
       "for the frontend that you are using. For more information, see\n",
       "https://altair-viz.github.io/user_guide/troubleshooting.html\n"
      ]
     },
     "execution_count": 69,
     "metadata": {},
     "output_type": "execute_result"
    }
   ],
   "source": [
    "chartDocsByScroll(dfBios, 'HouHanShu')"
   ]
  },
  {
   "cell_type": "markdown",
   "metadata": {},
   "source": [
    "### Build some vocabularies (NOT UPDATED YET)"
   ]
  },
  {
   "cell_type": "code",
   "execution_count": null,
   "metadata": {},
   "outputs": [],
   "source": [
    "# use these 'sentence-terminating' punctuation marks to break \n",
    "# paragraphs into sentences\n",
    "regex_punc = re.compile(fr\"[{hanzi.punctuation}]\")\n",
    "regex_punc"
   ]
  },
  {
   "cell_type": "markdown",
   "metadata": {},
   "source": [
    "### Commentaries - Regular Text"
   ]
  },
  {
   "cell_type": "markdown",
   "metadata": {},
   "source": [
    "#### Need to first remove quoted documents"
   ]
  },
  {
   "cell_type": "code",
   "execution_count": null,
   "metadata": {},
   "outputs": [],
   "source": [
    "# Use the same regex to identify \"quoted documents\" as\n",
    "# re.split() regex to 'separate out' regular text \n",
    "regex_quoted = re.compile(r\"(?<=「)[^「]{150,}?(?=」)\") "
   ]
  },
  {
   "cell_type": "code",
   "execution_count": null,
   "metadata": {},
   "outputs": [],
   "source": [
    "book = Books[0]\n",
    "Vocab_Commentaries_RegularText = {}\n",
    "D = Vocab_Commentaries_RegularText\n",
    "for (idx, commentary) in book.commentaries:\n",
    "    pieces = regex_quoted.split(commentary)   # <== crucial\n",
    "    for p in pieces:\n",
    "        AddWord2Dict(p, D)\n",
    "\n",
    "DictTopN(D, 20)"
   ]
  },
  {
   "cell_type": "code",
   "execution_count": null,
   "metadata": {},
   "outputs": [],
   "source": [
    "Vocab_Commentaries_Docs = {}\n",
    "D = Vocab_Commentaries_Docs\n",
    "for (idx, commentaries) in qDocsCommentary.items():\n",
    "    for c in commentaries:\n",
    "        AddWord2Dict(c, D)\n",
    "\n",
    "DictTopN(D, 20)"
   ]
  },
  {
   "cell_type": "code",
   "execution_count": null,
   "metadata": {},
   "outputs": [],
   "source": [
    "AllDf.head(30)"
   ]
  },
  {
   "cell_type": "code",
   "execution_count": null,
   "metadata": {},
   "outputs": [],
   "source": []
  },
  {
   "cell_type": "code",
   "execution_count": null,
   "metadata": {},
   "outputs": [],
   "source": [
    "import pickle\n",
    "\n",
    "# An arbitrary collection of objects supported by pickle.\n",
    "with open('Books00.pickle', 'wb') as f:\n",
    "    # Pickle the 'data' dictionary using the highest protocol available.\n",
    "    pickle.dump(Books[0].commentaries, f, pickle.HIGHEST_PROTOCOL)"
   ]
  },
  {
   "cell_type": "code",
   "execution_count": null,
   "metadata": {},
   "outputs": [],
   "source": []
  }
 ],
 "metadata": {
  "kernelspec": {
   "display_name": "Python 3",
   "language": "python",
   "name": "python3"
  },
  "language_info": {
   "codemirror_mode": {
    "name": "ipython",
    "version": 3
   },
   "file_extension": ".py",
   "mimetype": "text/x-python",
   "name": "python",
   "nbconvert_exporter": "python",
   "pygments_lexer": "ipython3",
   "version": "3.6.8"
  }
 },
 "nbformat": 4,
 "nbformat_minor": 4
}
