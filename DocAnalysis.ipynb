{
 "cells": [
  {
   "cell_type": "markdown",
   "metadata": {},
   "source": [
    "## Document Analysis of 20 Histories"
   ]
  },
  {
   "cell_type": "markdown",
   "metadata": {},
   "source": [
    "#### Project HackMD card\n",
    "https://hackmd.io/DgWmLHo_SvGBVjUs57O70g?both"
   ]
  },
  {
   "cell_type": "code",
   "execution_count": 1,
   "metadata": {},
   "outputs": [],
   "source": [
    "from Book2 import Book\n",
    "import re\n",
    "import os, time, datetime\n",
    "import pandas as pd\n",
    "import altair as alt\n",
    "import numpy as np"
   ]
  },
  {
   "cell_type": "code",
   "execution_count": 2,
   "metadata": {},
   "outputs": [],
   "source": [
    "from DocCollect import AddChar2Dict, AddWord2Dict, DictTopN, \\\n",
    "getIndentedDocuments, getQuotedDocuments, getQuotedDocumentsFromCommentaries, \\\n",
    "Histories, HistoryE2C, HistoryC2E, normalizeBookNames, \\\n",
    "RetrieveDocumentsMain, RetrieveDocumentsCommentary, \\\n",
    "scrollNum, sectionType, processScrollSectionDicts, \\\n",
    "consolidateCommentaries, getDocsSummary"
   ]
  },
  {
   "cell_type": "code",
   "execution_count": 3,
   "metadata": {},
   "outputs": [
    {
     "data": {
      "text/plain": [
       "('三國志', 'HouHanShu')"
      ]
     },
     "execution_count": 3,
     "metadata": {},
     "output_type": "execute_result"
    }
   ],
   "source": [
    "HistoryE2C['Sanguozhi'], HistoryC2E['後漢書']"
   ]
  },
  {
   "cell_type": "code",
   "execution_count": 4,
   "metadata": {},
   "outputs": [],
   "source": [
    "#hist = HistoryC2E['三國志']\n",
    "#book = Book(hist)"
   ]
  },
  {
   "cell_type": "code",
   "execution_count": 5,
   "metadata": {},
   "outputs": [
    {
     "name": "stderr",
     "output_type": "stream",
     "text": [
      "WARNING:root:No datetime input provided!\n",
      "INFO:root:Stop at loading ./data/medievalHistories/Shiji/Shiji_0392.html.\n",
      "INFO:root:Total length of the data is 392.\n"
     ]
    },
    {
     "name": "stdout",
     "output_type": "stream",
     "text": [
      "Shiji\n",
      "list index out of range\n",
      "list index out of range\n",
      "list index out of range\n",
      "list index out of range\n",
      "list index out of range\n",
      "392\n"
     ]
    },
    {
     "name": "stderr",
     "output_type": "stream",
     "text": [
      "INFO:root:Remove the new lines added by the page dividers, connect the paragraphs before and after the new lines.\n",
      "INFO:root:Remove 標註, page number, and page dividers from the tree structure.\n",
      "WARNING:root:No datetime input provided!\n",
      "INFO:root:Stop at loading ./data/medievalHistories/Hanshu/Hanshu_0897.html.\n",
      "INFO:root:Total length of the data is 897.\n"
     ]
    },
    {
     "name": "stdout",
     "output_type": "stream",
     "text": [
      "Hanshu\n",
      "list index out of range\n",
      "897\n"
     ]
    },
    {
     "name": "stderr",
     "output_type": "stream",
     "text": [
      "INFO:root:Remove the new lines added by the page dividers, connect the paragraphs before and after the new lines.\n",
      "INFO:root:Remove 標註, page number, and page dividers from the tree structure.\n",
      "WARNING:root:No datetime input provided!\n",
      "INFO:root:Stop at loading ./data/medievalHistories/Sanguozhi/Sanguozhi_0495.html.\n",
      "INFO:root:Total length of the data is 495.\n"
     ]
    },
    {
     "name": "stdout",
     "output_type": "stream",
     "text": [
      "Sanguozhi\n",
      "list index out of range\n",
      "list index out of range\n",
      "list index out of range\n",
      "list index out of range\n",
      "list index out of range\n",
      "495\n"
     ]
    },
    {
     "name": "stderr",
     "output_type": "stream",
     "text": [
      "INFO:root:Remove the new lines added by the page dividers, connect the paragraphs before and after the new lines.\n",
      "INFO:root:Remove 標註, page number, and page dividers from the tree structure.\n",
      "WARNING:root:No datetime input provided!\n",
      "INFO:root:Stop at loading ./data/medievalHistories/HouHanShu/HouHanShu_1141.html.\n",
      "INFO:root:Total length of the data is 1141.\n"
     ]
    },
    {
     "name": "stdout",
     "output_type": "stream",
     "text": [
      "HouHanShu\n",
      "1141\n"
     ]
    },
    {
     "name": "stderr",
     "output_type": "stream",
     "text": [
      "INFO:root:Remove the new lines added by the page dividers, connect the paragraphs before and after the new lines.\n",
      "INFO:root:Remove 標註, page number, and page dividers from the tree structure.\n",
      "WARNING:root:No datetime input provided!\n",
      "INFO:root:Stop at loading ./data/medievalHistories/Songshu/Songshu_0969.html.\n",
      "INFO:root:Total length of the data is 969.\n"
     ]
    },
    {
     "name": "stdout",
     "output_type": "stream",
     "text": [
      "Songshu\n",
      "969\n"
     ]
    },
    {
     "name": "stderr",
     "output_type": "stream",
     "text": [
      "INFO:root:Remove the new lines added by the page dividers, connect the paragraphs before and after the new lines.\n",
      "INFO:root:Remove 標註, page number, and page dividers from the tree structure.\n",
      "WARNING:root:No datetime input provided!\n",
      "INFO:root:Stop at loading ./data/medievalHistories/Nanqishu/Nanqishu_0822.html.\n",
      "INFO:root:Total length of the data is 822.\n"
     ]
    },
    {
     "name": "stdout",
     "output_type": "stream",
     "text": [
      "Nanqishu\n",
      "list index out of range\n",
      "822\n"
     ]
    },
    {
     "name": "stderr",
     "output_type": "stream",
     "text": [
      "INFO:root:Remove the new lines added by the page dividers, connect the paragraphs before and after the new lines.\n",
      "INFO:root:Remove 標註, page number, and page dividers from the tree structure.\n"
     ]
    }
   ],
   "source": [
    "Books = [None] * len(Histories)\n",
    "for i, hist in enumerate(Histories):\n",
    "    #if hist != 'Sanguozhi': continue\n",
    "    Books[i] = Book(hist)\n",
    "    Books[i].load_htmls(f\"./data/medievalHistories/{hist}/\")\n",
    "    Books[i].extract_paths()\n",
    "    Books[i].metainfo()\n",
    "    Books[i].strip_all_irrelevant_tags()\n",
    "    normalizeBookNames(Books[i]) # change 'book title' in flat_meta from Chinese to pinyin \n",
    "    consolidateCommentaries(Books[i]) # \n",
    "    processScrollSectionDicts(Books[i])\n",
    "    RetrieveDocumentsMain(Books[i])\n",
    "    RetrieveDocumentsCommentary(Books[i])\n",
    "    getDocsSummary(Books[i])\n",
    "    if i > 4: break\n"
   ]
  },
  {
   "cell_type": "code",
   "execution_count": 7,
   "metadata": {},
   "outputs": [
    {
     "data": {
      "text/plain": [
       "       type       variable                 method current_length\n",
       "0      meta      flat_meta      self.extract_meta            495\n",
       "1      path          paths     self.extract_paths            495\n",
       "2  passages  flat_passages  self.extract_passages              0"
      ]
     },
     "execution_count": 7,
     "metadata": {},
     "output_type": "execute_result"
    }
   ],
   "source": [
    "Books[2]"
   ]
  },
  {
   "cell_type": "markdown",
   "metadata": {},
   "source": [
    "### Create a unifed pandas dataframe from the docsSummary attribute of each book"
   ]
  },
  {
   "cell_type": "code",
   "execution_count": 8,
   "metadata": {},
   "outputs": [
    {
     "data": {
      "text/plain": [
       "{'book': 'str',\n",
       " 'fileno': 'str',\n",
       " 'scrollno': 'Int64',\n",
       " 'section': 'str',\n",
       " 'grandCharCnt': 'Int64',\n",
       " 'commentaryCharCnt': 'Int64',\n",
       " 'iDocsCntM': 'Int64',\n",
       " 'iDocsCharCntM': 'Int64',\n",
       " 'qDocsCntM': 'Int64',\n",
       " 'qDocsCharCntM': 'Int64',\n",
       " 'qDocsCntC': 'Int64',\n",
       " 'qDocsCharCntC': 'Int64'}"
      ]
     },
     "execution_count": 8,
     "metadata": {},
     "output_type": "execute_result"
    }
   ],
   "source": [
    "# Column names and their data types for pandas dataframe\n",
    "\n",
    "column_names_text = '''\n",
    "book fileno scrollno section \n",
    "grandCharCnt commentaryCharCnt\n",
    "iDocsCntM iDocsCharCntM qDocsCntM qDocsCharCntM \n",
    "qDocsCntC qDocsCharCntC \n",
    "'''\n",
    "column_names = column_names_text.strip().split()\n",
    "\n",
    "### Data dictionary (meanings of column names above)\n",
    "# book              = 'book name', e.g. Sanguozhi\n",
    "# fileno            = 'file no.' (HTML serial no.)\n",
    "# scrollno          = 'scroll no.' i.e., 卷\n",
    "# section           = 'section', e.g., 列傳，本紀\n",
    "# grandCharCnt      = 'total char count, minus commentaries, bookmark'\n",
    "# commentaryChatCnt = 'total commentary char count'\n",
    "# iDocsCntM         = indented docs from Main Text, document count\n",
    "# iDocsCharCntM     = indented docs from Main Text, total char count\n",
    "# qDocsCntM         = quoted docs from Main Text, document count\n",
    "# qDocsCharCntM     = quoted docs from Main Text, total char count\n",
    "# qDocsCntC         = quoted docs from Commentaries, document count\n",
    "# qDocsCharCntC     = quoted docs from Commentaries, total char count\n",
    "\n",
    "data_types_str = '''\n",
    "str str Int64 str\n",
    "Int64 Int64 \n",
    "Int64 Int64 Int64 Int64 \n",
    "Int64 Int64\n",
    "'''\n",
    "data_types = data_types_str.strip().split()\n",
    "\n",
    "# the following column data types will be imposed on the DataFrame after it is created ('astype')\n",
    "col_dtype = {c: data_types[i] for i, c in enumerate(column_names)}  # dictionary comprehension\n",
    "col_dtype"
   ]
  },
  {
   "cell_type": "code",
   "execution_count": 9,
   "metadata": {},
   "outputs": [
    {
     "data": {
      "text/html": [
       "<div>\n",
       "<style scoped>\n",
       "    .dataframe tbody tr th:only-of-type {\n",
       "        vertical-align: middle;\n",
       "    }\n",
       "\n",
       "    .dataframe tbody tr th {\n",
       "        vertical-align: top;\n",
       "    }\n",
       "\n",
       "    .dataframe thead th {\n",
       "        text-align: right;\n",
       "    }\n",
       "</style>\n",
       "<table border=\"1\" class=\"dataframe\">\n",
       "  <thead>\n",
       "    <tr style=\"text-align: right;\">\n",
       "      <th></th>\n",
       "      <th>book</th>\n",
       "      <th>fileno</th>\n",
       "      <th>scrollno</th>\n",
       "      <th>section</th>\n",
       "      <th>grandCharCnt</th>\n",
       "      <th>commentaryCharCnt</th>\n",
       "      <th>iDocsCntM</th>\n",
       "      <th>iDocsCharCntM</th>\n",
       "      <th>qDocsCntM</th>\n",
       "      <th>qDocsCharCntM</th>\n",
       "      <th>qDocsCntC</th>\n",
       "      <th>qDocsCharCntC</th>\n",
       "      <th>docsCntTotal</th>\n",
       "      <th>docsCharCntTotal</th>\n",
       "    </tr>\n",
       "  </thead>\n",
       "  <tbody>\n",
       "    <tr>\n",
       "      <th>0</th>\n",
       "      <td>Shiji</td>\n",
       "      <td>0000</td>\n",
       "      <td>1</td>\n",
       "      <td>本紀</td>\n",
       "      <td>390</td>\n",
       "      <td>0</td>\n",
       "      <td>0</td>\n",
       "      <td>0</td>\n",
       "      <td>0</td>\n",
       "      <td>0</td>\n",
       "      <td>0</td>\n",
       "      <td>0</td>\n",
       "      <td>0</td>\n",
       "      <td>0</td>\n",
       "    </tr>\n",
       "    <tr>\n",
       "      <th>1</th>\n",
       "      <td>Shiji</td>\n",
       "      <td>0001</td>\n",
       "      <td>1</td>\n",
       "      <td>本紀</td>\n",
       "      <td>612</td>\n",
       "      <td>6014</td>\n",
       "      <td>0</td>\n",
       "      <td>0</td>\n",
       "      <td>0</td>\n",
       "      <td>0</td>\n",
       "      <td>1</td>\n",
       "      <td>156</td>\n",
       "      <td>1</td>\n",
       "      <td>156</td>\n",
       "    </tr>\n",
       "    <tr>\n",
       "      <th>2</th>\n",
       "      <td>Shiji</td>\n",
       "      <td>0002</td>\n",
       "      <td>1</td>\n",
       "      <td>本紀</td>\n",
       "      <td>142</td>\n",
       "      <td>610</td>\n",
       "      <td>0</td>\n",
       "      <td>0</td>\n",
       "      <td>0</td>\n",
       "      <td>0</td>\n",
       "      <td>0</td>\n",
       "      <td>0</td>\n",
       "      <td>0</td>\n",
       "      <td>0</td>\n",
       "    </tr>\n",
       "    <tr>\n",
       "      <th>3</th>\n",
       "      <td>Shiji</td>\n",
       "      <td>0003</td>\n",
       "      <td>1</td>\n",
       "      <td>本紀</td>\n",
       "      <td>260</td>\n",
       "      <td>852</td>\n",
       "      <td>0</td>\n",
       "      <td>0</td>\n",
       "      <td>0</td>\n",
       "      <td>0</td>\n",
       "      <td>0</td>\n",
       "      <td>0</td>\n",
       "      <td>0</td>\n",
       "      <td>0</td>\n",
       "    </tr>\n",
       "    <tr>\n",
       "      <th>4</th>\n",
       "      <td>Shiji</td>\n",
       "      <td>0004</td>\n",
       "      <td>1</td>\n",
       "      <td>本紀</td>\n",
       "      <td>1371</td>\n",
       "      <td>9014</td>\n",
       "      <td>0</td>\n",
       "      <td>0</td>\n",
       "      <td>0</td>\n",
       "      <td>0</td>\n",
       "      <td>2</td>\n",
       "      <td>550</td>\n",
       "      <td>2</td>\n",
       "      <td>550</td>\n",
       "    </tr>\n",
       "  </tbody>\n",
       "</table>\n",
       "</div>"
      ],
      "text/plain": [
       "    book fileno  scrollno section  grandCharCnt  commentaryCharCnt  iDocsCntM  \\\n",
       "0  Shiji   0000         1      本紀           390                  0          0   \n",
       "1  Shiji   0001         1      本紀           612               6014          0   \n",
       "2  Shiji   0002         1      本紀           142                610          0   \n",
       "3  Shiji   0003         1      本紀           260                852          0   \n",
       "4  Shiji   0004         1      本紀          1371               9014          0   \n",
       "\n",
       "   iDocsCharCntM  qDocsCntM  qDocsCharCntM  qDocsCntC  qDocsCharCntC  \\\n",
       "0              0          0              0          0              0   \n",
       "1              0          0              0          1            156   \n",
       "2              0          0              0          0              0   \n",
       "3              0          0              0          0              0   \n",
       "4              0          0              0          2            550   \n",
       "\n",
       "   docsCntTotal  docsCharCntTotal  \n",
       "0             0                 0  \n",
       "1             1               156  \n",
       "2             0                 0  \n",
       "3             0                 0  \n",
       "4             2               550  "
      ]
     },
     "execution_count": 9,
     "metadata": {},
     "output_type": "execute_result"
    }
   ],
   "source": [
    "All_Summary = []\n",
    "for book in Books:\n",
    "    if book is None: continue\n",
    "    All_Summary.extend(book.docsSummary)\n",
    "df = pd.DataFrame(data=All_Summary, columns=column_names)\n",
    "df = df.astype(col_dtype)\n",
    "\n",
    "## Now add two columns: 'total docs count' and 'total docs char count'\n",
    "df['docsCntTotal']     = df['iDocsCntM'] + df['qDocsCntM'] + df['qDocsCntC']\n",
    "df['docsCharCntTotal'] = df['iDocsCharCntM'] + df['qDocsCharCntM'] + df['qDocsCharCntC']\n",
    "\n",
    "df.head(5)"
   ]
  },
  {
   "cell_type": "code",
   "execution_count": 11,
   "metadata": {},
   "outputs": [
    {
     "data": {
      "text/plain": [
       "(4716, 14)"
      ]
     },
     "execution_count": 11,
     "metadata": {},
     "output_type": "execute_result"
    }
   ],
   "source": [
    "df.shape"
   ]
  },
  {
   "cell_type": "code",
   "execution_count": 33,
   "metadata": {},
   "outputs": [
    {
     "data": {
      "text/plain": [
       "822"
      ]
     },
     "execution_count": 33,
     "metadata": {},
     "output_type": "execute_result"
    }
   ],
   "source": [
    "len(Books[5].flat_bodies)"
   ]
  },
  {
   "cell_type": "markdown",
   "metadata": {},
   "source": [
    "#### Possible values of 'section' column\n",
    " '世家',  '傳:', '列傳', '史記正義', '吳書', '志', '書', '本紀',\n",
    " '紀:', '蜀書', '表', '魏書', '點校後記'"
   ]
  },
  {
   "cell_type": "code",
   "execution_count": 10,
   "metadata": {},
   "outputs": [],
   "source": [
    "## Compare the following two histories\n",
    "Songshu   =  df[ (df.book=='Songshu') & (df.section.isin(['列傳', '本紀'])) ]\n",
    "Sanguozhi =  df[ (df.book=='Sanguozhi') ]"
   ]
  },
  {
   "cell_type": "code",
   "execution_count": 11,
   "metadata": {},
   "outputs": [
    {
     "data": {
      "text/plain": [
       "scrollno\n",
       "1      1231\n",
       "2      6974\n",
       "3       401\n",
       "4       379\n",
       "5         0\n",
       "       ... \n",
       "96        0\n",
       "97     4729\n",
       "98      428\n",
       "99     1078\n",
       "100    1157\n",
       "Name: iDocsCharCntM, Length: 70, dtype: Int64"
      ]
     },
     "execution_count": 11,
     "metadata": {},
     "output_type": "execute_result"
    }
   ],
   "source": [
    "Songshu['iDocsCntM'].groupby(Songshu.scrollno).sum()\n",
    "Songshu['iDocsCharCntM'].groupby(Songshu.scrollno).sum()\n"
   ]
  },
  {
   "cell_type": "code",
   "execution_count": 68,
   "metadata": {},
   "outputs": [
    {
     "data": {
      "text/html": [
       "<div>\n",
       "<style scoped>\n",
       "    .dataframe tbody tr th:only-of-type {\n",
       "        vertical-align: middle;\n",
       "    }\n",
       "\n",
       "    .dataframe tbody tr th {\n",
       "        vertical-align: top;\n",
       "    }\n",
       "\n",
       "    .dataframe thead th {\n",
       "        text-align: right;\n",
       "    }\n",
       "</style>\n",
       "<table border=\"1\" class=\"dataframe\">\n",
       "  <thead>\n",
       "    <tr style=\"text-align: right;\">\n",
       "      <th></th>\n",
       "      <th>book</th>\n",
       "      <th>fileno</th>\n",
       "      <th>scrollno</th>\n",
       "      <th>section</th>\n",
       "      <th>grandCharCnt</th>\n",
       "      <th>commentaryCharCnt</th>\n",
       "      <th>iDocsCntM</th>\n",
       "      <th>iDocsCharCntM</th>\n",
       "      <th>qDocsCntM</th>\n",
       "      <th>qDocsCharCntM</th>\n",
       "      <th>qDocsCntC</th>\n",
       "      <th>qDocsCharCntC</th>\n",
       "      <th>docsCntTotal</th>\n",
       "      <th>docsCharCntTotal</th>\n",
       "    </tr>\n",
       "  </thead>\n",
       "  <tbody>\n",
       "    <tr>\n",
       "      <th>3502</th>\n",
       "      <td>Songshu</td>\n",
       "      <td>0577</td>\n",
       "      <td>41</td>\n",
       "      <td>列傳</td>\n",
       "      <td>2179</td>\n",
       "      <td>0</td>\n",
       "      <td>0</td>\n",
       "      <td>0</td>\n",
       "      <td>0</td>\n",
       "      <td>0</td>\n",
       "      <td>0</td>\n",
       "      <td>0</td>\n",
       "      <td>0</td>\n",
       "      <td>0</td>\n",
       "    </tr>\n",
       "    <tr>\n",
       "      <th>3503</th>\n",
       "      <td>Songshu</td>\n",
       "      <td>0578</td>\n",
       "      <td>41</td>\n",
       "      <td>列傳</td>\n",
       "      <td>398</td>\n",
       "      <td>0</td>\n",
       "      <td>0</td>\n",
       "      <td>0</td>\n",
       "      <td>0</td>\n",
       "      <td>0</td>\n",
       "      <td>0</td>\n",
       "      <td>0</td>\n",
       "      <td>0</td>\n",
       "      <td>0</td>\n",
       "    </tr>\n",
       "    <tr>\n",
       "      <th>3504</th>\n",
       "      <td>Songshu</td>\n",
       "      <td>0579</td>\n",
       "      <td>41</td>\n",
       "      <td>列傳</td>\n",
       "      <td>521</td>\n",
       "      <td>0</td>\n",
       "      <td>0</td>\n",
       "      <td>0</td>\n",
       "      <td>0</td>\n",
       "      <td>0</td>\n",
       "      <td>0</td>\n",
       "      <td>0</td>\n",
       "      <td>0</td>\n",
       "      <td>0</td>\n",
       "    </tr>\n",
       "    <tr>\n",
       "      <th>3505</th>\n",
       "      <td>Songshu</td>\n",
       "      <td>0580</td>\n",
       "      <td>41</td>\n",
       "      <td>列傳</td>\n",
       "      <td>204</td>\n",
       "      <td>0</td>\n",
       "      <td>0</td>\n",
       "      <td>0</td>\n",
       "      <td>0</td>\n",
       "      <td>0</td>\n",
       "      <td>0</td>\n",
       "      <td>0</td>\n",
       "      <td>0</td>\n",
       "      <td>0</td>\n",
       "    </tr>\n",
       "    <tr>\n",
       "      <th>3506</th>\n",
       "      <td>Songshu</td>\n",
       "      <td>0581</td>\n",
       "      <td>41</td>\n",
       "      <td>列傳</td>\n",
       "      <td>194</td>\n",
       "      <td>0</td>\n",
       "      <td>0</td>\n",
       "      <td>0</td>\n",
       "      <td>0</td>\n",
       "      <td>0</td>\n",
       "      <td>0</td>\n",
       "      <td>0</td>\n",
       "      <td>0</td>\n",
       "      <td>0</td>\n",
       "    </tr>\n",
       "  </tbody>\n",
       "</table>\n",
       "</div>"
      ],
      "text/plain": [
       "         book fileno  scrollno section  grandCharCnt  commentaryCharCnt  \\\n",
       "3502  Songshu   0577        41      列傳          2179                  0   \n",
       "3503  Songshu   0578        41      列傳           398                  0   \n",
       "3504  Songshu   0579        41      列傳           521                  0   \n",
       "3505  Songshu   0580        41      列傳           204                  0   \n",
       "3506  Songshu   0581        41      列傳           194                  0   \n",
       "\n",
       "      iDocsCntM  iDocsCharCntM  qDocsCntM  qDocsCharCntM  qDocsCntC  \\\n",
       "3502          0              0          0              0          0   \n",
       "3503          0              0          0              0          0   \n",
       "3504          0              0          0              0          0   \n",
       "3505          0              0          0              0          0   \n",
       "3506          0              0          0              0          0   \n",
       "\n",
       "      qDocsCharCntC  docsCntTotal  docsCharCntTotal  \n",
       "3502              0             0                 0  \n",
       "3503              0             0                 0  \n",
       "3504              0             0                 0  \n",
       "3505              0             0                 0  \n",
       "3506              0             0                 0  "
      ]
     },
     "execution_count": 68,
     "metadata": {},
     "output_type": "execute_result"
    }
   ],
   "source": [
    "Songshu   =  df[ (df.book=='Songshu') & (df.section.isin(['列傳'])) ]\n",
    "Songshu.head(5)"
   ]
  },
  {
   "cell_type": "markdown",
   "metadata": {},
   "source": [
    "### Plot total no. of characters in documents by scroll no. for a given book"
   ]
  },
  {
   "cell_type": "code",
   "execution_count": 69,
   "metadata": {},
   "outputs": [
    {
     "data": {
      "application/vnd.vegalite.v3+json": {
       "$schema": "https://vega.github.io/schema/vega-lite/v3.3.0.json",
       "config": {
        "mark": {
         "tooltip": null
        },
        "view": {
         "height": 300,
         "width": 400
        }
       },
       "data": {
        "name": "data-538b9b3b7fbecff960dc614002f1d795"
       },
       "datasets": {
        "data-538b9b3b7fbecff960dc614002f1d795": [
         {
          "iDocsCharCntM": 0,
          "scrollno": 11
         },
         {
          "iDocsCharCntM": 0,
          "scrollno": 11
         },
         {
          "iDocsCharCntM": 0,
          "scrollno": 12
         },
         {
          "iDocsCharCntM": 0,
          "scrollno": 12
         },
         {
          "iDocsCharCntM": 0,
          "scrollno": 12
         },
         {
          "iDocsCharCntM": 0,
          "scrollno": 12
         },
         {
          "iDocsCharCntM": 0,
          "scrollno": 12
         },
         {
          "iDocsCharCntM": 0,
          "scrollno": 12
         },
         {
          "iDocsCharCntM": 835,
          "scrollno": 13
         },
         {
          "iDocsCharCntM": 0,
          "scrollno": 13
         },
         {
          "iDocsCharCntM": 0,
          "scrollno": 14
         },
         {
          "iDocsCharCntM": 0,
          "scrollno": 14
         },
         {
          "iDocsCharCntM": 0,
          "scrollno": 14
         },
         {
          "iDocsCharCntM": 0,
          "scrollno": 14
         },
         {
          "iDocsCharCntM": 0,
          "scrollno": 14
         },
         {
          "iDocsCharCntM": 0,
          "scrollno": 14
         },
         {
          "iDocsCharCntM": 0,
          "scrollno": 14
         },
         {
          "iDocsCharCntM": 0,
          "scrollno": 15
         },
         {
          "iDocsCharCntM": 0,
          "scrollno": 15
         },
         {
          "iDocsCharCntM": 0,
          "scrollno": 15
         },
         {
          "iDocsCharCntM": 0,
          "scrollno": 15
         },
         {
          "iDocsCharCntM": 0,
          "scrollno": 16
         },
         {
          "iDocsCharCntM": 1106,
          "scrollno": 16
         },
         {
          "iDocsCharCntM": 0,
          "scrollno": 17
         },
         {
          "iDocsCharCntM": 0,
          "scrollno": 17
         },
         {
          "iDocsCharCntM": 0,
          "scrollno": 17
         },
         {
          "iDocsCharCntM": 0,
          "scrollno": 18
         },
         {
          "iDocsCharCntM": 0,
          "scrollno": 18
         },
         {
          "iDocsCharCntM": 0,
          "scrollno": 18
         },
         {
          "iDocsCharCntM": 0,
          "scrollno": 18
         },
         {
          "iDocsCharCntM": 0,
          "scrollno": 19
         },
         {
          "iDocsCharCntM": 0,
          "scrollno": 19
         },
         {
          "iDocsCharCntM": 0,
          "scrollno": 19
         },
         {
          "iDocsCharCntM": 0,
          "scrollno": 19
         },
         {
          "iDocsCharCntM": 0,
          "scrollno": 19
         },
         {
          "iDocsCharCntM": 0,
          "scrollno": 20
         },
         {
          "iDocsCharCntM": 0,
          "scrollno": 20
         },
         {
          "iDocsCharCntM": 0,
          "scrollno": 20
         },
         {
          "iDocsCharCntM": 0,
          "scrollno": 21
         },
         {
          "iDocsCharCntM": 0,
          "scrollno": 21
         },
         {
          "iDocsCharCntM": 0,
          "scrollno": 21
         },
         {
          "iDocsCharCntM": 0,
          "scrollno": 21
         },
         {
          "iDocsCharCntM": 0,
          "scrollno": 21
         },
         {
          "iDocsCharCntM": 0,
          "scrollno": 21
         },
         {
          "iDocsCharCntM": 0,
          "scrollno": 22
         },
         {
          "iDocsCharCntM": 0,
          "scrollno": 22
         },
         {
          "iDocsCharCntM": 0,
          "scrollno": 22
         },
         {
          "iDocsCharCntM": 0,
          "scrollno": 22
         },
         {
          "iDocsCharCntM": 0,
          "scrollno": 22
         },
         {
          "iDocsCharCntM": 0,
          "scrollno": 22
         },
         {
          "iDocsCharCntM": 0,
          "scrollno": 22
         },
         {
          "iDocsCharCntM": 0,
          "scrollno": 22
         },
         {
          "iDocsCharCntM": 0,
          "scrollno": 22
         },
         {
          "iDocsCharCntM": 0,
          "scrollno": 23
         },
         {
          "iDocsCharCntM": 0,
          "scrollno": 23
         },
         {
          "iDocsCharCntM": 355,
          "scrollno": 23
         },
         {
          "iDocsCharCntM": 0,
          "scrollno": 23
         },
         {
          "iDocsCharCntM": 783,
          "scrollno": 24
         },
         {
          "iDocsCharCntM": 0,
          "scrollno": 24
         },
         {
          "iDocsCharCntM": 0,
          "scrollno": 24
         },
         {
          "iDocsCharCntM": 0,
          "scrollno": 24
         },
         {
          "iDocsCharCntM": 0,
          "scrollno": 24
         },
         {
          "iDocsCharCntM": 0,
          "scrollno": 25
         },
         {
          "iDocsCharCntM": 1547,
          "scrollno": 25
         },
         {
          "iDocsCharCntM": 0,
          "scrollno": 25
         },
         {
          "iDocsCharCntM": 0,
          "scrollno": 25
         },
         {
          "iDocsCharCntM": 0,
          "scrollno": 26
         },
         {
          "iDocsCharCntM": 0,
          "scrollno": 26
         },
         {
          "iDocsCharCntM": 0,
          "scrollno": 26
         },
         {
          "iDocsCharCntM": 0,
          "scrollno": 26
         },
         {
          "iDocsCharCntM": 0,
          "scrollno": 26
         },
         {
          "iDocsCharCntM": 0,
          "scrollno": 26
         },
         {
          "iDocsCharCntM": 0,
          "scrollno": 26
         },
         {
          "iDocsCharCntM": 0,
          "scrollno": 26
         },
         {
          "iDocsCharCntM": 0,
          "scrollno": 27
         },
         {
          "iDocsCharCntM": 0,
          "scrollno": 27
         },
         {
          "iDocsCharCntM": 0,
          "scrollno": 27
         },
         {
          "iDocsCharCntM": 0,
          "scrollno": 27
         },
         {
          "iDocsCharCntM": 0,
          "scrollno": 27
         },
         {
          "iDocsCharCntM": 0,
          "scrollno": 27
         },
         {
          "iDocsCharCntM": 0,
          "scrollno": 27
         },
         {
          "iDocsCharCntM": 0,
          "scrollno": 27
         },
         {
          "iDocsCharCntM": 0,
          "scrollno": 27
         },
         {
          "iDocsCharCntM": 0,
          "scrollno": 27
         },
         {
          "iDocsCharCntM": 1257,
          "scrollno": 28
         },
         {
          "iDocsCharCntM": 2148,
          "scrollno": 28
         },
         {
          "iDocsCharCntM": 3138,
          "scrollno": 28
         },
         {
          "iDocsCharCntM": 828,
          "scrollno": 29
         },
         {
          "iDocsCharCntM": 0,
          "scrollno": 29
         },
         {
          "iDocsCharCntM": 0,
          "scrollno": 29
         },
         {
          "iDocsCharCntM": 1184,
          "scrollno": 30
         },
         {
          "iDocsCharCntM": 0,
          "scrollno": 30
         },
         {
          "iDocsCharCntM": 5789,
          "scrollno": 30
         },
         {
          "iDocsCharCntM": 1631,
          "scrollno": 30
         },
         {
          "iDocsCharCntM": 0,
          "scrollno": 31
         },
         {
          "iDocsCharCntM": 531,
          "scrollno": 31
         },
         {
          "iDocsCharCntM": 0,
          "scrollno": 31
         },
         {
          "iDocsCharCntM": 0,
          "scrollno": 31
         },
         {
          "iDocsCharCntM": 0,
          "scrollno": 31
         },
         {
          "iDocsCharCntM": 0,
          "scrollno": 31
         },
         {
          "iDocsCharCntM": 0,
          "scrollno": 31
         },
         {
          "iDocsCharCntM": 0,
          "scrollno": 31
         },
         {
          "iDocsCharCntM": 0,
          "scrollno": 31
         },
         {
          "iDocsCharCntM": 0,
          "scrollno": 31
         },
         {
          "iDocsCharCntM": 877,
          "scrollno": 32
         },
         {
          "iDocsCharCntM": 0,
          "scrollno": 32
         },
         {
          "iDocsCharCntM": 588,
          "scrollno": 33
         },
         {
          "iDocsCharCntM": 0,
          "scrollno": 33
         },
         {
          "iDocsCharCntM": 0,
          "scrollno": 33
         },
         {
          "iDocsCharCntM": 0,
          "scrollno": 33
         },
         {
          "iDocsCharCntM": 0,
          "scrollno": 33
         },
         {
          "iDocsCharCntM": 785,
          "scrollno": 34
         },
         {
          "iDocsCharCntM": 0,
          "scrollno": 34
         },
         {
          "iDocsCharCntM": 0,
          "scrollno": 34
         },
         {
          "iDocsCharCntM": 0,
          "scrollno": 34
         },
         {
          "iDocsCharCntM": 0,
          "scrollno": 34
         },
         {
          "iDocsCharCntM": 0,
          "scrollno": 35
         },
         {
          "iDocsCharCntM": 0,
          "scrollno": 35
         },
         {
          "iDocsCharCntM": 0,
          "scrollno": 35
         },
         {
          "iDocsCharCntM": 460,
          "scrollno": 36
         },
         {
          "iDocsCharCntM": 0,
          "scrollno": 36
         },
         {
          "iDocsCharCntM": 679,
          "scrollno": 36
         },
         {
          "iDocsCharCntM": 530,
          "scrollno": 36
         },
         {
          "iDocsCharCntM": 0,
          "scrollno": 36
         },
         {
          "iDocsCharCntM": 0,
          "scrollno": 37
         },
         {
          "iDocsCharCntM": 662,
          "scrollno": 37
         },
         {
          "iDocsCharCntM": 0,
          "scrollno": 38
         },
         {
          "iDocsCharCntM": 0,
          "scrollno": 38
         },
         {
          "iDocsCharCntM": 0,
          "scrollno": 38
         },
         {
          "iDocsCharCntM": 0,
          "scrollno": 38
         },
         {
          "iDocsCharCntM": 0,
          "scrollno": 38
         },
         {
          "iDocsCharCntM": 0,
          "scrollno": 38
         },
         {
          "iDocsCharCntM": 0,
          "scrollno": 39
         },
         {
          "iDocsCharCntM": 0,
          "scrollno": 39
         },
         {
          "iDocsCharCntM": 0,
          "scrollno": 39
         },
         {
          "iDocsCharCntM": 0,
          "scrollno": 39
         },
         {
          "iDocsCharCntM": 0,
          "scrollno": 39
         },
         {
          "iDocsCharCntM": 0,
          "scrollno": 39
         },
         {
          "iDocsCharCntM": 0,
          "scrollno": 39
         },
         {
          "iDocsCharCntM": 0,
          "scrollno": 39
         },
         {
          "iDocsCharCntM": 1091,
          "scrollno": 40
         },
         {
          "iDocsCharCntM": 727,
          "scrollno": 40
         },
         {
          "iDocsCharCntM": 2809,
          "scrollno": 40
         },
         {
          "iDocsCharCntM": 2136,
          "scrollno": 40
         },
         {
          "iDocsCharCntM": 1432,
          "scrollno": 40
         },
         {
          "iDocsCharCntM": 0,
          "scrollno": 41
         },
         {
          "iDocsCharCntM": 0,
          "scrollno": 41
         },
         {
          "iDocsCharCntM": 0,
          "scrollno": 41
         },
         {
          "iDocsCharCntM": 0,
          "scrollno": 41
         },
         {
          "iDocsCharCntM": 0,
          "scrollno": 42
         },
         {
          "iDocsCharCntM": 0,
          "scrollno": 42
         },
         {
          "iDocsCharCntM": 0,
          "scrollno": 42
         },
         {
          "iDocsCharCntM": 0,
          "scrollno": 42
         },
         {
          "iDocsCharCntM": 0,
          "scrollno": 42
         },
         {
          "iDocsCharCntM": 0,
          "scrollno": 42
         },
         {
          "iDocsCharCntM": 0,
          "scrollno": 42
         },
         {
          "iDocsCharCntM": 0,
          "scrollno": 42
         },
         {
          "iDocsCharCntM": 0,
          "scrollno": 42
         },
         {
          "iDocsCharCntM": 0,
          "scrollno": 42
         },
         {
          "iDocsCharCntM": 0,
          "scrollno": 42
         },
         {
          "iDocsCharCntM": 0,
          "scrollno": 43
         },
         {
          "iDocsCharCntM": 875,
          "scrollno": 43
         },
         {
          "iDocsCharCntM": 0,
          "scrollno": 43
         },
         {
          "iDocsCharCntM": 0,
          "scrollno": 43
         },
         {
          "iDocsCharCntM": 0,
          "scrollno": 44
         },
         {
          "iDocsCharCntM": 0,
          "scrollno": 44
         },
         {
          "iDocsCharCntM": 0,
          "scrollno": 44
         },
         {
          "iDocsCharCntM": 0,
          "scrollno": 44
         },
         {
          "iDocsCharCntM": 0,
          "scrollno": 44
         },
         {
          "iDocsCharCntM": 0,
          "scrollno": 45
         },
         {
          "iDocsCharCntM": 0,
          "scrollno": 45
         },
         {
          "iDocsCharCntM": 0,
          "scrollno": 45
         },
         {
          "iDocsCharCntM": 0,
          "scrollno": 45
         },
         {
          "iDocsCharCntM": 0,
          "scrollno": 46
         },
         {
          "iDocsCharCntM": 0,
          "scrollno": 46
         },
         {
          "iDocsCharCntM": 565,
          "scrollno": 47
         },
         {
          "iDocsCharCntM": 0,
          "scrollno": 47
         },
         {
          "iDocsCharCntM": 0,
          "scrollno": 48
         },
         {
          "iDocsCharCntM": 0,
          "scrollno": 48
         },
         {
          "iDocsCharCntM": 699,
          "scrollno": 48
         },
         {
          "iDocsCharCntM": 465,
          "scrollno": 48
         },
         {
          "iDocsCharCntM": 492,
          "scrollno": 48
         },
         {
          "iDocsCharCntM": 0,
          "scrollno": 48
         },
         {
          "iDocsCharCntM": 0,
          "scrollno": 48
         },
         {
          "iDocsCharCntM": 0,
          "scrollno": 49
         },
         {
          "iDocsCharCntM": 0,
          "scrollno": 49
         },
         {
          "iDocsCharCntM": 686,
          "scrollno": 49
         },
         {
          "iDocsCharCntM": 1336,
          "scrollno": 49
         },
         {
          "iDocsCharCntM": 472,
          "scrollno": 49
         },
         {
          "iDocsCharCntM": 839,
          "scrollno": 49
         },
         {
          "iDocsCharCntM": 592,
          "scrollno": 49
         },
         {
          "iDocsCharCntM": 192,
          "scrollno": 49
         },
         {
          "iDocsCharCntM": 1319,
          "scrollno": 49
         },
         {
          "iDocsCharCntM": 2234,
          "scrollno": 49
         },
         {
          "iDocsCharCntM": 891,
          "scrollno": 49
         },
         {
          "iDocsCharCntM": 0,
          "scrollno": 50
         },
         {
          "iDocsCharCntM": 0,
          "scrollno": 50
         },
         {
          "iDocsCharCntM": 0,
          "scrollno": 50
         },
         {
          "iDocsCharCntM": 0,
          "scrollno": 50
         },
         {
          "iDocsCharCntM": 0,
          "scrollno": 50
         },
         {
          "iDocsCharCntM": 0,
          "scrollno": 50
         },
         {
          "iDocsCharCntM": 0,
          "scrollno": 50
         },
         {
          "iDocsCharCntM": 0,
          "scrollno": 50
         },
         {
          "iDocsCharCntM": 0,
          "scrollno": 50
         },
         {
          "iDocsCharCntM": 0,
          "scrollno": 51
         },
         {
          "iDocsCharCntM": 0,
          "scrollno": 51
         },
         {
          "iDocsCharCntM": 0,
          "scrollno": 51
         },
         {
          "iDocsCharCntM": 0,
          "scrollno": 51
         },
         {
          "iDocsCharCntM": 0,
          "scrollno": 51
         },
         {
          "iDocsCharCntM": 0,
          "scrollno": 52
         },
         {
          "iDocsCharCntM": 456,
          "scrollno": 52
         },
         {
          "iDocsCharCntM": 1820,
          "scrollno": 52
         },
         {
          "iDocsCharCntM": 0,
          "scrollno": 52
         },
         {
          "iDocsCharCntM": 1307,
          "scrollno": 52
         },
         {
          "iDocsCharCntM": 0,
          "scrollno": 53
         },
         {
          "iDocsCharCntM": 0,
          "scrollno": 53
         },
         {
          "iDocsCharCntM": 0,
          "scrollno": 53
         },
         {
          "iDocsCharCntM": 0,
          "scrollno": 53
         },
         {
          "iDocsCharCntM": 0,
          "scrollno": 53
         },
         {
          "iDocsCharCntM": 0,
          "scrollno": 53
         },
         {
          "iDocsCharCntM": 0,
          "scrollno": 54
         },
         {
          "iDocsCharCntM": 0,
          "scrollno": 54
         },
         {
          "iDocsCharCntM": 0,
          "scrollno": 54
         },
         {
          "iDocsCharCntM": 0,
          "scrollno": 54
         },
         {
          "iDocsCharCntM": 0,
          "scrollno": 54
         },
         {
          "iDocsCharCntM": 0,
          "scrollno": 55
         },
         {
          "iDocsCharCntM": 0,
          "scrollno": 55
         },
         {
          "iDocsCharCntM": 0,
          "scrollno": 55
         },
         {
          "iDocsCharCntM": 0,
          "scrollno": 55
         },
         {
          "iDocsCharCntM": 0,
          "scrollno": 55
         },
         {
          "iDocsCharCntM": 0,
          "scrollno": 55
         },
         {
          "iDocsCharCntM": 0,
          "scrollno": 55
         },
         {
          "iDocsCharCntM": 0,
          "scrollno": 55
         },
         {
          "iDocsCharCntM": 0,
          "scrollno": 55
         },
         {
          "iDocsCharCntM": 0,
          "scrollno": 56
         },
         {
          "iDocsCharCntM": 0,
          "scrollno": 56
         },
         {
          "iDocsCharCntM": 0,
          "scrollno": 56
         },
         {
          "iDocsCharCntM": 0,
          "scrollno": 56
         },
         {
          "iDocsCharCntM": 0,
          "scrollno": 57
         },
         {
          "iDocsCharCntM": 0,
          "scrollno": 57
         },
         {
          "iDocsCharCntM": 1514,
          "scrollno": 57
         },
         {
          "iDocsCharCntM": 0,
          "scrollno": 57
         },
         {
          "iDocsCharCntM": 748,
          "scrollno": 57
         },
         {
          "iDocsCharCntM": 589,
          "scrollno": 57
         },
         {
          "iDocsCharCntM": 0,
          "scrollno": 58
         },
         {
          "iDocsCharCntM": 0,
          "scrollno": 58
         },
         {
          "iDocsCharCntM": 0,
          "scrollno": 58
         },
         {
          "iDocsCharCntM": 870,
          "scrollno": 58
         },
         {
          "iDocsCharCntM": 0,
          "scrollno": 59
         },
         {
          "iDocsCharCntM": 1593,
          "scrollno": 59
         },
         {
          "iDocsCharCntM": 3227,
          "scrollno": 59
         },
         {
          "iDocsCharCntM": 0,
          "scrollno": 60
         },
         {
          "iDocsCharCntM": 2553,
          "scrollno": 60
         },
         {
          "iDocsCharCntM": 0,
          "scrollno": 60
         },
         {
          "iDocsCharCntM": 3755,
          "scrollno": 60
         },
         {
          "iDocsCharCntM": 1012,
          "scrollno": 61
         },
         {
          "iDocsCharCntM": 0,
          "scrollno": 61
         },
         {
          "iDocsCharCntM": 0,
          "scrollno": 61
         },
         {
          "iDocsCharCntM": 1675,
          "scrollno": 62
         },
         {
          "iDocsCharCntM": 1078,
          "scrollno": 62
         },
         {
          "iDocsCharCntM": 0,
          "scrollno": 62
         },
         {
          "iDocsCharCntM": 0,
          "scrollno": 62
         },
         {
          "iDocsCharCntM": 0,
          "scrollno": 62
         },
         {
          "iDocsCharCntM": 1234,
          "scrollno": 63
         },
         {
          "iDocsCharCntM": 0,
          "scrollno": 63
         },
         {
          "iDocsCharCntM": 0,
          "scrollno": 64
         },
         {
          "iDocsCharCntM": 0,
          "scrollno": 64
         },
         {
          "iDocsCharCntM": 0,
          "scrollno": 64
         },
         {
          "iDocsCharCntM": 0,
          "scrollno": 64
         },
         {
          "iDocsCharCntM": 0,
          "scrollno": 64
         },
         {
          "iDocsCharCntM": 553,
          "scrollno": 65
         },
         {
          "iDocsCharCntM": 0,
          "scrollno": 65
         },
         {
          "iDocsCharCntM": 0,
          "scrollno": 65
         },
         {
          "iDocsCharCntM": 0,
          "scrollno": 66
         },
         {
          "iDocsCharCntM": 0,
          "scrollno": 66
         },
         {
          "iDocsCharCntM": 0,
          "scrollno": 67
         },
         {
          "iDocsCharCntM": 0,
          "scrollno": 67
         },
         {
          "iDocsCharCntM": 0,
          "scrollno": 67
         },
         {
          "iDocsCharCntM": 0,
          "scrollno": 67
         },
         {
          "iDocsCharCntM": 0,
          "scrollno": 67
         },
         {
          "iDocsCharCntM": 0,
          "scrollno": 67
         },
         {
          "iDocsCharCntM": 0,
          "scrollno": 67
         },
         {
          "iDocsCharCntM": 0,
          "scrollno": 67
         },
         {
          "iDocsCharCntM": 0,
          "scrollno": 67
         },
         {
          "iDocsCharCntM": 0,
          "scrollno": 67
         },
         {
          "iDocsCharCntM": 0,
          "scrollno": 67
         },
         {
          "iDocsCharCntM": 0,
          "scrollno": 67
         },
         {
          "iDocsCharCntM": 0,
          "scrollno": 67
         },
         {
          "iDocsCharCntM": 0,
          "scrollno": 67
         },
         {
          "iDocsCharCntM": 0,
          "scrollno": 67
         },
         {
          "iDocsCharCntM": 0,
          "scrollno": 67
         },
         {
          "iDocsCharCntM": 0,
          "scrollno": 67
         },
         {
          "iDocsCharCntM": 0,
          "scrollno": 67
         },
         {
          "iDocsCharCntM": 0,
          "scrollno": 67
         },
         {
          "iDocsCharCntM": 0,
          "scrollno": 67
         },
         {
          "iDocsCharCntM": 0,
          "scrollno": 67
         },
         {
          "iDocsCharCntM": 0,
          "scrollno": 67
         },
         {
          "iDocsCharCntM": 0,
          "scrollno": 68
         },
         {
          "iDocsCharCntM": 0,
          "scrollno": 68
         },
         {
          "iDocsCharCntM": 0,
          "scrollno": 68
         },
         {
          "iDocsCharCntM": 0,
          "scrollno": 69
         },
         {
          "iDocsCharCntM": 0,
          "scrollno": 69
         },
         {
          "iDocsCharCntM": 0,
          "scrollno": 70
         },
         {
          "iDocsCharCntM": 0,
          "scrollno": 70
         },
         {
          "iDocsCharCntM": 0,
          "scrollno": 70
         },
         {
          "iDocsCharCntM": 0,
          "scrollno": 71
         },
         {
          "iDocsCharCntM": 0,
          "scrollno": 71
         },
         {
          "iDocsCharCntM": 0,
          "scrollno": 72
         },
         {
          "iDocsCharCntM": 0,
          "scrollno": 73
         },
         {
          "iDocsCharCntM": 0,
          "scrollno": 73
         },
         {
          "iDocsCharCntM": 0,
          "scrollno": 73
         },
         {
          "iDocsCharCntM": 2660,
          "scrollno": 74
         },
         {
          "iDocsCharCntM": 654,
          "scrollno": 74
         },
         {
          "iDocsCharCntM": 0,
          "scrollno": 74
         },
         {
          "iDocsCharCntM": 0,
          "scrollno": 75
         },
         {
          "iDocsCharCntM": 0,
          "scrollno": 75
         },
         {
          "iDocsCharCntM": 0,
          "scrollno": 75
         },
         {
          "iDocsCharCntM": 0,
          "scrollno": 76
         },
         {
          "iDocsCharCntM": 0,
          "scrollno": 76
         },
         {
          "iDocsCharCntM": 0,
          "scrollno": 76
         },
         {
          "iDocsCharCntM": 0,
          "scrollno": 76
         },
         {
          "iDocsCharCntM": 0,
          "scrollno": 76
         },
         {
          "iDocsCharCntM": 0,
          "scrollno": 76
         },
         {
          "iDocsCharCntM": 0,
          "scrollno": 76
         },
         {
          "iDocsCharCntM": 0,
          "scrollno": 76
         },
         {
          "iDocsCharCntM": 0,
          "scrollno": 76
         },
         {
          "iDocsCharCntM": 0,
          "scrollno": 76
         },
         {
          "iDocsCharCntM": 0,
          "scrollno": 76
         },
         {
          "iDocsCharCntM": 0,
          "scrollno": 76
         },
         {
          "iDocsCharCntM": 0,
          "scrollno": 76
         },
         {
          "iDocsCharCntM": 0,
          "scrollno": 77
         },
         {
          "iDocsCharCntM": 0,
          "scrollno": 77
         },
         {
          "iDocsCharCntM": 0,
          "scrollno": 77
         },
         {
          "iDocsCharCntM": 0,
          "scrollno": 77
         },
         {
          "iDocsCharCntM": 0,
          "scrollno": 77
         },
         {
          "iDocsCharCntM": 0,
          "scrollno": 77
         },
         {
          "iDocsCharCntM": 0,
          "scrollno": 77
         },
         {
          "iDocsCharCntM": 0,
          "scrollno": 77
         },
         {
          "iDocsCharCntM": 0,
          "scrollno": 78
         },
         {
          "iDocsCharCntM": 0,
          "scrollno": 78
         },
         {
          "iDocsCharCntM": 0,
          "scrollno": 78
         },
         {
          "iDocsCharCntM": 0,
          "scrollno": 78
         },
         {
          "iDocsCharCntM": 0,
          "scrollno": 78
         },
         {
          "iDocsCharCntM": 0,
          "scrollno": 78
         },
         {
          "iDocsCharCntM": 0,
          "scrollno": 78
         },
         {
          "iDocsCharCntM": 0,
          "scrollno": 78
         },
         {
          "iDocsCharCntM": 1324,
          "scrollno": 78
         },
         {
          "iDocsCharCntM": 0,
          "scrollno": 78
         },
         {
          "iDocsCharCntM": 0,
          "scrollno": 79
         },
         {
          "iDocsCharCntM": 0,
          "scrollno": 79
         },
         {
          "iDocsCharCntM": 0,
          "scrollno": 79
         },
         {
          "iDocsCharCntM": 0,
          "scrollno": 79
         },
         {
          "iDocsCharCntM": 0,
          "scrollno": 79
         },
         {
          "iDocsCharCntM": 0,
          "scrollno": 79
         },
         {
          "iDocsCharCntM": 0,
          "scrollno": 79
         },
         {
          "iDocsCharCntM": 0,
          "scrollno": 79
         },
         {
          "iDocsCharCntM": 0,
          "scrollno": 79
         },
         {
          "iDocsCharCntM": 0,
          "scrollno": 79
         },
         {
          "iDocsCharCntM": 0,
          "scrollno": 79
         },
         {
          "iDocsCharCntM": 0,
          "scrollno": 79
         },
         {
          "iDocsCharCntM": 0,
          "scrollno": 79
         },
         {
          "iDocsCharCntM": 0,
          "scrollno": 79
         },
         {
          "iDocsCharCntM": 0,
          "scrollno": 79
         },
         {
          "iDocsCharCntM": 0,
          "scrollno": 79
         },
         {
          "iDocsCharCntM": 0,
          "scrollno": 79
         },
         {
          "iDocsCharCntM": 0,
          "scrollno": 79
         },
         {
          "iDocsCharCntM": 0,
          "scrollno": 79
         },
         {
          "iDocsCharCntM": 0,
          "scrollno": 79
         },
         {
          "iDocsCharCntM": 0,
          "scrollno": 79
         },
         {
          "iDocsCharCntM": 0,
          "scrollno": 79
         },
         {
          "iDocsCharCntM": 0,
          "scrollno": 79
         },
         {
          "iDocsCharCntM": 0,
          "scrollno": 79
         },
         {
          "iDocsCharCntM": 0,
          "scrollno": 79
         },
         {
          "iDocsCharCntM": 0,
          "scrollno": 79
         },
         {
          "iDocsCharCntM": 0,
          "scrollno": 79
         },
         {
          "iDocsCharCntM": 0,
          "scrollno": 79
         },
         {
          "iDocsCharCntM": 0,
          "scrollno": 79
         },
         {
          "iDocsCharCntM": 0,
          "scrollno": 79
         },
         {
          "iDocsCharCntM": 0,
          "scrollno": 79
         },
         {
          "iDocsCharCntM": 0,
          "scrollno": 79
         },
         {
          "iDocsCharCntM": 0,
          "scrollno": 79
         },
         {
          "iDocsCharCntM": 0,
          "scrollno": 79
         },
         {
          "iDocsCharCntM": 0,
          "scrollno": 79
         },
         {
          "iDocsCharCntM": 0,
          "scrollno": 79
         },
         {
          "iDocsCharCntM": 0,
          "scrollno": 79
         },
         {
          "iDocsCharCntM": 0,
          "scrollno": 79
         },
         {
          "iDocsCharCntM": 0,
          "scrollno": 79
         },
         {
          "iDocsCharCntM": 0,
          "scrollno": 79
         },
         {
          "iDocsCharCntM": 0,
          "scrollno": 79
         },
         {
          "iDocsCharCntM": 0,
          "scrollno": 79
         },
         {
          "iDocsCharCntM": 0,
          "scrollno": 79
         },
         {
          "iDocsCharCntM": 0,
          "scrollno": 79
         },
         {
          "iDocsCharCntM": 0,
          "scrollno": 80
         },
         {
          "iDocsCharCntM": 2178,
          "scrollno": 80
         },
         {
          "iDocsCharCntM": 0,
          "scrollno": 80
         },
         {
          "iDocsCharCntM": 0,
          "scrollno": 80
         },
         {
          "iDocsCharCntM": 324,
          "scrollno": 80
         },
         {
          "iDocsCharCntM": 0,
          "scrollno": 80
         },
         {
          "iDocsCharCntM": 0,
          "scrollno": 80
         },
         {
          "iDocsCharCntM": 0,
          "scrollno": 80
         },
         {
          "iDocsCharCntM": 0,
          "scrollno": 80
         },
         {
          "iDocsCharCntM": 0,
          "scrollno": 80
         },
         {
          "iDocsCharCntM": 0,
          "scrollno": 80
         },
         {
          "iDocsCharCntM": 0,
          "scrollno": 80
         },
         {
          "iDocsCharCntM": 410,
          "scrollno": 80
         },
         {
          "iDocsCharCntM": 0,
          "scrollno": 80
         },
         {
          "iDocsCharCntM": 0,
          "scrollno": 80
         },
         {
          "iDocsCharCntM": 291,
          "scrollno": 80
         },
         {
          "iDocsCharCntM": 483,
          "scrollno": 80
         },
         {
          "iDocsCharCntM": 770,
          "scrollno": 80
         },
         {
          "iDocsCharCntM": 947,
          "scrollno": 80
         },
         {
          "iDocsCharCntM": 223,
          "scrollno": 80
         },
         {
          "iDocsCharCntM": 0,
          "scrollno": 80
         },
         {
          "iDocsCharCntM": 0,
          "scrollno": 80
         },
         {
          "iDocsCharCntM": 0,
          "scrollno": 80
         },
         {
          "iDocsCharCntM": 0,
          "scrollno": 80
         },
         {
          "iDocsCharCntM": 0,
          "scrollno": 81
         },
         {
          "iDocsCharCntM": 0,
          "scrollno": 81
         },
         {
          "iDocsCharCntM": 0,
          "scrollno": 81
         },
         {
          "iDocsCharCntM": 0,
          "scrollno": 81
         },
         {
          "iDocsCharCntM": 0,
          "scrollno": 81
         },
         {
          "iDocsCharCntM": 0,
          "scrollno": 81
         },
         {
          "iDocsCharCntM": 0,
          "scrollno": 81
         },
         {
          "iDocsCharCntM": 0,
          "scrollno": 81
         },
         {
          "iDocsCharCntM": 0,
          "scrollno": 81
         },
         {
          "iDocsCharCntM": 0,
          "scrollno": 81
         },
         {
          "iDocsCharCntM": 0,
          "scrollno": 81
         },
         {
          "iDocsCharCntM": 0,
          "scrollno": 81
         },
         {
          "iDocsCharCntM": 0,
          "scrollno": 81
         },
         {
          "iDocsCharCntM": 0,
          "scrollno": 81
         },
         {
          "iDocsCharCntM": 0,
          "scrollno": 81
         },
         {
          "iDocsCharCntM": 0,
          "scrollno": 81
         },
         {
          "iDocsCharCntM": 0,
          "scrollno": 81
         },
         {
          "iDocsCharCntM": 0,
          "scrollno": 81
         },
         {
          "iDocsCharCntM": 0,
          "scrollno": 81
         },
         {
          "iDocsCharCntM": 0,
          "scrollno": 81
         },
         {
          "iDocsCharCntM": 0,
          "scrollno": 81
         },
         {
          "iDocsCharCntM": 0,
          "scrollno": 81
         },
         {
          "iDocsCharCntM": 0,
          "scrollno": 81
         },
         {
          "iDocsCharCntM": 0,
          "scrollno": 81
         },
         {
          "iDocsCharCntM": 0,
          "scrollno": 81
         },
         {
          "iDocsCharCntM": 0,
          "scrollno": 82
         },
         {
          "iDocsCharCntM": 0,
          "scrollno": 82
         },
         {
          "iDocsCharCntM": 0,
          "scrollno": 82
         },
         {
          "iDocsCharCntM": 0,
          "scrollno": 82
         },
         {
          "iDocsCharCntM": 0,
          "scrollno": 82
         },
         {
          "iDocsCharCntM": 0,
          "scrollno": 82
         },
         {
          "iDocsCharCntM": 0,
          "scrollno": 82
         },
         {
          "iDocsCharCntM": 0,
          "scrollno": 82
         },
         {
          "iDocsCharCntM": 0,
          "scrollno": 82
         },
         {
          "iDocsCharCntM": 0,
          "scrollno": 82
         },
         {
          "iDocsCharCntM": 0,
          "scrollno": 82
         },
         {
          "iDocsCharCntM": 0,
          "scrollno": 82
         },
         {
          "iDocsCharCntM": 0,
          "scrollno": 82
         },
         {
          "iDocsCharCntM": 0,
          "scrollno": 82
         },
         {
          "iDocsCharCntM": 0,
          "scrollno": 82
         },
         {
          "iDocsCharCntM": 0,
          "scrollno": 82
         },
         {
          "iDocsCharCntM": 0,
          "scrollno": 82
         },
         {
          "iDocsCharCntM": 0,
          "scrollno": 82
         },
         {
          "iDocsCharCntM": 0,
          "scrollno": 82
         },
         {
          "iDocsCharCntM": 0,
          "scrollno": 82
         },
         {
          "iDocsCharCntM": 0,
          "scrollno": 82
         },
         {
          "iDocsCharCntM": 0,
          "scrollno": 82
         },
         {
          "iDocsCharCntM": 0,
          "scrollno": 82
         },
         {
          "iDocsCharCntM": 0,
          "scrollno": 82
         },
         {
          "iDocsCharCntM": 0,
          "scrollno": 82
         },
         {
          "iDocsCharCntM": 0,
          "scrollno": 82
         },
         {
          "iDocsCharCntM": 0,
          "scrollno": 82
         },
         {
          "iDocsCharCntM": 0,
          "scrollno": 82
         },
         {
          "iDocsCharCntM": 0,
          "scrollno": 82
         },
         {
          "iDocsCharCntM": 0,
          "scrollno": 82
         },
         {
          "iDocsCharCntM": 0,
          "scrollno": 82
         },
         {
          "iDocsCharCntM": 0,
          "scrollno": 82
         },
         {
          "iDocsCharCntM": 0,
          "scrollno": 82
         },
         {
          "iDocsCharCntM": 0,
          "scrollno": 82
         },
         {
          "iDocsCharCntM": 0,
          "scrollno": 82
         },
         {
          "iDocsCharCntM": 0,
          "scrollno": 83
         },
         {
          "iDocsCharCntM": 0,
          "scrollno": 83
         },
         {
          "iDocsCharCntM": 0,
          "scrollno": 83
         },
         {
          "iDocsCharCntM": 0,
          "scrollno": 83
         },
         {
          "iDocsCharCntM": 0,
          "scrollno": 83
         },
         {
          "iDocsCharCntM": 0,
          "scrollno": 83
         },
         {
          "iDocsCharCntM": 0,
          "scrollno": 83
         },
         {
          "iDocsCharCntM": 0,
          "scrollno": 83
         },
         {
          "iDocsCharCntM": 0,
          "scrollno": 83
         },
         {
          "iDocsCharCntM": 0,
          "scrollno": 83
         },
         {
          "iDocsCharCntM": 0,
          "scrollno": 83
         },
         {
          "iDocsCharCntM": 0,
          "scrollno": 83
         },
         {
          "iDocsCharCntM": 0,
          "scrollno": 83
         },
         {
          "iDocsCharCntM": 0,
          "scrollno": 83
         },
         {
          "iDocsCharCntM": 0,
          "scrollno": 83
         },
         {
          "iDocsCharCntM": 0,
          "scrollno": 83
         },
         {
          "iDocsCharCntM": 0,
          "scrollno": 83
         },
         {
          "iDocsCharCntM": 0,
          "scrollno": 83
         },
         {
          "iDocsCharCntM": 0,
          "scrollno": 84
         },
         {
          "iDocsCharCntM": 0,
          "scrollno": 84
         },
         {
          "iDocsCharCntM": 0,
          "scrollno": 84
         },
         {
          "iDocsCharCntM": 0,
          "scrollno": 84
         },
         {
          "iDocsCharCntM": 0,
          "scrollno": 84
         },
         {
          "iDocsCharCntM": 0,
          "scrollno": 84
         },
         {
          "iDocsCharCntM": 2041,
          "scrollno": 84
         },
         {
          "iDocsCharCntM": 0,
          "scrollno": 84
         },
         {
          "iDocsCharCntM": 0,
          "scrollno": 84
         },
         {
          "iDocsCharCntM": 0,
          "scrollno": 84
         },
         {
          "iDocsCharCntM": 0,
          "scrollno": 84
         },
         {
          "iDocsCharCntM": 0,
          "scrollno": 84
         },
         {
          "iDocsCharCntM": 0,
          "scrollno": 84
         },
         {
          "iDocsCharCntM": 0,
          "scrollno": 84
         },
         {
          "iDocsCharCntM": 0,
          "scrollno": 84
         },
         {
          "iDocsCharCntM": 0,
          "scrollno": 84
         },
         {
          "iDocsCharCntM": 0,
          "scrollno": 84
         },
         {
          "iDocsCharCntM": 0,
          "scrollno": 84
         },
         {
          "iDocsCharCntM": 959,
          "scrollno": 84
         },
         {
          "iDocsCharCntM": 0,
          "scrollno": 85
         },
         {
          "iDocsCharCntM": 0,
          "scrollno": 85
         },
         {
          "iDocsCharCntM": 0,
          "scrollno": 85
         },
         {
          "iDocsCharCntM": 0,
          "scrollno": 85
         },
         {
          "iDocsCharCntM": 0,
          "scrollno": 85
         },
         {
          "iDocsCharCntM": 0,
          "scrollno": 85
         },
         {
          "iDocsCharCntM": 0,
          "scrollno": 85
         },
         {
          "iDocsCharCntM": 0,
          "scrollno": 85
         },
         {
          "iDocsCharCntM": 0,
          "scrollno": 86
         },
         {
          "iDocsCharCntM": 0,
          "scrollno": 86
         },
         {
          "iDocsCharCntM": 0,
          "scrollno": 86
         },
         {
          "iDocsCharCntM": 0,
          "scrollno": 86
         },
         {
          "iDocsCharCntM": 0,
          "scrollno": 86
         },
         {
          "iDocsCharCntM": 0,
          "scrollno": 86
         },
         {
          "iDocsCharCntM": 0,
          "scrollno": 86
         },
         {
          "iDocsCharCntM": 0,
          "scrollno": 86
         },
         {
          "iDocsCharCntM": 0,
          "scrollno": 86
         },
         {
          "iDocsCharCntM": 150,
          "scrollno": 86
         },
         {
          "iDocsCharCntM": 140,
          "scrollno": 86
         },
         {
          "iDocsCharCntM": 160,
          "scrollno": 86
         },
         {
          "iDocsCharCntM": 0,
          "scrollno": 86
         },
         {
          "iDocsCharCntM": 0,
          "scrollno": 86
         },
         {
          "iDocsCharCntM": 0,
          "scrollno": 87
         },
         {
          "iDocsCharCntM": 0,
          "scrollno": 87
         },
         {
          "iDocsCharCntM": 0,
          "scrollno": 87
         },
         {
          "iDocsCharCntM": 0,
          "scrollno": 87
         },
         {
          "iDocsCharCntM": 0,
          "scrollno": 87
         },
         {
          "iDocsCharCntM": 0,
          "scrollno": 88
         },
         {
          "iDocsCharCntM": 0,
          "scrollno": 88
         },
         {
          "iDocsCharCntM": 0,
          "scrollno": 88
         },
         {
          "iDocsCharCntM": 0,
          "scrollno": 88
         },
         {
          "iDocsCharCntM": 0,
          "scrollno": 88
         },
         {
          "iDocsCharCntM": 0,
          "scrollno": 88
         },
         {
          "iDocsCharCntM": 0,
          "scrollno": 88
         },
         {
          "iDocsCharCntM": 0,
          "scrollno": 88
         },
         {
          "iDocsCharCntM": 0,
          "scrollno": 88
         },
         {
          "iDocsCharCntM": 0,
          "scrollno": 88
         },
         {
          "iDocsCharCntM": 0,
          "scrollno": 88
         },
         {
          "iDocsCharCntM": 0,
          "scrollno": 88
         },
         {
          "iDocsCharCntM": 0,
          "scrollno": 88
         },
         {
          "iDocsCharCntM": 0,
          "scrollno": 88
         },
         {
          "iDocsCharCntM": 0,
          "scrollno": 88
         },
         {
          "iDocsCharCntM": 0,
          "scrollno": 88
         },
         {
          "iDocsCharCntM": 0,
          "scrollno": 88
         },
         {
          "iDocsCharCntM": 0,
          "scrollno": 88
         },
         {
          "iDocsCharCntM": 0,
          "scrollno": 88
         },
         {
          "iDocsCharCntM": 0,
          "scrollno": 88
         },
         {
          "iDocsCharCntM": 0,
          "scrollno": 88
         },
         {
          "iDocsCharCntM": 0,
          "scrollno": 88
         },
         {
          "iDocsCharCntM": 0,
          "scrollno": 88
         },
         {
          "iDocsCharCntM": 668,
          "scrollno": 89
         },
         {
          "iDocsCharCntM": 0,
          "scrollno": 90
         },
         {
          "iDocsCharCntM": 938,
          "scrollno": 90
         }
        ]
       },
       "encoding": {
        "x": {
         "field": "scrollno",
         "type": "ordinal"
        },
        "y": {
         "field": "sum_iDocsCharCntM",
         "type": "quantitative"
        }
       },
       "mark": "bar",
       "transform": [
        {
         "aggregate": [
          {
           "as": "sum_iDocsCharCntM",
           "field": "iDocsCharCntM",
           "op": "sum"
          }
         ],
         "groupby": [
          "scrollno"
         ]
        }
       ]
      },
      "image/png": "[encoded data removed]",
      "text/plain": [
       "<VegaLite 3 object>\n",
       "\n",
       "If you see this message, it means the renderer has not been properly enabled\n",
       "for the frontend that you are using. For more information, see\n",
       "https://altair-viz.github.io/user_guide/troubleshooting.html\n"
      ]
     },
     "execution_count": 69,
     "metadata": {},
     "output_type": "execute_result"
    }
   ],
   "source": [
    "book   = 'HouHanShu'\n",
    "dfBook =  df[ (df.book==book) & (df.section.isin(['列傳'])) ]\n",
    "dfPlot = pd.DataFrame({\n",
    "    'scrollno': dfBook['scrollno'].to_numpy(),\n",
    "    'iDocsCharCntM': dfBook['iDocsCharCntM'].to_numpy()\n",
    "})\n",
    "\n",
    "alt.Chart(dfPlot).mark_bar().encode(\n",
    "    y='sum_iDocsCharCntM:Q',\n",
    "    x='scrollno:O'\n",
    ").transform_aggregate(\n",
    "    sum_iDocsCharCntM='sum(iDocsCharCntM)',\n",
    "    groupby=[\"scrollno\"]\n",
    ")"
   ]
  },
  {
   "cell_type": "code",
   "execution_count": 12,
   "metadata": {},
   "outputs": [
    {
     "data": {
      "text/plain": [
       "['Shiji', 'Hanshu', 'Sanguozhi', 'HouHanShu', 'Songshu']"
      ]
     },
     "execution_count": 12,
     "metadata": {},
     "output_type": "execute_result"
    }
   ],
   "source": [
    "Histories[:5]"
   ]
  },
  {
   "cell_type": "markdown",
   "metadata": {},
   "source": [
    "### ‘dfBooks' below contains the portions of the histories that we're studying (列傳, except 三國志)"
   ]
  },
  {
   "cell_type": "code",
   "execution_count": 47,
   "metadata": {},
   "outputs": [],
   "source": [
    "# Concatenating history using pandas.concat() function\n",
    "dfBooks = df[ (df.book==Histories[0]) & (df.section.isin(['列傳'])) ]  # initialize first book\n",
    "for hist in Histories[1:]:\n",
    "    if hist is None: continue\n",
    "    #print(hist)\n",
    "    if hist == 'Sanguozhi': # we want everything\n",
    "        newdf = df[ df.book==hist ]  \n",
    "    else:\n",
    "        newdf = df[ (df.book==hist) & (df.section.isin(['列傳'])) ]\n",
    "    dfBooks = pd.concat([dfBooks, newdf])\n",
    "        "
   ]
  },
  {
   "cell_type": "markdown",
   "metadata": {},
   "source": [
    "### Plot total no. of characters in documents by book (Method 1)"
   ]
  },
  {
   "cell_type": "code",
   "execution_count": 48,
   "metadata": {},
   "outputs": [],
   "source": [
    "xx = dfBooks['iDocsCharCntM'].groupby(dfBooks['book']).sum()"
   ]
  },
  {
   "cell_type": "code",
   "execution_count": 49,
   "metadata": {},
   "outputs": [
    {
     "data": {
      "application/vnd.vegalite.v3+json": {
       "$schema": "https://vega.github.io/schema/vega-lite/v3.3.0.json",
       "config": {
        "mark": {
         "tooltip": null
        },
        "view": {
         "height": 300,
         "width": 400
        }
       },
       "data": {
        "name": "data-791f2c8344ec6cf011423dc4a0ca3772"
       },
       "datasets": {
        "data-791f2c8344ec6cf011423dc4a0ca3772": [
         {
          "book": "Hanshu",
          "iDocsCharCntM": 115276
         },
         {
          "book": "HouHanShu",
          "iDocsCharCntM": 84869
         },
         {
          "book": "Nanqishu",
          "iDocsCharCntM": 31032
         },
         {
          "book": "Sanguozhi",
          "iDocsCharCntM": 28462
         },
         {
          "book": "Shiji",
          "iDocsCharCntM": 50926
         },
         {
          "book": "Songshu",
          "iDocsCharCntM": 111375
         }
        ]
       },
       "encoding": {
        "x": {
         "field": "sum_iDocsCharCntM",
         "type": "quantitative"
        },
        "y": {
         "field": "book",
         "sort": [
          "Shiji",
          "Hanshu",
          "Sanguozhi",
          "HouHanShu",
          "Songshu",
          "Nanqishu",
          "Weishu",
          "LiangShu",
          "Chenshu",
          "BeiQishu",
          "Zhoushu",
          "SuiShu"
         ],
         "type": "ordinal"
        }
       },
       "mark": "bar",
       "transform": [
        {
         "aggregate": [
          {
           "as": "sum_iDocsCharCntM",
           "field": "iDocsCharCntM",
           "op": "sum"
          }
         ],
         "groupby": [
          "book"
         ]
        }
       ]
      },
      "image/png": "[encoded data removed]",
      "text/plain": [
       "<VegaLite 3 object>\n",
       "\n",
       "If you see this message, it means the renderer has not been properly enabled\n",
       "for the frontend that you are using. For more information, see\n",
       "https://altair-viz.github.io/user_guide/troubleshooting.html\n"
      ]
     },
     "execution_count": 49,
     "metadata": {},
     "output_type": "execute_result"
    }
   ],
   "source": [
    "dfPlot = pd.DataFrame({\n",
    "    'book': xx.index.to_numpy(),\n",
    "    'iDocsCharCntM': xx.to_numpy()\n",
    "})\n",
    "\n",
    "alt.Chart(dfPlot).mark_bar().encode(\n",
    "    x='sum_iDocsCharCntM:Q',\n",
    "    y=alt.Y('book:O', sort=Histories[:12])\n",
    ").transform_aggregate(\n",
    "    sum_iDocsCharCntM='sum(iDocsCharCntM)',\n",
    "    groupby=[\"book\"]\n",
    ")"
   ]
  },
  {
   "cell_type": "markdown",
   "metadata": {},
   "source": [
    "### Plot total no. of characters in documents by book (Method 2)"
   ]
  },
  {
   "cell_type": "code",
   "execution_count": 74,
   "metadata": {},
   "outputs": [
    {
     "data": {
      "application/vnd.vegalite.v3+json": {
       "$schema": "https://vega.github.io/schema/vega-lite/v3.3.0.json",
       "config": {
        "mark": {
         "tooltip": null
        },
        "view": {
         "height": 300,
         "width": 400
        }
       },
       "data": {
        "name": "data-bfaec14a7a538ebbe32563426e170272"
       },
       "datasets": {
        "data-bfaec14a7a538ebbe32563426e170272": [
         {
          "book": "Shiji",
          "iDocsCharCntM": 274
         },
         {
          "book": "Shiji",
          "iDocsCharCntM": 0
         },
         {
          "book": "Shiji",
          "iDocsCharCntM": 0
         },
         {
          "book": "Shiji",
          "iDocsCharCntM": 0
         },
         {
          "book": "Shiji",
          "iDocsCharCntM": 0
         },
         {
          "book": "Shiji",
          "iDocsCharCntM": 0
         },
         {
          "book": "Shiji",
          "iDocsCharCntM": 0
         },
         {
          "book": "Shiji",
          "iDocsCharCntM": 1145
         },
         {
          "book": "Shiji",
          "iDocsCharCntM": 0
         },
         {
          "book": "Shiji",
          "iDocsCharCntM": 0
         },
         {
          "book": "Shiji",
          "iDocsCharCntM": 0
         },
         {
          "book": "Shiji",
          "iDocsCharCntM": 0
         },
         {
          "book": "Shiji",
          "iDocsCharCntM": 0
         },
         {
          "book": "Shiji",
          "iDocsCharCntM": 0
         },
         {
          "book": "Shiji",
          "iDocsCharCntM": 0
         },
         {
          "book": "Shiji",
          "iDocsCharCntM": 0
         },
         {
          "book": "Shiji",
          "iDocsCharCntM": 0
         },
         {
          "book": "Shiji",
          "iDocsCharCntM": 0
         },
         {
          "book": "Shiji",
          "iDocsCharCntM": 0
         },
         {
          "book": "Shiji",
          "iDocsCharCntM": 0
         },
         {
          "book": "Shiji",
          "iDocsCharCntM": 0
         },
         {
          "book": "Shiji",
          "iDocsCharCntM": 0
         },
         {
          "book": "Shiji",
          "iDocsCharCntM": 0
         },
         {
          "book": "Shiji",
          "iDocsCharCntM": 0
         },
         {
          "book": "Shiji",
          "iDocsCharCntM": 0
         },
         {
          "book": "Shiji",
          "iDocsCharCntM": 0
         },
         {
          "book": "Shiji",
          "iDocsCharCntM": 0
         },
         {
          "book": "Shiji",
          "iDocsCharCntM": 0
         },
         {
          "book": "Shiji",
          "iDocsCharCntM": 0
         },
         {
          "book": "Shiji",
          "iDocsCharCntM": 0
         },
         {
          "book": "Shiji",
          "iDocsCharCntM": 0
         },
         {
          "book": "Shiji",
          "iDocsCharCntM": 0
         },
         {
          "book": "Shiji",
          "iDocsCharCntM": 0
         },
         {
          "book": "Shiji",
          "iDocsCharCntM": 0
         },
         {
          "book": "Shiji",
          "iDocsCharCntM": 0
         },
         {
          "book": "Shiji",
          "iDocsCharCntM": 0
         },
         {
          "book": "Shiji",
          "iDocsCharCntM": 0
         },
         {
          "book": "Shiji",
          "iDocsCharCntM": 0
         },
         {
          "book": "Shiji",
          "iDocsCharCntM": 0
         },
         {
          "book": "Shiji",
          "iDocsCharCntM": 0
         },
         {
          "book": "Shiji",
          "iDocsCharCntM": 0
         },
         {
          "book": "Shiji",
          "iDocsCharCntM": 0
         },
         {
          "book": "Shiji",
          "iDocsCharCntM": 0
         },
         {
          "book": "Shiji",
          "iDocsCharCntM": 0
         },
         {
          "book": "Shiji",
          "iDocsCharCntM": 0
         },
         {
          "book": "Shiji",
          "iDocsCharCntM": 0
         },
         {
          "book": "Shiji",
          "iDocsCharCntM": 0
         },
         {
          "book": "Shiji",
          "iDocsCharCntM": 0
         },
         {
          "book": "Shiji",
          "iDocsCharCntM": 0
         },
         {
          "book": "Shiji",
          "iDocsCharCntM": 0
         },
         {
          "book": "Shiji",
          "iDocsCharCntM": 0
         },
         {
          "book": "Shiji",
          "iDocsCharCntM": 0
         },
         {
          "book": "Shiji",
          "iDocsCharCntM": 0
         },
         {
          "book": "Shiji",
          "iDocsCharCntM": 0
         },
         {
          "book": "Shiji",
          "iDocsCharCntM": 0
         },
         {
          "book": "Shiji",
          "iDocsCharCntM": 0
         },
         {
          "book": "Shiji",
          "iDocsCharCntM": 0
         },
         {
          "book": "Shiji",
          "iDocsCharCntM": 0
         },
         {
          "book": "Shiji",
          "iDocsCharCntM": 0
         },
         {
          "book": "Shiji",
          "iDocsCharCntM": 0
         },
         {
          "book": "Shiji",
          "iDocsCharCntM": 0
         },
         {
          "book": "Shiji",
          "iDocsCharCntM": 0
         },
         {
          "book": "Shiji",
          "iDocsCharCntM": 0
         },
         {
          "book": "Shiji",
          "iDocsCharCntM": 0
         },
         {
          "book": "Shiji",
          "iDocsCharCntM": 0
         },
         {
          "book": "Shiji",
          "iDocsCharCntM": 0
         },
         {
          "book": "Shiji",
          "iDocsCharCntM": 0
         },
         {
          "book": "Shiji",
          "iDocsCharCntM": 0
         },
         {
          "book": "Shiji",
          "iDocsCharCntM": 0
         },
         {
          "book": "Shiji",
          "iDocsCharCntM": 0
         },
         {
          "book": "Shiji",
          "iDocsCharCntM": 0
         },
         {
          "book": "Shiji",
          "iDocsCharCntM": 0
         },
         {
          "book": "Shiji",
          "iDocsCharCntM": 0
         },
         {
          "book": "Shiji",
          "iDocsCharCntM": 0
         },
         {
          "book": "Shiji",
          "iDocsCharCntM": 0
         },
         {
          "book": "Shiji",
          "iDocsCharCntM": 0
         },
         {
          "book": "Shiji",
          "iDocsCharCntM": 0
         },
         {
          "book": "Shiji",
          "iDocsCharCntM": 0
         },
         {
          "book": "Shiji",
          "iDocsCharCntM": 0
         },
         {
          "book": "Shiji",
          "iDocsCharCntM": 0
         },
         {
          "book": "Shiji",
          "iDocsCharCntM": 0
         },
         {
          "book": "Shiji",
          "iDocsCharCntM": 0
         },
         {
          "book": "Shiji",
          "iDocsCharCntM": 0
         },
         {
          "book": "Shiji",
          "iDocsCharCntM": 0
         },
         {
          "book": "Shiji",
          "iDocsCharCntM": 0
         },
         {
          "book": "Shiji",
          "iDocsCharCntM": 0
         },
         {
          "book": "Shiji",
          "iDocsCharCntM": 0
         },
         {
          "book": "Shiji",
          "iDocsCharCntM": 0
         },
         {
          "book": "Shiji",
          "iDocsCharCntM": 0
         },
         {
          "book": "Shiji",
          "iDocsCharCntM": 0
         },
         {
          "book": "Shiji",
          "iDocsCharCntM": 0
         },
         {
          "book": "Shiji",
          "iDocsCharCntM": 717
         },
         {
          "book": "Shiji",
          "iDocsCharCntM": 0
         },
         {
          "book": "Shiji",
          "iDocsCharCntM": 0
         },
         {
          "book": "Shiji",
          "iDocsCharCntM": 0
         },
         {
          "book": "Shiji",
          "iDocsCharCntM": 0
         },
         {
          "book": "Shiji",
          "iDocsCharCntM": 0
         },
         {
          "book": "Shiji",
          "iDocsCharCntM": 0
         },
         {
          "book": "Shiji",
          "iDocsCharCntM": 0
         },
         {
          "book": "Shiji",
          "iDocsCharCntM": 0
         },
         {
          "book": "Shiji",
          "iDocsCharCntM": 0
         },
         {
          "book": "Shiji",
          "iDocsCharCntM": 0
         },
         {
          "book": "Shiji",
          "iDocsCharCntM": 0
         },
         {
          "book": "Shiji",
          "iDocsCharCntM": 0
         },
         {
          "book": "Shiji",
          "iDocsCharCntM": 0
         },
         {
          "book": "Shiji",
          "iDocsCharCntM": 0
         },
         {
          "book": "Shiji",
          "iDocsCharCntM": 0
         },
         {
          "book": "Shiji",
          "iDocsCharCntM": 0
         },
         {
          "book": "Shiji",
          "iDocsCharCntM": 0
         },
         {
          "book": "Shiji",
          "iDocsCharCntM": 0
         },
         {
          "book": "Shiji",
          "iDocsCharCntM": 0
         },
         {
          "book": "Shiji",
          "iDocsCharCntM": 1354
         },
         {
          "book": "Shiji",
          "iDocsCharCntM": 419
         },
         {
          "book": "Shiji",
          "iDocsCharCntM": 0
         },
         {
          "book": "Shiji",
          "iDocsCharCntM": 1490
         },
         {
          "book": "Shiji",
          "iDocsCharCntM": 0
         },
         {
          "book": "Shiji",
          "iDocsCharCntM": 0
         },
         {
          "book": "Shiji",
          "iDocsCharCntM": 0
         },
         {
          "book": "Shiji",
          "iDocsCharCntM": 942
         },
         {
          "book": "Shiji",
          "iDocsCharCntM": 1678
         },
         {
          "book": "Shiji",
          "iDocsCharCntM": 0
         },
         {
          "book": "Shiji",
          "iDocsCharCntM": 510
         },
         {
          "book": "Shiji",
          "iDocsCharCntM": 0
         },
         {
          "book": "Shiji",
          "iDocsCharCntM": 370
         },
         {
          "book": "Shiji",
          "iDocsCharCntM": 610
         },
         {
          "book": "Shiji",
          "iDocsCharCntM": 0
         },
         {
          "book": "Shiji",
          "iDocsCharCntM": 0
         },
         {
          "book": "Shiji",
          "iDocsCharCntM": 0
         },
         {
          "book": "Shiji",
          "iDocsCharCntM": 0
         },
         {
          "book": "Shiji",
          "iDocsCharCntM": 0
         },
         {
          "book": "Shiji",
          "iDocsCharCntM": 0
         },
         {
          "book": "Shiji",
          "iDocsCharCntM": 1951
         },
         {
          "book": "Shiji",
          "iDocsCharCntM": 0
         },
         {
          "book": "Shiji",
          "iDocsCharCntM": 0
         },
         {
          "book": "Shiji",
          "iDocsCharCntM": 0
         },
         {
          "book": "Shiji",
          "iDocsCharCntM": 0
         },
         {
          "book": "Shiji",
          "iDocsCharCntM": 0
         },
         {
          "book": "Shiji",
          "iDocsCharCntM": 0
         },
         {
          "book": "Shiji",
          "iDocsCharCntM": 0
         },
         {
          "book": "Shiji",
          "iDocsCharCntM": 0
         },
         {
          "book": "Shiji",
          "iDocsCharCntM": 0
         },
         {
          "book": "Shiji",
          "iDocsCharCntM": 0
         },
         {
          "book": "Shiji",
          "iDocsCharCntM": 0
         },
         {
          "book": "Shiji",
          "iDocsCharCntM": 0
         },
         {
          "book": "Shiji",
          "iDocsCharCntM": 0
         },
         {
          "book": "Shiji",
          "iDocsCharCntM": 0
         },
         {
          "book": "Shiji",
          "iDocsCharCntM": 0
         },
         {
          "book": "Shiji",
          "iDocsCharCntM": 1446
         },
         {
          "book": "Shiji",
          "iDocsCharCntM": 0
         },
         {
          "book": "Shiji",
          "iDocsCharCntM": 0
         },
         {
          "book": "Shiji",
          "iDocsCharCntM": 799
         },
         {
          "book": "Shiji",
          "iDocsCharCntM": 0
         },
         {
          "book": "Shiji",
          "iDocsCharCntM": 0
         },
         {
          "book": "Shiji",
          "iDocsCharCntM": 0
         },
         {
          "book": "Shiji",
          "iDocsCharCntM": 0
         },
         {
          "book": "Shiji",
          "iDocsCharCntM": 0
         },
         {
          "book": "Shiji",
          "iDocsCharCntM": 0
         },
         {
          "book": "Shiji",
          "iDocsCharCntM": 0
         },
         {
          "book": "Shiji",
          "iDocsCharCntM": 0
         },
         {
          "book": "Shiji",
          "iDocsCharCntM": 0
         },
         {
          "book": "Shiji",
          "iDocsCharCntM": 0
         },
         {
          "book": "Shiji",
          "iDocsCharCntM": 0
         },
         {
          "book": "Shiji",
          "iDocsCharCntM": 0
         },
         {
          "book": "Shiji",
          "iDocsCharCntM": 0
         },
         {
          "book": "Shiji",
          "iDocsCharCntM": 0
         },
         {
          "book": "Shiji",
          "iDocsCharCntM": 0
         },
         {
          "book": "Shiji",
          "iDocsCharCntM": 0
         },
         {
          "book": "Shiji",
          "iDocsCharCntM": 0
         },
         {
          "book": "Shiji",
          "iDocsCharCntM": 1399
         },
         {
          "book": "Shiji",
          "iDocsCharCntM": 0
         },
         {
          "book": "Shiji",
          "iDocsCharCntM": 5078
         },
         {
          "book": "Shiji",
          "iDocsCharCntM": 0
         },
         {
          "book": "Shiji",
          "iDocsCharCntM": 0
         },
         {
          "book": "Shiji",
          "iDocsCharCntM": 0
         },
         {
          "book": "Shiji",
          "iDocsCharCntM": 342
         },
         {
          "book": "Shiji",
          "iDocsCharCntM": 496
         },
         {
          "book": "Shiji",
          "iDocsCharCntM": 1663
         },
         {
          "book": "Shiji",
          "iDocsCharCntM": 0
         },
         {
          "book": "Shiji",
          "iDocsCharCntM": 3631
         },
         {
          "book": "Shiji",
          "iDocsCharCntM": 0
         },
         {
          "book": "Shiji",
          "iDocsCharCntM": 0
         },
         {
          "book": "Shiji",
          "iDocsCharCntM": 0
         },
         {
          "book": "Shiji",
          "iDocsCharCntM": 0
         },
         {
          "book": "Shiji",
          "iDocsCharCntM": 0
         },
         {
          "book": "Shiji",
          "iDocsCharCntM": 6761
         },
         {
          "book": "Shiji",
          "iDocsCharCntM": 1870
         },
         {
          "book": "Shiji",
          "iDocsCharCntM": 0
         },
         {
          "book": "Shiji",
          "iDocsCharCntM": 0
         },
         {
          "book": "Shiji",
          "iDocsCharCntM": 0
         },
         {
          "book": "Shiji",
          "iDocsCharCntM": 0
         },
         {
          "book": "Shiji",
          "iDocsCharCntM": 0
         },
         {
          "book": "Shiji",
          "iDocsCharCntM": 0
         },
         {
          "book": "Shiji",
          "iDocsCharCntM": 0
         },
         {
          "book": "Shiji",
          "iDocsCharCntM": 0
         },
         {
          "book": "Shiji",
          "iDocsCharCntM": 0
         },
         {
          "book": "Shiji",
          "iDocsCharCntM": 0
         },
         {
          "book": "Shiji",
          "iDocsCharCntM": 0
         },
         {
          "book": "Shiji",
          "iDocsCharCntM": 0
         },
         {
          "book": "Shiji",
          "iDocsCharCntM": 0
         },
         {
          "book": "Shiji",
          "iDocsCharCntM": 0
         },
         {
          "book": "Shiji",
          "iDocsCharCntM": 0
         },
         {
          "book": "Shiji",
          "iDocsCharCntM": 0
         },
         {
          "book": "Shiji",
          "iDocsCharCntM": 0
         },
         {
          "book": "Shiji",
          "iDocsCharCntM": 0
         },
         {
          "book": "Shiji",
          "iDocsCharCntM": 0
         },
         {
          "book": "Shiji",
          "iDocsCharCntM": 0
         },
         {
          "book": "Shiji",
          "iDocsCharCntM": 0
         },
         {
          "book": "Shiji",
          "iDocsCharCntM": 831
         },
         {
          "book": "Shiji",
          "iDocsCharCntM": 0
         },
         {
          "book": "Shiji",
          "iDocsCharCntM": 0
         },
         {
          "book": "Shiji",
          "iDocsCharCntM": 0
         },
         {
          "book": "Shiji",
          "iDocsCharCntM": 0
         },
         {
          "book": "Shiji",
          "iDocsCharCntM": 0
         },
         {
          "book": "Shiji",
          "iDocsCharCntM": 0
         },
         {
          "book": "Shiji",
          "iDocsCharCntM": 0
         },
         {
          "book": "Shiji",
          "iDocsCharCntM": 0
         },
         {
          "book": "Shiji",
          "iDocsCharCntM": 0
         },
         {
          "book": "Shiji",
          "iDocsCharCntM": 0
         },
         {
          "book": "Shiji",
          "iDocsCharCntM": 0
         },
         {
          "book": "Shiji",
          "iDocsCharCntM": 0
         },
         {
          "book": "Shiji",
          "iDocsCharCntM": 3913
         },
         {
          "book": "Shiji",
          "iDocsCharCntM": 499
         },
         {
          "book": "Shiji",
          "iDocsCharCntM": 9608
         },
         {
          "book": "Shiji",
          "iDocsCharCntM": 0
         },
         {
          "book": "Shiji",
          "iDocsCharCntM": 1130
         },
         {
          "book": "Hanshu",
          "iDocsCharCntM": 0
         },
         {
          "book": "Hanshu",
          "iDocsCharCntM": 1070
         },
         {
          "book": "Hanshu",
          "iDocsCharCntM": 0
         },
         {
          "book": "Hanshu",
          "iDocsCharCntM": 0
         },
         {
          "book": "Hanshu",
          "iDocsCharCntM": 0
         },
         {
          "book": "Hanshu",
          "iDocsCharCntM": 0
         },
         {
          "book": "Hanshu",
          "iDocsCharCntM": 0
         },
         {
          "book": "Hanshu",
          "iDocsCharCntM": 0
         },
         {
          "book": "Hanshu",
          "iDocsCharCntM": 0
         },
         {
          "book": "Hanshu",
          "iDocsCharCntM": 0
         },
         {
          "book": "Hanshu",
          "iDocsCharCntM": 0
         },
         {
          "book": "Hanshu",
          "iDocsCharCntM": 0
         },
         {
          "book": "Hanshu",
          "iDocsCharCntM": 0
         },
         {
          "book": "Hanshu",
          "iDocsCharCntM": 0
         },
         {
          "book": "Hanshu",
          "iDocsCharCntM": 0
         },
         {
          "book": "Hanshu",
          "iDocsCharCntM": 6504
         },
         {
          "book": "Hanshu",
          "iDocsCharCntM": 1194
         },
         {
          "book": "Hanshu",
          "iDocsCharCntM": 0
         },
         {
          "book": "Hanshu",
          "iDocsCharCntM": 0
         },
         {
          "book": "Hanshu",
          "iDocsCharCntM": 0
         },
         {
          "book": "Hanshu",
          "iDocsCharCntM": 0
         },
         {
          "book": "Hanshu",
          "iDocsCharCntM": 0
         },
         {
          "book": "Hanshu",
          "iDocsCharCntM": 0
         },
         {
          "book": "Hanshu",
          "iDocsCharCntM": 0
         },
         {
          "book": "Hanshu",
          "iDocsCharCntM": 0
         },
         {
          "book": "Hanshu",
          "iDocsCharCntM": 0
         },
         {
          "book": "Hanshu",
          "iDocsCharCntM": 0
         },
         {
          "book": "Hanshu",
          "iDocsCharCntM": 0
         },
         {
          "book": "Hanshu",
          "iDocsCharCntM": 0
         },
         {
          "book": "Hanshu",
          "iDocsCharCntM": 0
         },
         {
          "book": "Hanshu",
          "iDocsCharCntM": 0
         },
         {
          "book": "Hanshu",
          "iDocsCharCntM": 0
         },
         {
          "book": "Hanshu",
          "iDocsCharCntM": 0
         },
         {
          "book": "Hanshu",
          "iDocsCharCntM": 0
         },
         {
          "book": "Hanshu",
          "iDocsCharCntM": 0
         },
         {
          "book": "Hanshu",
          "iDocsCharCntM": 0
         },
         {
          "book": "Hanshu",
          "iDocsCharCntM": 0
         },
         {
          "book": "Hanshu",
          "iDocsCharCntM": 0
         },
         {
          "book": "Hanshu",
          "iDocsCharCntM": 0
         },
         {
          "book": "Hanshu",
          "iDocsCharCntM": 0
         },
         {
          "book": "Hanshu",
          "iDocsCharCntM": 0
         },
         {
          "book": "Hanshu",
          "iDocsCharCntM": 0
         },
         {
          "book": "Hanshu",
          "iDocsCharCntM": 0
         },
         {
          "book": "Hanshu",
          "iDocsCharCntM": 0
         },
         {
          "book": "Hanshu",
          "iDocsCharCntM": 0
         },
         {
          "book": "Hanshu",
          "iDocsCharCntM": 0
         },
         {
          "book": "Hanshu",
          "iDocsCharCntM": 985
         },
         {
          "book": "Hanshu",
          "iDocsCharCntM": 0
         },
         {
          "book": "Hanshu",
          "iDocsCharCntM": 0
         },
         {
          "book": "Hanshu",
          "iDocsCharCntM": 0
         },
         {
          "book": "Hanshu",
          "iDocsCharCntM": 0
         },
         {
          "book": "Hanshu",
          "iDocsCharCntM": 0
         },
         {
          "book": "Hanshu",
          "iDocsCharCntM": 0
         },
         {
          "book": "Hanshu",
          "iDocsCharCntM": 0
         },
         {
          "book": "Hanshu",
          "iDocsCharCntM": 0
         },
         {
          "book": "Hanshu",
          "iDocsCharCntM": 0
         },
         {
          "book": "Hanshu",
          "iDocsCharCntM": 0
         },
         {
          "book": "Hanshu",
          "iDocsCharCntM": 0
         },
         {
          "book": "Hanshu",
          "iDocsCharCntM": 0
         },
         {
          "book": "Hanshu",
          "iDocsCharCntM": 0
         },
         {
          "book": "Hanshu",
          "iDocsCharCntM": 0
         },
         {
          "book": "Hanshu",
          "iDocsCharCntM": 0
         },
         {
          "book": "Hanshu",
          "iDocsCharCntM": 0
         },
         {
          "book": "Hanshu",
          "iDocsCharCntM": 377
         },
         {
          "book": "Hanshu",
          "iDocsCharCntM": 8077
         },
         {
          "book": "Hanshu",
          "iDocsCharCntM": 0
         },
         {
          "book": "Hanshu",
          "iDocsCharCntM": 5269
         },
         {
          "book": "Hanshu",
          "iDocsCharCntM": 0
         },
         {
          "book": "Hanshu",
          "iDocsCharCntM": 0
         },
         {
          "book": "Hanshu",
          "iDocsCharCntM": 0
         },
         {
          "book": "Hanshu",
          "iDocsCharCntM": 0
         },
         {
          "book": "Hanshu",
          "iDocsCharCntM": 2525
         },
         {
          "book": "Hanshu",
          "iDocsCharCntM": 2280
         },
         {
          "book": "Hanshu",
          "iDocsCharCntM": 1312
         },
         {
          "book": "Hanshu",
          "iDocsCharCntM": 1005
         },
         {
          "book": "Hanshu",
          "iDocsCharCntM": 0
         },
         {
          "book": "Hanshu",
          "iDocsCharCntM": 0
         },
         {
          "book": "Hanshu",
          "iDocsCharCntM": 0
         },
         {
          "book": "Hanshu",
          "iDocsCharCntM": 0
         },
         {
          "book": "Hanshu",
          "iDocsCharCntM": 0
         },
         {
          "book": "Hanshu",
          "iDocsCharCntM": 0
         },
         {
          "book": "Hanshu",
          "iDocsCharCntM": 0
         },
         {
          "book": "Hanshu",
          "iDocsCharCntM": 0
         },
         {
          "book": "Hanshu",
          "iDocsCharCntM": 0
         },
         {
          "book": "Hanshu",
          "iDocsCharCntM": 0
         },
         {
          "book": "Hanshu",
          "iDocsCharCntM": 0
         },
         {
          "book": "Hanshu",
          "iDocsCharCntM": 0
         },
         {
          "book": "Hanshu",
          "iDocsCharCntM": 397
         },
         {
          "book": "Hanshu",
          "iDocsCharCntM": 0
         },
         {
          "book": "Hanshu",
          "iDocsCharCntM": 0
         },
         {
          "book": "Hanshu",
          "iDocsCharCntM": 0
         },
         {
          "book": "Hanshu",
          "iDocsCharCntM": 0
         },
         {
          "book": "Hanshu",
          "iDocsCharCntM": 0
         },
         {
          "book": "Hanshu",
          "iDocsCharCntM": 0
         },
         {
          "book": "Hanshu",
          "iDocsCharCntM": 0
         },
         {
          "book": "Hanshu",
          "iDocsCharCntM": 0
         },
         {
          "book": "Hanshu",
          "iDocsCharCntM": 0
         },
         {
          "book": "Hanshu",
          "iDocsCharCntM": 0
         },
         {
          "book": "Hanshu",
          "iDocsCharCntM": 0
         },
         {
          "book": "Hanshu",
          "iDocsCharCntM": 0
         },
         {
          "book": "Hanshu",
          "iDocsCharCntM": 0
         },
         {
          "book": "Hanshu",
          "iDocsCharCntM": 0
         },
         {
          "book": "Hanshu",
          "iDocsCharCntM": 0
         },
         {
          "book": "Hanshu",
          "iDocsCharCntM": 0
         },
         {
          "book": "Hanshu",
          "iDocsCharCntM": 0
         },
         {
          "book": "Hanshu",
          "iDocsCharCntM": 0
         },
         {
          "book": "Hanshu",
          "iDocsCharCntM": 7685
         },
         {
          "book": "Hanshu",
          "iDocsCharCntM": 0
         },
         {
          "book": "Hanshu",
          "iDocsCharCntM": 4418
         },
         {
          "book": "Hanshu",
          "iDocsCharCntM": 2295
         },
         {
          "book": "Hanshu",
          "iDocsCharCntM": 1874
         },
         {
          "book": "Hanshu",
          "iDocsCharCntM": 1051
         },
         {
          "book": "Hanshu",
          "iDocsCharCntM": 0
         },
         {
          "book": "Hanshu",
          "iDocsCharCntM": 0
         },
         {
          "book": "Hanshu",
          "iDocsCharCntM": 0
         },
         {
          "book": "Hanshu",
          "iDocsCharCntM": 0
         },
         {
          "book": "Hanshu",
          "iDocsCharCntM": 0
         },
         {
          "book": "Hanshu",
          "iDocsCharCntM": 0
         },
         {
          "book": "Hanshu",
          "iDocsCharCntM": 0
         },
         {
          "book": "Hanshu",
          "iDocsCharCntM": 0
         },
         {
          "book": "Hanshu",
          "iDocsCharCntM": 0
         },
         {
          "book": "Hanshu",
          "iDocsCharCntM": 0
         },
         {
          "book": "Hanshu",
          "iDocsCharCntM": 0
         },
         {
          "book": "Hanshu",
          "iDocsCharCntM": 3866
         },
         {
          "book": "Hanshu",
          "iDocsCharCntM": 0
         },
         {
          "book": "Hanshu",
          "iDocsCharCntM": 0
         },
         {
          "book": "Hanshu",
          "iDocsCharCntM": 0
         },
         {
          "book": "Hanshu",
          "iDocsCharCntM": 0
         },
         {
          "book": "Hanshu",
          "iDocsCharCntM": 0
         },
         {
          "book": "Hanshu",
          "iDocsCharCntM": 0
         },
         {
          "book": "Hanshu",
          "iDocsCharCntM": 2067
         },
         {
          "book": "Hanshu",
          "iDocsCharCntM": 0
         },
         {
          "book": "Hanshu",
          "iDocsCharCntM": 506
         },
         {
          "book": "Hanshu",
          "iDocsCharCntM": 820
         },
         {
          "book": "Hanshu",
          "iDocsCharCntM": 758
         },
         {
          "book": "Hanshu",
          "iDocsCharCntM": 1307
         },
         {
          "book": "Hanshu",
          "iDocsCharCntM": 506
         },
         {
          "book": "Hanshu",
          "iDocsCharCntM": 1053
         },
         {
          "book": "Hanshu",
          "iDocsCharCntM": 1160
         },
         {
          "book": "Hanshu",
          "iDocsCharCntM": 3003
         },
         {
          "book": "Hanshu",
          "iDocsCharCntM": 0
         },
         {
          "book": "Hanshu",
          "iDocsCharCntM": 0
         },
         {
          "book": "Hanshu",
          "iDocsCharCntM": 0
         },
         {
          "book": "Hanshu",
          "iDocsCharCntM": 0
         },
         {
          "book": "Hanshu",
          "iDocsCharCntM": 776
         },
         {
          "book": "Hanshu",
          "iDocsCharCntM": 0
         },
         {
          "book": "Hanshu",
          "iDocsCharCntM": 0
         },
         {
          "book": "Hanshu",
          "iDocsCharCntM": 0
         },
         {
          "book": "Hanshu",
          "iDocsCharCntM": 0
         },
         {
          "book": "Hanshu",
          "iDocsCharCntM": 0
         },
         {
          "book": "Hanshu",
          "iDocsCharCntM": 0
         },
         {
          "book": "Hanshu",
          "iDocsCharCntM": 2151
         },
         {
          "book": "Hanshu",
          "iDocsCharCntM": 0
         },
         {
          "book": "Hanshu",
          "iDocsCharCntM": 1116
         },
         {
          "book": "Hanshu",
          "iDocsCharCntM": 0
         },
         {
          "book": "Hanshu",
          "iDocsCharCntM": 2787
         },
         {
          "book": "Hanshu",
          "iDocsCharCntM": 0
         },
         {
          "book": "Hanshu",
          "iDocsCharCntM": 0
         },
         {
          "book": "Hanshu",
          "iDocsCharCntM": 0
         },
         {
          "book": "Hanshu",
          "iDocsCharCntM": 0
         },
         {
          "book": "Hanshu",
          "iDocsCharCntM": 0
         },
         {
          "book": "Hanshu",
          "iDocsCharCntM": 0
         },
         {
          "book": "Hanshu",
          "iDocsCharCntM": 0
         },
         {
          "book": "Hanshu",
          "iDocsCharCntM": 0
         },
         {
          "book": "Hanshu",
          "iDocsCharCntM": 0
         },
         {
          "book": "Hanshu",
          "iDocsCharCntM": 0
         },
         {
          "book": "Hanshu",
          "iDocsCharCntM": 0
         },
         {
          "book": "Hanshu",
          "iDocsCharCntM": 0
         },
         {
          "book": "Hanshu",
          "iDocsCharCntM": 0
         },
         {
          "book": "Hanshu",
          "iDocsCharCntM": 0
         },
         {
          "book": "Hanshu",
          "iDocsCharCntM": 1046
         },
         {
          "book": "Hanshu",
          "iDocsCharCntM": 1739
         },
         {
          "book": "Hanshu",
          "iDocsCharCntM": 0
         },
         {
          "book": "Hanshu",
          "iDocsCharCntM": 1601
         },
         {
          "book": "Hanshu",
          "iDocsCharCntM": 0
         },
         {
          "book": "Hanshu",
          "iDocsCharCntM": 807
         },
         {
          "book": "Hanshu",
          "iDocsCharCntM": 674
         },
         {
          "book": "Hanshu",
          "iDocsCharCntM": 0
         },
         {
          "book": "Hanshu",
          "iDocsCharCntM": 0
         },
         {
          "book": "Hanshu",
          "iDocsCharCntM": 0
         },
         {
          "book": "Hanshu",
          "iDocsCharCntM": 0
         },
         {
          "book": "Hanshu",
          "iDocsCharCntM": 0
         },
         {
          "book": "Hanshu",
          "iDocsCharCntM": 0
         },
         {
          "book": "Hanshu",
          "iDocsCharCntM": 1562
         },
         {
          "book": "Hanshu",
          "iDocsCharCntM": 3212
         },
         {
          "book": "Hanshu",
          "iDocsCharCntM": 0
         },
         {
          "book": "Hanshu",
          "iDocsCharCntM": 0
         },
         {
          "book": "Hanshu",
          "iDocsCharCntM": 0
         },
         {
          "book": "Hanshu",
          "iDocsCharCntM": 0
         },
         {
          "book": "Hanshu",
          "iDocsCharCntM": 0
         },
         {
          "book": "Hanshu",
          "iDocsCharCntM": 0
         },
         {
          "book": "Hanshu",
          "iDocsCharCntM": 0
         },
         {
          "book": "Hanshu",
          "iDocsCharCntM": 0
         },
         {
          "book": "Hanshu",
          "iDocsCharCntM": 0
         },
         {
          "book": "Hanshu",
          "iDocsCharCntM": 0
         },
         {
          "book": "Hanshu",
          "iDocsCharCntM": 0
         },
         {
          "book": "Hanshu",
          "iDocsCharCntM": 0
         },
         {
          "book": "Hanshu",
          "iDocsCharCntM": 0
         },
         {
          "book": "Hanshu",
          "iDocsCharCntM": 0
         },
         {
          "book": "Hanshu",
          "iDocsCharCntM": 0
         },
         {
          "book": "Hanshu",
          "iDocsCharCntM": 0
         },
         {
          "book": "Hanshu",
          "iDocsCharCntM": 0
         },
         {
          "book": "Hanshu",
          "iDocsCharCntM": 0
         },
         {
          "book": "Hanshu",
          "iDocsCharCntM": 0
         },
         {
          "book": "Hanshu",
          "iDocsCharCntM": 0
         },
         {
          "book": "Hanshu",
          "iDocsCharCntM": 0
         },
         {
          "book": "Hanshu",
          "iDocsCharCntM": 0
         },
         {
          "book": "Hanshu",
          "iDocsCharCntM": 0
         },
         {
          "book": "Hanshu",
          "iDocsCharCntM": 0
         },
         {
          "book": "Hanshu",
          "iDocsCharCntM": 0
         },
         {
          "book": "Hanshu",
          "iDocsCharCntM": 0
         },
         {
          "book": "Hanshu",
          "iDocsCharCntM": 0
         },
         {
          "book": "Hanshu",
          "iDocsCharCntM": 0
         },
         {
          "book": "Hanshu",
          "iDocsCharCntM": 0
         },
         {
          "book": "Hanshu",
          "iDocsCharCntM": 2577
         },
         {
          "book": "Hanshu",
          "iDocsCharCntM": 0
         },
         {
          "book": "Hanshu",
          "iDocsCharCntM": 0
         },
         {
          "book": "Hanshu",
          "iDocsCharCntM": 0
         },
         {
          "book": "Hanshu",
          "iDocsCharCntM": 0
         },
         {
          "book": "Hanshu",
          "iDocsCharCntM": 0
         },
         {
          "book": "Hanshu",
          "iDocsCharCntM": 0
         },
         {
          "book": "Hanshu",
          "iDocsCharCntM": 0
         },
         {
          "book": "Hanshu",
          "iDocsCharCntM": 0
         },
         {
          "book": "Hanshu",
          "iDocsCharCntM": 0
         },
         {
          "book": "Hanshu",
          "iDocsCharCntM": 0
         },
         {
          "book": "Hanshu",
          "iDocsCharCntM": 1374
         },
         {
          "book": "Hanshu",
          "iDocsCharCntM": 5530
         },
         {
          "book": "Hanshu",
          "iDocsCharCntM": 811
         },
         {
          "book": "Hanshu",
          "iDocsCharCntM": 0
         },
         {
          "book": "Hanshu",
          "iDocsCharCntM": 1805
         },
         {
          "book": "Hanshu",
          "iDocsCharCntM": 0
         },
         {
          "book": "Hanshu",
          "iDocsCharCntM": 0
         },
         {
          "book": "Hanshu",
          "iDocsCharCntM": 814
         },
         {
          "book": "Hanshu",
          "iDocsCharCntM": 1558
         },
         {
          "book": "Hanshu",
          "iDocsCharCntM": 556
         },
         {
          "book": "Hanshu",
          "iDocsCharCntM": 1756
         },
         {
          "book": "Hanshu",
          "iDocsCharCntM": 1372
         },
         {
          "book": "Hanshu",
          "iDocsCharCntM": 1494
         },
         {
          "book": "Hanshu",
          "iDocsCharCntM": 569
         },
         {
          "book": "Hanshu",
          "iDocsCharCntM": 395
         },
         {
          "book": "Hanshu",
          "iDocsCharCntM": 0
         },
         {
          "book": "Hanshu",
          "iDocsCharCntM": 0
         },
         {
          "book": "Hanshu",
          "iDocsCharCntM": 0
         },
         {
          "book": "Hanshu",
          "iDocsCharCntM": 0
         },
         {
          "book": "Hanshu",
          "iDocsCharCntM": 0
         },
         {
          "book": "Hanshu",
          "iDocsCharCntM": 0
         },
         {
          "book": "Hanshu",
          "iDocsCharCntM": 0
         },
         {
          "book": "Hanshu",
          "iDocsCharCntM": 0
         },
         {
          "book": "Hanshu",
          "iDocsCharCntM": 0
         },
         {
          "book": "Hanshu",
          "iDocsCharCntM": 0
         },
         {
          "book": "Hanshu",
          "iDocsCharCntM": 0
         },
         {
          "book": "Hanshu",
          "iDocsCharCntM": 0
         },
         {
          "book": "Hanshu",
          "iDocsCharCntM": 0
         },
         {
          "book": "Hanshu",
          "iDocsCharCntM": 0
         },
         {
          "book": "Hanshu",
          "iDocsCharCntM": 0
         },
         {
          "book": "Hanshu",
          "iDocsCharCntM": 0
         },
         {
          "book": "Hanshu",
          "iDocsCharCntM": 0
         },
         {
          "book": "Hanshu",
          "iDocsCharCntM": 0
         },
         {
          "book": "Hanshu",
          "iDocsCharCntM": 0
         },
         {
          "book": "Hanshu",
          "iDocsCharCntM": 0
         },
         {
          "book": "Hanshu",
          "iDocsCharCntM": 0
         },
         {
          "book": "Hanshu",
          "iDocsCharCntM": 0
         },
         {
          "book": "Hanshu",
          "iDocsCharCntM": 0
         },
         {
          "book": "Hanshu",
          "iDocsCharCntM": 0
         },
         {
          "book": "Hanshu",
          "iDocsCharCntM": 0
         },
         {
          "book": "Hanshu",
          "iDocsCharCntM": 0
         },
         {
          "book": "Hanshu",
          "iDocsCharCntM": 0
         },
         {
          "book": "Hanshu",
          "iDocsCharCntM": 0
         },
         {
          "book": "Hanshu",
          "iDocsCharCntM": 0
         },
         {
          "book": "Hanshu",
          "iDocsCharCntM": 0
         },
         {
          "book": "Hanshu",
          "iDocsCharCntM": 0
         },
         {
          "book": "Hanshu",
          "iDocsCharCntM": 0
         },
         {
          "book": "Hanshu",
          "iDocsCharCntM": 0
         },
         {
          "book": "Hanshu",
          "iDocsCharCntM": 0
         },
         {
          "book": "Hanshu",
          "iDocsCharCntM": 0
         },
         {
          "book": "Hanshu",
          "iDocsCharCntM": 0
         },
         {
          "book": "Hanshu",
          "iDocsCharCntM": 0
         },
         {
          "book": "Hanshu",
          "iDocsCharCntM": 0
         },
         {
          "book": "Hanshu",
          "iDocsCharCntM": 0
         },
         {
          "book": "Hanshu",
          "iDocsCharCntM": 0
         },
         {
          "book": "Hanshu",
          "iDocsCharCntM": 0
         },
         {
          "book": "Hanshu",
          "iDocsCharCntM": 0
         },
         {
          "book": "Hanshu",
          "iDocsCharCntM": 0
         },
         {
          "book": "Hanshu",
          "iDocsCharCntM": 0
         },
         {
          "book": "Hanshu",
          "iDocsCharCntM": 0
         },
         {
          "book": "Hanshu",
          "iDocsCharCntM": 0
         },
         {
          "book": "Hanshu",
          "iDocsCharCntM": 0
         },
         {
          "book": "Hanshu",
          "iDocsCharCntM": 0
         },
         {
          "book": "Hanshu",
          "iDocsCharCntM": 0
         },
         {
          "book": "Hanshu",
          "iDocsCharCntM": 0
         },
         {
          "book": "Hanshu",
          "iDocsCharCntM": 0
         },
         {
          "book": "Hanshu",
          "iDocsCharCntM": 0
         },
         {
          "book": "Hanshu",
          "iDocsCharCntM": 0
         },
         {
          "book": "Hanshu",
          "iDocsCharCntM": 0
         },
         {
          "book": "Hanshu",
          "iDocsCharCntM": 0
         },
         {
          "book": "Hanshu",
          "iDocsCharCntM": 0
         },
         {
          "book": "Hanshu",
          "iDocsCharCntM": 0
         },
         {
          "book": "Hanshu",
          "iDocsCharCntM": 0
         },
         {
          "book": "Hanshu",
          "iDocsCharCntM": 0
         },
         {
          "book": "Hanshu",
          "iDocsCharCntM": 0
         },
         {
          "book": "Hanshu",
          "iDocsCharCntM": 0
         },
         {
          "book": "Hanshu",
          "iDocsCharCntM": 0
         },
         {
          "book": "Hanshu",
          "iDocsCharCntM": 0
         },
         {
          "book": "Hanshu",
          "iDocsCharCntM": 0
         },
         {
          "book": "Hanshu",
          "iDocsCharCntM": 0
         },
         {
          "book": "Hanshu",
          "iDocsCharCntM": 0
         },
         {
          "book": "Hanshu",
          "iDocsCharCntM": 0
         },
         {
          "book": "Hanshu",
          "iDocsCharCntM": 0
         },
         {
          "book": "Hanshu",
          "iDocsCharCntM": 0
         },
         {
          "book": "Hanshu",
          "iDocsCharCntM": 0
         },
         {
          "book": "Hanshu",
          "iDocsCharCntM": 0
         },
         {
          "book": "Hanshu",
          "iDocsCharCntM": 0
         },
         {
          "book": "Hanshu",
          "iDocsCharCntM": 0
         },
         {
          "book": "Hanshu",
          "iDocsCharCntM": 0
         },
         {
          "book": "Hanshu",
          "iDocsCharCntM": 0
         },
         {
          "book": "Hanshu",
          "iDocsCharCntM": 0
         },
         {
          "book": "Hanshu",
          "iDocsCharCntM": 0
         },
         {
          "book": "Hanshu",
          "iDocsCharCntM": 0
         },
         {
          "book": "Hanshu",
          "iDocsCharCntM": 0
         },
         {
          "book": "Hanshu",
          "iDocsCharCntM": 0
         },
         {
          "book": "Hanshu",
          "iDocsCharCntM": 0
         },
         {
          "book": "Hanshu",
          "iDocsCharCntM": 1285
         },
         {
          "book": "Hanshu",
          "iDocsCharCntM": 0
         },
         {
          "book": "Hanshu",
          "iDocsCharCntM": 0
         },
         {
          "book": "Hanshu",
          "iDocsCharCntM": 0
         },
         {
          "book": "Hanshu",
          "iDocsCharCntM": 0
         },
         {
          "book": "Hanshu",
          "iDocsCharCntM": 0
         },
         {
          "book": "Hanshu",
          "iDocsCharCntM": 0
         },
         {
          "book": "Hanshu",
          "iDocsCharCntM": 0
         },
         {
          "book": "Hanshu",
          "iDocsCharCntM": 0
         },
         {
          "book": "Hanshu",
          "iDocsCharCntM": 0
         },
         {
          "book": "Hanshu",
          "iDocsCharCntM": 0
         },
         {
          "book": "Hanshu",
          "iDocsCharCntM": 0
         },
         {
          "book": "Hanshu",
          "iDocsCharCntM": 0
         },
         {
          "book": "Hanshu",
          "iDocsCharCntM": 0
         },
         {
          "book": "Hanshu",
          "iDocsCharCntM": 0
         },
         {
          "book": "Hanshu",
          "iDocsCharCntM": 0
         },
         {
          "book": "Hanshu",
          "iDocsCharCntM": 0
         },
         {
          "book": "Hanshu",
          "iDocsCharCntM": 0
         },
         {
          "book": "Hanshu",
          "iDocsCharCntM": 0
         },
         {
          "book": "Hanshu",
          "iDocsCharCntM": 0
         },
         {
          "book": "Hanshu",
          "iDocsCharCntM": 0
         },
         {
          "book": "Hanshu",
          "iDocsCharCntM": 0
         },
         {
          "book": "Hanshu",
          "iDocsCharCntM": 0
         },
         {
          "book": "Hanshu",
          "iDocsCharCntM": 0
         },
         {
          "book": "Hanshu",
          "iDocsCharCntM": 0
         },
         {
          "book": "Hanshu",
          "iDocsCharCntM": 0
         },
         {
          "book": "Hanshu",
          "iDocsCharCntM": 0
         },
         {
          "book": "Hanshu",
          "iDocsCharCntM": 0
         },
         {
          "book": "Hanshu",
          "iDocsCharCntM": 0
         },
         {
          "book": "Hanshu",
          "iDocsCharCntM": 0
         },
         {
          "book": "Hanshu",
          "iDocsCharCntM": 0
         },
         {
          "book": "Hanshu",
          "iDocsCharCntM": 0
         },
         {
          "book": "Hanshu",
          "iDocsCharCntM": 0
         },
         {
          "book": "Hanshu",
          "iDocsCharCntM": 0
         },
         {
          "book": "Hanshu",
          "iDocsCharCntM": 0
         },
         {
          "book": "Hanshu",
          "iDocsCharCntM": 0
         },
         {
          "book": "Hanshu",
          "iDocsCharCntM": 0
         },
         {
          "book": "Hanshu",
          "iDocsCharCntM": 0
         },
         {
          "book": "Hanshu",
          "iDocsCharCntM": 0
         },
         {
          "book": "Hanshu",
          "iDocsCharCntM": 0
         },
         {
          "book": "Hanshu",
          "iDocsCharCntM": 0
         },
         {
          "book": "Hanshu",
          "iDocsCharCntM": 0
         },
         {
          "book": "Hanshu",
          "iDocsCharCntM": 0
         },
         {
          "book": "Hanshu",
          "iDocsCharCntM": 0
         },
         {
          "book": "Hanshu",
          "iDocsCharCntM": 0
         },
         {
          "book": "Hanshu",
          "iDocsCharCntM": 0
         },
         {
          "book": "Hanshu",
          "iDocsCharCntM": 0
         },
         {
          "book": "Hanshu",
          "iDocsCharCntM": 0
         },
         {
          "book": "Hanshu",
          "iDocsCharCntM": 0
         },
         {
          "book": "Hanshu",
          "iDocsCharCntM": 0
         },
         {
          "book": "Hanshu",
          "iDocsCharCntM": 0
         },
         {
          "book": "Hanshu",
          "iDocsCharCntM": 0
         },
         {
          "book": "Hanshu",
          "iDocsCharCntM": 0
         },
         {
          "book": "Hanshu",
          "iDocsCharCntM": 0
         },
         {
          "book": "Hanshu",
          "iDocsCharCntM": 0
         },
         {
          "book": "Hanshu",
          "iDocsCharCntM": 0
         },
         {
          "book": "Hanshu",
          "iDocsCharCntM": 0
         },
         {
          "book": "Hanshu",
          "iDocsCharCntM": 0
         },
         {
          "book": "Hanshu",
          "iDocsCharCntM": 0
         },
         {
          "book": "Hanshu",
          "iDocsCharCntM": 0
         },
         {
          "book": "Hanshu",
          "iDocsCharCntM": 0
         },
         {
          "book": "Hanshu",
          "iDocsCharCntM": 0
         },
         {
          "book": "Hanshu",
          "iDocsCharCntM": 0
         },
         {
          "book": "Hanshu",
          "iDocsCharCntM": 0
         },
         {
          "book": "Hanshu",
          "iDocsCharCntM": 0
         },
         {
          "book": "Hanshu",
          "iDocsCharCntM": 0
         },
         {
          "book": "Hanshu",
          "iDocsCharCntM": 415
         },
         {
          "book": "Hanshu",
          "iDocsCharCntM": 0
         },
         {
          "book": "Hanshu",
          "iDocsCharCntM": 0
         },
         {
          "book": "Hanshu",
          "iDocsCharCntM": 0
         },
         {
          "book": "Hanshu",
          "iDocsCharCntM": 0
         },
         {
          "book": "Hanshu",
          "iDocsCharCntM": 0
         },
         {
          "book": "Hanshu",
          "iDocsCharCntM": 0
         },
         {
          "book": "Hanshu",
          "iDocsCharCntM": 0
         },
         {
          "book": "Hanshu",
          "iDocsCharCntM": 0
         },
         {
          "book": "Hanshu",
          "iDocsCharCntM": 1942
         },
         {
          "book": "Hanshu",
          "iDocsCharCntM": 452
         },
         {
          "book": "Hanshu",
          "iDocsCharCntM": 2183
         },
         {
          "book": "Hanshu",
          "iDocsCharCntM": 0
         },
         {
          "book": "Hanshu",
          "iDocsCharCntM": 0
         },
         {
          "book": "Hanshu",
          "iDocsCharCntM": 0
         },
         {
          "book": "Hanshu",
          "iDocsCharCntM": 0
         },
         {
          "book": "Hanshu",
          "iDocsCharCntM": 0
         },
         {
          "book": "Hanshu",
          "iDocsCharCntM": 0
         },
         {
          "book": "Hanshu",
          "iDocsCharCntM": 0
         },
         {
          "book": "Hanshu",
          "iDocsCharCntM": 3610
         },
         {
          "book": "Hanshu",
          "iDocsCharCntM": 0
         },
         {
          "book": "Hanshu",
          "iDocsCharCntM": 0
         },
         {
          "book": "Hanshu",
          "iDocsCharCntM": 1219
         },
         {
          "book": "Hanshu",
          "iDocsCharCntM": 2724
         },
         {
          "book": "Hanshu",
          "iDocsCharCntM": 0
         },
         {
          "book": "HouHanShu",
          "iDocsCharCntM": 0
         },
         {
          "book": "HouHanShu",
          "iDocsCharCntM": 0
         },
         {
          "book": "HouHanShu",
          "iDocsCharCntM": 0
         },
         {
          "book": "HouHanShu",
          "iDocsCharCntM": 0
         },
         {
          "book": "HouHanShu",
          "iDocsCharCntM": 0
         },
         {
          "book": "HouHanShu",
          "iDocsCharCntM": 0
         },
         {
          "book": "HouHanShu",
          "iDocsCharCntM": 0
         },
         {
          "book": "HouHanShu",
          "iDocsCharCntM": 0
         },
         {
          "book": "HouHanShu",
          "iDocsCharCntM": 835
         },
         {
          "book": "HouHanShu",
          "iDocsCharCntM": 0
         },
         {
          "book": "HouHanShu",
          "iDocsCharCntM": 0
         },
         {
          "book": "HouHanShu",
          "iDocsCharCntM": 0
         },
         {
          "book": "HouHanShu",
          "iDocsCharCntM": 0
         },
         {
          "book": "HouHanShu",
          "iDocsCharCntM": 0
         },
         {
          "book": "HouHanShu",
          "iDocsCharCntM": 0
         },
         {
          "book": "HouHanShu",
          "iDocsCharCntM": 0
         },
         {
          "book": "HouHanShu",
          "iDocsCharCntM": 0
         },
         {
          "book": "HouHanShu",
          "iDocsCharCntM": 0
         },
         {
          "book": "HouHanShu",
          "iDocsCharCntM": 0
         },
         {
          "book": "HouHanShu",
          "iDocsCharCntM": 0
         },
         {
          "book": "HouHanShu",
          "iDocsCharCntM": 0
         },
         {
          "book": "HouHanShu",
          "iDocsCharCntM": 0
         },
         {
          "book": "HouHanShu",
          "iDocsCharCntM": 1106
         },
         {
          "book": "HouHanShu",
          "iDocsCharCntM": 0
         },
         {
          "book": "HouHanShu",
          "iDocsCharCntM": 0
         },
         {
          "book": "HouHanShu",
          "iDocsCharCntM": 0
         },
         {
          "book": "HouHanShu",
          "iDocsCharCntM": 0
         },
         {
          "book": "HouHanShu",
          "iDocsCharCntM": 0
         },
         {
          "book": "HouHanShu",
          "iDocsCharCntM": 0
         },
         {
          "book": "HouHanShu",
          "iDocsCharCntM": 0
         },
         {
          "book": "HouHanShu",
          "iDocsCharCntM": 0
         },
         {
          "book": "HouHanShu",
          "iDocsCharCntM": 0
         },
         {
          "book": "HouHanShu",
          "iDocsCharCntM": 0
         },
         {
          "book": "HouHanShu",
          "iDocsCharCntM": 0
         },
         {
          "book": "HouHanShu",
          "iDocsCharCntM": 0
         },
         {
          "book": "HouHanShu",
          "iDocsCharCntM": 0
         },
         {
          "book": "HouHanShu",
          "iDocsCharCntM": 0
         },
         {
          "book": "HouHanShu",
          "iDocsCharCntM": 0
         },
         {
          "book": "HouHanShu",
          "iDocsCharCntM": 0
         },
         {
          "book": "HouHanShu",
          "iDocsCharCntM": 0
         },
         {
          "book": "HouHanShu",
          "iDocsCharCntM": 0
         },
         {
          "book": "HouHanShu",
          "iDocsCharCntM": 0
         },
         {
          "book": "HouHanShu",
          "iDocsCharCntM": 0
         },
         {
          "book": "HouHanShu",
          "iDocsCharCntM": 0
         },
         {
          "book": "HouHanShu",
          "iDocsCharCntM": 0
         },
         {
          "book": "HouHanShu",
          "iDocsCharCntM": 0
         },
         {
          "book": "HouHanShu",
          "iDocsCharCntM": 0
         },
         {
          "book": "HouHanShu",
          "iDocsCharCntM": 0
         },
         {
          "book": "HouHanShu",
          "iDocsCharCntM": 0
         },
         {
          "book": "HouHanShu",
          "iDocsCharCntM": 0
         },
         {
          "book": "HouHanShu",
          "iDocsCharCntM": 0
         },
         {
          "book": "HouHanShu",
          "iDocsCharCntM": 0
         },
         {
          "book": "HouHanShu",
          "iDocsCharCntM": 0
         },
         {
          "book": "HouHanShu",
          "iDocsCharCntM": 0
         },
         {
          "book": "HouHanShu",
          "iDocsCharCntM": 0
         },
         {
          "book": "HouHanShu",
          "iDocsCharCntM": 355
         },
         {
          "book": "HouHanShu",
          "iDocsCharCntM": 0
         },
         {
          "book": "HouHanShu",
          "iDocsCharCntM": 783
         },
         {
          "book": "HouHanShu",
          "iDocsCharCntM": 0
         },
         {
          "book": "HouHanShu",
          "iDocsCharCntM": 0
         },
         {
          "book": "HouHanShu",
          "iDocsCharCntM": 0
         },
         {
          "book": "HouHanShu",
          "iDocsCharCntM": 0
         },
         {
          "book": "HouHanShu",
          "iDocsCharCntM": 0
         },
         {
          "book": "HouHanShu",
          "iDocsCharCntM": 1547
         },
         {
          "book": "HouHanShu",
          "iDocsCharCntM": 0
         },
         {
          "book": "HouHanShu",
          "iDocsCharCntM": 0
         },
         {
          "book": "HouHanShu",
          "iDocsCharCntM": 0
         },
         {
          "book": "HouHanShu",
          "iDocsCharCntM": 0
         },
         {
          "book": "HouHanShu",
          "iDocsCharCntM": 0
         },
         {
          "book": "HouHanShu",
          "iDocsCharCntM": 0
         },
         {
          "book": "HouHanShu",
          "iDocsCharCntM": 0
         },
         {
          "book": "HouHanShu",
          "iDocsCharCntM": 0
         },
         {
          "book": "HouHanShu",
          "iDocsCharCntM": 0
         },
         {
          "book": "HouHanShu",
          "iDocsCharCntM": 0
         },
         {
          "book": "HouHanShu",
          "iDocsCharCntM": 0
         },
         {
          "book": "HouHanShu",
          "iDocsCharCntM": 0
         },
         {
          "book": "HouHanShu",
          "iDocsCharCntM": 0
         },
         {
          "book": "HouHanShu",
          "iDocsCharCntM": 0
         },
         {
          "book": "HouHanShu",
          "iDocsCharCntM": 0
         },
         {
          "book": "HouHanShu",
          "iDocsCharCntM": 0
         },
         {
          "book": "HouHanShu",
          "iDocsCharCntM": 0
         },
         {
          "book": "HouHanShu",
          "iDocsCharCntM": 0
         },
         {
          "book": "HouHanShu",
          "iDocsCharCntM": 0
         },
         {
          "book": "HouHanShu",
          "iDocsCharCntM": 0
         },
         {
          "book": "HouHanShu",
          "iDocsCharCntM": 1257
         },
         {
          "book": "HouHanShu",
          "iDocsCharCntM": 2148
         },
         {
          "book": "HouHanShu",
          "iDocsCharCntM": 3138
         },
         {
          "book": "HouHanShu",
          "iDocsCharCntM": 828
         },
         {
          "book": "HouHanShu",
          "iDocsCharCntM": 0
         },
         {
          "book": "HouHanShu",
          "iDocsCharCntM": 0
         },
         {
          "book": "HouHanShu",
          "iDocsCharCntM": 1184
         },
         {
          "book": "HouHanShu",
          "iDocsCharCntM": 0
         },
         {
          "book": "HouHanShu",
          "iDocsCharCntM": 5789
         },
         {
          "book": "HouHanShu",
          "iDocsCharCntM": 1631
         },
         {
          "book": "HouHanShu",
          "iDocsCharCntM": 0
         },
         {
          "book": "HouHanShu",
          "iDocsCharCntM": 531
         },
         {
          "book": "HouHanShu",
          "iDocsCharCntM": 0
         },
         {
          "book": "HouHanShu",
          "iDocsCharCntM": 0
         },
         {
          "book": "HouHanShu",
          "iDocsCharCntM": 0
         },
         {
          "book": "HouHanShu",
          "iDocsCharCntM": 0
         },
         {
          "book": "HouHanShu",
          "iDocsCharCntM": 0
         },
         {
          "book": "HouHanShu",
          "iDocsCharCntM": 0
         },
         {
          "book": "HouHanShu",
          "iDocsCharCntM": 0
         },
         {
          "book": "HouHanShu",
          "iDocsCharCntM": 0
         },
         {
          "book": "HouHanShu",
          "iDocsCharCntM": 877
         },
         {
          "book": "HouHanShu",
          "iDocsCharCntM": 0
         },
         {
          "book": "HouHanShu",
          "iDocsCharCntM": 588
         },
         {
          "book": "HouHanShu",
          "iDocsCharCntM": 0
         },
         {
          "book": "HouHanShu",
          "iDocsCharCntM": 0
         },
         {
          "book": "HouHanShu",
          "iDocsCharCntM": 0
         },
         {
          "book": "HouHanShu",
          "iDocsCharCntM": 0
         },
         {
          "book": "HouHanShu",
          "iDocsCharCntM": 785
         },
         {
          "book": "HouHanShu",
          "iDocsCharCntM": 0
         },
         {
          "book": "HouHanShu",
          "iDocsCharCntM": 0
         },
         {
          "book": "HouHanShu",
          "iDocsCharCntM": 0
         },
         {
          "book": "HouHanShu",
          "iDocsCharCntM": 0
         },
         {
          "book": "HouHanShu",
          "iDocsCharCntM": 0
         },
         {
          "book": "HouHanShu",
          "iDocsCharCntM": 0
         },
         {
          "book": "HouHanShu",
          "iDocsCharCntM": 0
         },
         {
          "book": "HouHanShu",
          "iDocsCharCntM": 460
         },
         {
          "book": "HouHanShu",
          "iDocsCharCntM": 0
         },
         {
          "book": "HouHanShu",
          "iDocsCharCntM": 679
         },
         {
          "book": "HouHanShu",
          "iDocsCharCntM": 530
         },
         {
          "book": "HouHanShu",
          "iDocsCharCntM": 0
         },
         {
          "book": "HouHanShu",
          "iDocsCharCntM": 0
         },
         {
          "book": "HouHanShu",
          "iDocsCharCntM": 662
         },
         {
          "book": "HouHanShu",
          "iDocsCharCntM": 0
         },
         {
          "book": "HouHanShu",
          "iDocsCharCntM": 0
         },
         {
          "book": "HouHanShu",
          "iDocsCharCntM": 0
         },
         {
          "book": "HouHanShu",
          "iDocsCharCntM": 0
         },
         {
          "book": "HouHanShu",
          "iDocsCharCntM": 0
         },
         {
          "book": "HouHanShu",
          "iDocsCharCntM": 0
         },
         {
          "book": "HouHanShu",
          "iDocsCharCntM": 0
         },
         {
          "book": "HouHanShu",
          "iDocsCharCntM": 0
         },
         {
          "book": "HouHanShu",
          "iDocsCharCntM": 0
         },
         {
          "book": "HouHanShu",
          "iDocsCharCntM": 0
         },
         {
          "book": "HouHanShu",
          "iDocsCharCntM": 0
         },
         {
          "book": "HouHanShu",
          "iDocsCharCntM": 0
         },
         {
          "book": "HouHanShu",
          "iDocsCharCntM": 0
         },
         {
          "book": "HouHanShu",
          "iDocsCharCntM": 0
         },
         {
          "book": "HouHanShu",
          "iDocsCharCntM": 1091
         },
         {
          "book": "HouHanShu",
          "iDocsCharCntM": 727
         },
         {
          "book": "HouHanShu",
          "iDocsCharCntM": 2809
         },
         {
          "book": "HouHanShu",
          "iDocsCharCntM": 2136
         },
         {
          "book": "HouHanShu",
          "iDocsCharCntM": 1432
         },
         {
          "book": "HouHanShu",
          "iDocsCharCntM": 0
         },
         {
          "book": "HouHanShu",
          "iDocsCharCntM": 0
         },
         {
          "book": "HouHanShu",
          "iDocsCharCntM": 0
         },
         {
          "book": "HouHanShu",
          "iDocsCharCntM": 0
         },
         {
          "book": "HouHanShu",
          "iDocsCharCntM": 0
         },
         {
          "book": "HouHanShu",
          "iDocsCharCntM": 0
         },
         {
          "book": "HouHanShu",
          "iDocsCharCntM": 0
         },
         {
          "book": "HouHanShu",
          "iDocsCharCntM": 0
         },
         {
          "book": "HouHanShu",
          "iDocsCharCntM": 0
         },
         {
          "book": "HouHanShu",
          "iDocsCharCntM": 0
         },
         {
          "book": "HouHanShu",
          "iDocsCharCntM": 0
         },
         {
          "book": "HouHanShu",
          "iDocsCharCntM": 0
         },
         {
          "book": "HouHanShu",
          "iDocsCharCntM": 0
         },
         {
          "book": "HouHanShu",
          "iDocsCharCntM": 0
         },
         {
          "book": "HouHanShu",
          "iDocsCharCntM": 0
         },
         {
          "book": "HouHanShu",
          "iDocsCharCntM": 0
         },
         {
          "book": "HouHanShu",
          "iDocsCharCntM": 875
         },
         {
          "book": "HouHanShu",
          "iDocsCharCntM": 0
         },
         {
          "book": "HouHanShu",
          "iDocsCharCntM": 0
         },
         {
          "book": "HouHanShu",
          "iDocsCharCntM": 0
         },
         {
          "book": "HouHanShu",
          "iDocsCharCntM": 0
         },
         {
          "book": "HouHanShu",
          "iDocsCharCntM": 0
         },
         {
          "book": "HouHanShu",
          "iDocsCharCntM": 0
         },
         {
          "book": "HouHanShu",
          "iDocsCharCntM": 0
         },
         {
          "book": "HouHanShu",
          "iDocsCharCntM": 0
         },
         {
          "book": "HouHanShu",
          "iDocsCharCntM": 0
         },
         {
          "book": "HouHanShu",
          "iDocsCharCntM": 0
         },
         {
          "book": "HouHanShu",
          "iDocsCharCntM": 0
         },
         {
          "book": "HouHanShu",
          "iDocsCharCntM": 0
         },
         {
          "book": "HouHanShu",
          "iDocsCharCntM": 0
         },
         {
          "book": "HouHanShu",
          "iDocsCharCntM": 565
         },
         {
          "book": "HouHanShu",
          "iDocsCharCntM": 0
         },
         {
          "book": "HouHanShu",
          "iDocsCharCntM": 0
         },
         {
          "book": "HouHanShu",
          "iDocsCharCntM": 0
         },
         {
          "book": "HouHanShu",
          "iDocsCharCntM": 699
         },
         {
          "book": "HouHanShu",
          "iDocsCharCntM": 465
         },
         {
          "book": "HouHanShu",
          "iDocsCharCntM": 492
         },
         {
          "book": "HouHanShu",
          "iDocsCharCntM": 0
         },
         {
          "book": "HouHanShu",
          "iDocsCharCntM": 0
         },
         {
          "book": "HouHanShu",
          "iDocsCharCntM": 0
         },
         {
          "book": "HouHanShu",
          "iDocsCharCntM": 0
         },
         {
          "book": "HouHanShu",
          "iDocsCharCntM": 686
         },
         {
          "book": "HouHanShu",
          "iDocsCharCntM": 1336
         },
         {
          "book": "HouHanShu",
          "iDocsCharCntM": 472
         },
         {
          "book": "HouHanShu",
          "iDocsCharCntM": 839
         },
         {
          "book": "HouHanShu",
          "iDocsCharCntM": 592
         },
         {
          "book": "HouHanShu",
          "iDocsCharCntM": 192
         },
         {
          "book": "HouHanShu",
          "iDocsCharCntM": 1319
         },
         {
          "book": "HouHanShu",
          "iDocsCharCntM": 2234
         },
         {
          "book": "HouHanShu",
          "iDocsCharCntM": 891
         },
         {
          "book": "HouHanShu",
          "iDocsCharCntM": 0
         },
         {
          "book": "HouHanShu",
          "iDocsCharCntM": 0
         },
         {
          "book": "HouHanShu",
          "iDocsCharCntM": 0
         },
         {
          "book": "HouHanShu",
          "iDocsCharCntM": 0
         },
         {
          "book": "HouHanShu",
          "iDocsCharCntM": 0
         },
         {
          "book": "HouHanShu",
          "iDocsCharCntM": 0
         },
         {
          "book": "HouHanShu",
          "iDocsCharCntM": 0
         },
         {
          "book": "HouHanShu",
          "iDocsCharCntM": 0
         },
         {
          "book": "HouHanShu",
          "iDocsCharCntM": 0
         },
         {
          "book": "HouHanShu",
          "iDocsCharCntM": 0
         },
         {
          "book": "HouHanShu",
          "iDocsCharCntM": 0
         },
         {
          "book": "HouHanShu",
          "iDocsCharCntM": 0
         },
         {
          "book": "HouHanShu",
          "iDocsCharCntM": 0
         },
         {
          "book": "HouHanShu",
          "iDocsCharCntM": 0
         },
         {
          "book": "HouHanShu",
          "iDocsCharCntM": 0
         },
         {
          "book": "HouHanShu",
          "iDocsCharCntM": 456
         },
         {
          "book": "HouHanShu",
          "iDocsCharCntM": 1820
         },
         {
          "book": "HouHanShu",
          "iDocsCharCntM": 0
         },
         {
          "book": "HouHanShu",
          "iDocsCharCntM": 1307
         },
         {
          "book": "HouHanShu",
          "iDocsCharCntM": 0
         },
         {
          "book": "HouHanShu",
          "iDocsCharCntM": 0
         },
         {
          "book": "HouHanShu",
          "iDocsCharCntM": 0
         },
         {
          "book": "HouHanShu",
          "iDocsCharCntM": 0
         },
         {
          "book": "HouHanShu",
          "iDocsCharCntM": 0
         },
         {
          "book": "HouHanShu",
          "iDocsCharCntM": 0
         },
         {
          "book": "HouHanShu",
          "iDocsCharCntM": 0
         },
         {
          "book": "HouHanShu",
          "iDocsCharCntM": 0
         },
         {
          "book": "HouHanShu",
          "iDocsCharCntM": 0
         },
         {
          "book": "HouHanShu",
          "iDocsCharCntM": 0
         },
         {
          "book": "HouHanShu",
          "iDocsCharCntM": 0
         },
         {
          "book": "HouHanShu",
          "iDocsCharCntM": 0
         },
         {
          "book": "HouHanShu",
          "iDocsCharCntM": 0
         },
         {
          "book": "HouHanShu",
          "iDocsCharCntM": 0
         },
         {
          "book": "HouHanShu",
          "iDocsCharCntM": 0
         },
         {
          "book": "HouHanShu",
          "iDocsCharCntM": 0
         },
         {
          "book": "HouHanShu",
          "iDocsCharCntM": 0
         },
         {
          "book": "HouHanShu",
          "iDocsCharCntM": 0
         },
         {
          "book": "HouHanShu",
          "iDocsCharCntM": 0
         },
         {
          "book": "HouHanShu",
          "iDocsCharCntM": 0
         },
         {
          "book": "HouHanShu",
          "iDocsCharCntM": 0
         },
         {
          "book": "HouHanShu",
          "iDocsCharCntM": 0
         },
         {
          "book": "HouHanShu",
          "iDocsCharCntM": 0
         },
         {
          "book": "HouHanShu",
          "iDocsCharCntM": 0
         },
         {
          "book": "HouHanShu",
          "iDocsCharCntM": 0
         },
         {
          "book": "HouHanShu",
          "iDocsCharCntM": 0
         },
         {
          "book": "HouHanShu",
          "iDocsCharCntM": 1514
         },
         {
          "book": "HouHanShu",
          "iDocsCharCntM": 0
         },
         {
          "book": "HouHanShu",
          "iDocsCharCntM": 748
         },
         {
          "book": "HouHanShu",
          "iDocsCharCntM": 589
         },
         {
          "book": "HouHanShu",
          "iDocsCharCntM": 0
         },
         {
          "book": "HouHanShu",
          "iDocsCharCntM": 0
         },
         {
          "book": "HouHanShu",
          "iDocsCharCntM": 0
         },
         {
          "book": "HouHanShu",
          "iDocsCharCntM": 870
         },
         {
          "book": "HouHanShu",
          "iDocsCharCntM": 0
         },
         {
          "book": "HouHanShu",
          "iDocsCharCntM": 1593
         },
         {
          "book": "HouHanShu",
          "iDocsCharCntM": 3227
         },
         {
          "book": "HouHanShu",
          "iDocsCharCntM": 0
         },
         {
          "book": "HouHanShu",
          "iDocsCharCntM": 2553
         },
         {
          "book": "HouHanShu",
          "iDocsCharCntM": 0
         },
         {
          "book": "HouHanShu",
          "iDocsCharCntM": 3755
         },
         {
          "book": "HouHanShu",
          "iDocsCharCntM": 1012
         },
         {
          "book": "HouHanShu",
          "iDocsCharCntM": 0
         },
         {
          "book": "HouHanShu",
          "iDocsCharCntM": 0
         },
         {
          "book": "HouHanShu",
          "iDocsCharCntM": 1675
         },
         {
          "book": "HouHanShu",
          "iDocsCharCntM": 1078
         },
         {
          "book": "HouHanShu",
          "iDocsCharCntM": 0
         },
         {
          "book": "HouHanShu",
          "iDocsCharCntM": 0
         },
         {
          "book": "HouHanShu",
          "iDocsCharCntM": 0
         },
         {
          "book": "HouHanShu",
          "iDocsCharCntM": 1234
         },
         {
          "book": "HouHanShu",
          "iDocsCharCntM": 0
         },
         {
          "book": "HouHanShu",
          "iDocsCharCntM": 0
         },
         {
          "book": "HouHanShu",
          "iDocsCharCntM": 0
         },
         {
          "book": "HouHanShu",
          "iDocsCharCntM": 0
         },
         {
          "book": "HouHanShu",
          "iDocsCharCntM": 0
         },
         {
          "book": "HouHanShu",
          "iDocsCharCntM": 0
         },
         {
          "book": "HouHanShu",
          "iDocsCharCntM": 553
         },
         {
          "book": "HouHanShu",
          "iDocsCharCntM": 0
         },
         {
          "book": "HouHanShu",
          "iDocsCharCntM": 0
         },
         {
          "book": "HouHanShu",
          "iDocsCharCntM": 0
         },
         {
          "book": "HouHanShu",
          "iDocsCharCntM": 0
         },
         {
          "book": "HouHanShu",
          "iDocsCharCntM": 0
         },
         {
          "book": "HouHanShu",
          "iDocsCharCntM": 0
         },
         {
          "book": "HouHanShu",
          "iDocsCharCntM": 0
         },
         {
          "book": "HouHanShu",
          "iDocsCharCntM": 0
         },
         {
          "book": "HouHanShu",
          "iDocsCharCntM": 0
         },
         {
          "book": "HouHanShu",
          "iDocsCharCntM": 0
         },
         {
          "book": "HouHanShu",
          "iDocsCharCntM": 0
         },
         {
          "book": "HouHanShu",
          "iDocsCharCntM": 0
         },
         {
          "book": "HouHanShu",
          "iDocsCharCntM": 0
         },
         {
          "book": "HouHanShu",
          "iDocsCharCntM": 0
         },
         {
          "book": "HouHanShu",
          "iDocsCharCntM": 0
         },
         {
          "book": "HouHanShu",
          "iDocsCharCntM": 0
         },
         {
          "book": "HouHanShu",
          "iDocsCharCntM": 0
         },
         {
          "book": "HouHanShu",
          "iDocsCharCntM": 0
         },
         {
          "book": "HouHanShu",
          "iDocsCharCntM": 0
         },
         {
          "book": "HouHanShu",
          "iDocsCharCntM": 0
         },
         {
          "book": "HouHanShu",
          "iDocsCharCntM": 0
         },
         {
          "book": "HouHanShu",
          "iDocsCharCntM": 0
         },
         {
          "book": "HouHanShu",
          "iDocsCharCntM": 0
         },
         {
          "book": "HouHanShu",
          "iDocsCharCntM": 0
         },
         {
          "book": "HouHanShu",
          "iDocsCharCntM": 0
         },
         {
          "book": "HouHanShu",
          "iDocsCharCntM": 0
         },
         {
          "book": "HouHanShu",
          "iDocsCharCntM": 0
         },
         {
          "book": "HouHanShu",
          "iDocsCharCntM": 0
         },
         {
          "book": "HouHanShu",
          "iDocsCharCntM": 0
         },
         {
          "book": "HouHanShu",
          "iDocsCharCntM": 0
         },
         {
          "book": "HouHanShu",
          "iDocsCharCntM": 0
         },
         {
          "book": "HouHanShu",
          "iDocsCharCntM": 0
         },
         {
          "book": "HouHanShu",
          "iDocsCharCntM": 0
         },
         {
          "book": "HouHanShu",
          "iDocsCharCntM": 0
         },
         {
          "book": "HouHanShu",
          "iDocsCharCntM": 0
         },
         {
          "book": "HouHanShu",
          "iDocsCharCntM": 0
         },
         {
          "book": "HouHanShu",
          "iDocsCharCntM": 0
         },
         {
          "book": "HouHanShu",
          "iDocsCharCntM": 0
         },
         {
          "book": "HouHanShu",
          "iDocsCharCntM": 0
         },
         {
          "book": "HouHanShu",
          "iDocsCharCntM": 0
         },
         {
          "book": "HouHanShu",
          "iDocsCharCntM": 2660
         },
         {
          "book": "HouHanShu",
          "iDocsCharCntM": 654
         },
         {
          "book": "HouHanShu",
          "iDocsCharCntM": 0
         },
         {
          "book": "HouHanShu",
          "iDocsCharCntM": 0
         },
         {
          "book": "HouHanShu",
          "iDocsCharCntM": 0
         },
         {
          "book": "HouHanShu",
          "iDocsCharCntM": 0
         },
         {
          "book": "HouHanShu",
          "iDocsCharCntM": 0
         },
         {
          "book": "HouHanShu",
          "iDocsCharCntM": 0
         },
         {
          "book": "HouHanShu",
          "iDocsCharCntM": 0
         },
         {
          "book": "HouHanShu",
          "iDocsCharCntM": 0
         },
         {
          "book": "HouHanShu",
          "iDocsCharCntM": 0
         },
         {
          "book": "HouHanShu",
          "iDocsCharCntM": 0
         },
         {
          "book": "HouHanShu",
          "iDocsCharCntM": 0
         },
         {
          "book": "HouHanShu",
          "iDocsCharCntM": 0
         },
         {
          "book": "HouHanShu",
          "iDocsCharCntM": 0
         },
         {
          "book": "HouHanShu",
          "iDocsCharCntM": 0
         },
         {
          "book": "HouHanShu",
          "iDocsCharCntM": 0
         },
         {
          "book": "HouHanShu",
          "iDocsCharCntM": 0
         },
         {
          "book": "HouHanShu",
          "iDocsCharCntM": 0
         },
         {
          "book": "HouHanShu",
          "iDocsCharCntM": 0
         },
         {
          "book": "HouHanShu",
          "iDocsCharCntM": 0
         },
         {
          "book": "HouHanShu",
          "iDocsCharCntM": 0
         },
         {
          "book": "HouHanShu",
          "iDocsCharCntM": 0
         },
         {
          "book": "HouHanShu",
          "iDocsCharCntM": 0
         },
         {
          "book": "HouHanShu",
          "iDocsCharCntM": 0
         },
         {
          "book": "HouHanShu",
          "iDocsCharCntM": 0
         },
         {
          "book": "HouHanShu",
          "iDocsCharCntM": 0
         },
         {
          "book": "HouHanShu",
          "iDocsCharCntM": 0
         },
         {
          "book": "HouHanShu",
          "iDocsCharCntM": 0
         },
         {
          "book": "HouHanShu",
          "iDocsCharCntM": 0
         },
         {
          "book": "HouHanShu",
          "iDocsCharCntM": 0
         },
         {
          "book": "HouHanShu",
          "iDocsCharCntM": 0
         },
         {
          "book": "HouHanShu",
          "iDocsCharCntM": 0
         },
         {
          "book": "HouHanShu",
          "iDocsCharCntM": 0
         },
         {
          "book": "HouHanShu",
          "iDocsCharCntM": 0
         },
         {
          "book": "HouHanShu",
          "iDocsCharCntM": 1324
         },
         {
          "book": "HouHanShu",
          "iDocsCharCntM": 0
         },
         {
          "book": "HouHanShu",
          "iDocsCharCntM": 0
         },
         {
          "book": "HouHanShu",
          "iDocsCharCntM": 0
         },
         {
          "book": "HouHanShu",
          "iDocsCharCntM": 0
         },
         {
          "book": "HouHanShu",
          "iDocsCharCntM": 0
         },
         {
          "book": "HouHanShu",
          "iDocsCharCntM": 0
         },
         {
          "book": "HouHanShu",
          "iDocsCharCntM": 0
         },
         {
          "book": "HouHanShu",
          "iDocsCharCntM": 0
         },
         {
          "book": "HouHanShu",
          "iDocsCharCntM": 0
         },
         {
          "book": "HouHanShu",
          "iDocsCharCntM": 0
         },
         {
          "book": "HouHanShu",
          "iDocsCharCntM": 0
         },
         {
          "book": "HouHanShu",
          "iDocsCharCntM": 0
         },
         {
          "book": "HouHanShu",
          "iDocsCharCntM": 0
         },
         {
          "book": "HouHanShu",
          "iDocsCharCntM": 0
         },
         {
          "book": "HouHanShu",
          "iDocsCharCntM": 0
         },
         {
          "book": "HouHanShu",
          "iDocsCharCntM": 0
         },
         {
          "book": "HouHanShu",
          "iDocsCharCntM": 0
         },
         {
          "book": "HouHanShu",
          "iDocsCharCntM": 0
         },
         {
          "book": "HouHanShu",
          "iDocsCharCntM": 0
         },
         {
          "book": "HouHanShu",
          "iDocsCharCntM": 0
         },
         {
          "book": "HouHanShu",
          "iDocsCharCntM": 0
         },
         {
          "book": "HouHanShu",
          "iDocsCharCntM": 0
         },
         {
          "book": "HouHanShu",
          "iDocsCharCntM": 0
         },
         {
          "book": "HouHanShu",
          "iDocsCharCntM": 0
         },
         {
          "book": "HouHanShu",
          "iDocsCharCntM": 0
         },
         {
          "book": "HouHanShu",
          "iDocsCharCntM": 0
         },
         {
          "book": "HouHanShu",
          "iDocsCharCntM": 0
         },
         {
          "book": "HouHanShu",
          "iDocsCharCntM": 0
         },
         {
          "book": "HouHanShu",
          "iDocsCharCntM": 0
         },
         {
          "book": "HouHanShu",
          "iDocsCharCntM": 0
         },
         {
          "book": "HouHanShu",
          "iDocsCharCntM": 0
         },
         {
          "book": "HouHanShu",
          "iDocsCharCntM": 0
         },
         {
          "book": "HouHanShu",
          "iDocsCharCntM": 0
         },
         {
          "book": "HouHanShu",
          "iDocsCharCntM": 0
         },
         {
          "book": "HouHanShu",
          "iDocsCharCntM": 0
         },
         {
          "book": "HouHanShu",
          "iDocsCharCntM": 0
         },
         {
          "book": "HouHanShu",
          "iDocsCharCntM": 0
         },
         {
          "book": "HouHanShu",
          "iDocsCharCntM": 0
         },
         {
          "book": "HouHanShu",
          "iDocsCharCntM": 0
         },
         {
          "book": "HouHanShu",
          "iDocsCharCntM": 0
         },
         {
          "book": "HouHanShu",
          "iDocsCharCntM": 0
         },
         {
          "book": "HouHanShu",
          "iDocsCharCntM": 0
         },
         {
          "book": "HouHanShu",
          "iDocsCharCntM": 0
         },
         {
          "book": "HouHanShu",
          "iDocsCharCntM": 0
         },
         {
          "book": "HouHanShu",
          "iDocsCharCntM": 0
         },
         {
          "book": "HouHanShu",
          "iDocsCharCntM": 0
         },
         {
          "book": "HouHanShu",
          "iDocsCharCntM": 2178
         },
         {
          "book": "HouHanShu",
          "iDocsCharCntM": 0
         },
         {
          "book": "HouHanShu",
          "iDocsCharCntM": 0
         },
         {
          "book": "HouHanShu",
          "iDocsCharCntM": 324
         },
         {
          "book": "HouHanShu",
          "iDocsCharCntM": 0
         },
         {
          "book": "HouHanShu",
          "iDocsCharCntM": 0
         },
         {
          "book": "HouHanShu",
          "iDocsCharCntM": 0
         },
         {
          "book": "HouHanShu",
          "iDocsCharCntM": 0
         },
         {
          "book": "HouHanShu",
          "iDocsCharCntM": 0
         },
         {
          "book": "HouHanShu",
          "iDocsCharCntM": 0
         },
         {
          "book": "HouHanShu",
          "iDocsCharCntM": 0
         },
         {
          "book": "HouHanShu",
          "iDocsCharCntM": 410
         },
         {
          "book": "HouHanShu",
          "iDocsCharCntM": 0
         },
         {
          "book": "HouHanShu",
          "iDocsCharCntM": 0
         },
         {
          "book": "HouHanShu",
          "iDocsCharCntM": 291
         },
         {
          "book": "HouHanShu",
          "iDocsCharCntM": 483
         },
         {
          "book": "HouHanShu",
          "iDocsCharCntM": 770
         },
         {
          "book": "HouHanShu",
          "iDocsCharCntM": 947
         },
         {
          "book": "HouHanShu",
          "iDocsCharCntM": 223
         },
         {
          "book": "HouHanShu",
          "iDocsCharCntM": 0
         },
         {
          "book": "HouHanShu",
          "iDocsCharCntM": 0
         },
         {
          "book": "HouHanShu",
          "iDocsCharCntM": 0
         },
         {
          "book": "HouHanShu",
          "iDocsCharCntM": 0
         },
         {
          "book": "HouHanShu",
          "iDocsCharCntM": 0
         },
         {
          "book": "HouHanShu",
          "iDocsCharCntM": 0
         },
         {
          "book": "HouHanShu",
          "iDocsCharCntM": 0
         },
         {
          "book": "HouHanShu",
          "iDocsCharCntM": 0
         },
         {
          "book": "HouHanShu",
          "iDocsCharCntM": 0
         },
         {
          "book": "HouHanShu",
          "iDocsCharCntM": 0
         },
         {
          "book": "HouHanShu",
          "iDocsCharCntM": 0
         },
         {
          "book": "HouHanShu",
          "iDocsCharCntM": 0
         },
         {
          "book": "HouHanShu",
          "iDocsCharCntM": 0
         },
         {
          "book": "HouHanShu",
          "iDocsCharCntM": 0
         },
         {
          "book": "HouHanShu",
          "iDocsCharCntM": 0
         },
         {
          "book": "HouHanShu",
          "iDocsCharCntM": 0
         },
         {
          "book": "HouHanShu",
          "iDocsCharCntM": 0
         },
         {
          "book": "HouHanShu",
          "iDocsCharCntM": 0
         },
         {
          "book": "HouHanShu",
          "iDocsCharCntM": 0
         },
         {
          "book": "HouHanShu",
          "iDocsCharCntM": 0
         },
         {
          "book": "HouHanShu",
          "iDocsCharCntM": 0
         },
         {
          "book": "HouHanShu",
          "iDocsCharCntM": 0
         },
         {
          "book": "HouHanShu",
          "iDocsCharCntM": 0
         },
         {
          "book": "HouHanShu",
          "iDocsCharCntM": 0
         },
         {
          "book": "HouHanShu",
          "iDocsCharCntM": 0
         },
         {
          "book": "HouHanShu",
          "iDocsCharCntM": 0
         },
         {
          "book": "HouHanShu",
          "iDocsCharCntM": 0
         },
         {
          "book": "HouHanShu",
          "iDocsCharCntM": 0
         },
         {
          "book": "HouHanShu",
          "iDocsCharCntM": 0
         },
         {
          "book": "HouHanShu",
          "iDocsCharCntM": 0
         },
         {
          "book": "HouHanShu",
          "iDocsCharCntM": 0
         },
         {
          "book": "HouHanShu",
          "iDocsCharCntM": 0
         },
         {
          "book": "HouHanShu",
          "iDocsCharCntM": 0
         },
         {
          "book": "HouHanShu",
          "iDocsCharCntM": 0
         },
         {
          "book": "HouHanShu",
          "iDocsCharCntM": 0
         },
         {
          "book": "HouHanShu",
          "iDocsCharCntM": 0
         },
         {
          "book": "HouHanShu",
          "iDocsCharCntM": 0
         },
         {
          "book": "HouHanShu",
          "iDocsCharCntM": 0
         },
         {
          "book": "HouHanShu",
          "iDocsCharCntM": 0
         },
         {
          "book": "HouHanShu",
          "iDocsCharCntM": 0
         },
         {
          "book": "HouHanShu",
          "iDocsCharCntM": 0
         },
         {
          "book": "HouHanShu",
          "iDocsCharCntM": 0
         },
         {
          "book": "HouHanShu",
          "iDocsCharCntM": 0
         },
         {
          "book": "HouHanShu",
          "iDocsCharCntM": 0
         },
         {
          "book": "HouHanShu",
          "iDocsCharCntM": 0
         },
         {
          "book": "HouHanShu",
          "iDocsCharCntM": 0
         },
         {
          "book": "HouHanShu",
          "iDocsCharCntM": 0
         },
         {
          "book": "HouHanShu",
          "iDocsCharCntM": 0
         },
         {
          "book": "HouHanShu",
          "iDocsCharCntM": 0
         },
         {
          "book": "HouHanShu",
          "iDocsCharCntM": 0
         },
         {
          "book": "HouHanShu",
          "iDocsCharCntM": 0
         },
         {
          "book": "HouHanShu",
          "iDocsCharCntM": 0
         },
         {
          "book": "HouHanShu",
          "iDocsCharCntM": 0
         },
         {
          "book": "HouHanShu",
          "iDocsCharCntM": 0
         },
         {
          "book": "HouHanShu",
          "iDocsCharCntM": 0
         },
         {
          "book": "HouHanShu",
          "iDocsCharCntM": 0
         },
         {
          "book": "HouHanShu",
          "iDocsCharCntM": 0
         },
         {
          "book": "HouHanShu",
          "iDocsCharCntM": 0
         },
         {
          "book": "HouHanShu",
          "iDocsCharCntM": 0
         },
         {
          "book": "HouHanShu",
          "iDocsCharCntM": 0
         },
         {
          "book": "HouHanShu",
          "iDocsCharCntM": 0
         },
         {
          "book": "HouHanShu",
          "iDocsCharCntM": 0
         },
         {
          "book": "HouHanShu",
          "iDocsCharCntM": 0
         },
         {
          "book": "HouHanShu",
          "iDocsCharCntM": 0
         },
         {
          "book": "HouHanShu",
          "iDocsCharCntM": 0
         },
         {
          "book": "HouHanShu",
          "iDocsCharCntM": 0
         },
         {
          "book": "HouHanShu",
          "iDocsCharCntM": 0
         },
         {
          "book": "HouHanShu",
          "iDocsCharCntM": 0
         },
         {
          "book": "HouHanShu",
          "iDocsCharCntM": 0
         },
         {
          "book": "HouHanShu",
          "iDocsCharCntM": 0
         },
         {
          "book": "HouHanShu",
          "iDocsCharCntM": 0
         },
         {
          "book": "HouHanShu",
          "iDocsCharCntM": 0
         },
         {
          "book": "HouHanShu",
          "iDocsCharCntM": 0
         },
         {
          "book": "HouHanShu",
          "iDocsCharCntM": 0
         },
         {
          "book": "HouHanShu",
          "iDocsCharCntM": 0
         },
         {
          "book": "HouHanShu",
          "iDocsCharCntM": 0
         },
         {
          "book": "HouHanShu",
          "iDocsCharCntM": 0
         },
         {
          "book": "HouHanShu",
          "iDocsCharCntM": 0
         },
         {
          "book": "HouHanShu",
          "iDocsCharCntM": 0
         },
         {
          "book": "HouHanShu",
          "iDocsCharCntM": 0
         },
         {
          "book": "HouHanShu",
          "iDocsCharCntM": 0
         },
         {
          "book": "HouHanShu",
          "iDocsCharCntM": 0
         },
         {
          "book": "HouHanShu",
          "iDocsCharCntM": 0
         },
         {
          "book": "HouHanShu",
          "iDocsCharCntM": 0
         },
         {
          "book": "HouHanShu",
          "iDocsCharCntM": 0
         },
         {
          "book": "HouHanShu",
          "iDocsCharCntM": 0
         },
         {
          "book": "HouHanShu",
          "iDocsCharCntM": 0
         },
         {
          "book": "HouHanShu",
          "iDocsCharCntM": 0
         },
         {
          "book": "HouHanShu",
          "iDocsCharCntM": 2041
         },
         {
          "book": "HouHanShu",
          "iDocsCharCntM": 0
         },
         {
          "book": "HouHanShu",
          "iDocsCharCntM": 0
         },
         {
          "book": "HouHanShu",
          "iDocsCharCntM": 0
         },
         {
          "book": "HouHanShu",
          "iDocsCharCntM": 0
         },
         {
          "book": "HouHanShu",
          "iDocsCharCntM": 0
         },
         {
          "book": "HouHanShu",
          "iDocsCharCntM": 0
         },
         {
          "book": "HouHanShu",
          "iDocsCharCntM": 0
         },
         {
          "book": "HouHanShu",
          "iDocsCharCntM": 0
         },
         {
          "book": "HouHanShu",
          "iDocsCharCntM": 0
         },
         {
          "book": "HouHanShu",
          "iDocsCharCntM": 0
         },
         {
          "book": "HouHanShu",
          "iDocsCharCntM": 0
         },
         {
          "book": "HouHanShu",
          "iDocsCharCntM": 959
         },
         {
          "book": "HouHanShu",
          "iDocsCharCntM": 0
         },
         {
          "book": "HouHanShu",
          "iDocsCharCntM": 0
         },
         {
          "book": "HouHanShu",
          "iDocsCharCntM": 0
         },
         {
          "book": "HouHanShu",
          "iDocsCharCntM": 0
         },
         {
          "book": "HouHanShu",
          "iDocsCharCntM": 0
         },
         {
          "book": "HouHanShu",
          "iDocsCharCntM": 0
         },
         {
          "book": "HouHanShu",
          "iDocsCharCntM": 0
         },
         {
          "book": "HouHanShu",
          "iDocsCharCntM": 0
         },
         {
          "book": "HouHanShu",
          "iDocsCharCntM": 0
         },
         {
          "book": "HouHanShu",
          "iDocsCharCntM": 0
         },
         {
          "book": "HouHanShu",
          "iDocsCharCntM": 0
         },
         {
          "book": "HouHanShu",
          "iDocsCharCntM": 0
         },
         {
          "book": "HouHanShu",
          "iDocsCharCntM": 0
         },
         {
          "book": "HouHanShu",
          "iDocsCharCntM": 0
         },
         {
          "book": "HouHanShu",
          "iDocsCharCntM": 0
         },
         {
          "book": "HouHanShu",
          "iDocsCharCntM": 0
         },
         {
          "book": "HouHanShu",
          "iDocsCharCntM": 0
         },
         {
          "book": "HouHanShu",
          "iDocsCharCntM": 150
         },
         {
          "book": "HouHanShu",
          "iDocsCharCntM": 140
         },
         {
          "book": "HouHanShu",
          "iDocsCharCntM": 160
         },
         {
          "book": "HouHanShu",
          "iDocsCharCntM": 0
         },
         {
          "book": "HouHanShu",
          "iDocsCharCntM": 0
         },
         {
          "book": "HouHanShu",
          "iDocsCharCntM": 0
         },
         {
          "book": "HouHanShu",
          "iDocsCharCntM": 0
         },
         {
          "book": "HouHanShu",
          "iDocsCharCntM": 0
         },
         {
          "book": "HouHanShu",
          "iDocsCharCntM": 0
         },
         {
          "book": "HouHanShu",
          "iDocsCharCntM": 0
         },
         {
          "book": "HouHanShu",
          "iDocsCharCntM": 0
         },
         {
          "book": "HouHanShu",
          "iDocsCharCntM": 0
         },
         {
          "book": "HouHanShu",
          "iDocsCharCntM": 0
         },
         {
          "book": "HouHanShu",
          "iDocsCharCntM": 0
         },
         {
          "book": "HouHanShu",
          "iDocsCharCntM": 0
         },
         {
          "book": "HouHanShu",
          "iDocsCharCntM": 0
         },
         {
          "book": "HouHanShu",
          "iDocsCharCntM": 0
         },
         {
          "book": "HouHanShu",
          "iDocsCharCntM": 0
         },
         {
          "book": "HouHanShu",
          "iDocsCharCntM": 0
         },
         {
          "book": "HouHanShu",
          "iDocsCharCntM": 0
         },
         {
          "book": "HouHanShu",
          "iDocsCharCntM": 0
         },
         {
          "book": "HouHanShu",
          "iDocsCharCntM": 0
         },
         {
          "book": "HouHanShu",
          "iDocsCharCntM": 0
         },
         {
          "book": "HouHanShu",
          "iDocsCharCntM": 0
         },
         {
          "book": "HouHanShu",
          "iDocsCharCntM": 0
         },
         {
          "book": "HouHanShu",
          "iDocsCharCntM": 0
         },
         {
          "book": "HouHanShu",
          "iDocsCharCntM": 0
         },
         {
          "book": "HouHanShu",
          "iDocsCharCntM": 0
         },
         {
          "book": "HouHanShu",
          "iDocsCharCntM": 0
         },
         {
          "book": "HouHanShu",
          "iDocsCharCntM": 0
         },
         {
          "book": "HouHanShu",
          "iDocsCharCntM": 0
         },
         {
          "book": "HouHanShu",
          "iDocsCharCntM": 0
         },
         {
          "book": "HouHanShu",
          "iDocsCharCntM": 0
         },
         {
          "book": "HouHanShu",
          "iDocsCharCntM": 668
         },
         {
          "book": "HouHanShu",
          "iDocsCharCntM": 0
         },
         {
          "book": "HouHanShu",
          "iDocsCharCntM": 938
         },
         {
          "book": "Songshu",
          "iDocsCharCntM": 0
         },
         {
          "book": "Songshu",
          "iDocsCharCntM": 0
         },
         {
          "book": "Songshu",
          "iDocsCharCntM": 0
         },
         {
          "book": "Songshu",
          "iDocsCharCntM": 0
         },
         {
          "book": "Songshu",
          "iDocsCharCntM": 0
         },
         {
          "book": "Songshu",
          "iDocsCharCntM": 0
         },
         {
          "book": "Songshu",
          "iDocsCharCntM": 0
         },
         {
          "book": "Songshu",
          "iDocsCharCntM": 504
         },
         {
          "book": "Songshu",
          "iDocsCharCntM": 0
         },
         {
          "book": "Songshu",
          "iDocsCharCntM": 0
         },
         {
          "book": "Songshu",
          "iDocsCharCntM": 0
         },
         {
          "book": "Songshu",
          "iDocsCharCntM": 1089
         },
         {
          "book": "Songshu",
          "iDocsCharCntM": 0
         },
         {
          "book": "Songshu",
          "iDocsCharCntM": 0
         },
         {
          "book": "Songshu",
          "iDocsCharCntM": 0
         },
         {
          "book": "Songshu",
          "iDocsCharCntM": 0
         },
         {
          "book": "Songshu",
          "iDocsCharCntM": 0
         },
         {
          "book": "Songshu",
          "iDocsCharCntM": 0
         },
         {
          "book": "Songshu",
          "iDocsCharCntM": 0
         },
         {
          "book": "Songshu",
          "iDocsCharCntM": 0
         },
         {
          "book": "Songshu",
          "iDocsCharCntM": 0
         },
         {
          "book": "Songshu",
          "iDocsCharCntM": 0
         },
         {
          "book": "Songshu",
          "iDocsCharCntM": 0
         },
         {
          "book": "Songshu",
          "iDocsCharCntM": 0
         },
         {
          "book": "Songshu",
          "iDocsCharCntM": 0
         },
         {
          "book": "Songshu",
          "iDocsCharCntM": 0
         },
         {
          "book": "Songshu",
          "iDocsCharCntM": 0
         },
         {
          "book": "Songshu",
          "iDocsCharCntM": 0
         },
         {
          "book": "Songshu",
          "iDocsCharCntM": 0
         },
         {
          "book": "Songshu",
          "iDocsCharCntM": 0
         },
         {
          "book": "Songshu",
          "iDocsCharCntM": 1367
         },
         {
          "book": "Songshu",
          "iDocsCharCntM": 0
         },
         {
          "book": "Songshu",
          "iDocsCharCntM": 5097
         },
         {
          "book": "Songshu",
          "iDocsCharCntM": 0
         },
         {
          "book": "Songshu",
          "iDocsCharCntM": 0
         },
         {
          "book": "Songshu",
          "iDocsCharCntM": 0
         },
         {
          "book": "Songshu",
          "iDocsCharCntM": 0
         },
         {
          "book": "Songshu",
          "iDocsCharCntM": 0
         },
         {
          "book": "Songshu",
          "iDocsCharCntM": 0
         },
         {
          "book": "Songshu",
          "iDocsCharCntM": 0
         },
         {
          "book": "Songshu",
          "iDocsCharCntM": 0
         },
         {
          "book": "Songshu",
          "iDocsCharCntM": 0
         },
         {
          "book": "Songshu",
          "iDocsCharCntM": 0
         },
         {
          "book": "Songshu",
          "iDocsCharCntM": 0
         },
         {
          "book": "Songshu",
          "iDocsCharCntM": 0
         },
         {
          "book": "Songshu",
          "iDocsCharCntM": 0
         },
         {
          "book": "Songshu",
          "iDocsCharCntM": 0
         },
         {
          "book": "Songshu",
          "iDocsCharCntM": 0
         },
         {
          "book": "Songshu",
          "iDocsCharCntM": 0
         },
         {
          "book": "Songshu",
          "iDocsCharCntM": 0
         },
         {
          "book": "Songshu",
          "iDocsCharCntM": 0
         },
         {
          "book": "Songshu",
          "iDocsCharCntM": 0
         },
         {
          "book": "Songshu",
          "iDocsCharCntM": 0
         },
         {
          "book": "Songshu",
          "iDocsCharCntM": 0
         },
         {
          "book": "Songshu",
          "iDocsCharCntM": 0
         },
         {
          "book": "Songshu",
          "iDocsCharCntM": 0
         },
         {
          "book": "Songshu",
          "iDocsCharCntM": 0
         },
         {
          "book": "Songshu",
          "iDocsCharCntM": 0
         },
         {
          "book": "Songshu",
          "iDocsCharCntM": 0
         },
         {
          "book": "Songshu",
          "iDocsCharCntM": 0
         },
         {
          "book": "Songshu",
          "iDocsCharCntM": 0
         },
         {
          "book": "Songshu",
          "iDocsCharCntM": 0
         },
         {
          "book": "Songshu",
          "iDocsCharCntM": 0
         },
         {
          "book": "Songshu",
          "iDocsCharCntM": 0
         },
         {
          "book": "Songshu",
          "iDocsCharCntM": 0
         },
         {
          "book": "Songshu",
          "iDocsCharCntM": 0
         },
         {
          "book": "Songshu",
          "iDocsCharCntM": 0
         },
         {
          "book": "Songshu",
          "iDocsCharCntM": 0
         },
         {
          "book": "Songshu",
          "iDocsCharCntM": 0
         },
         {
          "book": "Songshu",
          "iDocsCharCntM": 0
         },
         {
          "book": "Songshu",
          "iDocsCharCntM": 0
         },
         {
          "book": "Songshu",
          "iDocsCharCntM": 0
         },
         {
          "book": "Songshu",
          "iDocsCharCntM": 0
         },
         {
          "book": "Songshu",
          "iDocsCharCntM": 0
         },
         {
          "book": "Songshu",
          "iDocsCharCntM": 0
         },
         {
          "book": "Songshu",
          "iDocsCharCntM": 0
         },
         {
          "book": "Songshu",
          "iDocsCharCntM": 0
         },
         {
          "book": "Songshu",
          "iDocsCharCntM": 0
         },
         {
          "book": "Songshu",
          "iDocsCharCntM": 0
         },
         {
          "book": "Songshu",
          "iDocsCharCntM": 0
         },
         {
          "book": "Songshu",
          "iDocsCharCntM": 0
         },
         {
          "book": "Songshu",
          "iDocsCharCntM": 0
         },
         {
          "book": "Songshu",
          "iDocsCharCntM": 0
         },
         {
          "book": "Songshu",
          "iDocsCharCntM": 0
         },
         {
          "book": "Songshu",
          "iDocsCharCntM": 1090
         },
         {
          "book": "Songshu",
          "iDocsCharCntM": 0
         },
         {
          "book": "Songshu",
          "iDocsCharCntM": 0
         },
         {
          "book": "Songshu",
          "iDocsCharCntM": 0
         },
         {
          "book": "Songshu",
          "iDocsCharCntM": 0
         },
         {
          "book": "Songshu",
          "iDocsCharCntM": 0
         },
         {
          "book": "Songshu",
          "iDocsCharCntM": 0
         },
         {
          "book": "Songshu",
          "iDocsCharCntM": 0
         },
         {
          "book": "Songshu",
          "iDocsCharCntM": 0
         },
         {
          "book": "Songshu",
          "iDocsCharCntM": 1547
         },
         {
          "book": "Songshu",
          "iDocsCharCntM": 0
         },
         {
          "book": "Songshu",
          "iDocsCharCntM": 0
         },
         {
          "book": "Songshu",
          "iDocsCharCntM": 0
         },
         {
          "book": "Songshu",
          "iDocsCharCntM": 0
         },
         {
          "book": "Songshu",
          "iDocsCharCntM": 0
         },
         {
          "book": "Songshu",
          "iDocsCharCntM": 0
         },
         {
          "book": "Songshu",
          "iDocsCharCntM": 0
         },
         {
          "book": "Songshu",
          "iDocsCharCntM": 0
         },
         {
          "book": "Songshu",
          "iDocsCharCntM": 0
         },
         {
          "book": "Songshu",
          "iDocsCharCntM": 0
         },
         {
          "book": "Songshu",
          "iDocsCharCntM": 0
         },
         {
          "book": "Songshu",
          "iDocsCharCntM": 0
         },
         {
          "book": "Songshu",
          "iDocsCharCntM": 0
         },
         {
          "book": "Songshu",
          "iDocsCharCntM": 0
         },
         {
          "book": "Songshu",
          "iDocsCharCntM": 0
         },
         {
          "book": "Songshu",
          "iDocsCharCntM": 0
         },
         {
          "book": "Songshu",
          "iDocsCharCntM": 0
         },
         {
          "book": "Songshu",
          "iDocsCharCntM": 0
         },
         {
          "book": "Songshu",
          "iDocsCharCntM": 0
         },
         {
          "book": "Songshu",
          "iDocsCharCntM": 0
         },
         {
          "book": "Songshu",
          "iDocsCharCntM": 0
         },
         {
          "book": "Songshu",
          "iDocsCharCntM": 0
         },
         {
          "book": "Songshu",
          "iDocsCharCntM": 0
         },
         {
          "book": "Songshu",
          "iDocsCharCntM": 0
         },
         {
          "book": "Songshu",
          "iDocsCharCntM": 0
         },
         {
          "book": "Songshu",
          "iDocsCharCntM": 0
         },
         {
          "book": "Songshu",
          "iDocsCharCntM": 0
         },
         {
          "book": "Songshu",
          "iDocsCharCntM": 0
         },
         {
          "book": "Songshu",
          "iDocsCharCntM": 0
         },
         {
          "book": "Songshu",
          "iDocsCharCntM": 0
         },
         {
          "book": "Songshu",
          "iDocsCharCntM": 0
         },
         {
          "book": "Songshu",
          "iDocsCharCntM": 0
         },
         {
          "book": "Songshu",
          "iDocsCharCntM": 0
         },
         {
          "book": "Songshu",
          "iDocsCharCntM": 0
         },
         {
          "book": "Songshu",
          "iDocsCharCntM": 0
         },
         {
          "book": "Songshu",
          "iDocsCharCntM": 0
         },
         {
          "book": "Songshu",
          "iDocsCharCntM": 0
         },
         {
          "book": "Songshu",
          "iDocsCharCntM": 2187
         },
         {
          "book": "Songshu",
          "iDocsCharCntM": 0
         },
         {
          "book": "Songshu",
          "iDocsCharCntM": 0
         },
         {
          "book": "Songshu",
          "iDocsCharCntM": 0
         },
         {
          "book": "Songshu",
          "iDocsCharCntM": 0
         },
         {
          "book": "Songshu",
          "iDocsCharCntM": 0
         },
         {
          "book": "Songshu",
          "iDocsCharCntM": 0
         },
         {
          "book": "Songshu",
          "iDocsCharCntM": 1071
         },
         {
          "book": "Songshu",
          "iDocsCharCntM": 0
         },
         {
          "book": "Songshu",
          "iDocsCharCntM": 2455
         },
         {
          "book": "Songshu",
          "iDocsCharCntM": 0
         },
         {
          "book": "Songshu",
          "iDocsCharCntM": 0
         },
         {
          "book": "Songshu",
          "iDocsCharCntM": 0
         },
         {
          "book": "Songshu",
          "iDocsCharCntM": 0
         },
         {
          "book": "Songshu",
          "iDocsCharCntM": 0
         },
         {
          "book": "Songshu",
          "iDocsCharCntM": 0
         },
         {
          "book": "Songshu",
          "iDocsCharCntM": 0
         },
         {
          "book": "Songshu",
          "iDocsCharCntM": 3533
         },
         {
          "book": "Songshu",
          "iDocsCharCntM": 0
         },
         {
          "book": "Songshu",
          "iDocsCharCntM": 0
         },
         {
          "book": "Songshu",
          "iDocsCharCntM": 0
         },
         {
          "book": "Songshu",
          "iDocsCharCntM": 0
         },
         {
          "book": "Songshu",
          "iDocsCharCntM": 0
         },
         {
          "book": "Songshu",
          "iDocsCharCntM": 0
         },
         {
          "book": "Songshu",
          "iDocsCharCntM": 0
         },
         {
          "book": "Songshu",
          "iDocsCharCntM": 1811
         },
         {
          "book": "Songshu",
          "iDocsCharCntM": 0
         },
         {
          "book": "Songshu",
          "iDocsCharCntM": 2823
         },
         {
          "book": "Songshu",
          "iDocsCharCntM": 0
         },
         {
          "book": "Songshu",
          "iDocsCharCntM": 0
         },
         {
          "book": "Songshu",
          "iDocsCharCntM": 0
         },
         {
          "book": "Songshu",
          "iDocsCharCntM": 0
         },
         {
          "book": "Songshu",
          "iDocsCharCntM": 0
         },
         {
          "book": "Songshu",
          "iDocsCharCntM": 0
         },
         {
          "book": "Songshu",
          "iDocsCharCntM": 0
         },
         {
          "book": "Songshu",
          "iDocsCharCntM": 0
         },
         {
          "book": "Songshu",
          "iDocsCharCntM": 0
         },
         {
          "book": "Songshu",
          "iDocsCharCntM": 0
         },
         {
          "book": "Songshu",
          "iDocsCharCntM": 0
         },
         {
          "book": "Songshu",
          "iDocsCharCntM": 0
         },
         {
          "book": "Songshu",
          "iDocsCharCntM": 0
         },
         {
          "book": "Songshu",
          "iDocsCharCntM": 16802
         },
         {
          "book": "Songshu",
          "iDocsCharCntM": 1204
         },
         {
          "book": "Songshu",
          "iDocsCharCntM": 2061
         },
         {
          "book": "Songshu",
          "iDocsCharCntM": 0
         },
         {
          "book": "Songshu",
          "iDocsCharCntM": 0
         },
         {
          "book": "Songshu",
          "iDocsCharCntM": 0
         },
         {
          "book": "Songshu",
          "iDocsCharCntM": 0
         },
         {
          "book": "Songshu",
          "iDocsCharCntM": 1964
         },
         {
          "book": "Songshu",
          "iDocsCharCntM": 1610
         },
         {
          "book": "Songshu",
          "iDocsCharCntM": 868
         },
         {
          "book": "Songshu",
          "iDocsCharCntM": 0
         },
         {
          "book": "Songshu",
          "iDocsCharCntM": 0
         },
         {
          "book": "Songshu",
          "iDocsCharCntM": 0
         },
         {
          "book": "Songshu",
          "iDocsCharCntM": 0
         },
         {
          "book": "Songshu",
          "iDocsCharCntM": 0
         },
         {
          "book": "Songshu",
          "iDocsCharCntM": 591
         },
         {
          "book": "Songshu",
          "iDocsCharCntM": 2236
         },
         {
          "book": "Songshu",
          "iDocsCharCntM": 0
         },
         {
          "book": "Songshu",
          "iDocsCharCntM": 0
         },
         {
          "book": "Songshu",
          "iDocsCharCntM": 1544
         },
         {
          "book": "Songshu",
          "iDocsCharCntM": 0
         },
         {
          "book": "Songshu",
          "iDocsCharCntM": 0
         },
         {
          "book": "Songshu",
          "iDocsCharCntM": 0
         },
         {
          "book": "Songshu",
          "iDocsCharCntM": 0
         },
         {
          "book": "Songshu",
          "iDocsCharCntM": 0
         },
         {
          "book": "Songshu",
          "iDocsCharCntM": 692
         },
         {
          "book": "Songshu",
          "iDocsCharCntM": 4267
         },
         {
          "book": "Songshu",
          "iDocsCharCntM": 0
         },
         {
          "book": "Songshu",
          "iDocsCharCntM": 2063
         },
         {
          "book": "Songshu",
          "iDocsCharCntM": 0
         },
         {
          "book": "Songshu",
          "iDocsCharCntM": 0
         },
         {
          "book": "Songshu",
          "iDocsCharCntM": 2591
         },
         {
          "book": "Songshu",
          "iDocsCharCntM": 2240
         },
         {
          "book": "Songshu",
          "iDocsCharCntM": 0
         },
         {
          "book": "Songshu",
          "iDocsCharCntM": 673
         },
         {
          "book": "Songshu",
          "iDocsCharCntM": 0
         },
         {
          "book": "Songshu",
          "iDocsCharCntM": 0
         },
         {
          "book": "Songshu",
          "iDocsCharCntM": 0
         },
         {
          "book": "Songshu",
          "iDocsCharCntM": 0
         },
         {
          "book": "Songshu",
          "iDocsCharCntM": 0
         },
         {
          "book": "Songshu",
          "iDocsCharCntM": 0
         },
         {
          "book": "Songshu",
          "iDocsCharCntM": 0
         },
         {
          "book": "Songshu",
          "iDocsCharCntM": 0
         },
         {
          "book": "Songshu",
          "iDocsCharCntM": 0
         },
         {
          "book": "Songshu",
          "iDocsCharCntM": 0
         },
         {
          "book": "Songshu",
          "iDocsCharCntM": 0
         },
         {
          "book": "Songshu",
          "iDocsCharCntM": 0
         },
         {
          "book": "Songshu",
          "iDocsCharCntM": 0
         },
         {
          "book": "Songshu",
          "iDocsCharCntM": 0
         },
         {
          "book": "Songshu",
          "iDocsCharCntM": 1580
         },
         {
          "book": "Songshu",
          "iDocsCharCntM": 1462
         },
         {
          "book": "Songshu",
          "iDocsCharCntM": 0
         },
         {
          "book": "Songshu",
          "iDocsCharCntM": 0
         },
         {
          "book": "Songshu",
          "iDocsCharCntM": 2128
         },
         {
          "book": "Songshu",
          "iDocsCharCntM": 0
         },
         {
          "book": "Songshu",
          "iDocsCharCntM": 0
         },
         {
          "book": "Songshu",
          "iDocsCharCntM": 0
         },
         {
          "book": "Songshu",
          "iDocsCharCntM": 0
         },
         {
          "book": "Songshu",
          "iDocsCharCntM": 0
         },
         {
          "book": "Songshu",
          "iDocsCharCntM": 0
         },
         {
          "book": "Songshu",
          "iDocsCharCntM": 492
         },
         {
          "book": "Songshu",
          "iDocsCharCntM": 0
         },
         {
          "book": "Songshu",
          "iDocsCharCntM": 0
         },
         {
          "book": "Songshu",
          "iDocsCharCntM": 0
         },
         {
          "book": "Songshu",
          "iDocsCharCntM": 0
         },
         {
          "book": "Songshu",
          "iDocsCharCntM": 0
         },
         {
          "book": "Songshu",
          "iDocsCharCntM": 0
         },
         {
          "book": "Songshu",
          "iDocsCharCntM": 0
         },
         {
          "book": "Songshu",
          "iDocsCharCntM": 0
         },
         {
          "book": "Songshu",
          "iDocsCharCntM": 0
         },
         {
          "book": "Songshu",
          "iDocsCharCntM": 0
         },
         {
          "book": "Songshu",
          "iDocsCharCntM": 0
         },
         {
          "book": "Songshu",
          "iDocsCharCntM": 0
         },
         {
          "book": "Songshu",
          "iDocsCharCntM": 0
         },
         {
          "book": "Songshu",
          "iDocsCharCntM": 2927
         },
         {
          "book": "Songshu",
          "iDocsCharCntM": 5905
         },
         {
          "book": "Songshu",
          "iDocsCharCntM": 0
         },
         {
          "book": "Songshu",
          "iDocsCharCntM": 0
         },
         {
          "book": "Songshu",
          "iDocsCharCntM": 0
         },
         {
          "book": "Songshu",
          "iDocsCharCntM": 0
         },
         {
          "book": "Songshu",
          "iDocsCharCntM": 0
         },
         {
          "book": "Songshu",
          "iDocsCharCntM": 0
         },
         {
          "book": "Songshu",
          "iDocsCharCntM": 0
         },
         {
          "book": "Songshu",
          "iDocsCharCntM": 0
         },
         {
          "book": "Songshu",
          "iDocsCharCntM": 2937
         },
         {
          "book": "Songshu",
          "iDocsCharCntM": 0
         },
         {
          "book": "Songshu",
          "iDocsCharCntM": 0
         },
         {
          "book": "Songshu",
          "iDocsCharCntM": 1902
         },
         {
          "book": "Songshu",
          "iDocsCharCntM": 0
         },
         {
          "book": "Songshu",
          "iDocsCharCntM": 0
         },
         {
          "book": "Songshu",
          "iDocsCharCntM": 0
         },
         {
          "book": "Songshu",
          "iDocsCharCntM": 721
         },
         {
          "book": "Songshu",
          "iDocsCharCntM": 630
         },
         {
          "book": "Songshu",
          "iDocsCharCntM": 3218
         },
         {
          "book": "Songshu",
          "iDocsCharCntM": 1464
         },
         {
          "book": "Songshu",
          "iDocsCharCntM": 0
         },
         {
          "book": "Songshu",
          "iDocsCharCntM": 0
         },
         {
          "book": "Songshu",
          "iDocsCharCntM": 0
         },
         {
          "book": "Songshu",
          "iDocsCharCntM": 946
         },
         {
          "book": "Songshu",
          "iDocsCharCntM": 0
         },
         {
          "book": "Songshu",
          "iDocsCharCntM": 0
         },
         {
          "book": "Songshu",
          "iDocsCharCntM": 0
         },
         {
          "book": "Songshu",
          "iDocsCharCntM": 0
         },
         {
          "book": "Songshu",
          "iDocsCharCntM": 0
         },
         {
          "book": "Songshu",
          "iDocsCharCntM": 153
         },
         {
          "book": "Songshu",
          "iDocsCharCntM": 0
         },
         {
          "book": "Songshu",
          "iDocsCharCntM": 0
         },
         {
          "book": "Songshu",
          "iDocsCharCntM": 0
         },
         {
          "book": "Songshu",
          "iDocsCharCntM": 0
         },
         {
          "book": "Songshu",
          "iDocsCharCntM": 0
         },
         {
          "book": "Songshu",
          "iDocsCharCntM": 0
         },
         {
          "book": "Songshu",
          "iDocsCharCntM": 0
         },
         {
          "book": "Songshu",
          "iDocsCharCntM": 0
         },
         {
          "book": "Songshu",
          "iDocsCharCntM": 0
         },
         {
          "book": "Songshu",
          "iDocsCharCntM": 0
         },
         {
          "book": "Songshu",
          "iDocsCharCntM": 0
         },
         {
          "book": "Songshu",
          "iDocsCharCntM": 0
         },
         {
          "book": "Songshu",
          "iDocsCharCntM": 0
         },
         {
          "book": "Songshu",
          "iDocsCharCntM": 287
         },
         {
          "book": "Songshu",
          "iDocsCharCntM": 0
         },
         {
          "book": "Songshu",
          "iDocsCharCntM": 0
         },
         {
          "book": "Songshu",
          "iDocsCharCntM": 0
         },
         {
          "book": "Songshu",
          "iDocsCharCntM": 0
         },
         {
          "book": "Songshu",
          "iDocsCharCntM": 0
         },
         {
          "book": "Songshu",
          "iDocsCharCntM": 0
         },
         {
          "book": "Songshu",
          "iDocsCharCntM": 0
         },
         {
          "book": "Songshu",
          "iDocsCharCntM": 0
         },
         {
          "book": "Songshu",
          "iDocsCharCntM": 0
         },
         {
          "book": "Songshu",
          "iDocsCharCntM": 0
         },
         {
          "book": "Songshu",
          "iDocsCharCntM": 0
         },
         {
          "book": "Songshu",
          "iDocsCharCntM": 0
         },
         {
          "book": "Songshu",
          "iDocsCharCntM": 0
         },
         {
          "book": "Songshu",
          "iDocsCharCntM": 0
         },
         {
          "book": "Songshu",
          "iDocsCharCntM": 0
         },
         {
          "book": "Songshu",
          "iDocsCharCntM": 0
         },
         {
          "book": "Songshu",
          "iDocsCharCntM": 0
         },
         {
          "book": "Songshu",
          "iDocsCharCntM": 0
         },
         {
          "book": "Songshu",
          "iDocsCharCntM": 0
         },
         {
          "book": "Songshu",
          "iDocsCharCntM": 0
         },
         {
          "book": "Songshu",
          "iDocsCharCntM": 0
         },
         {
          "book": "Songshu",
          "iDocsCharCntM": 0
         },
         {
          "book": "Songshu",
          "iDocsCharCntM": 0
         },
         {
          "book": "Songshu",
          "iDocsCharCntM": 0
         },
         {
          "book": "Songshu",
          "iDocsCharCntM": 0
         },
         {
          "book": "Songshu",
          "iDocsCharCntM": 0
         },
         {
          "book": "Songshu",
          "iDocsCharCntM": 0
         },
         {
          "book": "Songshu",
          "iDocsCharCntM": 0
         },
         {
          "book": "Songshu",
          "iDocsCharCntM": 0
         },
         {
          "book": "Songshu",
          "iDocsCharCntM": 0
         },
         {
          "book": "Songshu",
          "iDocsCharCntM": 0
         },
         {
          "book": "Songshu",
          "iDocsCharCntM": 0
         },
         {
          "book": "Songshu",
          "iDocsCharCntM": 0
         },
         {
          "book": "Songshu",
          "iDocsCharCntM": 234
         },
         {
          "book": "Songshu",
          "iDocsCharCntM": 0
         },
         {
          "book": "Songshu",
          "iDocsCharCntM": 0
         },
         {
          "book": "Songshu",
          "iDocsCharCntM": 0
         },
         {
          "book": "Songshu",
          "iDocsCharCntM": 0
         },
         {
          "book": "Songshu",
          "iDocsCharCntM": 0
         },
         {
          "book": "Songshu",
          "iDocsCharCntM": 0
         },
         {
          "book": "Songshu",
          "iDocsCharCntM": 0
         },
         {
          "book": "Songshu",
          "iDocsCharCntM": 1412
         },
         {
          "book": "Songshu",
          "iDocsCharCntM": 0
         },
         {
          "book": "Songshu",
          "iDocsCharCntM": 0
         },
         {
          "book": "Songshu",
          "iDocsCharCntM": 0
         },
         {
          "book": "Songshu",
          "iDocsCharCntM": 423
         },
         {
          "book": "Songshu",
          "iDocsCharCntM": 0
         },
         {
          "book": "Songshu",
          "iDocsCharCntM": 0
         },
         {
          "book": "Songshu",
          "iDocsCharCntM": 0
         },
         {
          "book": "Songshu",
          "iDocsCharCntM": 0
         },
         {
          "book": "Songshu",
          "iDocsCharCntM": 0
         },
         {
          "book": "Songshu",
          "iDocsCharCntM": 0
         },
         {
          "book": "Songshu",
          "iDocsCharCntM": 0
         },
         {
          "book": "Songshu",
          "iDocsCharCntM": 0
         },
         {
          "book": "Songshu",
          "iDocsCharCntM": 0
         },
         {
          "book": "Songshu",
          "iDocsCharCntM": 1664
         },
         {
          "book": "Songshu",
          "iDocsCharCntM": 0
         },
         {
          "book": "Songshu",
          "iDocsCharCntM": 0
         },
         {
          "book": "Songshu",
          "iDocsCharCntM": 0
         },
         {
          "book": "Songshu",
          "iDocsCharCntM": 0
         },
         {
          "book": "Songshu",
          "iDocsCharCntM": 0
         },
         {
          "book": "Songshu",
          "iDocsCharCntM": 0
         },
         {
          "book": "Songshu",
          "iDocsCharCntM": 0
         },
         {
          "book": "Songshu",
          "iDocsCharCntM": 7518
         },
         {
          "book": "Songshu",
          "iDocsCharCntM": 0
         },
         {
          "book": "Songshu",
          "iDocsCharCntM": 0
         },
         {
          "book": "Songshu",
          "iDocsCharCntM": 0
         },
         {
          "book": "Songshu",
          "iDocsCharCntM": 0
         },
         {
          "book": "Songshu",
          "iDocsCharCntM": 0
         },
         {
          "book": "Songshu",
          "iDocsCharCntM": 569
         },
         {
          "book": "Songshu",
          "iDocsCharCntM": 569
         },
         {
          "book": "Songshu",
          "iDocsCharCntM": 743
         },
         {
          "book": "Songshu",
          "iDocsCharCntM": 0
         },
         {
          "book": "Songshu",
          "iDocsCharCntM": 0
         },
         {
          "book": "Songshu",
          "iDocsCharCntM": 282
         },
         {
          "book": "Songshu",
          "iDocsCharCntM": 170
         },
         {
          "book": "Songshu",
          "iDocsCharCntM": 501
         },
         {
          "book": "Songshu",
          "iDocsCharCntM": 0
         },
         {
          "book": "Songshu",
          "iDocsCharCntM": 1895
         },
         {
          "book": "Songshu",
          "iDocsCharCntM": 0
         },
         {
          "book": "Songshu",
          "iDocsCharCntM": 0
         },
         {
          "book": "Songshu",
          "iDocsCharCntM": 0
         },
         {
          "book": "Songshu",
          "iDocsCharCntM": 0
         },
         {
          "book": "Songshu",
          "iDocsCharCntM": 0
         },
         {
          "book": "Songshu",
          "iDocsCharCntM": 0
         },
         {
          "book": "Songshu",
          "iDocsCharCntM": 428
         },
         {
          "book": "Songshu",
          "iDocsCharCntM": 0
         },
         {
          "book": "Songshu",
          "iDocsCharCntM": 1078
         },
         {
          "book": "Songshu",
          "iDocsCharCntM": 0
         },
         {
          "book": "Songshu",
          "iDocsCharCntM": 0
         },
         {
          "book": "Songshu",
          "iDocsCharCntM": 0
         },
         {
          "book": "Songshu",
          "iDocsCharCntM": 0
         },
         {
          "book": "Songshu",
          "iDocsCharCntM": 0
         },
         {
          "book": "Songshu",
          "iDocsCharCntM": 0
         },
         {
          "book": "Songshu",
          "iDocsCharCntM": 0
         },
         {
          "book": "Songshu",
          "iDocsCharCntM": 430
         },
         {
          "book": "Songshu",
          "iDocsCharCntM": 0
         },
         {
          "book": "Songshu",
          "iDocsCharCntM": 0
         },
         {
          "book": "Songshu",
          "iDocsCharCntM": 0
         },
         {
          "book": "Songshu",
          "iDocsCharCntM": 0
         },
         {
          "book": "Songshu",
          "iDocsCharCntM": 727
         },
         {
          "book": "Nanqishu",
          "iDocsCharCntM": 0
         },
         {
          "book": "Nanqishu",
          "iDocsCharCntM": 0
         },
         {
          "book": "Nanqishu",
          "iDocsCharCntM": 0
         },
         {
          "book": "Nanqishu",
          "iDocsCharCntM": 0
         },
         {
          "book": "Nanqishu",
          "iDocsCharCntM": 0
         },
         {
          "book": "Nanqishu",
          "iDocsCharCntM": 0
         },
         {
          "book": "Nanqishu",
          "iDocsCharCntM": 0
         },
         {
          "book": "Nanqishu",
          "iDocsCharCntM": 0
         },
         {
          "book": "Nanqishu",
          "iDocsCharCntM": 0
         },
         {
          "book": "Nanqishu",
          "iDocsCharCntM": 0
         },
         {
          "book": "Nanqishu",
          "iDocsCharCntM": 0
         },
         {
          "book": "Nanqishu",
          "iDocsCharCntM": 0
         },
         {
          "book": "Nanqishu",
          "iDocsCharCntM": 0
         },
         {
          "book": "Nanqishu",
          "iDocsCharCntM": 0
         },
         {
          "book": "Nanqishu",
          "iDocsCharCntM": 0
         },
         {
          "book": "Nanqishu",
          "iDocsCharCntM": 0
         },
         {
          "book": "Nanqishu",
          "iDocsCharCntM": 0
         },
         {
          "book": "Nanqishu",
          "iDocsCharCntM": 0
         },
         {
          "book": "Nanqishu",
          "iDocsCharCntM": 0
         },
         {
          "book": "Nanqishu",
          "iDocsCharCntM": 1381
         },
         {
          "book": "Nanqishu",
          "iDocsCharCntM": 0
         },
         {
          "book": "Nanqishu",
          "iDocsCharCntM": 0
         },
         {
          "book": "Nanqishu",
          "iDocsCharCntM": 3102
         },
         {
          "book": "Nanqishu",
          "iDocsCharCntM": 760
         },
         {
          "book": "Nanqishu",
          "iDocsCharCntM": 782
         },
         {
          "book": "Nanqishu",
          "iDocsCharCntM": 0
         },
         {
          "book": "Nanqishu",
          "iDocsCharCntM": 0
         },
         {
          "book": "Nanqishu",
          "iDocsCharCntM": 0
         },
         {
          "book": "Nanqishu",
          "iDocsCharCntM": 0
         },
         {
          "book": "Nanqishu",
          "iDocsCharCntM": 0
         },
         {
          "book": "Nanqishu",
          "iDocsCharCntM": 0
         },
         {
          "book": "Nanqishu",
          "iDocsCharCntM": 0
         },
         {
          "book": "Nanqishu",
          "iDocsCharCntM": 0
         },
         {
          "book": "Nanqishu",
          "iDocsCharCntM": 0
         },
         {
          "book": "Nanqishu",
          "iDocsCharCntM": 0
         },
         {
          "book": "Nanqishu",
          "iDocsCharCntM": 0
         },
         {
          "book": "Nanqishu",
          "iDocsCharCntM": 0
         },
         {
          "book": "Nanqishu",
          "iDocsCharCntM": 0
         },
         {
          "book": "Nanqishu",
          "iDocsCharCntM": 0
         },
         {
          "book": "Nanqishu",
          "iDocsCharCntM": 0
         },
         {
          "book": "Nanqishu",
          "iDocsCharCntM": 0
         },
         {
          "book": "Nanqishu",
          "iDocsCharCntM": 0
         },
         {
          "book": "Nanqishu",
          "iDocsCharCntM": 0
         },
         {
          "book": "Nanqishu",
          "iDocsCharCntM": 0
         },
         {
          "book": "Nanqishu",
          "iDocsCharCntM": 0
         },
         {
          "book": "Nanqishu",
          "iDocsCharCntM": 0
         },
         {
          "book": "Nanqishu",
          "iDocsCharCntM": 0
         },
         {
          "book": "Nanqishu",
          "iDocsCharCntM": 0
         },
         {
          "book": "Nanqishu",
          "iDocsCharCntM": 0
         },
         {
          "book": "Nanqishu",
          "iDocsCharCntM": 0
         },
         {
          "book": "Nanqishu",
          "iDocsCharCntM": 0
         },
         {
          "book": "Nanqishu",
          "iDocsCharCntM": 0
         },
         {
          "book": "Nanqishu",
          "iDocsCharCntM": 0
         },
         {
          "book": "Nanqishu",
          "iDocsCharCntM": 0
         },
         {
          "book": "Nanqishu",
          "iDocsCharCntM": 0
         },
         {
          "book": "Nanqishu",
          "iDocsCharCntM": 0
         },
         {
          "book": "Nanqishu",
          "iDocsCharCntM": 0
         },
         {
          "book": "Nanqishu",
          "iDocsCharCntM": 0
         },
         {
          "book": "Nanqishu",
          "iDocsCharCntM": 0
         },
         {
          "book": "Nanqishu",
          "iDocsCharCntM": 0
         },
         {
          "book": "Nanqishu",
          "iDocsCharCntM": 0
         },
         {
          "book": "Nanqishu",
          "iDocsCharCntM": 0
         },
         {
          "book": "Nanqishu",
          "iDocsCharCntM": 0
         },
         {
          "book": "Nanqishu",
          "iDocsCharCntM": 0
         },
         {
          "book": "Nanqishu",
          "iDocsCharCntM": 900
         },
         {
          "book": "Nanqishu",
          "iDocsCharCntM": 0
         },
         {
          "book": "Nanqishu",
          "iDocsCharCntM": 0
         },
         {
          "book": "Nanqishu",
          "iDocsCharCntM": 0
         },
         {
          "book": "Nanqishu",
          "iDocsCharCntM": 0
         },
         {
          "book": "Nanqishu",
          "iDocsCharCntM": 0
         },
         {
          "book": "Nanqishu",
          "iDocsCharCntM": 0
         },
         {
          "book": "Nanqishu",
          "iDocsCharCntM": 0
         },
         {
          "book": "Nanqishu",
          "iDocsCharCntM": 0
         },
         {
          "book": "Nanqishu",
          "iDocsCharCntM": 0
         },
         {
          "book": "Nanqishu",
          "iDocsCharCntM": 0
         },
         {
          "book": "Nanqishu",
          "iDocsCharCntM": 0
         },
         {
          "book": "Nanqishu",
          "iDocsCharCntM": 0
         },
         {
          "book": "Nanqishu",
          "iDocsCharCntM": 0
         },
         {
          "book": "Nanqishu",
          "iDocsCharCntM": 0
         },
         {
          "book": "Nanqishu",
          "iDocsCharCntM": 0
         },
         {
          "book": "Nanqishu",
          "iDocsCharCntM": 0
         },
         {
          "book": "Nanqishu",
          "iDocsCharCntM": 0
         },
         {
          "book": "Nanqishu",
          "iDocsCharCntM": 0
         },
         {
          "book": "Nanqishu",
          "iDocsCharCntM": 0
         },
         {
          "book": "Nanqishu",
          "iDocsCharCntM": 0
         },
         {
          "book": "Nanqishu",
          "iDocsCharCntM": 0
         },
         {
          "book": "Nanqishu",
          "iDocsCharCntM": 957
         },
         {
          "book": "Nanqishu",
          "iDocsCharCntM": 724
         },
         {
          "book": "Nanqishu",
          "iDocsCharCntM": 0
         },
         {
          "book": "Nanqishu",
          "iDocsCharCntM": 0
         },
         {
          "book": "Nanqishu",
          "iDocsCharCntM": 0
         },
         {
          "book": "Nanqishu",
          "iDocsCharCntM": 0
         },
         {
          "book": "Nanqishu",
          "iDocsCharCntM": 0
         },
         {
          "book": "Nanqishu",
          "iDocsCharCntM": 0
         },
         {
          "book": "Nanqishu",
          "iDocsCharCntM": 0
         },
         {
          "book": "Nanqishu",
          "iDocsCharCntM": 0
         },
         {
          "book": "Nanqishu",
          "iDocsCharCntM": 0
         },
         {
          "book": "Nanqishu",
          "iDocsCharCntM": 0
         },
         {
          "book": "Nanqishu",
          "iDocsCharCntM": 1801
         },
         {
          "book": "Nanqishu",
          "iDocsCharCntM": 0
         },
         {
          "book": "Nanqishu",
          "iDocsCharCntM": 0
         },
         {
          "book": "Nanqishu",
          "iDocsCharCntM": 1186
         },
         {
          "book": "Nanqishu",
          "iDocsCharCntM": 0
         },
         {
          "book": "Nanqishu",
          "iDocsCharCntM": 0
         },
         {
          "book": "Nanqishu",
          "iDocsCharCntM": 3069
         },
         {
          "book": "Nanqishu",
          "iDocsCharCntM": 0
         },
         {
          "book": "Nanqishu",
          "iDocsCharCntM": 0
         },
         {
          "book": "Nanqishu",
          "iDocsCharCntM": 0
         },
         {
          "book": "Nanqishu",
          "iDocsCharCntM": 0
         },
         {
          "book": "Nanqishu",
          "iDocsCharCntM": 0
         },
         {
          "book": "Nanqishu",
          "iDocsCharCntM": 0
         },
         {
          "book": "Nanqishu",
          "iDocsCharCntM": 0
         },
         {
          "book": "Nanqishu",
          "iDocsCharCntM": 0
         },
         {
          "book": "Nanqishu",
          "iDocsCharCntM": 0
         },
         {
          "book": "Nanqishu",
          "iDocsCharCntM": 0
         },
         {
          "book": "Nanqishu",
          "iDocsCharCntM": 0
         },
         {
          "book": "Nanqishu",
          "iDocsCharCntM": 0
         },
         {
          "book": "Nanqishu",
          "iDocsCharCntM": 0
         },
         {
          "book": "Nanqishu",
          "iDocsCharCntM": 0
         },
         {
          "book": "Nanqishu",
          "iDocsCharCntM": 0
         },
         {
          "book": "Nanqishu",
          "iDocsCharCntM": 0
         },
         {
          "book": "Nanqishu",
          "iDocsCharCntM": 0
         },
         {
          "book": "Nanqishu",
          "iDocsCharCntM": 2042
         },
         {
          "book": "Nanqishu",
          "iDocsCharCntM": 0
         },
         {
          "book": "Nanqishu",
          "iDocsCharCntM": 0
         },
         {
          "book": "Nanqishu",
          "iDocsCharCntM": 0
         },
         {
          "book": "Nanqishu",
          "iDocsCharCntM": 0
         },
         {
          "book": "Nanqishu",
          "iDocsCharCntM": 0
         },
         {
          "book": "Nanqishu",
          "iDocsCharCntM": 0
         },
         {
          "book": "Nanqishu",
          "iDocsCharCntM": 0
         },
         {
          "book": "Nanqishu",
          "iDocsCharCntM": 0
         },
         {
          "book": "Nanqishu",
          "iDocsCharCntM": 0
         },
         {
          "book": "Nanqishu",
          "iDocsCharCntM": 0
         },
         {
          "book": "Nanqishu",
          "iDocsCharCntM": 981
         },
         {
          "book": "Nanqishu",
          "iDocsCharCntM": 0
         },
         {
          "book": "Nanqishu",
          "iDocsCharCntM": 0
         },
         {
          "book": "Nanqishu",
          "iDocsCharCntM": 0
         },
         {
          "book": "Nanqishu",
          "iDocsCharCntM": 0
         },
         {
          "book": "Nanqishu",
          "iDocsCharCntM": 0
         },
         {
          "book": "Nanqishu",
          "iDocsCharCntM": 0
         },
         {
          "book": "Nanqishu",
          "iDocsCharCntM": 0
         },
         {
          "book": "Nanqishu",
          "iDocsCharCntM": 0
         },
         {
          "book": "Nanqishu",
          "iDocsCharCntM": 0
         },
         {
          "book": "Nanqishu",
          "iDocsCharCntM": 0
         },
         {
          "book": "Nanqishu",
          "iDocsCharCntM": 0
         },
         {
          "book": "Nanqishu",
          "iDocsCharCntM": 0
         },
         {
          "book": "Nanqishu",
          "iDocsCharCntM": 0
         },
         {
          "book": "Nanqishu",
          "iDocsCharCntM": 0
         },
         {
          "book": "Nanqishu",
          "iDocsCharCntM": 0
         },
         {
          "book": "Nanqishu",
          "iDocsCharCntM": 0
         },
         {
          "book": "Nanqishu",
          "iDocsCharCntM": 0
         },
         {
          "book": "Nanqishu",
          "iDocsCharCntM": 0
         },
         {
          "book": "Nanqishu",
          "iDocsCharCntM": 0
         },
         {
          "book": "Nanqishu",
          "iDocsCharCntM": 1083
         },
         {
          "book": "Nanqishu",
          "iDocsCharCntM": 0
         },
         {
          "book": "Nanqishu",
          "iDocsCharCntM": 0
         },
         {
          "book": "Nanqishu",
          "iDocsCharCntM": 2138
         },
         {
          "book": "Nanqishu",
          "iDocsCharCntM": 0
         },
         {
          "book": "Nanqishu",
          "iDocsCharCntM": 0
         },
         {
          "book": "Nanqishu",
          "iDocsCharCntM": 2072
         },
         {
          "book": "Nanqishu",
          "iDocsCharCntM": 0
         },
         {
          "book": "Nanqishu",
          "iDocsCharCntM": 0
         },
         {
          "book": "Nanqishu",
          "iDocsCharCntM": 616
         },
         {
          "book": "Nanqishu",
          "iDocsCharCntM": 0
         },
         {
          "book": "Nanqishu",
          "iDocsCharCntM": 0
         },
         {
          "book": "Nanqishu",
          "iDocsCharCntM": 0
         },
         {
          "book": "Nanqishu",
          "iDocsCharCntM": 0
         },
         {
          "book": "Nanqishu",
          "iDocsCharCntM": 0
         },
         {
          "book": "Nanqishu",
          "iDocsCharCntM": 0
         },
         {
          "book": "Nanqishu",
          "iDocsCharCntM": 0
         },
         {
          "book": "Nanqishu",
          "iDocsCharCntM": 0
         },
         {
          "book": "Nanqishu",
          "iDocsCharCntM": 0
         },
         {
          "book": "Nanqishu",
          "iDocsCharCntM": 0
         },
         {
          "book": "Nanqishu",
          "iDocsCharCntM": 0
         },
         {
          "book": "Nanqishu",
          "iDocsCharCntM": 0
         },
         {
          "book": "Nanqishu",
          "iDocsCharCntM": 0
         },
         {
          "book": "Nanqishu",
          "iDocsCharCntM": 0
         },
         {
          "book": "Nanqishu",
          "iDocsCharCntM": 0
         },
         {
          "book": "Nanqishu",
          "iDocsCharCntM": 1650
         },
         {
          "book": "Nanqishu",
          "iDocsCharCntM": 0
         },
         {
          "book": "Nanqishu",
          "iDocsCharCntM": 0
         },
         {
          "book": "Nanqishu",
          "iDocsCharCntM": 0
         },
         {
          "book": "Nanqishu",
          "iDocsCharCntM": 0
         },
         {
          "book": "Nanqishu",
          "iDocsCharCntM": 757
         },
         {
          "book": "Nanqishu",
          "iDocsCharCntM": 0
         },
         {
          "book": "Nanqishu",
          "iDocsCharCntM": 1181
         },
         {
          "book": "Nanqishu",
          "iDocsCharCntM": 0
         },
         {
          "book": "Nanqishu",
          "iDocsCharCntM": 0
         },
         {
          "book": "Nanqishu",
          "iDocsCharCntM": 0
         },
         {
          "book": "Nanqishu",
          "iDocsCharCntM": 1028
         },
         {
          "book": "Nanqishu",
          "iDocsCharCntM": 0
         },
         {
          "book": "Nanqishu",
          "iDocsCharCntM": 0
         },
         {
          "book": "Nanqishu",
          "iDocsCharCntM": 0
         },
         {
          "book": "Nanqishu",
          "iDocsCharCntM": 0
         },
         {
          "book": "Nanqishu",
          "iDocsCharCntM": 0
         },
         {
          "book": "Nanqishu",
          "iDocsCharCntM": 0
         },
         {
          "book": "Nanqishu",
          "iDocsCharCntM": 0
         },
         {
          "book": "Nanqishu",
          "iDocsCharCntM": 0
         },
         {
          "book": "Nanqishu",
          "iDocsCharCntM": 0
         },
         {
          "book": "Nanqishu",
          "iDocsCharCntM": 0
         },
         {
          "book": "Nanqishu",
          "iDocsCharCntM": 0
         },
         {
          "book": "Nanqishu",
          "iDocsCharCntM": 0
         },
         {
          "book": "Nanqishu",
          "iDocsCharCntM": 0
         },
         {
          "book": "Nanqishu",
          "iDocsCharCntM": 0
         },
         {
          "book": "Nanqishu",
          "iDocsCharCntM": 0
         },
         {
          "book": "Nanqishu",
          "iDocsCharCntM": 1846
         },
         {
          "book": "Nanqishu",
          "iDocsCharCntM": 0
         },
         {
          "book": "Nanqishu",
          "iDocsCharCntM": 0
         },
         {
          "book": "Nanqishu",
          "iDocsCharCntM": 0
         },
         {
          "book": "Nanqishu",
          "iDocsCharCntM": 0
         },
         {
          "book": "Nanqishu",
          "iDocsCharCntM": 0
         },
         {
          "book": "Nanqishu",
          "iDocsCharCntM": 0
         },
         {
          "book": "Nanqishu",
          "iDocsCharCntM": 0
         },
         {
          "book": "Nanqishu",
          "iDocsCharCntM": 0
         },
         {
          "book": "Nanqishu",
          "iDocsCharCntM": 0
         },
         {
          "book": "Nanqishu",
          "iDocsCharCntM": 0
         },
         {
          "book": "Nanqishu",
          "iDocsCharCntM": 0
         },
         {
          "book": "Nanqishu",
          "iDocsCharCntM": 0
         },
         {
          "book": "Nanqishu",
          "iDocsCharCntM": 0
         },
         {
          "book": "Nanqishu",
          "iDocsCharCntM": 0
         },
         {
          "book": "Nanqishu",
          "iDocsCharCntM": 0
         },
         {
          "book": "Nanqishu",
          "iDocsCharCntM": 0
         },
         {
          "book": "Nanqishu",
          "iDocsCharCntM": 0
         },
         {
          "book": "Nanqishu",
          "iDocsCharCntM": 0
         },
         {
          "book": "Nanqishu",
          "iDocsCharCntM": 0
         },
         {
          "book": "Nanqishu",
          "iDocsCharCntM": 0
         },
         {
          "book": "Nanqishu",
          "iDocsCharCntM": 0
         },
         {
          "book": "Nanqishu",
          "iDocsCharCntM": 0
         },
         {
          "book": "Nanqishu",
          "iDocsCharCntM": 0
         },
         {
          "book": "Nanqishu",
          "iDocsCharCntM": 0
         },
         {
          "book": "Nanqishu",
          "iDocsCharCntM": 0
         },
         {
          "book": "Nanqishu",
          "iDocsCharCntM": 0
         },
         {
          "book": "Nanqishu",
          "iDocsCharCntM": 0
         },
         {
          "book": "Nanqishu",
          "iDocsCharCntM": 0
         },
         {
          "book": "Nanqishu",
          "iDocsCharCntM": 0
         },
         {
          "book": "Nanqishu",
          "iDocsCharCntM": 0
         },
         {
          "book": "Nanqishu",
          "iDocsCharCntM": 0
         },
         {
          "book": "Nanqishu",
          "iDocsCharCntM": 0
         },
         {
          "book": "Nanqishu",
          "iDocsCharCntM": 0
         },
         {
          "book": "Nanqishu",
          "iDocsCharCntM": 0
         },
         {
          "book": "Nanqishu",
          "iDocsCharCntM": 0
         },
         {
          "book": "Nanqishu",
          "iDocsCharCntM": 0
         },
         {
          "book": "Nanqishu",
          "iDocsCharCntM": 0
         },
         {
          "book": "Nanqishu",
          "iDocsCharCntM": 0
         },
         {
          "book": "Nanqishu",
          "iDocsCharCntM": 0
         },
         {
          "book": "Nanqishu",
          "iDocsCharCntM": 0
         },
         {
          "book": "Nanqishu",
          "iDocsCharCntM": 0
         },
         {
          "book": "Nanqishu",
          "iDocsCharCntM": 0
         },
         {
          "book": "Nanqishu",
          "iDocsCharCntM": 0
         },
         {
          "book": "Nanqishu",
          "iDocsCharCntM": 0
         },
         {
          "book": "Nanqishu",
          "iDocsCharCntM": 0
         },
         {
          "book": "Nanqishu",
          "iDocsCharCntM": 0
         },
         {
          "book": "Nanqishu",
          "iDocsCharCntM": 0
         },
         {
          "book": "Nanqishu",
          "iDocsCharCntM": 0
         },
         {
          "book": "Nanqishu",
          "iDocsCharCntM": 0
         },
         {
          "book": "Nanqishu",
          "iDocsCharCntM": 504
         },
         {
          "book": "Nanqishu",
          "iDocsCharCntM": 0
         },
         {
          "book": "Nanqishu",
          "iDocsCharCntM": 472
         },
         {
          "book": "Nanqishu",
          "iDocsCharCntM": 0
         },
         {
          "book": "Weishu",
          "iDocsCharCntM": 0
         },
         {
          "book": "Weishu",
          "iDocsCharCntM": 0
         },
         {
          "book": "Weishu",
          "iDocsCharCntM": 0
         },
         {
          "book": "Weishu",
          "iDocsCharCntM": 0
         },
         {
          "book": "Weishu",
          "iDocsCharCntM": 0
         },
         {
          "book": "Weishu",
          "iDocsCharCntM": 0
         },
         {
          "book": "Weishu",
          "iDocsCharCntM": 0
         },
         {
          "book": "Weishu",
          "iDocsCharCntM": 0
         },
         {
          "book": "Weishu",
          "iDocsCharCntM": 0
         },
         {
          "book": "Weishu",
          "iDocsCharCntM": 0
         },
         {
          "book": "Weishu",
          "iDocsCharCntM": 0
         },
         {
          "book": "Weishu",
          "iDocsCharCntM": 0
         },
         {
          "book": "Weishu",
          "iDocsCharCntM": 0
         },
         {
          "book": "Weishu",
          "iDocsCharCntM": 0
         },
         {
          "book": "Weishu",
          "iDocsCharCntM": 0
         },
         {
          "book": "Weishu",
          "iDocsCharCntM": 0
         },
         {
          "book": "Weishu",
          "iDocsCharCntM": 0
         },
         {
          "book": "Weishu",
          "iDocsCharCntM": 0
         },
         {
          "book": "Weishu",
          "iDocsCharCntM": 0
         },
         {
          "book": "Weishu",
          "iDocsCharCntM": 0
         },
         {
          "book": "Weishu",
          "iDocsCharCntM": 0
         },
         {
          "book": "Weishu",
          "iDocsCharCntM": 0
         },
         {
          "book": "Weishu",
          "iDocsCharCntM": 0
         },
         {
          "book": "Weishu",
          "iDocsCharCntM": 0
         },
         {
          "book": "Weishu",
          "iDocsCharCntM": 0
         },
         {
          "book": "Weishu",
          "iDocsCharCntM": 0
         },
         {
          "book": "Weishu",
          "iDocsCharCntM": 0
         },
         {
          "book": "Weishu",
          "iDocsCharCntM": 0
         },
         {
          "book": "Weishu",
          "iDocsCharCntM": 0
         },
         {
          "book": "Weishu",
          "iDocsCharCntM": 0
         },
         {
          "book": "Weishu",
          "iDocsCharCntM": 0
         },
         {
          "book": "Weishu",
          "iDocsCharCntM": 0
         },
         {
          "book": "Weishu",
          "iDocsCharCntM": 0
         },
         {
          "book": "Weishu",
          "iDocsCharCntM": 0
         },
         {
          "book": "Weishu",
          "iDocsCharCntM": 0
         },
         {
          "book": "Weishu",
          "iDocsCharCntM": 0
         },
         {
          "book": "Weishu",
          "iDocsCharCntM": 0
         },
         {
          "book": "Weishu",
          "iDocsCharCntM": 0
         },
         {
          "book": "Weishu",
          "iDocsCharCntM": 0
         },
         {
          "book": "Weishu",
          "iDocsCharCntM": 0
         },
         {
          "book": "Weishu",
          "iDocsCharCntM": 0
         },
         {
          "book": "Weishu",
          "iDocsCharCntM": 0
         },
         {
          "book": "Weishu",
          "iDocsCharCntM": 0
         },
         {
          "book": "Weishu",
          "iDocsCharCntM": 0
         },
         {
          "book": "Weishu",
          "iDocsCharCntM": 0
         },
         {
          "book": "Weishu",
          "iDocsCharCntM": 0
         },
         {
          "book": "Weishu",
          "iDocsCharCntM": 700
         },
         {
          "book": "Weishu",
          "iDocsCharCntM": 0
         },
         {
          "book": "Weishu",
          "iDocsCharCntM": 0
         },
         {
          "book": "Weishu",
          "iDocsCharCntM": 0
         },
         {
          "book": "Weishu",
          "iDocsCharCntM": 0
         },
         {
          "book": "Weishu",
          "iDocsCharCntM": 0
         },
         {
          "book": "Weishu",
          "iDocsCharCntM": 0
         },
         {
          "book": "Weishu",
          "iDocsCharCntM": 0
         },
         {
          "book": "Weishu",
          "iDocsCharCntM": 0
         },
         {
          "book": "Weishu",
          "iDocsCharCntM": 0
         },
         {
          "book": "Weishu",
          "iDocsCharCntM": 0
         },
         {
          "book": "Weishu",
          "iDocsCharCntM": 0
         },
         {
          "book": "Weishu",
          "iDocsCharCntM": 0
         },
         {
          "book": "Weishu",
          "iDocsCharCntM": 0
         },
         {
          "book": "Weishu",
          "iDocsCharCntM": 0
         },
         {
          "book": "Weishu",
          "iDocsCharCntM": 0
         },
         {
          "book": "Weishu",
          "iDocsCharCntM": 0
         },
         {
          "book": "Weishu",
          "iDocsCharCntM": 0
         },
         {
          "book": "Weishu",
          "iDocsCharCntM": 0
         },
         {
          "book": "Weishu",
          "iDocsCharCntM": 0
         },
         {
          "book": "Weishu",
          "iDocsCharCntM": 0
         },
         {
          "book": "Weishu",
          "iDocsCharCntM": 0
         },
         {
          "book": "Weishu",
          "iDocsCharCntM": 0
         },
         {
          "book": "Weishu",
          "iDocsCharCntM": 0
         },
         {
          "book": "Weishu",
          "iDocsCharCntM": 0
         },
         {
          "book": "Weishu",
          "iDocsCharCntM": 0
         },
         {
          "book": "Weishu",
          "iDocsCharCntM": 488
         },
         {
          "book": "Weishu",
          "iDocsCharCntM": 0
         },
         {
          "book": "Weishu",
          "iDocsCharCntM": 0
         },
         {
          "book": "Weishu",
          "iDocsCharCntM": 0
         },
         {
          "book": "Weishu",
          "iDocsCharCntM": 0
         },
         {
          "book": "Weishu",
          "iDocsCharCntM": 0
         },
         {
          "book": "Weishu",
          "iDocsCharCntM": 0
         },
         {
          "book": "Weishu",
          "iDocsCharCntM": 0
         },
         {
          "book": "Weishu",
          "iDocsCharCntM": 0
         },
         {
          "book": "Weishu",
          "iDocsCharCntM": 0
         },
         {
          "book": "Weishu",
          "iDocsCharCntM": 0
         },
         {
          "book": "Weishu",
          "iDocsCharCntM": 1477
         },
         {
          "book": "Weishu",
          "iDocsCharCntM": 1462
         },
         {
          "book": "Weishu",
          "iDocsCharCntM": 0
         },
         {
          "book": "Weishu",
          "iDocsCharCntM": 0
         },
         {
          "book": "Weishu",
          "iDocsCharCntM": 0
         },
         {
          "book": "Weishu",
          "iDocsCharCntM": 0
         },
         {
          "book": "Weishu",
          "iDocsCharCntM": 0
         },
         {
          "book": "Weishu",
          "iDocsCharCntM": 0
         },
         {
          "book": "Weishu",
          "iDocsCharCntM": 0
         },
         {
          "book": "Weishu",
          "iDocsCharCntM": 1405
         },
         {
          "book": "Weishu",
          "iDocsCharCntM": 1732
         },
         {
          "book": "Weishu",
          "iDocsCharCntM": 0
         },
         {
          "book": "Weishu",
          "iDocsCharCntM": 0
         },
         {
          "book": "Weishu",
          "iDocsCharCntM": 0
         },
         {
          "book": "Weishu",
          "iDocsCharCntM": 0
         },
         {
          "book": "Weishu",
          "iDocsCharCntM": 0
         },
         {
          "book": "Weishu",
          "iDocsCharCntM": 0
         },
         {
          "book": "Weishu",
          "iDocsCharCntM": 0
         },
         {
          "book": "Weishu",
          "iDocsCharCntM": 0
         },
         {
          "book": "Weishu",
          "iDocsCharCntM": 0
         },
         {
          "book": "Weishu",
          "iDocsCharCntM": 0
         },
         {
          "book": "Weishu",
          "iDocsCharCntM": 0
         },
         {
          "book": "Weishu",
          "iDocsCharCntM": 0
         },
         {
          "book": "Weishu",
          "iDocsCharCntM": 0
         },
         {
          "book": "Weishu",
          "iDocsCharCntM": 0
         },
         {
          "book": "Weishu",
          "iDocsCharCntM": 0
         },
         {
          "book": "Weishu",
          "iDocsCharCntM": 1562
         },
         {
          "book": "Weishu",
          "iDocsCharCntM": 0
         },
         {
          "book": "Weishu",
          "iDocsCharCntM": 0
         },
         {
          "book": "Weishu",
          "iDocsCharCntM": 0
         },
         {
          "book": "Weishu",
          "iDocsCharCntM": 0
         },
         {
          "book": "Weishu",
          "iDocsCharCntM": 0
         },
         {
          "book": "Weishu",
          "iDocsCharCntM": 0
         },
         {
          "book": "Weishu",
          "iDocsCharCntM": 0
         },
         {
          "book": "Weishu",
          "iDocsCharCntM": 0
         },
         {
          "book": "Weishu",
          "iDocsCharCntM": 0
         },
         {
          "book": "Weishu",
          "iDocsCharCntM": 0
         },
         {
          "book": "Weishu",
          "iDocsCharCntM": 0
         },
         {
          "book": "Weishu",
          "iDocsCharCntM": 0
         },
         {
          "book": "Weishu",
          "iDocsCharCntM": 0
         },
         {
          "book": "Weishu",
          "iDocsCharCntM": 837
         },
         {
          "book": "Weishu",
          "iDocsCharCntM": 894
         },
         {
          "book": "Weishu",
          "iDocsCharCntM": 0
         },
         {
          "book": "Weishu",
          "iDocsCharCntM": 0
         },
         {
          "book": "Weishu",
          "iDocsCharCntM": 0
         },
         {
          "book": "Weishu",
          "iDocsCharCntM": 0
         },
         {
          "book": "Weishu",
          "iDocsCharCntM": 0
         },
         {
          "book": "Weishu",
          "iDocsCharCntM": 0
         },
         {
          "book": "Weishu",
          "iDocsCharCntM": 0
         },
         {
          "book": "Weishu",
          "iDocsCharCntM": 0
         },
         {
          "book": "Weishu",
          "iDocsCharCntM": 0
         },
         {
          "book": "Weishu",
          "iDocsCharCntM": 0
         },
         {
          "book": "Weishu",
          "iDocsCharCntM": 0
         },
         {
          "book": "Weishu",
          "iDocsCharCntM": 0
         },
         {
          "book": "Weishu",
          "iDocsCharCntM": 0
         },
         {
          "book": "Weishu",
          "iDocsCharCntM": 0
         },
         {
          "book": "Weishu",
          "iDocsCharCntM": 0
         },
         {
          "book": "Weishu",
          "iDocsCharCntM": 0
         },
         {
          "book": "Weishu",
          "iDocsCharCntM": 0
         },
         {
          "book": "Weishu",
          "iDocsCharCntM": 0
         },
         {
          "book": "Weishu",
          "iDocsCharCntM": 0
         },
         {
          "book": "Weishu",
          "iDocsCharCntM": 0
         },
         {
          "book": "Weishu",
          "iDocsCharCntM": 0
         },
         {
          "book": "Weishu",
          "iDocsCharCntM": 0
         },
         {
          "book": "Weishu",
          "iDocsCharCntM": 0
         },
         {
          "book": "Weishu",
          "iDocsCharCntM": 0
         },
         {
          "book": "Weishu",
          "iDocsCharCntM": 0
         },
         {
          "book": "Weishu",
          "iDocsCharCntM": 0
         },
         {
          "book": "Weishu",
          "iDocsCharCntM": 0
         },
         {
          "book": "Weishu",
          "iDocsCharCntM": 0
         },
         {
          "book": "Weishu",
          "iDocsCharCntM": 0
         },
         {
          "book": "Weishu",
          "iDocsCharCntM": 0
         },
         {
          "book": "Weishu",
          "iDocsCharCntM": 0
         },
         {
          "book": "Weishu",
          "iDocsCharCntM": 0
         },
         {
          "book": "Weishu",
          "iDocsCharCntM": 0
         },
         {
          "book": "Weishu",
          "iDocsCharCntM": 0
         },
         {
          "book": "Weishu",
          "iDocsCharCntM": 0
         },
         {
          "book": "Weishu",
          "iDocsCharCntM": 0
         },
         {
          "book": "Weishu",
          "iDocsCharCntM": 0
         },
         {
          "book": "Weishu",
          "iDocsCharCntM": 0
         },
         {
          "book": "Weishu",
          "iDocsCharCntM": 0
         },
         {
          "book": "Weishu",
          "iDocsCharCntM": 0
         },
         {
          "book": "Weishu",
          "iDocsCharCntM": 0
         },
         {
          "book": "Weishu",
          "iDocsCharCntM": 0
         },
         {
          "book": "Weishu",
          "iDocsCharCntM": 0
         },
         {
          "book": "Weishu",
          "iDocsCharCntM": 0
         },
         {
          "book": "Weishu",
          "iDocsCharCntM": 0
         },
         {
          "book": "Weishu",
          "iDocsCharCntM": 0
         },
         {
          "book": "Weishu",
          "iDocsCharCntM": 0
         },
         {
          "book": "Weishu",
          "iDocsCharCntM": 0
         },
         {
          "book": "Weishu",
          "iDocsCharCntM": 0
         },
         {
          "book": "Weishu",
          "iDocsCharCntM": 0
         },
         {
          "book": "Weishu",
          "iDocsCharCntM": 0
         },
         {
          "book": "Weishu",
          "iDocsCharCntM": 0
         },
         {
          "book": "Weishu",
          "iDocsCharCntM": 0
         },
         {
          "book": "Weishu",
          "iDocsCharCntM": 0
         },
         {
          "book": "Weishu",
          "iDocsCharCntM": 1912
         },
         {
          "book": "Weishu",
          "iDocsCharCntM": 0
         },
         {
          "book": "Weishu",
          "iDocsCharCntM": 0
         },
         {
          "book": "Weishu",
          "iDocsCharCntM": 0
         },
         {
          "book": "Weishu",
          "iDocsCharCntM": 0
         },
         {
          "book": "Weishu",
          "iDocsCharCntM": 0
         },
         {
          "book": "Weishu",
          "iDocsCharCntM": 1236
         },
         {
          "book": "Weishu",
          "iDocsCharCntM": 0
         },
         {
          "book": "Weishu",
          "iDocsCharCntM": 0
         },
         {
          "book": "Weishu",
          "iDocsCharCntM": 0
         },
         {
          "book": "Weishu",
          "iDocsCharCntM": 0
         },
         {
          "book": "Weishu",
          "iDocsCharCntM": 0
         },
         {
          "book": "Weishu",
          "iDocsCharCntM": 0
         },
         {
          "book": "Weishu",
          "iDocsCharCntM": 0
         },
         {
          "book": "Weishu",
          "iDocsCharCntM": 0
         },
         {
          "book": "Weishu",
          "iDocsCharCntM": 0
         },
         {
          "book": "Weishu",
          "iDocsCharCntM": 0
         },
         {
          "book": "Weishu",
          "iDocsCharCntM": 0
         },
         {
          "book": "Weishu",
          "iDocsCharCntM": 0
         },
         {
          "book": "Weishu",
          "iDocsCharCntM": 0
         },
         {
          "book": "Weishu",
          "iDocsCharCntM": 0
         },
         {
          "book": "Weishu",
          "iDocsCharCntM": 0
         },
         {
          "book": "Weishu",
          "iDocsCharCntM": 1882
         },
         {
          "book": "Weishu",
          "iDocsCharCntM": 0
         },
         {
          "book": "Weishu",
          "iDocsCharCntM": 0
         },
         {
          "book": "Weishu",
          "iDocsCharCntM": 0
         },
         {
          "book": "Weishu",
          "iDocsCharCntM": 0
         },
         {
          "book": "Weishu",
          "iDocsCharCntM": 0
         },
         {
          "book": "Weishu",
          "iDocsCharCntM": 0
         },
         {
          "book": "Weishu",
          "iDocsCharCntM": 0
         },
         {
          "book": "Weishu",
          "iDocsCharCntM": 0
         },
         {
          "book": "Weishu",
          "iDocsCharCntM": 0
         },
         {
          "book": "Weishu",
          "iDocsCharCntM": 0
         },
         {
          "book": "Weishu",
          "iDocsCharCntM": 0
         },
         {
          "book": "Weishu",
          "iDocsCharCntM": 0
         },
         {
          "book": "Weishu",
          "iDocsCharCntM": 0
         },
         {
          "book": "Weishu",
          "iDocsCharCntM": 0
         },
         {
          "book": "Weishu",
          "iDocsCharCntM": 0
         },
         {
          "book": "Weishu",
          "iDocsCharCntM": 0
         },
         {
          "book": "Weishu",
          "iDocsCharCntM": 0
         },
         {
          "book": "Weishu",
          "iDocsCharCntM": 1527
         },
         {
          "book": "Weishu",
          "iDocsCharCntM": 3394
         },
         {
          "book": "Weishu",
          "iDocsCharCntM": 0
         },
         {
          "book": "Weishu",
          "iDocsCharCntM": 0
         },
         {
          "book": "Weishu",
          "iDocsCharCntM": 0
         },
         {
          "book": "Weishu",
          "iDocsCharCntM": 1307
         },
         {
          "book": "Weishu",
          "iDocsCharCntM": 0
         },
         {
          "book": "Weishu",
          "iDocsCharCntM": 0
         },
         {
          "book": "Weishu",
          "iDocsCharCntM": 0
         },
         {
          "book": "Weishu",
          "iDocsCharCntM": 0
         },
         {
          "book": "Weishu",
          "iDocsCharCntM": 0
         },
         {
          "book": "Weishu",
          "iDocsCharCntM": 0
         },
         {
          "book": "Weishu",
          "iDocsCharCntM": 0
         },
         {
          "book": "Weishu",
          "iDocsCharCntM": 0
         },
         {
          "book": "Weishu",
          "iDocsCharCntM": 0
         },
         {
          "book": "Weishu",
          "iDocsCharCntM": 0
         },
         {
          "book": "Weishu",
          "iDocsCharCntM": 0
         },
         {
          "book": "Weishu",
          "iDocsCharCntM": 0
         },
         {
          "book": "Weishu",
          "iDocsCharCntM": 0
         },
         {
          "book": "Weishu",
          "iDocsCharCntM": 0
         },
         {
          "book": "Weishu",
          "iDocsCharCntM": 0
         },
         {
          "book": "Weishu",
          "iDocsCharCntM": 0
         },
         {
          "book": "Weishu",
          "iDocsCharCntM": 0
         },
         {
          "book": "Weishu",
          "iDocsCharCntM": 681
         },
         {
          "book": "Weishu",
          "iDocsCharCntM": 0
         },
         {
          "book": "Weishu",
          "iDocsCharCntM": 0
         },
         {
          "book": "Weishu",
          "iDocsCharCntM": 3053
         },
         {
          "book": "Weishu",
          "iDocsCharCntM": 0
         },
         {
          "book": "Weishu",
          "iDocsCharCntM": 1309
         },
         {
          "book": "Weishu",
          "iDocsCharCntM": 0
         },
         {
          "book": "Weishu",
          "iDocsCharCntM": 928
         },
         {
          "book": "Weishu",
          "iDocsCharCntM": 0
         },
         {
          "book": "Weishu",
          "iDocsCharCntM": 0
         },
         {
          "book": "Weishu",
          "iDocsCharCntM": 995
         },
         {
          "book": "Weishu",
          "iDocsCharCntM": 0
         },
         {
          "book": "Weishu",
          "iDocsCharCntM": 2000
         },
         {
          "book": "Weishu",
          "iDocsCharCntM": 0
         },
         {
          "book": "Weishu",
          "iDocsCharCntM": 2187
         },
         {
          "book": "Weishu",
          "iDocsCharCntM": 635
         },
         {
          "book": "Weishu",
          "iDocsCharCntM": 0
         },
         {
          "book": "Weishu",
          "iDocsCharCntM": 0
         },
         {
          "book": "Weishu",
          "iDocsCharCntM": 0
         },
         {
          "book": "Weishu",
          "iDocsCharCntM": 0
         },
         {
          "book": "Weishu",
          "iDocsCharCntM": 0
         },
         {
          "book": "Weishu",
          "iDocsCharCntM": 0
         },
         {
          "book": "Weishu",
          "iDocsCharCntM": 6873
         },
         {
          "book": "Weishu",
          "iDocsCharCntM": 0
         },
         {
          "book": "Weishu",
          "iDocsCharCntM": 0
         },
         {
          "book": "Weishu",
          "iDocsCharCntM": 0
         },
         {
          "book": "Weishu",
          "iDocsCharCntM": 0
         },
         {
          "book": "Weishu",
          "iDocsCharCntM": 0
         },
         {
          "book": "Weishu",
          "iDocsCharCntM": 1429
         },
         {
          "book": "Weishu",
          "iDocsCharCntM": 1752
         },
         {
          "book": "Weishu",
          "iDocsCharCntM": 975
         },
         {
          "book": "Weishu",
          "iDocsCharCntM": 0
         },
         {
          "book": "Weishu",
          "iDocsCharCntM": 1893
         },
         {
          "book": "Weishu",
          "iDocsCharCntM": 630
         },
         {
          "book": "Weishu",
          "iDocsCharCntM": 0
         },
         {
          "book": "Weishu",
          "iDocsCharCntM": 0
         },
         {
          "book": "Weishu",
          "iDocsCharCntM": 0
         },
         {
          "book": "Weishu",
          "iDocsCharCntM": 3537
         },
         {
          "book": "Weishu",
          "iDocsCharCntM": 0
         },
         {
          "book": "Weishu",
          "iDocsCharCntM": 0
         },
         {
          "book": "Weishu",
          "iDocsCharCntM": 0
         },
         {
          "book": "Weishu",
          "iDocsCharCntM": 0
         },
         {
          "book": "Weishu",
          "iDocsCharCntM": 0
         },
         {
          "book": "Weishu",
          "iDocsCharCntM": 0
         },
         {
          "book": "Weishu",
          "iDocsCharCntM": 0
         },
         {
          "book": "Weishu",
          "iDocsCharCntM": 0
         },
         {
          "book": "Weishu",
          "iDocsCharCntM": 0
         },
         {
          "book": "Weishu",
          "iDocsCharCntM": 0
         },
         {
          "book": "Weishu",
          "iDocsCharCntM": 0
         },
         {
          "book": "Weishu",
          "iDocsCharCntM": 0
         },
         {
          "book": "Weishu",
          "iDocsCharCntM": 3040
         },
         {
          "book": "Weishu",
          "iDocsCharCntM": 0
         },
         {
          "book": "Weishu",
          "iDocsCharCntM": 0
         },
         {
          "book": "Weishu",
          "iDocsCharCntM": 0
         },
         {
          "book": "Weishu",
          "iDocsCharCntM": 0
         },
         {
          "book": "Weishu",
          "iDocsCharCntM": 0
         },
         {
          "book": "Weishu",
          "iDocsCharCntM": 0
         },
         {
          "book": "Weishu",
          "iDocsCharCntM": 0
         },
         {
          "book": "Weishu",
          "iDocsCharCntM": 0
         },
         {
          "book": "Weishu",
          "iDocsCharCntM": 0
         },
         {
          "book": "Weishu",
          "iDocsCharCntM": 0
         },
         {
          "book": "Weishu",
          "iDocsCharCntM": 0
         },
         {
          "book": "Weishu",
          "iDocsCharCntM": 0
         },
         {
          "book": "Weishu",
          "iDocsCharCntM": 0
         },
         {
          "book": "Weishu",
          "iDocsCharCntM": 0
         },
         {
          "book": "Weishu",
          "iDocsCharCntM": 0
         },
         {
          "book": "Weishu",
          "iDocsCharCntM": 876
         },
         {
          "book": "Weishu",
          "iDocsCharCntM": 0
         },
         {
          "book": "Weishu",
          "iDocsCharCntM": 0
         },
         {
          "book": "Weishu",
          "iDocsCharCntM": 567
         },
         {
          "book": "Weishu",
          "iDocsCharCntM": 735
         },
         {
          "book": "Weishu",
          "iDocsCharCntM": 0
         },
         {
          "book": "Weishu",
          "iDocsCharCntM": 1340
         },
         {
          "book": "Weishu",
          "iDocsCharCntM": 890
         },
         {
          "book": "Weishu",
          "iDocsCharCntM": 3926
         },
         {
          "book": "Weishu",
          "iDocsCharCntM": 0
         },
         {
          "book": "Weishu",
          "iDocsCharCntM": 0
         },
         {
          "book": "Weishu",
          "iDocsCharCntM": 0
         },
         {
          "book": "Weishu",
          "iDocsCharCntM": 0
         },
         {
          "book": "Weishu",
          "iDocsCharCntM": 0
         },
         {
          "book": "Weishu",
          "iDocsCharCntM": 0
         },
         {
          "book": "Weishu",
          "iDocsCharCntM": 0
         },
         {
          "book": "Weishu",
          "iDocsCharCntM": 0
         },
         {
          "book": "Weishu",
          "iDocsCharCntM": 0
         },
         {
          "book": "Weishu",
          "iDocsCharCntM": 0
         },
         {
          "book": "Weishu",
          "iDocsCharCntM": 0
         },
         {
          "book": "Weishu",
          "iDocsCharCntM": 0
         },
         {
          "book": "Weishu",
          "iDocsCharCntM": 0
         },
         {
          "book": "Weishu",
          "iDocsCharCntM": 0
         },
         {
          "book": "Weishu",
          "iDocsCharCntM": 0
         },
         {
          "book": "Weishu",
          "iDocsCharCntM": 0
         },
         {
          "book": "Weishu",
          "iDocsCharCntM": 0
         },
         {
          "book": "Weishu",
          "iDocsCharCntM": 0
         },
         {
          "book": "Weishu",
          "iDocsCharCntM": 0
         },
         {
          "book": "Weishu",
          "iDocsCharCntM": 0
         },
         {
          "book": "Weishu",
          "iDocsCharCntM": 0
         },
         {
          "book": "Weishu",
          "iDocsCharCntM": 0
         },
         {
          "book": "Weishu",
          "iDocsCharCntM": 920
         },
         {
          "book": "Weishu",
          "iDocsCharCntM": 0
         },
         {
          "book": "Weishu",
          "iDocsCharCntM": 0
         },
         {
          "book": "Weishu",
          "iDocsCharCntM": 0
         },
         {
          "book": "Weishu",
          "iDocsCharCntM": 0
         },
         {
          "book": "Weishu",
          "iDocsCharCntM": 0
         },
         {
          "book": "Weishu",
          "iDocsCharCntM": 0
         },
         {
          "book": "Weishu",
          "iDocsCharCntM": 0
         },
         {
          "book": "Weishu",
          "iDocsCharCntM": 0
         },
         {
          "book": "Weishu",
          "iDocsCharCntM": 0
         },
         {
          "book": "Weishu",
          "iDocsCharCntM": 0
         },
         {
          "book": "Weishu",
          "iDocsCharCntM": 0
         },
         {
          "book": "Weishu",
          "iDocsCharCntM": 0
         },
         {
          "book": "Weishu",
          "iDocsCharCntM": 0
         },
         {
          "book": "Weishu",
          "iDocsCharCntM": 0
         },
         {
          "book": "Weishu",
          "iDocsCharCntM": 0
         },
         {
          "book": "Weishu",
          "iDocsCharCntM": 0
         },
         {
          "book": "Weishu",
          "iDocsCharCntM": 0
         },
         {
          "book": "Weishu",
          "iDocsCharCntM": 0
         },
         {
          "book": "Weishu",
          "iDocsCharCntM": 0
         },
         {
          "book": "Weishu",
          "iDocsCharCntM": 0
         },
         {
          "book": "Weishu",
          "iDocsCharCntM": 0
         },
         {
          "book": "Weishu",
          "iDocsCharCntM": 0
         },
         {
          "book": "Weishu",
          "iDocsCharCntM": 0
         },
         {
          "book": "Weishu",
          "iDocsCharCntM": 0
         },
         {
          "book": "Weishu",
          "iDocsCharCntM": 0
         },
         {
          "book": "Weishu",
          "iDocsCharCntM": 0
         },
         {
          "book": "Weishu",
          "iDocsCharCntM": 0
         },
         {
          "book": "Weishu",
          "iDocsCharCntM": 0
         },
         {
          "book": "Weishu",
          "iDocsCharCntM": 0
         },
         {
          "book": "Weishu",
          "iDocsCharCntM": 0
         },
         {
          "book": "Weishu",
          "iDocsCharCntM": 0
         },
         {
          "book": "Weishu",
          "iDocsCharCntM": 0
         },
         {
          "book": "Weishu",
          "iDocsCharCntM": 0
         },
         {
          "book": "Weishu",
          "iDocsCharCntM": 0
         },
         {
          "book": "Weishu",
          "iDocsCharCntM": 0
         },
         {
          "book": "Weishu",
          "iDocsCharCntM": 0
         },
         {
          "book": "Weishu",
          "iDocsCharCntM": 0
         },
         {
          "book": "Weishu",
          "iDocsCharCntM": 0
         },
         {
          "book": "Weishu",
          "iDocsCharCntM": 0
         },
         {
          "book": "Weishu",
          "iDocsCharCntM": 0
         },
         {
          "book": "Weishu",
          "iDocsCharCntM": 0
         },
         {
          "book": "Weishu",
          "iDocsCharCntM": 0
         },
         {
          "book": "Weishu",
          "iDocsCharCntM": 0
         },
         {
          "book": "Weishu",
          "iDocsCharCntM": 0
         },
         {
          "book": "Weishu",
          "iDocsCharCntM": 0
         },
         {
          "book": "Weishu",
          "iDocsCharCntM": 0
         },
         {
          "book": "Weishu",
          "iDocsCharCntM": 0
         },
         {
          "book": "Weishu",
          "iDocsCharCntM": 0
         },
         {
          "book": "Weishu",
          "iDocsCharCntM": 0
         },
         {
          "book": "Weishu",
          "iDocsCharCntM": 0
         },
         {
          "book": "Weishu",
          "iDocsCharCntM": 0
         },
         {
          "book": "Weishu",
          "iDocsCharCntM": 0
         },
         {
          "book": "Weishu",
          "iDocsCharCntM": 0
         },
         {
          "book": "Weishu",
          "iDocsCharCntM": 0
         },
         {
          "book": "Weishu",
          "iDocsCharCntM": 0
         },
         {
          "book": "Weishu",
          "iDocsCharCntM": 0
         },
         {
          "book": "Weishu",
          "iDocsCharCntM": 0
         },
         {
          "book": "Weishu",
          "iDocsCharCntM": 0
         },
         {
          "book": "Weishu",
          "iDocsCharCntM": 0
         },
         {
          "book": "Weishu",
          "iDocsCharCntM": 0
         },
         {
          "book": "Weishu",
          "iDocsCharCntM": 0
         },
         {
          "book": "Weishu",
          "iDocsCharCntM": 0
         },
         {
          "book": "Weishu",
          "iDocsCharCntM": 0
         },
         {
          "book": "Weishu",
          "iDocsCharCntM": 0
         },
         {
          "book": "Weishu",
          "iDocsCharCntM": 0
         },
         {
          "book": "Weishu",
          "iDocsCharCntM": 0
         },
         {
          "book": "Weishu",
          "iDocsCharCntM": 0
         },
         {
          "book": "Weishu",
          "iDocsCharCntM": 0
         },
         {
          "book": "Weishu",
          "iDocsCharCntM": 0
         },
         {
          "book": "Weishu",
          "iDocsCharCntM": 0
         },
         {
          "book": "Weishu",
          "iDocsCharCntM": 0
         },
         {
          "book": "Weishu",
          "iDocsCharCntM": 0
         },
         {
          "book": "Weishu",
          "iDocsCharCntM": 0
         },
         {
          "book": "Weishu",
          "iDocsCharCntM": 0
         },
         {
          "book": "Weishu",
          "iDocsCharCntM": 0
         },
         {
          "book": "Weishu",
          "iDocsCharCntM": 0
         },
         {
          "book": "Weishu",
          "iDocsCharCntM": 0
         },
         {
          "book": "Weishu",
          "iDocsCharCntM": 0
         },
         {
          "book": "Weishu",
          "iDocsCharCntM": 0
         },
         {
          "book": "Weishu",
          "iDocsCharCntM": 0
         },
         {
          "book": "Weishu",
          "iDocsCharCntM": 0
         },
         {
          "book": "Weishu",
          "iDocsCharCntM": 0
         },
         {
          "book": "Weishu",
          "iDocsCharCntM": 0
         },
         {
          "book": "Weishu",
          "iDocsCharCntM": 0
         },
         {
          "book": "Weishu",
          "iDocsCharCntM": 0
         },
         {
          "book": "Weishu",
          "iDocsCharCntM": 0
         },
         {
          "book": "Weishu",
          "iDocsCharCntM": 0
         },
         {
          "book": "Weishu",
          "iDocsCharCntM": 1474
         },
         {
          "book": "Weishu",
          "iDocsCharCntM": 0
         },
         {
          "book": "Weishu",
          "iDocsCharCntM": 0
         },
         {
          "book": "Weishu",
          "iDocsCharCntM": 0
         },
         {
          "book": "Weishu",
          "iDocsCharCntM": 0
         },
         {
          "book": "Weishu",
          "iDocsCharCntM": 0
         },
         {
          "book": "Weishu",
          "iDocsCharCntM": 0
         },
         {
          "book": "Weishu",
          "iDocsCharCntM": 0
         },
         {
          "book": "Weishu",
          "iDocsCharCntM": 0
         },
         {
          "book": "Weishu",
          "iDocsCharCntM": 0
         },
         {
          "book": "Weishu",
          "iDocsCharCntM": 0
         },
         {
          "book": "Weishu",
          "iDocsCharCntM": 0
         },
         {
          "book": "Weishu",
          "iDocsCharCntM": 0
         },
         {
          "book": "Weishu",
          "iDocsCharCntM": 0
         },
         {
          "book": "Weishu",
          "iDocsCharCntM": 0
         },
         {
          "book": "Weishu",
          "iDocsCharCntM": 0
         },
         {
          "book": "Weishu",
          "iDocsCharCntM": 2829
         },
         {
          "book": "Weishu",
          "iDocsCharCntM": 0
         },
         {
          "book": "Weishu",
          "iDocsCharCntM": 0
         },
         {
          "book": "Weishu",
          "iDocsCharCntM": 0
         },
         {
          "book": "Weishu",
          "iDocsCharCntM": 6360
         },
         {
          "book": "Weishu",
          "iDocsCharCntM": 0
         },
         {
          "book": "Weishu",
          "iDocsCharCntM": 0
         },
         {
          "book": "Weishu",
          "iDocsCharCntM": 0
         },
         {
          "book": "Weishu",
          "iDocsCharCntM": 0
         },
         {
          "book": "Weishu",
          "iDocsCharCntM": 2074
         },
         {
          "book": "Weishu",
          "iDocsCharCntM": 0
         },
         {
          "book": "Weishu",
          "iDocsCharCntM": 0
         },
         {
          "book": "Weishu",
          "iDocsCharCntM": 0
         },
         {
          "book": "Weishu",
          "iDocsCharCntM": 0
         },
         {
          "book": "Weishu",
          "iDocsCharCntM": 0
         },
         {
          "book": "Weishu",
          "iDocsCharCntM": 0
         },
         {
          "book": "Weishu",
          "iDocsCharCntM": 0
         },
         {
          "book": "Weishu",
          "iDocsCharCntM": 0
         },
         {
          "book": "Weishu",
          "iDocsCharCntM": 0
         },
         {
          "book": "Weishu",
          "iDocsCharCntM": 0
         },
         {
          "book": "Weishu",
          "iDocsCharCntM": 0
         },
         {
          "book": "Weishu",
          "iDocsCharCntM": 0
         },
         {
          "book": "Weishu",
          "iDocsCharCntM": 0
         },
         {
          "book": "Weishu",
          "iDocsCharCntM": 0
         },
         {
          "book": "Weishu",
          "iDocsCharCntM": 0
         },
         {
          "book": "Weishu",
          "iDocsCharCntM": 0
         },
         {
          "book": "Weishu",
          "iDocsCharCntM": 0
         },
         {
          "book": "Weishu",
          "iDocsCharCntM": 0
         },
         {
          "book": "Weishu",
          "iDocsCharCntM": 0
         },
         {
          "book": "Weishu",
          "iDocsCharCntM": 0
         },
         {
          "book": "Weishu",
          "iDocsCharCntM": 0
         },
         {
          "book": "Weishu",
          "iDocsCharCntM": 0
         },
         {
          "book": "Weishu",
          "iDocsCharCntM": 0
         },
         {
          "book": "Weishu",
          "iDocsCharCntM": 0
         },
         {
          "book": "Weishu",
          "iDocsCharCntM": 0
         },
         {
          "book": "Weishu",
          "iDocsCharCntM": 475
         },
         {
          "book": "Weishu",
          "iDocsCharCntM": 0
         },
         {
          "book": "Weishu",
          "iDocsCharCntM": 0
         },
         {
          "book": "Weishu",
          "iDocsCharCntM": 0
         },
         {
          "book": "Weishu",
          "iDocsCharCntM": 0
         },
         {
          "book": "Weishu",
          "iDocsCharCntM": 0
         },
         {
          "book": "Weishu",
          "iDocsCharCntM": 0
         },
         {
          "book": "Weishu",
          "iDocsCharCntM": 0
         },
         {
          "book": "Weishu",
          "iDocsCharCntM": 0
         },
         {
          "book": "Weishu",
          "iDocsCharCntM": 0
         },
         {
          "book": "Weishu",
          "iDocsCharCntM": 0
         },
         {
          "book": "Weishu",
          "iDocsCharCntM": 0
         },
         {
          "book": "Weishu",
          "iDocsCharCntM": 0
         },
         {
          "book": "Weishu",
          "iDocsCharCntM": 0
         },
         {
          "book": "Weishu",
          "iDocsCharCntM": 0
         },
         {
          "book": "Weishu",
          "iDocsCharCntM": 0
         },
         {
          "book": "Weishu",
          "iDocsCharCntM": 0
         },
         {
          "book": "Weishu",
          "iDocsCharCntM": 0
         },
         {
          "book": "Weishu",
          "iDocsCharCntM": 0
         },
         {
          "book": "Weishu",
          "iDocsCharCntM": 0
         },
         {
          "book": "Weishu",
          "iDocsCharCntM": 0
         },
         {
          "book": "Weishu",
          "iDocsCharCntM": 0
         },
         {
          "book": "Weishu",
          "iDocsCharCntM": 0
         },
         {
          "book": "Weishu",
          "iDocsCharCntM": 0
         },
         {
          "book": "Weishu",
          "iDocsCharCntM": 0
         },
         {
          "book": "Weishu",
          "iDocsCharCntM": 0
         },
         {
          "book": "Weishu",
          "iDocsCharCntM": 0
         },
         {
          "book": "Weishu",
          "iDocsCharCntM": 0
         },
         {
          "book": "Weishu",
          "iDocsCharCntM": 0
         },
         {
          "book": "Weishu",
          "iDocsCharCntM": 0
         },
         {
          "book": "Weishu",
          "iDocsCharCntM": 0
         },
         {
          "book": "Weishu",
          "iDocsCharCntM": 0
         },
         {
          "book": "Weishu",
          "iDocsCharCntM": 0
         },
         {
          "book": "Weishu",
          "iDocsCharCntM": 0
         },
         {
          "book": "Weishu",
          "iDocsCharCntM": 0
         },
         {
          "book": "Weishu",
          "iDocsCharCntM": 0
         },
         {
          "book": "Weishu",
          "iDocsCharCntM": 0
         },
         {
          "book": "Weishu",
          "iDocsCharCntM": 0
         },
         {
          "book": "Weishu",
          "iDocsCharCntM": 0
         },
         {
          "book": "Weishu",
          "iDocsCharCntM": 0
         },
         {
          "book": "Weishu",
          "iDocsCharCntM": 0
         },
         {
          "book": "Weishu",
          "iDocsCharCntM": 0
         },
         {
          "book": "Weishu",
          "iDocsCharCntM": 0
         },
         {
          "book": "Weishu",
          "iDocsCharCntM": 0
         },
         {
          "book": "Weishu",
          "iDocsCharCntM": 0
         },
         {
          "book": "Weishu",
          "iDocsCharCntM": 554
         },
         {
          "book": "Weishu",
          "iDocsCharCntM": 0
         },
         {
          "book": "Weishu",
          "iDocsCharCntM": 0
         },
         {
          "book": "Weishu",
          "iDocsCharCntM": 0
         },
         {
          "book": "Weishu",
          "iDocsCharCntM": 2866
         },
         {
          "book": "Weishu",
          "iDocsCharCntM": 0
         },
         {
          "book": "Weishu",
          "iDocsCharCntM": 0
         },
         {
          "book": "Weishu",
          "iDocsCharCntM": 0
         },
         {
          "book": "Weishu",
          "iDocsCharCntM": 0
         },
         {
          "book": "Weishu",
          "iDocsCharCntM": 0
         },
         {
          "book": "Weishu",
          "iDocsCharCntM": 0
         },
         {
          "book": "Weishu",
          "iDocsCharCntM": 0
         },
         {
          "book": "Weishu",
          "iDocsCharCntM": 0
         },
         {
          "book": "Weishu",
          "iDocsCharCntM": 0
         },
         {
          "book": "Weishu",
          "iDocsCharCntM": 0
         },
         {
          "book": "Weishu",
          "iDocsCharCntM": 0
         },
         {
          "book": "Weishu",
          "iDocsCharCntM": 0
         },
         {
          "book": "Weishu",
          "iDocsCharCntM": 0
         },
         {
          "book": "Weishu",
          "iDocsCharCntM": 0
         },
         {
          "book": "Weishu",
          "iDocsCharCntM": 0
         },
         {
          "book": "Weishu",
          "iDocsCharCntM": 0
         },
         {
          "book": "Weishu",
          "iDocsCharCntM": 0
         },
         {
          "book": "Weishu",
          "iDocsCharCntM": 0
         },
         {
          "book": "Weishu",
          "iDocsCharCntM": 0
         },
         {
          "book": "Weishu",
          "iDocsCharCntM": 0
         },
         {
          "book": "Weishu",
          "iDocsCharCntM": 0
         },
         {
          "book": "Weishu",
          "iDocsCharCntM": 0
         },
         {
          "book": "Weishu",
          "iDocsCharCntM": 0
         },
         {
          "book": "Weishu",
          "iDocsCharCntM": 0
         },
         {
          "book": "Weishu",
          "iDocsCharCntM": 0
         },
         {
          "book": "Weishu",
          "iDocsCharCntM": 0
         },
         {
          "book": "Weishu",
          "iDocsCharCntM": 0
         },
         {
          "book": "Weishu",
          "iDocsCharCntM": 0
         },
         {
          "book": "Weishu",
          "iDocsCharCntM": 0
         },
         {
          "book": "Weishu",
          "iDocsCharCntM": 0
         },
         {
          "book": "Weishu",
          "iDocsCharCntM": 0
         },
         {
          "book": "Weishu",
          "iDocsCharCntM": 0
         },
         {
          "book": "Weishu",
          "iDocsCharCntM": 0
         },
         {
          "book": "Weishu",
          "iDocsCharCntM": 0
         },
         {
          "book": "Weishu",
          "iDocsCharCntM": 0
         },
         {
          "book": "Weishu",
          "iDocsCharCntM": 0
         },
         {
          "book": "Weishu",
          "iDocsCharCntM": 0
         },
         {
          "book": "Weishu",
          "iDocsCharCntM": 0
         },
         {
          "book": "Weishu",
          "iDocsCharCntM": 0
         },
         {
          "book": "Weishu",
          "iDocsCharCntM": 0
         },
         {
          "book": "Weishu",
          "iDocsCharCntM": 0
         },
         {
          "book": "Weishu",
          "iDocsCharCntM": 0
         },
         {
          "book": "Weishu",
          "iDocsCharCntM": 0
         },
         {
          "book": "Weishu",
          "iDocsCharCntM": 0
         },
         {
          "book": "Weishu",
          "iDocsCharCntM": 0
         },
         {
          "book": "Weishu",
          "iDocsCharCntM": 0
         },
         {
          "book": "Weishu",
          "iDocsCharCntM": 0
         },
         {
          "book": "Weishu",
          "iDocsCharCntM": 0
         },
         {
          "book": "Weishu",
          "iDocsCharCntM": 0
         },
         {
          "book": "Weishu",
          "iDocsCharCntM": 0
         },
         {
          "book": "Weishu",
          "iDocsCharCntM": 0
         },
         {
          "book": "Weishu",
          "iDocsCharCntM": 0
         },
         {
          "book": "Weishu",
          "iDocsCharCntM": 0
         },
         {
          "book": "Weishu",
          "iDocsCharCntM": 0
         },
         {
          "book": "Weishu",
          "iDocsCharCntM": 0
         },
         {
          "book": "Weishu",
          "iDocsCharCntM": 0
         },
         {
          "book": "Weishu",
          "iDocsCharCntM": 0
         },
         {
          "book": "Weishu",
          "iDocsCharCntM": 0
         },
         {
          "book": "Weishu",
          "iDocsCharCntM": 0
         },
         {
          "book": "Weishu",
          "iDocsCharCntM": 0
         },
         {
          "book": "Weishu",
          "iDocsCharCntM": 0
         },
         {
          "book": "Weishu",
          "iDocsCharCntM": 0
         },
         {
          "book": "Weishu",
          "iDocsCharCntM": 0
         },
         {
          "book": "Weishu",
          "iDocsCharCntM": 0
         },
         {
          "book": "Weishu",
          "iDocsCharCntM": 0
         },
         {
          "book": "Weishu",
          "iDocsCharCntM": 0
         },
         {
          "book": "Weishu",
          "iDocsCharCntM": 0
         },
         {
          "book": "Weishu",
          "iDocsCharCntM": 0
         },
         {
          "book": "Weishu",
          "iDocsCharCntM": 0
         },
         {
          "book": "Weishu",
          "iDocsCharCntM": 0
         },
         {
          "book": "Weishu",
          "iDocsCharCntM": 0
         },
         {
          "book": "Weishu",
          "iDocsCharCntM": 0
         },
         {
          "book": "Weishu",
          "iDocsCharCntM": 0
         },
         {
          "book": "Weishu",
          "iDocsCharCntM": 0
         },
         {
          "book": "Weishu",
          "iDocsCharCntM": 0
         },
         {
          "book": "Weishu",
          "iDocsCharCntM": 0
         },
         {
          "book": "Weishu",
          "iDocsCharCntM": 0
         },
         {
          "book": "Weishu",
          "iDocsCharCntM": 0
         },
         {
          "book": "Weishu",
          "iDocsCharCntM": 0
         },
         {
          "book": "Weishu",
          "iDocsCharCntM": 0
         },
         {
          "book": "Weishu",
          "iDocsCharCntM": 0
         },
         {
          "book": "Weishu",
          "iDocsCharCntM": 0
         },
         {
          "book": "Weishu",
          "iDocsCharCntM": 0
         },
         {
          "book": "Weishu",
          "iDocsCharCntM": 0
         },
         {
          "book": "Weishu",
          "iDocsCharCntM": 0
         },
         {
          "book": "Weishu",
          "iDocsCharCntM": 0
         },
         {
          "book": "Weishu",
          "iDocsCharCntM": 0
         },
         {
          "book": "Weishu",
          "iDocsCharCntM": 0
         },
         {
          "book": "LiangShu",
          "iDocsCharCntM": 0
         },
         {
          "book": "LiangShu",
          "iDocsCharCntM": 0
         },
         {
          "book": "LiangShu",
          "iDocsCharCntM": 0
         },
         {
          "book": "LiangShu",
          "iDocsCharCntM": 0
         },
         {
          "book": "LiangShu",
          "iDocsCharCntM": 0
         },
         {
          "book": "LiangShu",
          "iDocsCharCntM": 0
         },
         {
          "book": "LiangShu",
          "iDocsCharCntM": 1001
         },
         {
          "book": "LiangShu",
          "iDocsCharCntM": 0
         },
         {
          "book": "LiangShu",
          "iDocsCharCntM": 0
         },
         {
          "book": "LiangShu",
          "iDocsCharCntM": 982
         },
         {
          "book": "LiangShu",
          "iDocsCharCntM": 0
         },
         {
          "book": "LiangShu",
          "iDocsCharCntM": 0
         },
         {
          "book": "LiangShu",
          "iDocsCharCntM": 0
         },
         {
          "book": "LiangShu",
          "iDocsCharCntM": 0
         },
         {
          "book": "LiangShu",
          "iDocsCharCntM": 0
         },
         {
          "book": "LiangShu",
          "iDocsCharCntM": 312
         },
         {
          "book": "LiangShu",
          "iDocsCharCntM": 0
         },
         {
          "book": "LiangShu",
          "iDocsCharCntM": 0
         },
         {
          "book": "LiangShu",
          "iDocsCharCntM": 0
         },
         {
          "book": "LiangShu",
          "iDocsCharCntM": 0
         },
         {
          "book": "LiangShu",
          "iDocsCharCntM": 0
         },
         {
          "book": "LiangShu",
          "iDocsCharCntM": 0
         },
         {
          "book": "LiangShu",
          "iDocsCharCntM": 0
         },
         {
          "book": "LiangShu",
          "iDocsCharCntM": 0
         },
         {
          "book": "LiangShu",
          "iDocsCharCntM": 0
         },
         {
          "book": "LiangShu",
          "iDocsCharCntM": 0
         },
         {
          "book": "LiangShu",
          "iDocsCharCntM": 0
         },
         {
          "book": "LiangShu",
          "iDocsCharCntM": 0
         },
         {
          "book": "LiangShu",
          "iDocsCharCntM": 0
         },
         {
          "book": "LiangShu",
          "iDocsCharCntM": 0
         },
         {
          "book": "LiangShu",
          "iDocsCharCntM": 3071
         },
         {
          "book": "LiangShu",
          "iDocsCharCntM": 0
         },
         {
          "book": "LiangShu",
          "iDocsCharCntM": 775
         },
         {
          "book": "LiangShu",
          "iDocsCharCntM": 1828
         },
         {
          "book": "LiangShu",
          "iDocsCharCntM": 0
         },
         {
          "book": "LiangShu",
          "iDocsCharCntM": 0
         },
         {
          "book": "LiangShu",
          "iDocsCharCntM": 544
         },
         {
          "book": "LiangShu",
          "iDocsCharCntM": 0
         },
         {
          "book": "LiangShu",
          "iDocsCharCntM": 0
         },
         {
          "book": "LiangShu",
          "iDocsCharCntM": 0
         },
         {
          "book": "LiangShu",
          "iDocsCharCntM": 0
         },
         {
          "book": "LiangShu",
          "iDocsCharCntM": 0
         },
         {
          "book": "LiangShu",
          "iDocsCharCntM": 0
         },
         {
          "book": "LiangShu",
          "iDocsCharCntM": 0
         },
         {
          "book": "LiangShu",
          "iDocsCharCntM": 0
         },
         {
          "book": "LiangShu",
          "iDocsCharCntM": 0
         },
         {
          "book": "LiangShu",
          "iDocsCharCntM": 0
         },
         {
          "book": "LiangShu",
          "iDocsCharCntM": 0
         },
         {
          "book": "LiangShu",
          "iDocsCharCntM": 0
         },
         {
          "book": "LiangShu",
          "iDocsCharCntM": 0
         },
         {
          "book": "LiangShu",
          "iDocsCharCntM": 0
         },
         {
          "book": "LiangShu",
          "iDocsCharCntM": 561
         },
         {
          "book": "LiangShu",
          "iDocsCharCntM": 0
         },
         {
          "book": "LiangShu",
          "iDocsCharCntM": 0
         },
         {
          "book": "LiangShu",
          "iDocsCharCntM": 0
         },
         {
          "book": "LiangShu",
          "iDocsCharCntM": 0
         },
         {
          "book": "LiangShu",
          "iDocsCharCntM": 0
         },
         {
          "book": "LiangShu",
          "iDocsCharCntM": 0
         },
         {
          "book": "LiangShu",
          "iDocsCharCntM": 0
         },
         {
          "book": "LiangShu",
          "iDocsCharCntM": 0
         },
         {
          "book": "LiangShu",
          "iDocsCharCntM": 0
         },
         {
          "book": "LiangShu",
          "iDocsCharCntM": 0
         },
         {
          "book": "LiangShu",
          "iDocsCharCntM": 831
         },
         {
          "book": "LiangShu",
          "iDocsCharCntM": 0
         },
         {
          "book": "LiangShu",
          "iDocsCharCntM": 0
         },
         {
          "book": "LiangShu",
          "iDocsCharCntM": 0
         },
         {
          "book": "LiangShu",
          "iDocsCharCntM": 0
         },
         {
          "book": "LiangShu",
          "iDocsCharCntM": 0
         },
         {
          "book": "LiangShu",
          "iDocsCharCntM": 0
         },
         {
          "book": "LiangShu",
          "iDocsCharCntM": 0
         },
         {
          "book": "LiangShu",
          "iDocsCharCntM": 0
         },
         {
          "book": "LiangShu",
          "iDocsCharCntM": 0
         },
         {
          "book": "LiangShu",
          "iDocsCharCntM": 0
         },
         {
          "book": "LiangShu",
          "iDocsCharCntM": 0
         },
         {
          "book": "LiangShu",
          "iDocsCharCntM": 0
         },
         {
          "book": "LiangShu",
          "iDocsCharCntM": 0
         },
         {
          "book": "LiangShu",
          "iDocsCharCntM": 0
         },
         {
          "book": "LiangShu",
          "iDocsCharCntM": 0
         },
         {
          "book": "LiangShu",
          "iDocsCharCntM": 0
         },
         {
          "book": "LiangShu",
          "iDocsCharCntM": 0
         },
         {
          "book": "LiangShu",
          "iDocsCharCntM": 0
         },
         {
          "book": "LiangShu",
          "iDocsCharCntM": 0
         },
         {
          "book": "LiangShu",
          "iDocsCharCntM": 0
         },
         {
          "book": "LiangShu",
          "iDocsCharCntM": 0
         },
         {
          "book": "LiangShu",
          "iDocsCharCntM": 0
         },
         {
          "book": "LiangShu",
          "iDocsCharCntM": 0
         },
         {
          "book": "LiangShu",
          "iDocsCharCntM": 0
         },
         {
          "book": "LiangShu",
          "iDocsCharCntM": 0
         },
         {
          "book": "LiangShu",
          "iDocsCharCntM": 4027
         },
         {
          "book": "LiangShu",
          "iDocsCharCntM": 0
         },
         {
          "book": "LiangShu",
          "iDocsCharCntM": 0
         },
         {
          "book": "LiangShu",
          "iDocsCharCntM": 0
         },
         {
          "book": "LiangShu",
          "iDocsCharCntM": 0
         },
         {
          "book": "LiangShu",
          "iDocsCharCntM": 0
         },
         {
          "book": "LiangShu",
          "iDocsCharCntM": 0
         },
         {
          "book": "LiangShu",
          "iDocsCharCntM": 0
         },
         {
          "book": "LiangShu",
          "iDocsCharCntM": 0
         },
         {
          "book": "LiangShu",
          "iDocsCharCntM": 0
         },
         {
          "book": "LiangShu",
          "iDocsCharCntM": 0
         },
         {
          "book": "LiangShu",
          "iDocsCharCntM": 0
         },
         {
          "book": "LiangShu",
          "iDocsCharCntM": 0
         },
         {
          "book": "LiangShu",
          "iDocsCharCntM": 0
         },
         {
          "book": "LiangShu",
          "iDocsCharCntM": 0
         },
         {
          "book": "LiangShu",
          "iDocsCharCntM": 0
         },
         {
          "book": "LiangShu",
          "iDocsCharCntM": 0
         },
         {
          "book": "LiangShu",
          "iDocsCharCntM": 0
         },
         {
          "book": "LiangShu",
          "iDocsCharCntM": 0
         },
         {
          "book": "LiangShu",
          "iDocsCharCntM": 0
         },
         {
          "book": "LiangShu",
          "iDocsCharCntM": 0
         },
         {
          "book": "LiangShu",
          "iDocsCharCntM": 0
         },
         {
          "book": "LiangShu",
          "iDocsCharCntM": 0
         },
         {
          "book": "LiangShu",
          "iDocsCharCntM": 0
         },
         {
          "book": "LiangShu",
          "iDocsCharCntM": 0
         },
         {
          "book": "LiangShu",
          "iDocsCharCntM": 0
         },
         {
          "book": "LiangShu",
          "iDocsCharCntM": 1259
         },
         {
          "book": "LiangShu",
          "iDocsCharCntM": 0
         },
         {
          "book": "LiangShu",
          "iDocsCharCntM": 0
         },
         {
          "book": "LiangShu",
          "iDocsCharCntM": 0
         },
         {
          "book": "LiangShu",
          "iDocsCharCntM": 0
         },
         {
          "book": "LiangShu",
          "iDocsCharCntM": 0
         },
         {
          "book": "LiangShu",
          "iDocsCharCntM": 0
         },
         {
          "book": "LiangShu",
          "iDocsCharCntM": 0
         },
         {
          "book": "LiangShu",
          "iDocsCharCntM": 0
         },
         {
          "book": "LiangShu",
          "iDocsCharCntM": 0
         },
         {
          "book": "LiangShu",
          "iDocsCharCntM": 0
         },
         {
          "book": "LiangShu",
          "iDocsCharCntM": 1425
         },
         {
          "book": "LiangShu",
          "iDocsCharCntM": 1179
         },
         {
          "book": "LiangShu",
          "iDocsCharCntM": 0
         },
         {
          "book": "LiangShu",
          "iDocsCharCntM": 0
         },
         {
          "book": "LiangShu",
          "iDocsCharCntM": 0
         },
         {
          "book": "LiangShu",
          "iDocsCharCntM": 0
         },
         {
          "book": "LiangShu",
          "iDocsCharCntM": 4084
         },
         {
          "book": "LiangShu",
          "iDocsCharCntM": 0
         },
         {
          "book": "LiangShu",
          "iDocsCharCntM": 0
         },
         {
          "book": "LiangShu",
          "iDocsCharCntM": 0
         },
         {
          "book": "LiangShu",
          "iDocsCharCntM": 0
         },
         {
          "book": "LiangShu",
          "iDocsCharCntM": 0
         },
         {
          "book": "LiangShu",
          "iDocsCharCntM": 0
         },
         {
          "book": "LiangShu",
          "iDocsCharCntM": 0
         },
         {
          "book": "LiangShu",
          "iDocsCharCntM": 0
         },
         {
          "book": "LiangShu",
          "iDocsCharCntM": 0
         },
         {
          "book": "LiangShu",
          "iDocsCharCntM": 0
         },
         {
          "book": "LiangShu",
          "iDocsCharCntM": 0
         },
         {
          "book": "LiangShu",
          "iDocsCharCntM": 4728
         },
         {
          "book": "LiangShu",
          "iDocsCharCntM": 0
         },
         {
          "book": "LiangShu",
          "iDocsCharCntM": 0
         },
         {
          "book": "LiangShu",
          "iDocsCharCntM": 0
         },
         {
          "book": "LiangShu",
          "iDocsCharCntM": 0
         },
         {
          "book": "LiangShu",
          "iDocsCharCntM": 0
         },
         {
          "book": "LiangShu",
          "iDocsCharCntM": 0
         },
         {
          "book": "LiangShu",
          "iDocsCharCntM": 0
         },
         {
          "book": "LiangShu",
          "iDocsCharCntM": 0
         },
         {
          "book": "LiangShu",
          "iDocsCharCntM": 0
         },
         {
          "book": "LiangShu",
          "iDocsCharCntM": 0
         },
         {
          "book": "LiangShu",
          "iDocsCharCntM": 0
         },
         {
          "book": "LiangShu",
          "iDocsCharCntM": 0
         },
         {
          "book": "LiangShu",
          "iDocsCharCntM": 0
         },
         {
          "book": "LiangShu",
          "iDocsCharCntM": 0
         },
         {
          "book": "LiangShu",
          "iDocsCharCntM": 0
         },
         {
          "book": "LiangShu",
          "iDocsCharCntM": 0
         },
         {
          "book": "LiangShu",
          "iDocsCharCntM": 1595
         },
         {
          "book": "LiangShu",
          "iDocsCharCntM": 0
         },
         {
          "book": "LiangShu",
          "iDocsCharCntM": 303
         },
         {
          "book": "LiangShu",
          "iDocsCharCntM": 0
         },
         {
          "book": "LiangShu",
          "iDocsCharCntM": 0
         },
         {
          "book": "LiangShu",
          "iDocsCharCntM": 0
         },
         {
          "book": "LiangShu",
          "iDocsCharCntM": 0
         },
         {
          "book": "LiangShu",
          "iDocsCharCntM": 394
         },
         {
          "book": "LiangShu",
          "iDocsCharCntM": 0
         },
         {
          "book": "LiangShu",
          "iDocsCharCntM": 0
         },
         {
          "book": "LiangShu",
          "iDocsCharCntM": 0
         },
         {
          "book": "LiangShu",
          "iDocsCharCntM": 0
         },
         {
          "book": "LiangShu",
          "iDocsCharCntM": 466
         },
         {
          "book": "LiangShu",
          "iDocsCharCntM": 0
         },
         {
          "book": "LiangShu",
          "iDocsCharCntM": 0
         },
         {
          "book": "LiangShu",
          "iDocsCharCntM": 0
         },
         {
          "book": "LiangShu",
          "iDocsCharCntM": 0
         },
         {
          "book": "LiangShu",
          "iDocsCharCntM": 0
         },
         {
          "book": "LiangShu",
          "iDocsCharCntM": 0
         },
         {
          "book": "LiangShu",
          "iDocsCharCntM": 0
         },
         {
          "book": "LiangShu",
          "iDocsCharCntM": 0
         },
         {
          "book": "LiangShu",
          "iDocsCharCntM": 0
         },
         {
          "book": "LiangShu",
          "iDocsCharCntM": 0
         },
         {
          "book": "LiangShu",
          "iDocsCharCntM": 0
         },
         {
          "book": "LiangShu",
          "iDocsCharCntM": 0
         },
         {
          "book": "LiangShu",
          "iDocsCharCntM": 0
         },
         {
          "book": "LiangShu",
          "iDocsCharCntM": 0
         },
         {
          "book": "LiangShu",
          "iDocsCharCntM": 0
         },
         {
          "book": "LiangShu",
          "iDocsCharCntM": 0
         },
         {
          "book": "LiangShu",
          "iDocsCharCntM": 0
         },
         {
          "book": "LiangShu",
          "iDocsCharCntM": 0
         },
         {
          "book": "LiangShu",
          "iDocsCharCntM": 0
         },
         {
          "book": "LiangShu",
          "iDocsCharCntM": 0
         },
         {
          "book": "LiangShu",
          "iDocsCharCntM": 0
         },
         {
          "book": "LiangShu",
          "iDocsCharCntM": 0
         },
         {
          "book": "LiangShu",
          "iDocsCharCntM": 0
         },
         {
          "book": "LiangShu",
          "iDocsCharCntM": 0
         },
         {
          "book": "LiangShu",
          "iDocsCharCntM": 0
         },
         {
          "book": "LiangShu",
          "iDocsCharCntM": 0
         },
         {
          "book": "LiangShu",
          "iDocsCharCntM": 0
         },
         {
          "book": "LiangShu",
          "iDocsCharCntM": 0
         },
         {
          "book": "LiangShu",
          "iDocsCharCntM": 0
         },
         {
          "book": "LiangShu",
          "iDocsCharCntM": 0
         },
         {
          "book": "LiangShu",
          "iDocsCharCntM": 0
         },
         {
          "book": "LiangShu",
          "iDocsCharCntM": 0
         },
         {
          "book": "LiangShu",
          "iDocsCharCntM": 0
         },
         {
          "book": "LiangShu",
          "iDocsCharCntM": 0
         },
         {
          "book": "LiangShu",
          "iDocsCharCntM": 0
         },
         {
          "book": "LiangShu",
          "iDocsCharCntM": 0
         },
         {
          "book": "LiangShu",
          "iDocsCharCntM": 0
         },
         {
          "book": "LiangShu",
          "iDocsCharCntM": 0
         },
         {
          "book": "LiangShu",
          "iDocsCharCntM": 0
         },
         {
          "book": "LiangShu",
          "iDocsCharCntM": 0
         },
         {
          "book": "LiangShu",
          "iDocsCharCntM": 0
         },
         {
          "book": "LiangShu",
          "iDocsCharCntM": 0
         },
         {
          "book": "LiangShu",
          "iDocsCharCntM": 0
         },
         {
          "book": "LiangShu",
          "iDocsCharCntM": 0
         },
         {
          "book": "LiangShu",
          "iDocsCharCntM": 0
         },
         {
          "book": "LiangShu",
          "iDocsCharCntM": 0
         },
         {
          "book": "LiangShu",
          "iDocsCharCntM": 0
         },
         {
          "book": "LiangShu",
          "iDocsCharCntM": 0
         },
         {
          "book": "LiangShu",
          "iDocsCharCntM": 0
         },
         {
          "book": "LiangShu",
          "iDocsCharCntM": 0
         },
         {
          "book": "LiangShu",
          "iDocsCharCntM": 0
         },
         {
          "book": "LiangShu",
          "iDocsCharCntM": 0
         },
         {
          "book": "LiangShu",
          "iDocsCharCntM": 0
         },
         {
          "book": "LiangShu",
          "iDocsCharCntM": 0
         },
         {
          "book": "LiangShu",
          "iDocsCharCntM": 2508
         },
         {
          "book": "LiangShu",
          "iDocsCharCntM": 0
         },
         {
          "book": "LiangShu",
          "iDocsCharCntM": 0
         },
         {
          "book": "LiangShu",
          "iDocsCharCntM": 0
         },
         {
          "book": "LiangShu",
          "iDocsCharCntM": 0
         },
         {
          "book": "LiangShu",
          "iDocsCharCntM": 0
         },
         {
          "book": "LiangShu",
          "iDocsCharCntM": 0
         },
         {
          "book": "LiangShu",
          "iDocsCharCntM": 0
         },
         {
          "book": "LiangShu",
          "iDocsCharCntM": 0
         },
         {
          "book": "LiangShu",
          "iDocsCharCntM": 0
         },
         {
          "book": "LiangShu",
          "iDocsCharCntM": 0
         },
         {
          "book": "LiangShu",
          "iDocsCharCntM": 0
         },
         {
          "book": "LiangShu",
          "iDocsCharCntM": 0
         },
         {
          "book": "LiangShu",
          "iDocsCharCntM": 0
         },
         {
          "book": "LiangShu",
          "iDocsCharCntM": 0
         },
         {
          "book": "LiangShu",
          "iDocsCharCntM": 0
         },
         {
          "book": "LiangShu",
          "iDocsCharCntM": 0
         },
         {
          "book": "LiangShu",
          "iDocsCharCntM": 0
         },
         {
          "book": "LiangShu",
          "iDocsCharCntM": 0
         },
         {
          "book": "LiangShu",
          "iDocsCharCntM": 0
         },
         {
          "book": "LiangShu",
          "iDocsCharCntM": 731
         },
         {
          "book": "LiangShu",
          "iDocsCharCntM": 0
         },
         {
          "book": "LiangShu",
          "iDocsCharCntM": 0
         },
         {
          "book": "LiangShu",
          "iDocsCharCntM": 1369
         },
         {
          "book": "LiangShu",
          "iDocsCharCntM": 0
         },
         {
          "book": "LiangShu",
          "iDocsCharCntM": 0
         },
         {
          "book": "LiangShu",
          "iDocsCharCntM": 2416
         },
         {
          "book": "LiangShu",
          "iDocsCharCntM": 0
         },
         {
          "book": "LiangShu",
          "iDocsCharCntM": 0
         },
         {
          "book": "LiangShu",
          "iDocsCharCntM": 943
         },
         {
          "book": "LiangShu",
          "iDocsCharCntM": 0
         },
         {
          "book": "LiangShu",
          "iDocsCharCntM": 0
         },
         {
          "book": "LiangShu",
          "iDocsCharCntM": 0
         },
         {
          "book": "LiangShu",
          "iDocsCharCntM": 0
         },
         {
          "book": "LiangShu",
          "iDocsCharCntM": 0
         },
         {
          "book": "LiangShu",
          "iDocsCharCntM": 0
         },
         {
          "book": "LiangShu",
          "iDocsCharCntM": 1323
         },
         {
          "book": "LiangShu",
          "iDocsCharCntM": 0
         },
         {
          "book": "LiangShu",
          "iDocsCharCntM": 0
         },
         {
          "book": "LiangShu",
          "iDocsCharCntM": 0
         },
         {
          "book": "LiangShu",
          "iDocsCharCntM": 0
         },
         {
          "book": "LiangShu",
          "iDocsCharCntM": 0
         },
         {
          "book": "LiangShu",
          "iDocsCharCntM": 0
         },
         {
          "book": "LiangShu",
          "iDocsCharCntM": 0
         },
         {
          "book": "LiangShu",
          "iDocsCharCntM": 0
         },
         {
          "book": "LiangShu",
          "iDocsCharCntM": 0
         },
         {
          "book": "LiangShu",
          "iDocsCharCntM": 0
         },
         {
          "book": "LiangShu",
          "iDocsCharCntM": 0
         },
         {
          "book": "LiangShu",
          "iDocsCharCntM": 0
         },
         {
          "book": "LiangShu",
          "iDocsCharCntM": 0
         },
         {
          "book": "LiangShu",
          "iDocsCharCntM": 0
         },
         {
          "book": "LiangShu",
          "iDocsCharCntM": 1139
         },
         {
          "book": "LiangShu",
          "iDocsCharCntM": 0
         },
         {
          "book": "LiangShu",
          "iDocsCharCntM": 0
         },
         {
          "book": "LiangShu",
          "iDocsCharCntM": 0
         },
         {
          "book": "LiangShu",
          "iDocsCharCntM": 0
         },
         {
          "book": "LiangShu",
          "iDocsCharCntM": 0
         },
         {
          "book": "LiangShu",
          "iDocsCharCntM": 408
         },
         {
          "book": "LiangShu",
          "iDocsCharCntM": 0
         },
         {
          "book": "LiangShu",
          "iDocsCharCntM": 0
         },
         {
          "book": "LiangShu",
          "iDocsCharCntM": 0
         },
         {
          "book": "LiangShu",
          "iDocsCharCntM": 0
         },
         {
          "book": "LiangShu",
          "iDocsCharCntM": 0
         },
         {
          "book": "LiangShu",
          "iDocsCharCntM": 0
         },
         {
          "book": "LiangShu",
          "iDocsCharCntM": 0
         },
         {
          "book": "LiangShu",
          "iDocsCharCntM": 0
         },
         {
          "book": "LiangShu",
          "iDocsCharCntM": 0
         },
         {
          "book": "LiangShu",
          "iDocsCharCntM": 566
         },
         {
          "book": "LiangShu",
          "iDocsCharCntM": 0
         },
         {
          "book": "LiangShu",
          "iDocsCharCntM": 0
         },
         {
          "book": "LiangShu",
          "iDocsCharCntM": 0
         },
         {
          "book": "LiangShu",
          "iDocsCharCntM": 0
         },
         {
          "book": "LiangShu",
          "iDocsCharCntM": 0
         },
         {
          "book": "LiangShu",
          "iDocsCharCntM": 0
         },
         {
          "book": "LiangShu",
          "iDocsCharCntM": 0
         },
         {
          "book": "LiangShu",
          "iDocsCharCntM": 0
         },
         {
          "book": "LiangShu",
          "iDocsCharCntM": 0
         },
         {
          "book": "LiangShu",
          "iDocsCharCntM": 0
         },
         {
          "book": "LiangShu",
          "iDocsCharCntM": 0
         },
         {
          "book": "LiangShu",
          "iDocsCharCntM": 0
         },
         {
          "book": "LiangShu",
          "iDocsCharCntM": 0
         },
         {
          "book": "LiangShu",
          "iDocsCharCntM": 0
         },
         {
          "book": "LiangShu",
          "iDocsCharCntM": 0
         },
         {
          "book": "LiangShu",
          "iDocsCharCntM": 0
         },
         {
          "book": "LiangShu",
          "iDocsCharCntM": 0
         },
         {
          "book": "LiangShu",
          "iDocsCharCntM": 0
         },
         {
          "book": "LiangShu",
          "iDocsCharCntM": 0
         },
         {
          "book": "LiangShu",
          "iDocsCharCntM": 0
         },
         {
          "book": "LiangShu",
          "iDocsCharCntM": 0
         },
         {
          "book": "LiangShu",
          "iDocsCharCntM": 0
         },
         {
          "book": "LiangShu",
          "iDocsCharCntM": 0
         },
         {
          "book": "LiangShu",
          "iDocsCharCntM": 0
         },
         {
          "book": "LiangShu",
          "iDocsCharCntM": 0
         },
         {
          "book": "LiangShu",
          "iDocsCharCntM": 0
         },
         {
          "book": "LiangShu",
          "iDocsCharCntM": 0
         },
         {
          "book": "LiangShu",
          "iDocsCharCntM": 0
         },
         {
          "book": "LiangShu",
          "iDocsCharCntM": 0
         },
         {
          "book": "LiangShu",
          "iDocsCharCntM": 0
         },
         {
          "book": "LiangShu",
          "iDocsCharCntM": 0
         },
         {
          "book": "LiangShu",
          "iDocsCharCntM": 0
         },
         {
          "book": "LiangShu",
          "iDocsCharCntM": 0
         },
         {
          "book": "LiangShu",
          "iDocsCharCntM": 0
         },
         {
          "book": "LiangShu",
          "iDocsCharCntM": 0
         },
         {
          "book": "LiangShu",
          "iDocsCharCntM": 0
         },
         {
          "book": "LiangShu",
          "iDocsCharCntM": 208
         },
         {
          "book": "LiangShu",
          "iDocsCharCntM": 0
         },
         {
          "book": "LiangShu",
          "iDocsCharCntM": 0
         },
         {
          "book": "LiangShu",
          "iDocsCharCntM": 0
         },
         {
          "book": "LiangShu",
          "iDocsCharCntM": 4682
         },
         {
          "book": "LiangShu",
          "iDocsCharCntM": 0
         },
         {
          "book": "Chenshu",
          "iDocsCharCntM": 0
         },
         {
          "book": "Chenshu",
          "iDocsCharCntM": 0
         },
         {
          "book": "Chenshu",
          "iDocsCharCntM": 0
         },
         {
          "book": "Chenshu",
          "iDocsCharCntM": 0
         },
         {
          "book": "Chenshu",
          "iDocsCharCntM": 0
         },
         {
          "book": "Chenshu",
          "iDocsCharCntM": 0
         },
         {
          "book": "Chenshu",
          "iDocsCharCntM": 0
         },
         {
          "book": "Chenshu",
          "iDocsCharCntM": 0
         },
         {
          "book": "Chenshu",
          "iDocsCharCntM": 0
         },
         {
          "book": "Chenshu",
          "iDocsCharCntM": 0
         },
         {
          "book": "Chenshu",
          "iDocsCharCntM": 0
         },
         {
          "book": "Chenshu",
          "iDocsCharCntM": 0
         },
         {
          "book": "Chenshu",
          "iDocsCharCntM": 0
         },
         {
          "book": "Chenshu",
          "iDocsCharCntM": 0
         },
         {
          "book": "Chenshu",
          "iDocsCharCntM": 0
         },
         {
          "book": "Chenshu",
          "iDocsCharCntM": 0
         },
         {
          "book": "Chenshu",
          "iDocsCharCntM": 0
         },
         {
          "book": "Chenshu",
          "iDocsCharCntM": 0
         },
         {
          "book": "Chenshu",
          "iDocsCharCntM": 0
         },
         {
          "book": "Chenshu",
          "iDocsCharCntM": 0
         },
         {
          "book": "Chenshu",
          "iDocsCharCntM": 0
         },
         {
          "book": "Chenshu",
          "iDocsCharCntM": 0
         },
         {
          "book": "Chenshu",
          "iDocsCharCntM": 0
         },
         {
          "book": "Chenshu",
          "iDocsCharCntM": 0
         },
         {
          "book": "Chenshu",
          "iDocsCharCntM": 0
         },
         {
          "book": "Chenshu",
          "iDocsCharCntM": 0
         },
         {
          "book": "Chenshu",
          "iDocsCharCntM": 0
         },
         {
          "book": "Chenshu",
          "iDocsCharCntM": 0
         },
         {
          "book": "Chenshu",
          "iDocsCharCntM": 0
         },
         {
          "book": "Chenshu",
          "iDocsCharCntM": 0
         },
         {
          "book": "Chenshu",
          "iDocsCharCntM": 0
         },
         {
          "book": "Chenshu",
          "iDocsCharCntM": 0
         },
         {
          "book": "Chenshu",
          "iDocsCharCntM": 0
         },
         {
          "book": "Chenshu",
          "iDocsCharCntM": 0
         },
         {
          "book": "Chenshu",
          "iDocsCharCntM": 0
         },
         {
          "book": "Chenshu",
          "iDocsCharCntM": 0
         },
         {
          "book": "Chenshu",
          "iDocsCharCntM": 0
         },
         {
          "book": "Chenshu",
          "iDocsCharCntM": 0
         },
         {
          "book": "Chenshu",
          "iDocsCharCntM": 0
         },
         {
          "book": "Chenshu",
          "iDocsCharCntM": 0
         },
         {
          "book": "Chenshu",
          "iDocsCharCntM": 0
         },
         {
          "book": "Chenshu",
          "iDocsCharCntM": 0
         },
         {
          "book": "Chenshu",
          "iDocsCharCntM": 0
         },
         {
          "book": "Chenshu",
          "iDocsCharCntM": 531
         },
         {
          "book": "Chenshu",
          "iDocsCharCntM": 0
         },
         {
          "book": "Chenshu",
          "iDocsCharCntM": 0
         },
         {
          "book": "Chenshu",
          "iDocsCharCntM": 0
         },
         {
          "book": "Chenshu",
          "iDocsCharCntM": 0
         },
         {
          "book": "Chenshu",
          "iDocsCharCntM": 0
         },
         {
          "book": "Chenshu",
          "iDocsCharCntM": 0
         },
         {
          "book": "Chenshu",
          "iDocsCharCntM": 0
         },
         {
          "book": "Chenshu",
          "iDocsCharCntM": 0
         },
         {
          "book": "Chenshu",
          "iDocsCharCntM": 0
         },
         {
          "book": "Chenshu",
          "iDocsCharCntM": 985
         },
         {
          "book": "Chenshu",
          "iDocsCharCntM": 0
         },
         {
          "book": "Chenshu",
          "iDocsCharCntM": 0
         },
         {
          "book": "Chenshu",
          "iDocsCharCntM": 0
         },
         {
          "book": "Chenshu",
          "iDocsCharCntM": 0
         },
         {
          "book": "Chenshu",
          "iDocsCharCntM": 0
         },
         {
          "book": "Chenshu",
          "iDocsCharCntM": 0
         },
         {
          "book": "Chenshu",
          "iDocsCharCntM": 0
         },
         {
          "book": "Chenshu",
          "iDocsCharCntM": 0
         },
         {
          "book": "Chenshu",
          "iDocsCharCntM": 0
         },
         {
          "book": "Chenshu",
          "iDocsCharCntM": 0
         },
         {
          "book": "Chenshu",
          "iDocsCharCntM": 0
         },
         {
          "book": "Chenshu",
          "iDocsCharCntM": 0
         },
         {
          "book": "Chenshu",
          "iDocsCharCntM": 0
         },
         {
          "book": "Chenshu",
          "iDocsCharCntM": 0
         },
         {
          "book": "Chenshu",
          "iDocsCharCntM": 0
         },
         {
          "book": "Chenshu",
          "iDocsCharCntM": 0
         },
         {
          "book": "Chenshu",
          "iDocsCharCntM": 0
         },
         {
          "book": "Chenshu",
          "iDocsCharCntM": 1702
         },
         {
          "book": "Chenshu",
          "iDocsCharCntM": 0
         },
         {
          "book": "Chenshu",
          "iDocsCharCntM": 0
         },
         {
          "book": "Chenshu",
          "iDocsCharCntM": 0
         },
         {
          "book": "Chenshu",
          "iDocsCharCntM": 0
         },
         {
          "book": "Chenshu",
          "iDocsCharCntM": 0
         },
         {
          "book": "Chenshu",
          "iDocsCharCntM": 0
         },
         {
          "book": "Chenshu",
          "iDocsCharCntM": 0
         },
         {
          "book": "Chenshu",
          "iDocsCharCntM": 0
         },
         {
          "book": "Chenshu",
          "iDocsCharCntM": 0
         },
         {
          "book": "Chenshu",
          "iDocsCharCntM": 0
         },
         {
          "book": "Chenshu",
          "iDocsCharCntM": 0
         },
         {
          "book": "Chenshu",
          "iDocsCharCntM": 0
         },
         {
          "book": "Chenshu",
          "iDocsCharCntM": 0
         },
         {
          "book": "Chenshu",
          "iDocsCharCntM": 0
         },
         {
          "book": "Chenshu",
          "iDocsCharCntM": 0
         },
         {
          "book": "Chenshu",
          "iDocsCharCntM": 0
         },
         {
          "book": "Chenshu",
          "iDocsCharCntM": 0
         },
         {
          "book": "Chenshu",
          "iDocsCharCntM": 0
         },
         {
          "book": "Chenshu",
          "iDocsCharCntM": 0
         },
         {
          "book": "Chenshu",
          "iDocsCharCntM": 0
         },
         {
          "book": "Chenshu",
          "iDocsCharCntM": 0
         },
         {
          "book": "Chenshu",
          "iDocsCharCntM": 0
         },
         {
          "book": "Chenshu",
          "iDocsCharCntM": 0
         },
         {
          "book": "Chenshu",
          "iDocsCharCntM": 0
         },
         {
          "book": "Chenshu",
          "iDocsCharCntM": 0
         },
         {
          "book": "Chenshu",
          "iDocsCharCntM": 492
         },
         {
          "book": "Chenshu",
          "iDocsCharCntM": 0
         },
         {
          "book": "Chenshu",
          "iDocsCharCntM": 0
         },
         {
          "book": "Chenshu",
          "iDocsCharCntM": 0
         },
         {
          "book": "Chenshu",
          "iDocsCharCntM": 0
         },
         {
          "book": "Chenshu",
          "iDocsCharCntM": 2940
         },
         {
          "book": "Chenshu",
          "iDocsCharCntM": 0
         },
         {
          "book": "Chenshu",
          "iDocsCharCntM": 0
         },
         {
          "book": "Chenshu",
          "iDocsCharCntM": 949
         },
         {
          "book": "Chenshu",
          "iDocsCharCntM": 0
         },
         {
          "book": "Chenshu",
          "iDocsCharCntM": 0
         },
         {
          "book": "Chenshu",
          "iDocsCharCntM": 0
         },
         {
          "book": "Chenshu",
          "iDocsCharCntM": 0
         },
         {
          "book": "Chenshu",
          "iDocsCharCntM": 0
         },
         {
          "book": "Chenshu",
          "iDocsCharCntM": 0
         },
         {
          "book": "Chenshu",
          "iDocsCharCntM": 0
         },
         {
          "book": "Chenshu",
          "iDocsCharCntM": 0
         },
         {
          "book": "Chenshu",
          "iDocsCharCntM": 0
         },
         {
          "book": "Chenshu",
          "iDocsCharCntM": 0
         },
         {
          "book": "Chenshu",
          "iDocsCharCntM": 0
         },
         {
          "book": "Chenshu",
          "iDocsCharCntM": 0
         },
         {
          "book": "Chenshu",
          "iDocsCharCntM": 0
         },
         {
          "book": "Chenshu",
          "iDocsCharCntM": 0
         },
         {
          "book": "Chenshu",
          "iDocsCharCntM": 0
         },
         {
          "book": "Chenshu",
          "iDocsCharCntM": 0
         },
         {
          "book": "Chenshu",
          "iDocsCharCntM": 0
         },
         {
          "book": "Chenshu",
          "iDocsCharCntM": 0
         },
         {
          "book": "Chenshu",
          "iDocsCharCntM": 0
         },
         {
          "book": "Chenshu",
          "iDocsCharCntM": 0
         },
         {
          "book": "Chenshu",
          "iDocsCharCntM": 0
         },
         {
          "book": "Chenshu",
          "iDocsCharCntM": 0
         },
         {
          "book": "Chenshu",
          "iDocsCharCntM": 0
         },
         {
          "book": "Chenshu",
          "iDocsCharCntM": 0
         },
         {
          "book": "Chenshu",
          "iDocsCharCntM": 0
         },
         {
          "book": "Chenshu",
          "iDocsCharCntM": 0
         },
         {
          "book": "Chenshu",
          "iDocsCharCntM": 0
         },
         {
          "book": "Chenshu",
          "iDocsCharCntM": 0
         },
         {
          "book": "Chenshu",
          "iDocsCharCntM": 0
         },
         {
          "book": "Chenshu",
          "iDocsCharCntM": 0
         },
         {
          "book": "Chenshu",
          "iDocsCharCntM": 0
         },
         {
          "book": "Chenshu",
          "iDocsCharCntM": 0
         },
         {
          "book": "Chenshu",
          "iDocsCharCntM": 0
         },
         {
          "book": "Chenshu",
          "iDocsCharCntM": 0
         },
         {
          "book": "Chenshu",
          "iDocsCharCntM": 0
         },
         {
          "book": "Chenshu",
          "iDocsCharCntM": 0
         },
         {
          "book": "Chenshu",
          "iDocsCharCntM": 0
         },
         {
          "book": "Chenshu",
          "iDocsCharCntM": 0
         },
         {
          "book": "Chenshu",
          "iDocsCharCntM": 0
         },
         {
          "book": "Chenshu",
          "iDocsCharCntM": 0
         },
         {
          "book": "Chenshu",
          "iDocsCharCntM": 0
         },
         {
          "book": "Chenshu",
          "iDocsCharCntM": 0
         },
         {
          "book": "Chenshu",
          "iDocsCharCntM": 0
         },
         {
          "book": "Chenshu",
          "iDocsCharCntM": 0
         },
         {
          "book": "Chenshu",
          "iDocsCharCntM": 0
         },
         {
          "book": "Chenshu",
          "iDocsCharCntM": 0
         },
         {
          "book": "Chenshu",
          "iDocsCharCntM": 0
         },
         {
          "book": "Chenshu",
          "iDocsCharCntM": 0
         },
         {
          "book": "Chenshu",
          "iDocsCharCntM": 0
         },
         {
          "book": "Chenshu",
          "iDocsCharCntM": 0
         },
         {
          "book": "Chenshu",
          "iDocsCharCntM": 0
         },
         {
          "book": "Chenshu",
          "iDocsCharCntM": 0
         },
         {
          "book": "Chenshu",
          "iDocsCharCntM": 0
         },
         {
          "book": "Chenshu",
          "iDocsCharCntM": 0
         },
         {
          "book": "Chenshu",
          "iDocsCharCntM": 0
         },
         {
          "book": "Chenshu",
          "iDocsCharCntM": 0
         },
         {
          "book": "Chenshu",
          "iDocsCharCntM": 0
         },
         {
          "book": "Chenshu",
          "iDocsCharCntM": 0
         },
         {
          "book": "Chenshu",
          "iDocsCharCntM": 0
         },
         {
          "book": "Chenshu",
          "iDocsCharCntM": 0
         },
         {
          "book": "Chenshu",
          "iDocsCharCntM": 0
         },
         {
          "book": "Chenshu",
          "iDocsCharCntM": 0
         },
         {
          "book": "Chenshu",
          "iDocsCharCntM": 2499
         },
         {
          "book": "Chenshu",
          "iDocsCharCntM": 0
         },
         {
          "book": "Chenshu",
          "iDocsCharCntM": 0
         },
         {
          "book": "Chenshu",
          "iDocsCharCntM": 0
         },
         {
          "book": "Chenshu",
          "iDocsCharCntM": 0
         },
         {
          "book": "Chenshu",
          "iDocsCharCntM": 0
         },
         {
          "book": "Chenshu",
          "iDocsCharCntM": 0
         },
         {
          "book": "Chenshu",
          "iDocsCharCntM": 0
         },
         {
          "book": "Chenshu",
          "iDocsCharCntM": 0
         },
         {
          "book": "Chenshu",
          "iDocsCharCntM": 0
         },
         {
          "book": "Chenshu",
          "iDocsCharCntM": 0
         },
         {
          "book": "Chenshu",
          "iDocsCharCntM": 0
         },
         {
          "book": "Chenshu",
          "iDocsCharCntM": 0
         },
         {
          "book": "Chenshu",
          "iDocsCharCntM": 0
         },
         {
          "book": "Chenshu",
          "iDocsCharCntM": 0
         },
         {
          "book": "Chenshu",
          "iDocsCharCntM": 468
         },
         {
          "book": "Chenshu",
          "iDocsCharCntM": 0
         },
         {
          "book": "Chenshu",
          "iDocsCharCntM": 0
         },
         {
          "book": "Chenshu",
          "iDocsCharCntM": 0
         },
         {
          "book": "Chenshu",
          "iDocsCharCntM": 0
         },
         {
          "book": "Chenshu",
          "iDocsCharCntM": 0
         },
         {
          "book": "Chenshu",
          "iDocsCharCntM": 0
         },
         {
          "book": "Chenshu",
          "iDocsCharCntM": 0
         },
         {
          "book": "Chenshu",
          "iDocsCharCntM": 667
         },
         {
          "book": "Chenshu",
          "iDocsCharCntM": 0
         },
         {
          "book": "Chenshu",
          "iDocsCharCntM": 0
         },
         {
          "book": "Chenshu",
          "iDocsCharCntM": 0
         },
         {
          "book": "Chenshu",
          "iDocsCharCntM": 0
         },
         {
          "book": "Chenshu",
          "iDocsCharCntM": 0
         },
         {
          "book": "Chenshu",
          "iDocsCharCntM": 0
         },
         {
          "book": "Chenshu",
          "iDocsCharCntM": 0
         },
         {
          "book": "Chenshu",
          "iDocsCharCntM": 0
         },
         {
          "book": "Chenshu",
          "iDocsCharCntM": 0
         },
         {
          "book": "Chenshu",
          "iDocsCharCntM": 0
         },
         {
          "book": "Chenshu",
          "iDocsCharCntM": 0
         },
         {
          "book": "Chenshu",
          "iDocsCharCntM": 0
         },
         {
          "book": "Chenshu",
          "iDocsCharCntM": 697
         },
         {
          "book": "Chenshu",
          "iDocsCharCntM": 0
         },
         {
          "book": "Chenshu",
          "iDocsCharCntM": 0
         },
         {
          "book": "Chenshu",
          "iDocsCharCntM": 0
         },
         {
          "book": "Chenshu",
          "iDocsCharCntM": 0
         },
         {
          "book": "Chenshu",
          "iDocsCharCntM": 0
         },
         {
          "book": "Chenshu",
          "iDocsCharCntM": 0
         },
         {
          "book": "Chenshu",
          "iDocsCharCntM": 1404
         },
         {
          "book": "Chenshu",
          "iDocsCharCntM": 404
         },
         {
          "book": "Chenshu",
          "iDocsCharCntM": 1384
         },
         {
          "book": "Chenshu",
          "iDocsCharCntM": 0
         },
         {
          "book": "Chenshu",
          "iDocsCharCntM": 0
         },
         {
          "book": "BeiQishu",
          "iDocsCharCntM": 0
         },
         {
          "book": "BeiQishu",
          "iDocsCharCntM": 0
         },
         {
          "book": "BeiQishu",
          "iDocsCharCntM": 0
         },
         {
          "book": "BeiQishu",
          "iDocsCharCntM": 0
         },
         {
          "book": "BeiQishu",
          "iDocsCharCntM": 0
         },
         {
          "book": "BeiQishu",
          "iDocsCharCntM": 0
         },
         {
          "book": "BeiQishu",
          "iDocsCharCntM": 0
         },
         {
          "book": "BeiQishu",
          "iDocsCharCntM": 0
         },
         {
          "book": "BeiQishu",
          "iDocsCharCntM": 0
         },
         {
          "book": "BeiQishu",
          "iDocsCharCntM": 0
         },
         {
          "book": "BeiQishu",
          "iDocsCharCntM": 0
         },
         {
          "book": "BeiQishu",
          "iDocsCharCntM": 0
         },
         {
          "book": "BeiQishu",
          "iDocsCharCntM": 0
         },
         {
          "book": "BeiQishu",
          "iDocsCharCntM": 0
         },
         {
          "book": "BeiQishu",
          "iDocsCharCntM": 0
         },
         {
          "book": "BeiQishu",
          "iDocsCharCntM": 0
         },
         {
          "book": "BeiQishu",
          "iDocsCharCntM": 0
         },
         {
          "book": "BeiQishu",
          "iDocsCharCntM": 0
         },
         {
          "book": "BeiQishu",
          "iDocsCharCntM": 0
         },
         {
          "book": "BeiQishu",
          "iDocsCharCntM": 0
         },
         {
          "book": "BeiQishu",
          "iDocsCharCntM": 0
         },
         {
          "book": "BeiQishu",
          "iDocsCharCntM": 0
         },
         {
          "book": "BeiQishu",
          "iDocsCharCntM": 0
         },
         {
          "book": "BeiQishu",
          "iDocsCharCntM": 0
         },
         {
          "book": "BeiQishu",
          "iDocsCharCntM": 0
         },
         {
          "book": "BeiQishu",
          "iDocsCharCntM": 0
         },
         {
          "book": "BeiQishu",
          "iDocsCharCntM": 0
         },
         {
          "book": "BeiQishu",
          "iDocsCharCntM": 0
         },
         {
          "book": "BeiQishu",
          "iDocsCharCntM": 0
         },
         {
          "book": "BeiQishu",
          "iDocsCharCntM": 0
         },
         {
          "book": "BeiQishu",
          "iDocsCharCntM": 0
         },
         {
          "book": "BeiQishu",
          "iDocsCharCntM": 0
         },
         {
          "book": "BeiQishu",
          "iDocsCharCntM": 0
         },
         {
          "book": "BeiQishu",
          "iDocsCharCntM": 0
         },
         {
          "book": "BeiQishu",
          "iDocsCharCntM": 0
         },
         {
          "book": "BeiQishu",
          "iDocsCharCntM": 0
         },
         {
          "book": "BeiQishu",
          "iDocsCharCntM": 0
         },
         {
          "book": "BeiQishu",
          "iDocsCharCntM": 0
         },
         {
          "book": "BeiQishu",
          "iDocsCharCntM": 0
         },
         {
          "book": "BeiQishu",
          "iDocsCharCntM": 0
         },
         {
          "book": "BeiQishu",
          "iDocsCharCntM": 0
         },
         {
          "book": "BeiQishu",
          "iDocsCharCntM": 0
         },
         {
          "book": "BeiQishu",
          "iDocsCharCntM": 0
         },
         {
          "book": "BeiQishu",
          "iDocsCharCntM": 0
         },
         {
          "book": "BeiQishu",
          "iDocsCharCntM": 0
         },
         {
          "book": "BeiQishu",
          "iDocsCharCntM": 0
         },
         {
          "book": "BeiQishu",
          "iDocsCharCntM": 0
         },
         {
          "book": "BeiQishu",
          "iDocsCharCntM": 0
         },
         {
          "book": "BeiQishu",
          "iDocsCharCntM": 0
         },
         {
          "book": "BeiQishu",
          "iDocsCharCntM": 0
         },
         {
          "book": "BeiQishu",
          "iDocsCharCntM": 0
         },
         {
          "book": "BeiQishu",
          "iDocsCharCntM": 0
         },
         {
          "book": "BeiQishu",
          "iDocsCharCntM": 0
         },
         {
          "book": "BeiQishu",
          "iDocsCharCntM": 0
         },
         {
          "book": "BeiQishu",
          "iDocsCharCntM": 0
         },
         {
          "book": "BeiQishu",
          "iDocsCharCntM": 0
         },
         {
          "book": "BeiQishu",
          "iDocsCharCntM": 0
         },
         {
          "book": "BeiQishu",
          "iDocsCharCntM": 0
         },
         {
          "book": "BeiQishu",
          "iDocsCharCntM": 0
         },
         {
          "book": "BeiQishu",
          "iDocsCharCntM": 0
         },
         {
          "book": "BeiQishu",
          "iDocsCharCntM": 0
         },
         {
          "book": "BeiQishu",
          "iDocsCharCntM": 0
         },
         {
          "book": "BeiQishu",
          "iDocsCharCntM": 0
         },
         {
          "book": "BeiQishu",
          "iDocsCharCntM": 0
         },
         {
          "book": "BeiQishu",
          "iDocsCharCntM": 0
         },
         {
          "book": "BeiQishu",
          "iDocsCharCntM": 0
         },
         {
          "book": "BeiQishu",
          "iDocsCharCntM": 0
         },
         {
          "book": "BeiQishu",
          "iDocsCharCntM": 0
         },
         {
          "book": "BeiQishu",
          "iDocsCharCntM": 0
         },
         {
          "book": "BeiQishu",
          "iDocsCharCntM": 0
         },
         {
          "book": "BeiQishu",
          "iDocsCharCntM": 0
         },
         {
          "book": "BeiQishu",
          "iDocsCharCntM": 0
         },
         {
          "book": "BeiQishu",
          "iDocsCharCntM": 0
         },
         {
          "book": "BeiQishu",
          "iDocsCharCntM": 0
         },
         {
          "book": "BeiQishu",
          "iDocsCharCntM": 0
         },
         {
          "book": "BeiQishu",
          "iDocsCharCntM": 0
         },
         {
          "book": "BeiQishu",
          "iDocsCharCntM": 0
         },
         {
          "book": "BeiQishu",
          "iDocsCharCntM": 0
         },
         {
          "book": "BeiQishu",
          "iDocsCharCntM": 0
         },
         {
          "book": "BeiQishu",
          "iDocsCharCntM": 0
         },
         {
          "book": "BeiQishu",
          "iDocsCharCntM": 0
         },
         {
          "book": "BeiQishu",
          "iDocsCharCntM": 0
         },
         {
          "book": "BeiQishu",
          "iDocsCharCntM": 0
         },
         {
          "book": "BeiQishu",
          "iDocsCharCntM": 0
         },
         {
          "book": "BeiQishu",
          "iDocsCharCntM": 0
         },
         {
          "book": "BeiQishu",
          "iDocsCharCntM": 0
         },
         {
          "book": "BeiQishu",
          "iDocsCharCntM": 0
         },
         {
          "book": "BeiQishu",
          "iDocsCharCntM": 0
         },
         {
          "book": "BeiQishu",
          "iDocsCharCntM": 0
         },
         {
          "book": "BeiQishu",
          "iDocsCharCntM": 0
         },
         {
          "book": "BeiQishu",
          "iDocsCharCntM": 0
         },
         {
          "book": "BeiQishu",
          "iDocsCharCntM": 0
         },
         {
          "book": "BeiQishu",
          "iDocsCharCntM": 0
         },
         {
          "book": "BeiQishu",
          "iDocsCharCntM": 0
         },
         {
          "book": "BeiQishu",
          "iDocsCharCntM": 0
         },
         {
          "book": "BeiQishu",
          "iDocsCharCntM": 0
         },
         {
          "book": "BeiQishu",
          "iDocsCharCntM": 0
         },
         {
          "book": "BeiQishu",
          "iDocsCharCntM": 0
         },
         {
          "book": "BeiQishu",
          "iDocsCharCntM": 0
         },
         {
          "book": "BeiQishu",
          "iDocsCharCntM": 0
         },
         {
          "book": "BeiQishu",
          "iDocsCharCntM": 0
         },
         {
          "book": "BeiQishu",
          "iDocsCharCntM": 0
         },
         {
          "book": "BeiQishu",
          "iDocsCharCntM": 0
         },
         {
          "book": "BeiQishu",
          "iDocsCharCntM": 0
         },
         {
          "book": "BeiQishu",
          "iDocsCharCntM": 0
         },
         {
          "book": "BeiQishu",
          "iDocsCharCntM": 0
         },
         {
          "book": "BeiQishu",
          "iDocsCharCntM": 0
         },
         {
          "book": "BeiQishu",
          "iDocsCharCntM": 0
         },
         {
          "book": "BeiQishu",
          "iDocsCharCntM": 0
         },
         {
          "book": "BeiQishu",
          "iDocsCharCntM": 0
         },
         {
          "book": "BeiQishu",
          "iDocsCharCntM": 0
         },
         {
          "book": "BeiQishu",
          "iDocsCharCntM": 0
         },
         {
          "book": "BeiQishu",
          "iDocsCharCntM": 0
         },
         {
          "book": "BeiQishu",
          "iDocsCharCntM": 0
         },
         {
          "book": "BeiQishu",
          "iDocsCharCntM": 0
         },
         {
          "book": "BeiQishu",
          "iDocsCharCntM": 0
         },
         {
          "book": "BeiQishu",
          "iDocsCharCntM": 0
         },
         {
          "book": "BeiQishu",
          "iDocsCharCntM": 0
         },
         {
          "book": "BeiQishu",
          "iDocsCharCntM": 0
         },
         {
          "book": "BeiQishu",
          "iDocsCharCntM": 0
         },
         {
          "book": "BeiQishu",
          "iDocsCharCntM": 0
         },
         {
          "book": "BeiQishu",
          "iDocsCharCntM": 0
         },
         {
          "book": "BeiQishu",
          "iDocsCharCntM": 0
         },
         {
          "book": "BeiQishu",
          "iDocsCharCntM": 0
         },
         {
          "book": "BeiQishu",
          "iDocsCharCntM": 0
         },
         {
          "book": "BeiQishu",
          "iDocsCharCntM": 0
         },
         {
          "book": "BeiQishu",
          "iDocsCharCntM": 0
         },
         {
          "book": "BeiQishu",
          "iDocsCharCntM": 0
         },
         {
          "book": "BeiQishu",
          "iDocsCharCntM": 0
         },
         {
          "book": "BeiQishu",
          "iDocsCharCntM": 0
         },
         {
          "book": "BeiQishu",
          "iDocsCharCntM": 0
         },
         {
          "book": "BeiQishu",
          "iDocsCharCntM": 0
         },
         {
          "book": "BeiQishu",
          "iDocsCharCntM": 0
         },
         {
          "book": "BeiQishu",
          "iDocsCharCntM": 0
         },
         {
          "book": "BeiQishu",
          "iDocsCharCntM": 0
         },
         {
          "book": "BeiQishu",
          "iDocsCharCntM": 0
         },
         {
          "book": "BeiQishu",
          "iDocsCharCntM": 0
         },
         {
          "book": "BeiQishu",
          "iDocsCharCntM": 0
         },
         {
          "book": "BeiQishu",
          "iDocsCharCntM": 0
         },
         {
          "book": "BeiQishu",
          "iDocsCharCntM": 0
         },
         {
          "book": "BeiQishu",
          "iDocsCharCntM": 0
         },
         {
          "book": "BeiQishu",
          "iDocsCharCntM": 0
         },
         {
          "book": "BeiQishu",
          "iDocsCharCntM": 0
         },
         {
          "book": "BeiQishu",
          "iDocsCharCntM": 0
         },
         {
          "book": "BeiQishu",
          "iDocsCharCntM": 0
         },
         {
          "book": "BeiQishu",
          "iDocsCharCntM": 0
         },
         {
          "book": "BeiQishu",
          "iDocsCharCntM": 0
         },
         {
          "book": "BeiQishu",
          "iDocsCharCntM": 0
         },
         {
          "book": "BeiQishu",
          "iDocsCharCntM": 0
         },
         {
          "book": "BeiQishu",
          "iDocsCharCntM": 0
         },
         {
          "book": "BeiQishu",
          "iDocsCharCntM": 0
         },
         {
          "book": "BeiQishu",
          "iDocsCharCntM": 0
         },
         {
          "book": "BeiQishu",
          "iDocsCharCntM": 0
         },
         {
          "book": "BeiQishu",
          "iDocsCharCntM": 0
         },
         {
          "book": "BeiQishu",
          "iDocsCharCntM": 0
         },
         {
          "book": "BeiQishu",
          "iDocsCharCntM": 0
         },
         {
          "book": "BeiQishu",
          "iDocsCharCntM": 680
         },
         {
          "book": "BeiQishu",
          "iDocsCharCntM": 0
         },
         {
          "book": "BeiQishu",
          "iDocsCharCntM": 0
         },
         {
          "book": "BeiQishu",
          "iDocsCharCntM": 0
         },
         {
          "book": "BeiQishu",
          "iDocsCharCntM": 0
         },
         {
          "book": "BeiQishu",
          "iDocsCharCntM": 0
         },
         {
          "book": "BeiQishu",
          "iDocsCharCntM": 0
         },
         {
          "book": "BeiQishu",
          "iDocsCharCntM": 0
         },
         {
          "book": "BeiQishu",
          "iDocsCharCntM": 0
         },
         {
          "book": "BeiQishu",
          "iDocsCharCntM": 0
         },
         {
          "book": "BeiQishu",
          "iDocsCharCntM": 0
         },
         {
          "book": "BeiQishu",
          "iDocsCharCntM": 0
         },
         {
          "book": "BeiQishu",
          "iDocsCharCntM": 0
         },
         {
          "book": "BeiQishu",
          "iDocsCharCntM": 0
         },
         {
          "book": "BeiQishu",
          "iDocsCharCntM": 0
         },
         {
          "book": "BeiQishu",
          "iDocsCharCntM": 0
         },
         {
          "book": "BeiQishu",
          "iDocsCharCntM": 504
         },
         {
          "book": "BeiQishu",
          "iDocsCharCntM": 0
         },
         {
          "book": "BeiQishu",
          "iDocsCharCntM": 0
         },
         {
          "book": "BeiQishu",
          "iDocsCharCntM": 0
         },
         {
          "book": "BeiQishu",
          "iDocsCharCntM": 0
         },
         {
          "book": "BeiQishu",
          "iDocsCharCntM": 0
         },
         {
          "book": "BeiQishu",
          "iDocsCharCntM": 0
         },
         {
          "book": "BeiQishu",
          "iDocsCharCntM": 0
         },
         {
          "book": "BeiQishu",
          "iDocsCharCntM": 0
         },
         {
          "book": "BeiQishu",
          "iDocsCharCntM": 0
         },
         {
          "book": "BeiQishu",
          "iDocsCharCntM": 0
         },
         {
          "book": "BeiQishu",
          "iDocsCharCntM": 0
         },
         {
          "book": "BeiQishu",
          "iDocsCharCntM": 0
         },
         {
          "book": "BeiQishu",
          "iDocsCharCntM": 0
         },
         {
          "book": "BeiQishu",
          "iDocsCharCntM": 0
         },
         {
          "book": "BeiQishu",
          "iDocsCharCntM": 0
         },
         {
          "book": "BeiQishu",
          "iDocsCharCntM": 0
         },
         {
          "book": "BeiQishu",
          "iDocsCharCntM": 0
         },
         {
          "book": "BeiQishu",
          "iDocsCharCntM": 0
         },
         {
          "book": "BeiQishu",
          "iDocsCharCntM": 796
         },
         {
          "book": "BeiQishu",
          "iDocsCharCntM": 1093
         },
         {
          "book": "BeiQishu",
          "iDocsCharCntM": 0
         },
         {
          "book": "BeiQishu",
          "iDocsCharCntM": 0
         },
         {
          "book": "BeiQishu",
          "iDocsCharCntM": 0
         },
         {
          "book": "BeiQishu",
          "iDocsCharCntM": 0
         },
         {
          "book": "BeiQishu",
          "iDocsCharCntM": 0
         },
         {
          "book": "BeiQishu",
          "iDocsCharCntM": 0
         },
         {
          "book": "BeiQishu",
          "iDocsCharCntM": 0
         },
         {
          "book": "BeiQishu",
          "iDocsCharCntM": 0
         },
         {
          "book": "BeiQishu",
          "iDocsCharCntM": 0
         },
         {
          "book": "BeiQishu",
          "iDocsCharCntM": 0
         },
         {
          "book": "BeiQishu",
          "iDocsCharCntM": 0
         },
         {
          "book": "BeiQishu",
          "iDocsCharCntM": 0
         },
         {
          "book": "BeiQishu",
          "iDocsCharCntM": 0
         },
         {
          "book": "BeiQishu",
          "iDocsCharCntM": 0
         },
         {
          "book": "BeiQishu",
          "iDocsCharCntM": 0
         },
         {
          "book": "BeiQishu",
          "iDocsCharCntM": 0
         },
         {
          "book": "BeiQishu",
          "iDocsCharCntM": 0
         },
         {
          "book": "BeiQishu",
          "iDocsCharCntM": 0
         },
         {
          "book": "BeiQishu",
          "iDocsCharCntM": 0
         },
         {
          "book": "BeiQishu",
          "iDocsCharCntM": 0
         },
         {
          "book": "BeiQishu",
          "iDocsCharCntM": 0
         },
         {
          "book": "BeiQishu",
          "iDocsCharCntM": 0
         },
         {
          "book": "BeiQishu",
          "iDocsCharCntM": 0
         },
         {
          "book": "BeiQishu",
          "iDocsCharCntM": 0
         },
         {
          "book": "BeiQishu",
          "iDocsCharCntM": 0
         },
         {
          "book": "BeiQishu",
          "iDocsCharCntM": 0
         },
         {
          "book": "BeiQishu",
          "iDocsCharCntM": 0
         },
         {
          "book": "BeiQishu",
          "iDocsCharCntM": 0
         },
         {
          "book": "BeiQishu",
          "iDocsCharCntM": 0
         },
         {
          "book": "BeiQishu",
          "iDocsCharCntM": 0
         },
         {
          "book": "BeiQishu",
          "iDocsCharCntM": 0
         },
         {
          "book": "BeiQishu",
          "iDocsCharCntM": 679
         },
         {
          "book": "BeiQishu",
          "iDocsCharCntM": 0
         },
         {
          "book": "BeiQishu",
          "iDocsCharCntM": 0
         },
         {
          "book": "BeiQishu",
          "iDocsCharCntM": 0
         },
         {
          "book": "BeiQishu",
          "iDocsCharCntM": 0
         },
         {
          "book": "BeiQishu",
          "iDocsCharCntM": 0
         },
         {
          "book": "BeiQishu",
          "iDocsCharCntM": 0
         },
         {
          "book": "BeiQishu",
          "iDocsCharCntM": 0
         },
         {
          "book": "BeiQishu",
          "iDocsCharCntM": 0
         },
         {
          "book": "BeiQishu",
          "iDocsCharCntM": 0
         },
         {
          "book": "BeiQishu",
          "iDocsCharCntM": 0
         },
         {
          "book": "BeiQishu",
          "iDocsCharCntM": 0
         },
         {
          "book": "BeiQishu",
          "iDocsCharCntM": 0
         },
         {
          "book": "BeiQishu",
          "iDocsCharCntM": 0
         },
         {
          "book": "BeiQishu",
          "iDocsCharCntM": 0
         },
         {
          "book": "BeiQishu",
          "iDocsCharCntM": 0
         },
         {
          "book": "BeiQishu",
          "iDocsCharCntM": 567
         },
         {
          "book": "BeiQishu",
          "iDocsCharCntM": 0
         },
         {
          "book": "BeiQishu",
          "iDocsCharCntM": 2561
         },
         {
          "book": "BeiQishu",
          "iDocsCharCntM": 0
         },
         {
          "book": "BeiQishu",
          "iDocsCharCntM": 0
         },
         {
          "book": "BeiQishu",
          "iDocsCharCntM": 4379
         },
         {
          "book": "BeiQishu",
          "iDocsCharCntM": 0
         },
         {
          "book": "BeiQishu",
          "iDocsCharCntM": 0
         },
         {
          "book": "BeiQishu",
          "iDocsCharCntM": 0
         },
         {
          "book": "BeiQishu",
          "iDocsCharCntM": 0
         },
         {
          "book": "BeiQishu",
          "iDocsCharCntM": 0
         },
         {
          "book": "BeiQishu",
          "iDocsCharCntM": 0
         },
         {
          "book": "BeiQishu",
          "iDocsCharCntM": 0
         },
         {
          "book": "BeiQishu",
          "iDocsCharCntM": 0
         },
         {
          "book": "BeiQishu",
          "iDocsCharCntM": 0
         },
         {
          "book": "BeiQishu",
          "iDocsCharCntM": 0
         },
         {
          "book": "BeiQishu",
          "iDocsCharCntM": 0
         },
         {
          "book": "BeiQishu",
          "iDocsCharCntM": 0
         },
         {
          "book": "BeiQishu",
          "iDocsCharCntM": 0
         },
         {
          "book": "BeiQishu",
          "iDocsCharCntM": 0
         },
         {
          "book": "BeiQishu",
          "iDocsCharCntM": 0
         },
         {
          "book": "BeiQishu",
          "iDocsCharCntM": 0
         },
         {
          "book": "BeiQishu",
          "iDocsCharCntM": 0
         },
         {
          "book": "BeiQishu",
          "iDocsCharCntM": 0
         },
         {
          "book": "BeiQishu",
          "iDocsCharCntM": 0
         },
         {
          "book": "BeiQishu",
          "iDocsCharCntM": 0
         },
         {
          "book": "BeiQishu",
          "iDocsCharCntM": 0
         },
         {
          "book": "BeiQishu",
          "iDocsCharCntM": 0
         },
         {
          "book": "BeiQishu",
          "iDocsCharCntM": 0
         },
         {
          "book": "BeiQishu",
          "iDocsCharCntM": 0
         },
         {
          "book": "BeiQishu",
          "iDocsCharCntM": 0
         },
         {
          "book": "BeiQishu",
          "iDocsCharCntM": 0
         },
         {
          "book": "BeiQishu",
          "iDocsCharCntM": 0
         },
         {
          "book": "BeiQishu",
          "iDocsCharCntM": 0
         },
         {
          "book": "BeiQishu",
          "iDocsCharCntM": 0
         },
         {
          "book": "BeiQishu",
          "iDocsCharCntM": 0
         },
         {
          "book": "BeiQishu",
          "iDocsCharCntM": 0
         },
         {
          "book": "BeiQishu",
          "iDocsCharCntM": 0
         },
         {
          "book": "BeiQishu",
          "iDocsCharCntM": 0
         },
         {
          "book": "BeiQishu",
          "iDocsCharCntM": 0
         },
         {
          "book": "BeiQishu",
          "iDocsCharCntM": 0
         },
         {
          "book": "BeiQishu",
          "iDocsCharCntM": 0
         },
         {
          "book": "BeiQishu",
          "iDocsCharCntM": 0
         },
         {
          "book": "BeiQishu",
          "iDocsCharCntM": 0
         },
         {
          "book": "BeiQishu",
          "iDocsCharCntM": 0
         },
         {
          "book": "BeiQishu",
          "iDocsCharCntM": 0
         },
         {
          "book": "BeiQishu",
          "iDocsCharCntM": 0
         },
         {
          "book": "BeiQishu",
          "iDocsCharCntM": 0
         },
         {
          "book": "BeiQishu",
          "iDocsCharCntM": 0
         },
         {
          "book": "BeiQishu",
          "iDocsCharCntM": 0
         },
         {
          "book": "BeiQishu",
          "iDocsCharCntM": 0
         },
         {
          "book": "BeiQishu",
          "iDocsCharCntM": 0
         },
         {
          "book": "BeiQishu",
          "iDocsCharCntM": 0
         },
         {
          "book": "BeiQishu",
          "iDocsCharCntM": 0
         },
         {
          "book": "BeiQishu",
          "iDocsCharCntM": 0
         },
         {
          "book": "BeiQishu",
          "iDocsCharCntM": 0
         },
         {
          "book": "BeiQishu",
          "iDocsCharCntM": 0
         },
         {
          "book": "BeiQishu",
          "iDocsCharCntM": 0
         },
         {
          "book": "BeiQishu",
          "iDocsCharCntM": 0
         },
         {
          "book": "BeiQishu",
          "iDocsCharCntM": 0
         },
         {
          "book": "BeiQishu",
          "iDocsCharCntM": 0
         },
         {
          "book": "Zhoushu",
          "iDocsCharCntM": 0
         },
         {
          "book": "Zhoushu",
          "iDocsCharCntM": 0
         },
         {
          "book": "Zhoushu",
          "iDocsCharCntM": 0
         },
         {
          "book": "Zhoushu",
          "iDocsCharCntM": 0
         },
         {
          "book": "Zhoushu",
          "iDocsCharCntM": 0
         },
         {
          "book": "Zhoushu",
          "iDocsCharCntM": 0
         },
         {
          "book": "Zhoushu",
          "iDocsCharCntM": 0
         },
         {
          "book": "Zhoushu",
          "iDocsCharCntM": 0
         },
         {
          "book": "Zhoushu",
          "iDocsCharCntM": 0
         },
         {
          "book": "Zhoushu",
          "iDocsCharCntM": 0
         },
         {
          "book": "Zhoushu",
          "iDocsCharCntM": 0
         },
         {
          "book": "Zhoushu",
          "iDocsCharCntM": 0
         },
         {
          "book": "Zhoushu",
          "iDocsCharCntM": 0
         },
         {
          "book": "Zhoushu",
          "iDocsCharCntM": 0
         },
         {
          "book": "Zhoushu",
          "iDocsCharCntM": 0
         },
         {
          "book": "Zhoushu",
          "iDocsCharCntM": 282
         },
         {
          "book": "Zhoushu",
          "iDocsCharCntM": 0
         },
         {
          "book": "Zhoushu",
          "iDocsCharCntM": 0
         },
         {
          "book": "Zhoushu",
          "iDocsCharCntM": 0
         },
         {
          "book": "Zhoushu",
          "iDocsCharCntM": 0
         },
         {
          "book": "Zhoushu",
          "iDocsCharCntM": 0
         },
         {
          "book": "Zhoushu",
          "iDocsCharCntM": 2809
         },
         {
          "book": "Zhoushu",
          "iDocsCharCntM": 0
         },
         {
          "book": "Zhoushu",
          "iDocsCharCntM": 0
         },
         {
          "book": "Zhoushu",
          "iDocsCharCntM": 451
         },
         {
          "book": "Zhoushu",
          "iDocsCharCntM": 0
         },
         {
          "book": "Zhoushu",
          "iDocsCharCntM": 0
         },
         {
          "book": "Zhoushu",
          "iDocsCharCntM": 0
         },
         {
          "book": "Zhoushu",
          "iDocsCharCntM": 0
         },
         {
          "book": "Zhoushu",
          "iDocsCharCntM": 0
         },
         {
          "book": "Zhoushu",
          "iDocsCharCntM": 0
         },
         {
          "book": "Zhoushu",
          "iDocsCharCntM": 0
         },
         {
          "book": "Zhoushu",
          "iDocsCharCntM": 0
         },
         {
          "book": "Zhoushu",
          "iDocsCharCntM": 0
         },
         {
          "book": "Zhoushu",
          "iDocsCharCntM": 0
         },
         {
          "book": "Zhoushu",
          "iDocsCharCntM": 0
         },
         {
          "book": "Zhoushu",
          "iDocsCharCntM": 0
         },
         {
          "book": "Zhoushu",
          "iDocsCharCntM": 0
         },
         {
          "book": "Zhoushu",
          "iDocsCharCntM": 0
         },
         {
          "book": "Zhoushu",
          "iDocsCharCntM": 0
         },
         {
          "book": "Zhoushu",
          "iDocsCharCntM": 0
         },
         {
          "book": "Zhoushu",
          "iDocsCharCntM": 0
         },
         {
          "book": "Zhoushu",
          "iDocsCharCntM": 0
         },
         {
          "book": "Zhoushu",
          "iDocsCharCntM": 0
         },
         {
          "book": "Zhoushu",
          "iDocsCharCntM": 0
         },
         {
          "book": "Zhoushu",
          "iDocsCharCntM": 0
         },
         {
          "book": "Zhoushu",
          "iDocsCharCntM": 0
         },
         {
          "book": "Zhoushu",
          "iDocsCharCntM": 0
         },
         {
          "book": "Zhoushu",
          "iDocsCharCntM": 0
         },
         {
          "book": "Zhoushu",
          "iDocsCharCntM": 0
         },
         {
          "book": "Zhoushu",
          "iDocsCharCntM": 0
         },
         {
          "book": "Zhoushu",
          "iDocsCharCntM": 0
         },
         {
          "book": "Zhoushu",
          "iDocsCharCntM": 0
         },
         {
          "book": "Zhoushu",
          "iDocsCharCntM": 0
         },
         {
          "book": "Zhoushu",
          "iDocsCharCntM": 0
         },
         {
          "book": "Zhoushu",
          "iDocsCharCntM": 0
         },
         {
          "book": "Zhoushu",
          "iDocsCharCntM": 0
         },
         {
          "book": "Zhoushu",
          "iDocsCharCntM": 0
         },
         {
          "book": "Zhoushu",
          "iDocsCharCntM": 0
         },
         {
          "book": "Zhoushu",
          "iDocsCharCntM": 0
         },
         {
          "book": "Zhoushu",
          "iDocsCharCntM": 0
         },
         {
          "book": "Zhoushu",
          "iDocsCharCntM": 0
         },
         {
          "book": "Zhoushu",
          "iDocsCharCntM": 0
         },
         {
          "book": "Zhoushu",
          "iDocsCharCntM": 0
         },
         {
          "book": "Zhoushu",
          "iDocsCharCntM": 0
         },
         {
          "book": "Zhoushu",
          "iDocsCharCntM": 0
         },
         {
          "book": "Zhoushu",
          "iDocsCharCntM": 0
         },
         {
          "book": "Zhoushu",
          "iDocsCharCntM": 0
         },
         {
          "book": "Zhoushu",
          "iDocsCharCntM": 0
         },
         {
          "book": "Zhoushu",
          "iDocsCharCntM": 0
         },
         {
          "book": "Zhoushu",
          "iDocsCharCntM": 0
         },
         {
          "book": "Zhoushu",
          "iDocsCharCntM": 0
         },
         {
          "book": "Zhoushu",
          "iDocsCharCntM": 0
         },
         {
          "book": "Zhoushu",
          "iDocsCharCntM": 0
         },
         {
          "book": "Zhoushu",
          "iDocsCharCntM": 0
         },
         {
          "book": "Zhoushu",
          "iDocsCharCntM": 0
         },
         {
          "book": "Zhoushu",
          "iDocsCharCntM": 0
         },
         {
          "book": "Zhoushu",
          "iDocsCharCntM": 0
         },
         {
          "book": "Zhoushu",
          "iDocsCharCntM": 0
         },
         {
          "book": "Zhoushu",
          "iDocsCharCntM": 0
         },
         {
          "book": "Zhoushu",
          "iDocsCharCntM": 0
         },
         {
          "book": "Zhoushu",
          "iDocsCharCntM": 0
         },
         {
          "book": "Zhoushu",
          "iDocsCharCntM": 0
         },
         {
          "book": "Zhoushu",
          "iDocsCharCntM": 0
         },
         {
          "book": "Zhoushu",
          "iDocsCharCntM": 0
         },
         {
          "book": "Zhoushu",
          "iDocsCharCntM": 0
         },
         {
          "book": "Zhoushu",
          "iDocsCharCntM": 0
         },
         {
          "book": "Zhoushu",
          "iDocsCharCntM": 0
         },
         {
          "book": "Zhoushu",
          "iDocsCharCntM": 0
         },
         {
          "book": "Zhoushu",
          "iDocsCharCntM": 578
         },
         {
          "book": "Zhoushu",
          "iDocsCharCntM": 0
         },
         {
          "book": "Zhoushu",
          "iDocsCharCntM": 0
         },
         {
          "book": "Zhoushu",
          "iDocsCharCntM": 0
         },
         {
          "book": "Zhoushu",
          "iDocsCharCntM": 0
         },
         {
          "book": "Zhoushu",
          "iDocsCharCntM": 0
         },
         {
          "book": "Zhoushu",
          "iDocsCharCntM": 0
         },
         {
          "book": "Zhoushu",
          "iDocsCharCntM": 0
         },
         {
          "book": "Zhoushu",
          "iDocsCharCntM": 0
         },
         {
          "book": "Zhoushu",
          "iDocsCharCntM": 0
         },
         {
          "book": "Zhoushu",
          "iDocsCharCntM": 0
         },
         {
          "book": "Zhoushu",
          "iDocsCharCntM": 0
         },
         {
          "book": "Zhoushu",
          "iDocsCharCntM": 0
         },
         {
          "book": "Zhoushu",
          "iDocsCharCntM": 0
         },
         {
          "book": "Zhoushu",
          "iDocsCharCntM": 5523
         },
         {
          "book": "Zhoushu",
          "iDocsCharCntM": 0
         },
         {
          "book": "Zhoushu",
          "iDocsCharCntM": 0
         },
         {
          "book": "Zhoushu",
          "iDocsCharCntM": 0
         },
         {
          "book": "Zhoushu",
          "iDocsCharCntM": 0
         },
         {
          "book": "Zhoushu",
          "iDocsCharCntM": 0
         },
         {
          "book": "Zhoushu",
          "iDocsCharCntM": 0
         },
         {
          "book": "Zhoushu",
          "iDocsCharCntM": 0
         },
         {
          "book": "Zhoushu",
          "iDocsCharCntM": 0
         },
         {
          "book": "Zhoushu",
          "iDocsCharCntM": 0
         },
         {
          "book": "Zhoushu",
          "iDocsCharCntM": 0
         },
         {
          "book": "Zhoushu",
          "iDocsCharCntM": 0
         },
         {
          "book": "Zhoushu",
          "iDocsCharCntM": 0
         },
         {
          "book": "Zhoushu",
          "iDocsCharCntM": 0
         },
         {
          "book": "Zhoushu",
          "iDocsCharCntM": 0
         },
         {
          "book": "Zhoushu",
          "iDocsCharCntM": 0
         },
         {
          "book": "Zhoushu",
          "iDocsCharCntM": 0
         },
         {
          "book": "Zhoushu",
          "iDocsCharCntM": 0
         },
         {
          "book": "Zhoushu",
          "iDocsCharCntM": 0
         },
         {
          "book": "Zhoushu",
          "iDocsCharCntM": 0
         },
         {
          "book": "Zhoushu",
          "iDocsCharCntM": 0
         },
         {
          "book": "Zhoushu",
          "iDocsCharCntM": 0
         },
         {
          "book": "Zhoushu",
          "iDocsCharCntM": 0
         },
         {
          "book": "Zhoushu",
          "iDocsCharCntM": 0
         },
         {
          "book": "Zhoushu",
          "iDocsCharCntM": 0
         },
         {
          "book": "Zhoushu",
          "iDocsCharCntM": 0
         },
         {
          "book": "Zhoushu",
          "iDocsCharCntM": 0
         },
         {
          "book": "Zhoushu",
          "iDocsCharCntM": 0
         },
         {
          "book": "Zhoushu",
          "iDocsCharCntM": 0
         },
         {
          "book": "Zhoushu",
          "iDocsCharCntM": 0
         },
         {
          "book": "Zhoushu",
          "iDocsCharCntM": 0
         },
         {
          "book": "Zhoushu",
          "iDocsCharCntM": 0
         },
         {
          "book": "Zhoushu",
          "iDocsCharCntM": 0
         },
         {
          "book": "Zhoushu",
          "iDocsCharCntM": 0
         },
         {
          "book": "Zhoushu",
          "iDocsCharCntM": 0
         },
         {
          "book": "Zhoushu",
          "iDocsCharCntM": 0
         },
         {
          "book": "Zhoushu",
          "iDocsCharCntM": 0
         },
         {
          "book": "Zhoushu",
          "iDocsCharCntM": 0
         },
         {
          "book": "Zhoushu",
          "iDocsCharCntM": 0
         },
         {
          "book": "Zhoushu",
          "iDocsCharCntM": 0
         },
         {
          "book": "Zhoushu",
          "iDocsCharCntM": 0
         },
         {
          "book": "Zhoushu",
          "iDocsCharCntM": 0
         },
         {
          "book": "Zhoushu",
          "iDocsCharCntM": 0
         },
         {
          "book": "Zhoushu",
          "iDocsCharCntM": 0
         },
         {
          "book": "Zhoushu",
          "iDocsCharCntM": 627
         },
         {
          "book": "Zhoushu",
          "iDocsCharCntM": 0
         },
         {
          "book": "Zhoushu",
          "iDocsCharCntM": 0
         },
         {
          "book": "Zhoushu",
          "iDocsCharCntM": 0
         },
         {
          "book": "Zhoushu",
          "iDocsCharCntM": 0
         },
         {
          "book": "Zhoushu",
          "iDocsCharCntM": 0
         },
         {
          "book": "Zhoushu",
          "iDocsCharCntM": 0
         },
         {
          "book": "Zhoushu",
          "iDocsCharCntM": 0
         },
         {
          "book": "Zhoushu",
          "iDocsCharCntM": 0
         },
         {
          "book": "Zhoushu",
          "iDocsCharCntM": 0
         },
         {
          "book": "Zhoushu",
          "iDocsCharCntM": 0
         },
         {
          "book": "Zhoushu",
          "iDocsCharCntM": 0
         },
         {
          "book": "Zhoushu",
          "iDocsCharCntM": 0
         },
         {
          "book": "Zhoushu",
          "iDocsCharCntM": 0
         },
         {
          "book": "Zhoushu",
          "iDocsCharCntM": 0
         },
         {
          "book": "Zhoushu",
          "iDocsCharCntM": 0
         },
         {
          "book": "Zhoushu",
          "iDocsCharCntM": 0
         },
         {
          "book": "Zhoushu",
          "iDocsCharCntM": 0
         },
         {
          "book": "Zhoushu",
          "iDocsCharCntM": 0
         },
         {
          "book": "Zhoushu",
          "iDocsCharCntM": 0
         },
         {
          "book": "Zhoushu",
          "iDocsCharCntM": 0
         },
         {
          "book": "Zhoushu",
          "iDocsCharCntM": 0
         },
         {
          "book": "Zhoushu",
          "iDocsCharCntM": 0
         },
         {
          "book": "Zhoushu",
          "iDocsCharCntM": 0
         },
         {
          "book": "Zhoushu",
          "iDocsCharCntM": 0
         },
         {
          "book": "Zhoushu",
          "iDocsCharCntM": 0
         },
         {
          "book": "Zhoushu",
          "iDocsCharCntM": 0
         },
         {
          "book": "Zhoushu",
          "iDocsCharCntM": 0
         },
         {
          "book": "Zhoushu",
          "iDocsCharCntM": 0
         },
         {
          "book": "Zhoushu",
          "iDocsCharCntM": 0
         },
         {
          "book": "Zhoushu",
          "iDocsCharCntM": 0
         },
         {
          "book": "Zhoushu",
          "iDocsCharCntM": 0
         },
         {
          "book": "Zhoushu",
          "iDocsCharCntM": 0
         },
         {
          "book": "Zhoushu",
          "iDocsCharCntM": 0
         },
         {
          "book": "Zhoushu",
          "iDocsCharCntM": 0
         },
         {
          "book": "Zhoushu",
          "iDocsCharCntM": 0
         },
         {
          "book": "Zhoushu",
          "iDocsCharCntM": 0
         },
         {
          "book": "Zhoushu",
          "iDocsCharCntM": 0
         },
         {
          "book": "Zhoushu",
          "iDocsCharCntM": 0
         },
         {
          "book": "Zhoushu",
          "iDocsCharCntM": 0
         },
         {
          "book": "Zhoushu",
          "iDocsCharCntM": 0
         },
         {
          "book": "Zhoushu",
          "iDocsCharCntM": 0
         },
         {
          "book": "Zhoushu",
          "iDocsCharCntM": 0
         },
         {
          "book": "Zhoushu",
          "iDocsCharCntM": 0
         },
         {
          "book": "Zhoushu",
          "iDocsCharCntM": 0
         },
         {
          "book": "Zhoushu",
          "iDocsCharCntM": 0
         },
         {
          "book": "Zhoushu",
          "iDocsCharCntM": 0
         },
         {
          "book": "Zhoushu",
          "iDocsCharCntM": 0
         },
         {
          "book": "Zhoushu",
          "iDocsCharCntM": 0
         },
         {
          "book": "Zhoushu",
          "iDocsCharCntM": 0
         },
         {
          "book": "Zhoushu",
          "iDocsCharCntM": 0
         },
         {
          "book": "Zhoushu",
          "iDocsCharCntM": 0
         },
         {
          "book": "Zhoushu",
          "iDocsCharCntM": 0
         },
         {
          "book": "Zhoushu",
          "iDocsCharCntM": 0
         },
         {
          "book": "Zhoushu",
          "iDocsCharCntM": 0
         },
         {
          "book": "Zhoushu",
          "iDocsCharCntM": 0
         },
         {
          "book": "Zhoushu",
          "iDocsCharCntM": 0
         },
         {
          "book": "Zhoushu",
          "iDocsCharCntM": 0
         },
         {
          "book": "Zhoushu",
          "iDocsCharCntM": 0
         },
         {
          "book": "Zhoushu",
          "iDocsCharCntM": 293
         },
         {
          "book": "Zhoushu",
          "iDocsCharCntM": 0
         },
         {
          "book": "Zhoushu",
          "iDocsCharCntM": 0
         },
         {
          "book": "Zhoushu",
          "iDocsCharCntM": 0
         },
         {
          "book": "Zhoushu",
          "iDocsCharCntM": 0
         },
         {
          "book": "Zhoushu",
          "iDocsCharCntM": 0
         },
         {
          "book": "Zhoushu",
          "iDocsCharCntM": 0
         },
         {
          "book": "Zhoushu",
          "iDocsCharCntM": 0
         },
         {
          "book": "Zhoushu",
          "iDocsCharCntM": 0
         },
         {
          "book": "Zhoushu",
          "iDocsCharCntM": 0
         },
         {
          "book": "Zhoushu",
          "iDocsCharCntM": 0
         },
         {
          "book": "Zhoushu",
          "iDocsCharCntM": 0
         },
         {
          "book": "Zhoushu",
          "iDocsCharCntM": 0
         },
         {
          "book": "Zhoushu",
          "iDocsCharCntM": 0
         },
         {
          "book": "Zhoushu",
          "iDocsCharCntM": 0
         },
         {
          "book": "Zhoushu",
          "iDocsCharCntM": 0
         },
         {
          "book": "Zhoushu",
          "iDocsCharCntM": 0
         },
         {
          "book": "Zhoushu",
          "iDocsCharCntM": 0
         },
         {
          "book": "Zhoushu",
          "iDocsCharCntM": 0
         },
         {
          "book": "Zhoushu",
          "iDocsCharCntM": 0
         },
         {
          "book": "Zhoushu",
          "iDocsCharCntM": 829
         },
         {
          "book": "Zhoushu",
          "iDocsCharCntM": 674
         },
         {
          "book": "Zhoushu",
          "iDocsCharCntM": 4045
         },
         {
          "book": "Zhoushu",
          "iDocsCharCntM": 0
         },
         {
          "book": "Zhoushu",
          "iDocsCharCntM": 0
         },
         {
          "book": "Zhoushu",
          "iDocsCharCntM": 251
         },
         {
          "book": "Zhoushu",
          "iDocsCharCntM": 546
         },
         {
          "book": "Zhoushu",
          "iDocsCharCntM": 0
         },
         {
          "book": "Zhoushu",
          "iDocsCharCntM": 518
         },
         {
          "book": "Zhoushu",
          "iDocsCharCntM": 0
         },
         {
          "book": "Zhoushu",
          "iDocsCharCntM": 0
         },
         {
          "book": "Zhoushu",
          "iDocsCharCntM": 0
         },
         {
          "book": "Zhoushu",
          "iDocsCharCntM": 0
         },
         {
          "book": "Zhoushu",
          "iDocsCharCntM": 0
         },
         {
          "book": "Zhoushu",
          "iDocsCharCntM": 0
         },
         {
          "book": "Zhoushu",
          "iDocsCharCntM": 0
         },
         {
          "book": "Zhoushu",
          "iDocsCharCntM": 0
         },
         {
          "book": "Zhoushu",
          "iDocsCharCntM": 0
         },
         {
          "book": "Zhoushu",
          "iDocsCharCntM": 0
         },
         {
          "book": "Zhoushu",
          "iDocsCharCntM": 0
         },
         {
          "book": "Zhoushu",
          "iDocsCharCntM": 0
         },
         {
          "book": "Zhoushu",
          "iDocsCharCntM": 0
         },
         {
          "book": "Zhoushu",
          "iDocsCharCntM": 0
         },
         {
          "book": "Zhoushu",
          "iDocsCharCntM": 0
         },
         {
          "book": "Zhoushu",
          "iDocsCharCntM": 0
         },
         {
          "book": "Zhoushu",
          "iDocsCharCntM": 0
         },
         {
          "book": "Zhoushu",
          "iDocsCharCntM": 0
         },
         {
          "book": "Zhoushu",
          "iDocsCharCntM": 0
         },
         {
          "book": "Zhoushu",
          "iDocsCharCntM": 0
         },
         {
          "book": "Zhoushu",
          "iDocsCharCntM": 0
         },
         {
          "book": "Zhoushu",
          "iDocsCharCntM": 390
         },
         {
          "book": "Zhoushu",
          "iDocsCharCntM": 0
         },
         {
          "book": "Zhoushu",
          "iDocsCharCntM": 0
         },
         {
          "book": "Zhoushu",
          "iDocsCharCntM": 1235
         },
         {
          "book": "Zhoushu",
          "iDocsCharCntM": 0
         },
         {
          "book": "Zhoushu",
          "iDocsCharCntM": 0
         },
         {
          "book": "Zhoushu",
          "iDocsCharCntM": 0
         },
         {
          "book": "Zhoushu",
          "iDocsCharCntM": 0
         },
         {
          "book": "Zhoushu",
          "iDocsCharCntM": 0
         },
         {
          "book": "Zhoushu",
          "iDocsCharCntM": 0
         },
         {
          "book": "Zhoushu",
          "iDocsCharCntM": 0
         },
         {
          "book": "Zhoushu",
          "iDocsCharCntM": 0
         },
         {
          "book": "Zhoushu",
          "iDocsCharCntM": 0
         },
         {
          "book": "Zhoushu",
          "iDocsCharCntM": 0
         },
         {
          "book": "Zhoushu",
          "iDocsCharCntM": 0
         },
         {
          "book": "Zhoushu",
          "iDocsCharCntM": 0
         },
         {
          "book": "Zhoushu",
          "iDocsCharCntM": 0
         },
         {
          "book": "Zhoushu",
          "iDocsCharCntM": 993
         },
         {
          "book": "Zhoushu",
          "iDocsCharCntM": 0
         },
         {
          "book": "Zhoushu",
          "iDocsCharCntM": 0
         },
         {
          "book": "Zhoushu",
          "iDocsCharCntM": 0
         },
         {
          "book": "Zhoushu",
          "iDocsCharCntM": 0
         },
         {
          "book": "Zhoushu",
          "iDocsCharCntM": 1053
         },
         {
          "book": "Zhoushu",
          "iDocsCharCntM": 0
         },
         {
          "book": "Zhoushu",
          "iDocsCharCntM": 0
         },
         {
          "book": "Zhoushu",
          "iDocsCharCntM": 0
         },
         {
          "book": "Zhoushu",
          "iDocsCharCntM": 0
         },
         {
          "book": "Zhoushu",
          "iDocsCharCntM": 0
         },
         {
          "book": "Zhoushu",
          "iDocsCharCntM": 0
         },
         {
          "book": "Zhoushu",
          "iDocsCharCntM": 0
         },
         {
          "book": "Zhoushu",
          "iDocsCharCntM": 0
         },
         {
          "book": "Zhoushu",
          "iDocsCharCntM": 0
         },
         {
          "book": "Zhoushu",
          "iDocsCharCntM": 0
         },
         {
          "book": "Zhoushu",
          "iDocsCharCntM": 0
         },
         {
          "book": "Zhoushu",
          "iDocsCharCntM": 0
         },
         {
          "book": "Zhoushu",
          "iDocsCharCntM": 0
         },
         {
          "book": "Zhoushu",
          "iDocsCharCntM": 0
         },
         {
          "book": "Zhoushu",
          "iDocsCharCntM": 0
         },
         {
          "book": "Zhoushu",
          "iDocsCharCntM": 0
         },
         {
          "book": "Zhoushu",
          "iDocsCharCntM": 0
         },
         {
          "book": "Zhoushu",
          "iDocsCharCntM": 0
         },
         {
          "book": "Zhoushu",
          "iDocsCharCntM": 0
         },
         {
          "book": "Zhoushu",
          "iDocsCharCntM": 0
         },
         {
          "book": "Zhoushu",
          "iDocsCharCntM": 0
         },
         {
          "book": "Zhoushu",
          "iDocsCharCntM": 0
         },
         {
          "book": "Zhoushu",
          "iDocsCharCntM": 0
         },
         {
          "book": "Zhoushu",
          "iDocsCharCntM": 0
         },
         {
          "book": "Zhoushu",
          "iDocsCharCntM": 0
         },
         {
          "book": "Zhoushu",
          "iDocsCharCntM": 0
         },
         {
          "book": "Zhoushu",
          "iDocsCharCntM": 0
         },
         {
          "book": "Zhoushu",
          "iDocsCharCntM": 0
         },
         {
          "book": "Zhoushu",
          "iDocsCharCntM": 0
         },
         {
          "book": "Zhoushu",
          "iDocsCharCntM": 0
         },
         {
          "book": "Zhoushu",
          "iDocsCharCntM": 0
         },
         {
          "book": "Zhoushu",
          "iDocsCharCntM": 0
         },
         {
          "book": "Zhoushu",
          "iDocsCharCntM": 0
         },
         {
          "book": "Zhoushu",
          "iDocsCharCntM": 0
         },
         {
          "book": "Zhoushu",
          "iDocsCharCntM": 0
         },
         {
          "book": "Zhoushu",
          "iDocsCharCntM": 0
         },
         {
          "book": "Zhoushu",
          "iDocsCharCntM": 0
         },
         {
          "book": "Zhoushu",
          "iDocsCharCntM": 0
         },
         {
          "book": "Zhoushu",
          "iDocsCharCntM": 0
         },
         {
          "book": "Zhoushu",
          "iDocsCharCntM": 0
         },
         {
          "book": "Zhoushu",
          "iDocsCharCntM": 0
         },
         {
          "book": "Zhoushu",
          "iDocsCharCntM": 0
         },
         {
          "book": "Zhoushu",
          "iDocsCharCntM": 0
         },
         {
          "book": "Zhoushu",
          "iDocsCharCntM": 0
         },
         {
          "book": "Zhoushu",
          "iDocsCharCntM": 0
         },
         {
          "book": "Zhoushu",
          "iDocsCharCntM": 0
         },
         {
          "book": "Zhoushu",
          "iDocsCharCntM": 0
         },
         {
          "book": "Zhoushu",
          "iDocsCharCntM": 0
         },
         {
          "book": "SuiShu",
          "iDocsCharCntM": 0
         },
         {
          "book": "SuiShu",
          "iDocsCharCntM": 0
         },
         {
          "book": "SuiShu",
          "iDocsCharCntM": 0
         },
         {
          "book": "SuiShu",
          "iDocsCharCntM": 0
         },
         {
          "book": "SuiShu",
          "iDocsCharCntM": 547
         },
         {
          "book": "SuiShu",
          "iDocsCharCntM": 498
         },
         {
          "book": "SuiShu",
          "iDocsCharCntM": 0
         },
         {
          "book": "SuiShu",
          "iDocsCharCntM": 0
         },
         {
          "book": "SuiShu",
          "iDocsCharCntM": 0
         },
         {
          "book": "SuiShu",
          "iDocsCharCntM": 1116
         },
         {
          "book": "SuiShu",
          "iDocsCharCntM": 0
         },
         {
          "book": "SuiShu",
          "iDocsCharCntM": 0
         },
         {
          "book": "SuiShu",
          "iDocsCharCntM": 0
         },
         {
          "book": "SuiShu",
          "iDocsCharCntM": 0
         },
         {
          "book": "SuiShu",
          "iDocsCharCntM": 0
         },
         {
          "book": "SuiShu",
          "iDocsCharCntM": 0
         },
         {
          "book": "SuiShu",
          "iDocsCharCntM": 0
         },
         {
          "book": "SuiShu",
          "iDocsCharCntM": 335
         },
         {
          "book": "SuiShu",
          "iDocsCharCntM": 0
         },
         {
          "book": "SuiShu",
          "iDocsCharCntM": 0
         },
         {
          "book": "SuiShu",
          "iDocsCharCntM": 0
         },
         {
          "book": "SuiShu",
          "iDocsCharCntM": 0
         },
         {
          "book": "SuiShu",
          "iDocsCharCntM": 0
         },
         {
          "book": "SuiShu",
          "iDocsCharCntM": 0
         },
         {
          "book": "SuiShu",
          "iDocsCharCntM": 0
         },
         {
          "book": "SuiShu",
          "iDocsCharCntM": 0
         },
         {
          "book": "SuiShu",
          "iDocsCharCntM": 0
         },
         {
          "book": "SuiShu",
          "iDocsCharCntM": 0
         },
         {
          "book": "SuiShu",
          "iDocsCharCntM": 0
         },
         {
          "book": "SuiShu",
          "iDocsCharCntM": 0
         },
         {
          "book": "SuiShu",
          "iDocsCharCntM": 0
         },
         {
          "book": "SuiShu",
          "iDocsCharCntM": 0
         },
         {
          "book": "SuiShu",
          "iDocsCharCntM": 0
         },
         {
          "book": "SuiShu",
          "iDocsCharCntM": 0
         },
         {
          "book": "SuiShu",
          "iDocsCharCntM": 0
         },
         {
          "book": "SuiShu",
          "iDocsCharCntM": 0
         },
         {
          "book": "SuiShu",
          "iDocsCharCntM": 0
         },
         {
          "book": "SuiShu",
          "iDocsCharCntM": 0
         },
         {
          "book": "SuiShu",
          "iDocsCharCntM": 0
         },
         {
          "book": "SuiShu",
          "iDocsCharCntM": 0
         },
         {
          "book": "SuiShu",
          "iDocsCharCntM": 4021
         },
         {
          "book": "SuiShu",
          "iDocsCharCntM": 0
         },
         {
          "book": "SuiShu",
          "iDocsCharCntM": 0
         },
         {
          "book": "SuiShu",
          "iDocsCharCntM": 615
         },
         {
          "book": "SuiShu",
          "iDocsCharCntM": 0
         },
         {
          "book": "SuiShu",
          "iDocsCharCntM": 0
         },
         {
          "book": "SuiShu",
          "iDocsCharCntM": 0
         },
         {
          "book": "SuiShu",
          "iDocsCharCntM": 0
         },
         {
          "book": "SuiShu",
          "iDocsCharCntM": 0
         },
         {
          "book": "SuiShu",
          "iDocsCharCntM": 0
         },
         {
          "book": "SuiShu",
          "iDocsCharCntM": 0
         },
         {
          "book": "SuiShu",
          "iDocsCharCntM": 0
         },
         {
          "book": "SuiShu",
          "iDocsCharCntM": 0
         },
         {
          "book": "SuiShu",
          "iDocsCharCntM": 0
         },
         {
          "book": "SuiShu",
          "iDocsCharCntM": 0
         },
         {
          "book": "SuiShu",
          "iDocsCharCntM": 904
         },
         {
          "book": "SuiShu",
          "iDocsCharCntM": 0
         },
         {
          "book": "SuiShu",
          "iDocsCharCntM": 0
         },
         {
          "book": "SuiShu",
          "iDocsCharCntM": 0
         },
         {
          "book": "SuiShu",
          "iDocsCharCntM": 576
         },
         {
          "book": "SuiShu",
          "iDocsCharCntM": 0
         },
         {
          "book": "SuiShu",
          "iDocsCharCntM": 0
         },
         {
          "book": "SuiShu",
          "iDocsCharCntM": 0
         },
         {
          "book": "SuiShu",
          "iDocsCharCntM": 0
         },
         {
          "book": "SuiShu",
          "iDocsCharCntM": 0
         },
         {
          "book": "SuiShu",
          "iDocsCharCntM": 0
         },
         {
          "book": "SuiShu",
          "iDocsCharCntM": 0
         },
         {
          "book": "SuiShu",
          "iDocsCharCntM": 0
         },
         {
          "book": "SuiShu",
          "iDocsCharCntM": 0
         },
         {
          "book": "SuiShu",
          "iDocsCharCntM": 0
         },
         {
          "book": "SuiShu",
          "iDocsCharCntM": 0
         },
         {
          "book": "SuiShu",
          "iDocsCharCntM": 0
         },
         {
          "book": "SuiShu",
          "iDocsCharCntM": 0
         },
         {
          "book": "SuiShu",
          "iDocsCharCntM": 0
         },
         {
          "book": "SuiShu",
          "iDocsCharCntM": 0
         },
         {
          "book": "SuiShu",
          "iDocsCharCntM": 0
         },
         {
          "book": "SuiShu",
          "iDocsCharCntM": 0
         },
         {
          "book": "SuiShu",
          "iDocsCharCntM": 0
         },
         {
          "book": "SuiShu",
          "iDocsCharCntM": 0
         },
         {
          "book": "SuiShu",
          "iDocsCharCntM": 0
         },
         {
          "book": "SuiShu",
          "iDocsCharCntM": 0
         },
         {
          "book": "SuiShu",
          "iDocsCharCntM": 0
         },
         {
          "book": "SuiShu",
          "iDocsCharCntM": 0
         },
         {
          "book": "SuiShu",
          "iDocsCharCntM": 837
         },
         {
          "book": "SuiShu",
          "iDocsCharCntM": 1661
         },
         {
          "book": "SuiShu",
          "iDocsCharCntM": 0
         },
         {
          "book": "SuiShu",
          "iDocsCharCntM": 0
         },
         {
          "book": "SuiShu",
          "iDocsCharCntM": 5561
         },
         {
          "book": "SuiShu",
          "iDocsCharCntM": 0
         },
         {
          "book": "SuiShu",
          "iDocsCharCntM": 0
         },
         {
          "book": "SuiShu",
          "iDocsCharCntM": 0
         },
         {
          "book": "SuiShu",
          "iDocsCharCntM": 0
         },
         {
          "book": "SuiShu",
          "iDocsCharCntM": 0
         },
         {
          "book": "SuiShu",
          "iDocsCharCntM": 0
         },
         {
          "book": "SuiShu",
          "iDocsCharCntM": 0
         },
         {
          "book": "SuiShu",
          "iDocsCharCntM": 0
         },
         {
          "book": "SuiShu",
          "iDocsCharCntM": 0
         },
         {
          "book": "SuiShu",
          "iDocsCharCntM": 0
         },
         {
          "book": "SuiShu",
          "iDocsCharCntM": 0
         },
         {
          "book": "SuiShu",
          "iDocsCharCntM": 0
         },
         {
          "book": "SuiShu",
          "iDocsCharCntM": 0
         },
         {
          "book": "SuiShu",
          "iDocsCharCntM": 0
         },
         {
          "book": "SuiShu",
          "iDocsCharCntM": 0
         },
         {
          "book": "SuiShu",
          "iDocsCharCntM": 0
         },
         {
          "book": "SuiShu",
          "iDocsCharCntM": 0
         },
         {
          "book": "SuiShu",
          "iDocsCharCntM": 0
         },
         {
          "book": "SuiShu",
          "iDocsCharCntM": 0
         },
         {
          "book": "SuiShu",
          "iDocsCharCntM": 0
         },
         {
          "book": "SuiShu",
          "iDocsCharCntM": 0
         },
         {
          "book": "SuiShu",
          "iDocsCharCntM": 0
         },
         {
          "book": "SuiShu",
          "iDocsCharCntM": 0
         },
         {
          "book": "SuiShu",
          "iDocsCharCntM": 0
         },
         {
          "book": "SuiShu",
          "iDocsCharCntM": 0
         },
         {
          "book": "SuiShu",
          "iDocsCharCntM": 0
         },
         {
          "book": "SuiShu",
          "iDocsCharCntM": 0
         },
         {
          "book": "SuiShu",
          "iDocsCharCntM": 0
         },
         {
          "book": "SuiShu",
          "iDocsCharCntM": 0
         },
         {
          "book": "SuiShu",
          "iDocsCharCntM": 0
         },
         {
          "book": "SuiShu",
          "iDocsCharCntM": 0
         },
         {
          "book": "SuiShu",
          "iDocsCharCntM": 0
         },
         {
          "book": "SuiShu",
          "iDocsCharCntM": 0
         },
         {
          "book": "SuiShu",
          "iDocsCharCntM": 0
         },
         {
          "book": "SuiShu",
          "iDocsCharCntM": 0
         },
         {
          "book": "SuiShu",
          "iDocsCharCntM": 0
         },
         {
          "book": "SuiShu",
          "iDocsCharCntM": 0
         },
         {
          "book": "SuiShu",
          "iDocsCharCntM": 0
         },
         {
          "book": "SuiShu",
          "iDocsCharCntM": 0
         },
         {
          "book": "SuiShu",
          "iDocsCharCntM": 0
         },
         {
          "book": "SuiShu",
          "iDocsCharCntM": 0
         },
         {
          "book": "SuiShu",
          "iDocsCharCntM": 2568
         },
         {
          "book": "SuiShu",
          "iDocsCharCntM": 0
         },
         {
          "book": "SuiShu",
          "iDocsCharCntM": 0
         },
         {
          "book": "SuiShu",
          "iDocsCharCntM": 2566
         },
         {
          "book": "SuiShu",
          "iDocsCharCntM": 0
         },
         {
          "book": "SuiShu",
          "iDocsCharCntM": 0
         },
         {
          "book": "SuiShu",
          "iDocsCharCntM": 1322
         },
         {
          "book": "SuiShu",
          "iDocsCharCntM": 0
         },
         {
          "book": "SuiShu",
          "iDocsCharCntM": 0
         },
         {
          "book": "SuiShu",
          "iDocsCharCntM": 0
         },
         {
          "book": "SuiShu",
          "iDocsCharCntM": 0
         },
         {
          "book": "SuiShu",
          "iDocsCharCntM": 0
         },
         {
          "book": "SuiShu",
          "iDocsCharCntM": 2209
         },
         {
          "book": "SuiShu",
          "iDocsCharCntM": 0
         },
         {
          "book": "SuiShu",
          "iDocsCharCntM": 0
         },
         {
          "book": "SuiShu",
          "iDocsCharCntM": 782
         },
         {
          "book": "SuiShu",
          "iDocsCharCntM": 0
         },
         {
          "book": "SuiShu",
          "iDocsCharCntM": 1027
         },
         {
          "book": "SuiShu",
          "iDocsCharCntM": 0
         },
         {
          "book": "SuiShu",
          "iDocsCharCntM": 0
         },
         {
          "book": "SuiShu",
          "iDocsCharCntM": 635
         },
         {
          "book": "SuiShu",
          "iDocsCharCntM": 435
         },
         {
          "book": "SuiShu",
          "iDocsCharCntM": 0
         },
         {
          "book": "SuiShu",
          "iDocsCharCntM": 0
         },
         {
          "book": "SuiShu",
          "iDocsCharCntM": 0
         },
         {
          "book": "SuiShu",
          "iDocsCharCntM": 0
         },
         {
          "book": "SuiShu",
          "iDocsCharCntM": 0
         },
         {
          "book": "SuiShu",
          "iDocsCharCntM": 0
         },
         {
          "book": "SuiShu",
          "iDocsCharCntM": 0
         },
         {
          "book": "SuiShu",
          "iDocsCharCntM": 0
         },
         {
          "book": "SuiShu",
          "iDocsCharCntM": 0
         },
         {
          "book": "SuiShu",
          "iDocsCharCntM": 0
         },
         {
          "book": "SuiShu",
          "iDocsCharCntM": 0
         },
         {
          "book": "SuiShu",
          "iDocsCharCntM": 0
         },
         {
          "book": "SuiShu",
          "iDocsCharCntM": 0
         },
         {
          "book": "SuiShu",
          "iDocsCharCntM": 0
         },
         {
          "book": "SuiShu",
          "iDocsCharCntM": 747
         },
         {
          "book": "SuiShu",
          "iDocsCharCntM": 327
         },
         {
          "book": "SuiShu",
          "iDocsCharCntM": 0
         },
         {
          "book": "SuiShu",
          "iDocsCharCntM": 0
         },
         {
          "book": "SuiShu",
          "iDocsCharCntM": 0
         },
         {
          "book": "SuiShu",
          "iDocsCharCntM": 0
         },
         {
          "book": "SuiShu",
          "iDocsCharCntM": 0
         },
         {
          "book": "SuiShu",
          "iDocsCharCntM": 0
         },
         {
          "book": "SuiShu",
          "iDocsCharCntM": 0
         },
         {
          "book": "SuiShu",
          "iDocsCharCntM": 0
         },
         {
          "book": "SuiShu",
          "iDocsCharCntM": 0
         },
         {
          "book": "SuiShu",
          "iDocsCharCntM": 0
         },
         {
          "book": "SuiShu",
          "iDocsCharCntM": 0
         },
         {
          "book": "SuiShu",
          "iDocsCharCntM": 0
         },
         {
          "book": "SuiShu",
          "iDocsCharCntM": 0
         },
         {
          "book": "SuiShu",
          "iDocsCharCntM": 0
         },
         {
          "book": "SuiShu",
          "iDocsCharCntM": 0
         },
         {
          "book": "SuiShu",
          "iDocsCharCntM": 0
         },
         {
          "book": "SuiShu",
          "iDocsCharCntM": 0
         },
         {
          "book": "SuiShu",
          "iDocsCharCntM": 0
         },
         {
          "book": "SuiShu",
          "iDocsCharCntM": 0
         },
         {
          "book": "SuiShu",
          "iDocsCharCntM": 0
         },
         {
          "book": "SuiShu",
          "iDocsCharCntM": 0
         },
         {
          "book": "SuiShu",
          "iDocsCharCntM": 0
         },
         {
          "book": "SuiShu",
          "iDocsCharCntM": 0
         },
         {
          "book": "SuiShu",
          "iDocsCharCntM": 0
         },
         {
          "book": "SuiShu",
          "iDocsCharCntM": 1014
         },
         {
          "book": "SuiShu",
          "iDocsCharCntM": 0
         },
         {
          "book": "SuiShu",
          "iDocsCharCntM": 0
         },
         {
          "book": "SuiShu",
          "iDocsCharCntM": 0
         },
         {
          "book": "SuiShu",
          "iDocsCharCntM": 0
         },
         {
          "book": "SuiShu",
          "iDocsCharCntM": 0
         },
         {
          "book": "SuiShu",
          "iDocsCharCntM": 0
         },
         {
          "book": "SuiShu",
          "iDocsCharCntM": 0
         },
         {
          "book": "SuiShu",
          "iDocsCharCntM": 0
         },
         {
          "book": "SuiShu",
          "iDocsCharCntM": 0
         },
         {
          "book": "SuiShu",
          "iDocsCharCntM": 0
         },
         {
          "book": "SuiShu",
          "iDocsCharCntM": 1304
         },
         {
          "book": "SuiShu",
          "iDocsCharCntM": 1266
         },
         {
          "book": "SuiShu",
          "iDocsCharCntM": 0
         },
         {
          "book": "SuiShu",
          "iDocsCharCntM": 929
         },
         {
          "book": "SuiShu",
          "iDocsCharCntM": 2847
         },
         {
          "book": "SuiShu",
          "iDocsCharCntM": 0
         },
         {
          "book": "SuiShu",
          "iDocsCharCntM": 0
         },
         {
          "book": "SuiShu",
          "iDocsCharCntM": 0
         },
         {
          "book": "SuiShu",
          "iDocsCharCntM": 0
         },
         {
          "book": "SuiShu",
          "iDocsCharCntM": 2927
         },
         {
          "book": "SuiShu",
          "iDocsCharCntM": 498
         },
         {
          "book": "SuiShu",
          "iDocsCharCntM": 392
         },
         {
          "book": "SuiShu",
          "iDocsCharCntM": 0
         },
         {
          "book": "SuiShu",
          "iDocsCharCntM": 0
         },
         {
          "book": "SuiShu",
          "iDocsCharCntM": 0
         },
         {
          "book": "SuiShu",
          "iDocsCharCntM": 0
         },
         {
          "book": "SuiShu",
          "iDocsCharCntM": 0
         },
         {
          "book": "SuiShu",
          "iDocsCharCntM": 0
         },
         {
          "book": "SuiShu",
          "iDocsCharCntM": 0
         },
         {
          "book": "SuiShu",
          "iDocsCharCntM": 0
         },
         {
          "book": "SuiShu",
          "iDocsCharCntM": 0
         },
         {
          "book": "SuiShu",
          "iDocsCharCntM": 0
         },
         {
          "book": "SuiShu",
          "iDocsCharCntM": 0
         },
         {
          "book": "SuiShu",
          "iDocsCharCntM": 0
         },
         {
          "book": "SuiShu",
          "iDocsCharCntM": 0
         },
         {
          "book": "SuiShu",
          "iDocsCharCntM": 0
         },
         {
          "book": "SuiShu",
          "iDocsCharCntM": 0
         },
         {
          "book": "SuiShu",
          "iDocsCharCntM": 0
         },
         {
          "book": "SuiShu",
          "iDocsCharCntM": 0
         },
         {
          "book": "SuiShu",
          "iDocsCharCntM": 0
         },
         {
          "book": "SuiShu",
          "iDocsCharCntM": 0
         },
         {
          "book": "SuiShu",
          "iDocsCharCntM": 1307
         },
         {
          "book": "SuiShu",
          "iDocsCharCntM": 0
         },
         {
          "book": "SuiShu",
          "iDocsCharCntM": 0
         },
         {
          "book": "SuiShu",
          "iDocsCharCntM": 0
         },
         {
          "book": "SuiShu",
          "iDocsCharCntM": 0
         },
         {
          "book": "SuiShu",
          "iDocsCharCntM": 0
         },
         {
          "book": "SuiShu",
          "iDocsCharCntM": 0
         },
         {
          "book": "SuiShu",
          "iDocsCharCntM": 0
         },
         {
          "book": "SuiShu",
          "iDocsCharCntM": 282
         },
         {
          "book": "SuiShu",
          "iDocsCharCntM": 0
         },
         {
          "book": "SuiShu",
          "iDocsCharCntM": 0
         },
         {
          "book": "SuiShu",
          "iDocsCharCntM": 0
         },
         {
          "book": "SuiShu",
          "iDocsCharCntM": 0
         },
         {
          "book": "SuiShu",
          "iDocsCharCntM": 0
         },
         {
          "book": "SuiShu",
          "iDocsCharCntM": 0
         },
         {
          "book": "SuiShu",
          "iDocsCharCntM": 0
         },
         {
          "book": "SuiShu",
          "iDocsCharCntM": 0
         },
         {
          "book": "SuiShu",
          "iDocsCharCntM": 0
         },
         {
          "book": "SuiShu",
          "iDocsCharCntM": 0
         },
         {
          "book": "SuiShu",
          "iDocsCharCntM": 0
         },
         {
          "book": "SuiShu",
          "iDocsCharCntM": 0
         },
         {
          "book": "SuiShu",
          "iDocsCharCntM": 0
         },
         {
          "book": "SuiShu",
          "iDocsCharCntM": 0
         },
         {
          "book": "SuiShu",
          "iDocsCharCntM": 0
         },
         {
          "book": "SuiShu",
          "iDocsCharCntM": 0
         },
         {
          "book": "SuiShu",
          "iDocsCharCntM": 0
         },
         {
          "book": "SuiShu",
          "iDocsCharCntM": 0
         },
         {
          "book": "SuiShu",
          "iDocsCharCntM": 0
         },
         {
          "book": "SuiShu",
          "iDocsCharCntM": 0
         },
         {
          "book": "SuiShu",
          "iDocsCharCntM": 0
         },
         {
          "book": "SuiShu",
          "iDocsCharCntM": 0
         },
         {
          "book": "SuiShu",
          "iDocsCharCntM": 0
         },
         {
          "book": "SuiShu",
          "iDocsCharCntM": 0
         },
         {
          "book": "SuiShu",
          "iDocsCharCntM": 0
         },
         {
          "book": "SuiShu",
          "iDocsCharCntM": 0
         },
         {
          "book": "SuiShu",
          "iDocsCharCntM": 0
         },
         {
          "book": "SuiShu",
          "iDocsCharCntM": 0
         },
         {
          "book": "SuiShu",
          "iDocsCharCntM": 0
         },
         {
          "book": "SuiShu",
          "iDocsCharCntM": 0
         },
         {
          "book": "SuiShu",
          "iDocsCharCntM": 0
         },
         {
          "book": "SuiShu",
          "iDocsCharCntM": 0
         },
         {
          "book": "SuiShu",
          "iDocsCharCntM": 0
         },
         {
          "book": "SuiShu",
          "iDocsCharCntM": 0
         },
         {
          "book": "SuiShu",
          "iDocsCharCntM": 0
         },
         {
          "book": "SuiShu",
          "iDocsCharCntM": 0
         },
         {
          "book": "SuiShu",
          "iDocsCharCntM": 2195
         },
         {
          "book": "SuiShu",
          "iDocsCharCntM": 0
         },
         {
          "book": "SuiShu",
          "iDocsCharCntM": 0
         },
         {
          "book": "SuiShu",
          "iDocsCharCntM": 0
         },
         {
          "book": "SuiShu",
          "iDocsCharCntM": 0
         },
         {
          "book": "SuiShu",
          "iDocsCharCntM": 0
         },
         {
          "book": "SuiShu",
          "iDocsCharCntM": 593
         },
         {
          "book": "SuiShu",
          "iDocsCharCntM": 0
         },
         {
          "book": "SuiShu",
          "iDocsCharCntM": 0
         },
         {
          "book": "SuiShu",
          "iDocsCharCntM": 0
         },
         {
          "book": "SuiShu",
          "iDocsCharCntM": 0
         },
         {
          "book": "SuiShu",
          "iDocsCharCntM": 703
         },
         {
          "book": "SuiShu",
          "iDocsCharCntM": 0
         },
         {
          "book": "SuiShu",
          "iDocsCharCntM": 0
         },
         {
          "book": "SuiShu",
          "iDocsCharCntM": 0
         },
         {
          "book": "SuiShu",
          "iDocsCharCntM": 0
         },
         {
          "book": "SuiShu",
          "iDocsCharCntM": 0
         },
         {
          "book": "SuiShu",
          "iDocsCharCntM": 508
         },
         {
          "book": "SuiShu",
          "iDocsCharCntM": 712
         },
         {
          "book": "SuiShu",
          "iDocsCharCntM": 563
         },
         {
          "book": "SuiShu",
          "iDocsCharCntM": 0
         },
         {
          "book": "SuiShu",
          "iDocsCharCntM": 0
         },
         {
          "book": "SuiShu",
          "iDocsCharCntM": 0
         },
         {
          "book": "SuiShu",
          "iDocsCharCntM": 1575
         },
         {
          "book": "SuiShu",
          "iDocsCharCntM": 0
         },
         {
          "book": "SuiShu",
          "iDocsCharCntM": 0
         },
         {
          "book": "SuiShu",
          "iDocsCharCntM": 0
         },
         {
          "book": "SuiShu",
          "iDocsCharCntM": 0
         },
         {
          "book": "SuiShu",
          "iDocsCharCntM": 0
         },
         {
          "book": "SuiShu",
          "iDocsCharCntM": 0
         },
         {
          "book": "SuiShu",
          "iDocsCharCntM": 0
         },
         {
          "book": "SuiShu",
          "iDocsCharCntM": 0
         },
         {
          "book": "SuiShu",
          "iDocsCharCntM": 0
         },
         {
          "book": "SuiShu",
          "iDocsCharCntM": 0
         },
         {
          "book": "SuiShu",
          "iDocsCharCntM": 0
         },
         {
          "book": "SuiShu",
          "iDocsCharCntM": 664
         },
         {
          "book": "SuiShu",
          "iDocsCharCntM": 0
         },
         {
          "book": "SuiShu",
          "iDocsCharCntM": 0
         },
         {
          "book": "SuiShu",
          "iDocsCharCntM": 0
         },
         {
          "book": "SuiShu",
          "iDocsCharCntM": 0
         },
         {
          "book": "SuiShu",
          "iDocsCharCntM": 0
         },
         {
          "book": "SuiShu",
          "iDocsCharCntM": 0
         },
         {
          "book": "SuiShu",
          "iDocsCharCntM": 0
         },
         {
          "book": "SuiShu",
          "iDocsCharCntM": 0
         },
         {
          "book": "SuiShu",
          "iDocsCharCntM": 389
         },
         {
          "book": "SuiShu",
          "iDocsCharCntM": 0
         },
         {
          "book": "SuiShu",
          "iDocsCharCntM": 0
         },
         {
          "book": "SuiShu",
          "iDocsCharCntM": 0
         },
         {
          "book": "SuiShu",
          "iDocsCharCntM": 0
         },
         {
          "book": "SuiShu",
          "iDocsCharCntM": 0
         },
         {
          "book": "SuiShu",
          "iDocsCharCntM": 0
         },
         {
          "book": "SuiShu",
          "iDocsCharCntM": 0
         },
         {
          "book": "SuiShu",
          "iDocsCharCntM": 0
         },
         {
          "book": "SuiShu",
          "iDocsCharCntM": 0
         },
         {
          "book": "SuiShu",
          "iDocsCharCntM": 0
         },
         {
          "book": "SuiShu",
          "iDocsCharCntM": 0
         },
         {
          "book": "SuiShu",
          "iDocsCharCntM": 0
         },
         {
          "book": "SuiShu",
          "iDocsCharCntM": 0
         },
         {
          "book": "SuiShu",
          "iDocsCharCntM": 0
         },
         {
          "book": "SuiShu",
          "iDocsCharCntM": 0
         },
         {
          "book": "SuiShu",
          "iDocsCharCntM": 0
         },
         {
          "book": "SuiShu",
          "iDocsCharCntM": 0
         },
         {
          "book": "SuiShu",
          "iDocsCharCntM": 0
         },
         {
          "book": "SuiShu",
          "iDocsCharCntM": 0
         },
         {
          "book": "SuiShu",
          "iDocsCharCntM": 0
         },
         {
          "book": "SuiShu",
          "iDocsCharCntM": 0
         },
         {
          "book": "SuiShu",
          "iDocsCharCntM": 0
         },
         {
          "book": "SuiShu",
          "iDocsCharCntM": 0
         },
         {
          "book": "SuiShu",
          "iDocsCharCntM": 0
         },
         {
          "book": "SuiShu",
          "iDocsCharCntM": 0
         },
         {
          "book": "SuiShu",
          "iDocsCharCntM": 0
         },
         {
          "book": "SuiShu",
          "iDocsCharCntM": 0
         },
         {
          "book": "SuiShu",
          "iDocsCharCntM": 0
         },
         {
          "book": "SuiShu",
          "iDocsCharCntM": 0
         },
         {
          "book": "SuiShu",
          "iDocsCharCntM": 0
         },
         {
          "book": "SuiShu",
          "iDocsCharCntM": 0
         },
         {
          "book": "SuiShu",
          "iDocsCharCntM": 730
         },
         {
          "book": "SuiShu",
          "iDocsCharCntM": 0
         },
         {
          "book": "SuiShu",
          "iDocsCharCntM": 0
         },
         {
          "book": "SuiShu",
          "iDocsCharCntM": 0
         },
         {
          "book": "SuiShu",
          "iDocsCharCntM": 0
         },
         {
          "book": "SuiShu",
          "iDocsCharCntM": 0
         },
         {
          "book": "SuiShu",
          "iDocsCharCntM": 0
         },
         {
          "book": "SuiShu",
          "iDocsCharCntM": 0
         },
         {
          "book": "SuiShu",
          "iDocsCharCntM": 0
         },
         {
          "book": "SuiShu",
          "iDocsCharCntM": 0
         },
         {
          "book": "SuiShu",
          "iDocsCharCntM": 0
         },
         {
          "book": "SuiShu",
          "iDocsCharCntM": 0
         },
         {
          "book": "SuiShu",
          "iDocsCharCntM": 0
         },
         {
          "book": "SuiShu",
          "iDocsCharCntM": 0
         },
         {
          "book": "SuiShu",
          "iDocsCharCntM": 0
         },
         {
          "book": "SuiShu",
          "iDocsCharCntM": 0
         },
         {
          "book": "SuiShu",
          "iDocsCharCntM": 0
         },
         {
          "book": "SuiShu",
          "iDocsCharCntM": 0
         },
         {
          "book": "SuiShu",
          "iDocsCharCntM": 0
         },
         {
          "book": "SuiShu",
          "iDocsCharCntM": 0
         },
         {
          "book": "SuiShu",
          "iDocsCharCntM": 0
         },
         {
          "book": "SuiShu",
          "iDocsCharCntM": 0
         },
         {
          "book": "SuiShu",
          "iDocsCharCntM": 0
         },
         {
          "book": "SuiShu",
          "iDocsCharCntM": 0
         },
         {
          "book": "SuiShu",
          "iDocsCharCntM": 0
         },
         {
          "book": "SuiShu",
          "iDocsCharCntM": 0
         },
         {
          "book": "SuiShu",
          "iDocsCharCntM": 0
         },
         {
          "book": "SuiShu",
          "iDocsCharCntM": 0
         },
         {
          "book": "SuiShu",
          "iDocsCharCntM": 0
         },
         {
          "book": "SuiShu",
          "iDocsCharCntM": 0
         },
         {
          "book": "SuiShu",
          "iDocsCharCntM": 0
         },
         {
          "book": "SuiShu",
          "iDocsCharCntM": 0
         },
         {
          "book": "SuiShu",
          "iDocsCharCntM": 0
         },
         {
          "book": "SuiShu",
          "iDocsCharCntM": 0
         },
         {
          "book": "SuiShu",
          "iDocsCharCntM": 0
         },
         {
          "book": "SuiShu",
          "iDocsCharCntM": 1335
         },
         {
          "book": "SuiShu",
          "iDocsCharCntM": 0
         },
         {
          "book": "SuiShu",
          "iDocsCharCntM": 0
         },
         {
          "book": "SuiShu",
          "iDocsCharCntM": 0
         },
         {
          "book": "SuiShu",
          "iDocsCharCntM": 0
         },
         {
          "book": "SuiShu",
          "iDocsCharCntM": 0
         },
         {
          "book": "SuiShu",
          "iDocsCharCntM": 0
         },
         {
          "book": "SuiShu",
          "iDocsCharCntM": 0
         },
         {
          "book": "SuiShu",
          "iDocsCharCntM": 0
         },
         {
          "book": "SuiShu",
          "iDocsCharCntM": 0
         },
         {
          "book": "SuiShu",
          "iDocsCharCntM": 0
         },
         {
          "book": "SuiShu",
          "iDocsCharCntM": 0
         },
         {
          "book": "SuiShu",
          "iDocsCharCntM": 0
         }
        ]
       },
       "encoding": {
        "x": {
         "field": "sum_iDocsCharCntM",
         "type": "quantitative"
        },
        "y": {
         "field": "book",
         "sort": [
          "Shiji",
          "Hanshu",
          "Sanguozhi",
          "HouHanShu",
          "Songshu",
          "Nanqishu",
          "Weishu",
          "LiangShu",
          "Chenshu",
          "BeiQishu",
          "Zhoushu",
          "SuiShu"
         ],
         "type": "ordinal"
        }
       },
       "mark": "bar",
       "transform": [
        {
         "aggregate": [
          {
           "as": "sum_iDocsCharCntM",
           "field": "iDocsCharCntM",
           "op": "sum"
          }
         ],
         "groupby": [
          "book"
         ]
        }
       ]
      },
      "image/png": "[encoded data removed]",
      "text/plain": [
       "<VegaLite 3 object>\n",
       "\n",
       "If you see this message, it means the renderer has not been properly enabled\n",
       "for the frontend that you are using. For more information, see\n",
       "https://altair-viz.github.io/user_guide/troubleshooting.html\n"
      ]
     },
     "execution_count": 74,
     "metadata": {},
     "output_type": "execute_result"
    }
   ],
   "source": [
    "dfBook =  df[ (df.book.isin(Histories[:12])) & (df.section.isin(['列傳'])) ]\n",
    "dfPlot = pd.DataFrame({\n",
    "    'book': dfBook['book'].to_numpy(),\n",
    "    'iDocsCharCntM': dfBook['iDocsCharCntM'].to_numpy()\n",
    "})\n",
    "\n",
    "alt.Chart(dfPlot).mark_bar().encode(\n",
    "    x='sum_iDocsCharCntM:Q',\n",
    "    y=alt.Y('book:O', sort=Histories[:12])\n",
    ").transform_aggregate(\n",
    "    sum_iDocsCharCntM='sum(iDocsCharCntM)',\n",
    "    groupby=[\"book\"]\n",
    ")"
   ]
  },
  {
   "cell_type": "markdown",
   "metadata": {},
   "source": [
    "### Build some vocabularies (NOT UPDATED YET)"
   ]
  },
  {
   "cell_type": "code",
   "execution_count": 28,
   "metadata": {},
   "outputs": [],
   "source": [
    "# use these 'sentence-terminating' punctuation marks to break \n",
    "# paragraphs into sentences\n",
    "regex_punc = re.compile(r\"[　。？！]\")   "
   ]
  },
  {
   "cell_type": "markdown",
   "metadata": {},
   "source": [
    "### Commentaries - Regular Text"
   ]
  },
  {
   "cell_type": "markdown",
   "metadata": {},
   "source": [
    "#### Need to first remove quoted documents"
   ]
  },
  {
   "cell_type": "code",
   "execution_count": 29,
   "metadata": {},
   "outputs": [],
   "source": [
    "# Use the same regex to identify \"quoted documents\" as\n",
    "# re.split() regex to 'separate out' regular text \n",
    "regex_quoted = re.compile(r\"(?<=「)[^「]{250,}?(?=」)\") "
   ]
  },
  {
   "cell_type": "code",
   "execution_count": 30,
   "metadata": {},
   "outputs": [
    {
     "data": {
      "text/plain": [
       "[('以為', 576),\n",
       " ('太祖', 524),\n",
       " ('將軍', 499),\n",
       " ('太守', 311),\n",
       " ('天下', 310),\n",
       " ('不能', 286),\n",
       " ('不可', 250),\n",
       " ('春秋', 245),\n",
       " ('尚書', 214),\n",
       " ('魏書', 202),\n",
       " ('不得', 184),\n",
       " ('司馬', 174),\n",
       " ('於是', 163),\n",
       " ('刺史', 162),\n",
       " ('江表', 144),\n",
       " ('諸葛', 138),\n",
       " ('天子', 127),\n",
       " ('所以', 122),\n",
       " ('太子', 121),\n",
       " ('大將', 120)]"
      ]
     },
     "execution_count": 30,
     "metadata": {},
     "output_type": "execute_result"
    }
   ],
   "source": [
    "Vocab_Commentaries_RegularText = {}\n",
    "D = Vocab_Commentaries_RegularText\n",
    "for (idx, commentary) in book.commentaries:\n",
    "    pieces = regex_quoted.split(commentary)   # <== crucial\n",
    "    for p in pieces:\n",
    "        AddWord2Dict(p, D)\n",
    "\n",
    "DictTopN(D, 20)"
   ]
  },
  {
   "cell_type": "code",
   "execution_count": 31,
   "metadata": {},
   "outputs": [
    {
     "data": {
      "text/plain": [
       "[('天下', 100),\n",
       " ('將軍', 67),\n",
       " ('陛下', 67),\n",
       " ('不可', 66),\n",
       " ('以為', 64),\n",
       " ('是以', 57),\n",
       " ('所以', 49),\n",
       " ('不得', 42),\n",
       " ('不能', 39),\n",
       " ('足下', 35),\n",
       " ('天命', 32),\n",
       " ('可以', 30),\n",
       " ('足以', 29),\n",
       " ('受命', 27),\n",
       " ('皇帝', 26),\n",
       " ('然後', 24),\n",
       " ('春秋', 24),\n",
       " ('天子', 23),\n",
       " ('君子', 23),\n",
       " ('先帝', 22)]"
      ]
     },
     "execution_count": 31,
     "metadata": {},
     "output_type": "execute_result"
    }
   ],
   "source": [
    "Vocab_Commentaries_Docs = {}\n",
    "D = Vocab_Commentaries_Docs\n",
    "for (idx, commentaries) in qDocsCommentary.items():\n",
    "    for c in commentaries:\n",
    "        AddWord2Dict(c, D)\n",
    "\n",
    "DictTopN(D, 20)"
   ]
  },
  {
   "cell_type": "code",
   "execution_count": 32,
   "metadata": {},
   "outputs": [
    {
     "data": {
      "text/html": [
       "<div>\n",
       "<style scoped>\n",
       "    .dataframe tbody tr th:only-of-type {\n",
       "        vertical-align: middle;\n",
       "    }\n",
       "\n",
       "    .dataframe tbody tr th {\n",
       "        vertical-align: top;\n",
       "    }\n",
       "\n",
       "    .dataframe thead th {\n",
       "        text-align: right;\n",
       "    }\n",
       "</style>\n",
       "<table border=\"1\" class=\"dataframe\">\n",
       "  <thead>\n",
       "    <tr style=\"text-align: right;\">\n",
       "      <th></th>\n",
       "      <th>Index</th>\n",
       "      <th>iDocCount</th>\n",
       "      <th>iDocCharCount</th>\n",
       "      <th>qDocCount</th>\n",
       "      <th>qDocCharCount</th>\n",
       "      <th>qDocCountCommentary</th>\n",
       "      <th>qDocCharCountCommentary</th>\n",
       "    </tr>\n",
       "  </thead>\n",
       "  <tbody>\n",
       "    <tr>\n",
       "      <th>0</th>\n",
       "      <td>0</td>\n",
       "      <td>1</td>\n",
       "      <td>1475</td>\n",
       "      <td>0</td>\n",
       "      <td>0</td>\n",
       "      <td>5</td>\n",
       "      <td>2937</td>\n",
       "    </tr>\n",
       "    <tr>\n",
       "      <th>1</th>\n",
       "      <td>66</td>\n",
       "      <td>1</td>\n",
       "      <td>1387</td>\n",
       "      <td>0</td>\n",
       "      <td>0</td>\n",
       "      <td>0</td>\n",
       "      <td>0</td>\n",
       "    </tr>\n",
       "    <tr>\n",
       "      <th>2</th>\n",
       "      <td>91</td>\n",
       "      <td>1</td>\n",
       "      <td>696</td>\n",
       "      <td>1</td>\n",
       "      <td>402</td>\n",
       "      <td>1</td>\n",
       "      <td>296</td>\n",
       "    </tr>\n",
       "    <tr>\n",
       "      <th>3</th>\n",
       "      <td>116</td>\n",
       "      <td>3</td>\n",
       "      <td>3231</td>\n",
       "      <td>0</td>\n",
       "      <td>0</td>\n",
       "      <td>1</td>\n",
       "      <td>280</td>\n",
       "    </tr>\n",
       "    <tr>\n",
       "      <th>4</th>\n",
       "      <td>135</td>\n",
       "      <td>4</td>\n",
       "      <td>4939</td>\n",
       "      <td>0</td>\n",
       "      <td>0</td>\n",
       "      <td>4</td>\n",
       "      <td>2819</td>\n",
       "    </tr>\n",
       "    <tr>\n",
       "      <th>5</th>\n",
       "      <td>192</td>\n",
       "      <td>2</td>\n",
       "      <td>2207</td>\n",
       "      <td>4</td>\n",
       "      <td>1472</td>\n",
       "      <td>0</td>\n",
       "      <td>0</td>\n",
       "    </tr>\n",
       "    <tr>\n",
       "      <th>6</th>\n",
       "      <td>199</td>\n",
       "      <td>1</td>\n",
       "      <td>1374</td>\n",
       "      <td>0</td>\n",
       "      <td>0</td>\n",
       "      <td>0</td>\n",
       "      <td>0</td>\n",
       "    </tr>\n",
       "    <tr>\n",
       "      <th>7</th>\n",
       "      <td>205</td>\n",
       "      <td>1</td>\n",
       "      <td>826</td>\n",
       "      <td>1</td>\n",
       "      <td>425</td>\n",
       "      <td>1</td>\n",
       "      <td>895</td>\n",
       "    </tr>\n",
       "    <tr>\n",
       "      <th>8</th>\n",
       "      <td>276</td>\n",
       "      <td>1</td>\n",
       "      <td>750</td>\n",
       "      <td>1</td>\n",
       "      <td>349</td>\n",
       "      <td>4</td>\n",
       "      <td>1868</td>\n",
       "    </tr>\n",
       "    <tr>\n",
       "      <th>9</th>\n",
       "      <td>277</td>\n",
       "      <td>1</td>\n",
       "      <td>1006</td>\n",
       "      <td>0</td>\n",
       "      <td>0</td>\n",
       "      <td>0</td>\n",
       "      <td>0</td>\n",
       "    </tr>\n",
       "    <tr>\n",
       "      <th>10</th>\n",
       "      <td>288</td>\n",
       "      <td>1</td>\n",
       "      <td>968</td>\n",
       "      <td>0</td>\n",
       "      <td>0</td>\n",
       "      <td>3</td>\n",
       "      <td>1275</td>\n",
       "    </tr>\n",
       "    <tr>\n",
       "      <th>11</th>\n",
       "      <td>300</td>\n",
       "      <td>1</td>\n",
       "      <td>698</td>\n",
       "      <td>0</td>\n",
       "      <td>0</td>\n",
       "      <td>0</td>\n",
       "      <td>0</td>\n",
       "    </tr>\n",
       "    <tr>\n",
       "      <th>12</th>\n",
       "      <td>322</td>\n",
       "      <td>1</td>\n",
       "      <td>1870</td>\n",
       "      <td>0</td>\n",
       "      <td>0</td>\n",
       "      <td>1</td>\n",
       "      <td>292</td>\n",
       "    </tr>\n",
       "    <tr>\n",
       "      <th>13</th>\n",
       "      <td>474</td>\n",
       "      <td>2</td>\n",
       "      <td>2726</td>\n",
       "      <td>1</td>\n",
       "      <td>316</td>\n",
       "      <td>2</td>\n",
       "      <td>993</td>\n",
       "    </tr>\n",
       "    <tr>\n",
       "      <th>14</th>\n",
       "      <td>476</td>\n",
       "      <td>1</td>\n",
       "      <td>351</td>\n",
       "      <td>2</td>\n",
       "      <td>1380</td>\n",
       "      <td>0</td>\n",
       "      <td>0</td>\n",
       "    </tr>\n",
       "    <tr>\n",
       "      <th>15</th>\n",
       "      <td>487</td>\n",
       "      <td>1</td>\n",
       "      <td>1572</td>\n",
       "      <td>0</td>\n",
       "      <td>0</td>\n",
       "      <td>0</td>\n",
       "      <td>0</td>\n",
       "    </tr>\n",
       "    <tr>\n",
       "      <th>16</th>\n",
       "      <td>488</td>\n",
       "      <td>1</td>\n",
       "      <td>827</td>\n",
       "      <td>2</td>\n",
       "      <td>753</td>\n",
       "      <td>0</td>\n",
       "      <td>0</td>\n",
       "    </tr>\n",
       "    <tr>\n",
       "      <th>17</th>\n",
       "      <td>489</td>\n",
       "      <td>1</td>\n",
       "      <td>1559</td>\n",
       "      <td>1</td>\n",
       "      <td>855</td>\n",
       "      <td>0</td>\n",
       "      <td>0</td>\n",
       "    </tr>\n",
       "    <tr>\n",
       "      <th>18</th>\n",
       "      <td>5</td>\n",
       "      <td>0</td>\n",
       "      <td>0</td>\n",
       "      <td>1</td>\n",
       "      <td>622</td>\n",
       "      <td>0</td>\n",
       "      <td>0</td>\n",
       "    </tr>\n",
       "    <tr>\n",
       "      <th>19</th>\n",
       "      <td>13</td>\n",
       "      <td>0</td>\n",
       "      <td>0</td>\n",
       "      <td>1</td>\n",
       "      <td>260</td>\n",
       "      <td>0</td>\n",
       "      <td>0</td>\n",
       "    </tr>\n",
       "    <tr>\n",
       "      <th>20</th>\n",
       "      <td>32</td>\n",
       "      <td>0</td>\n",
       "      <td>0</td>\n",
       "      <td>1</td>\n",
       "      <td>271</td>\n",
       "      <td>0</td>\n",
       "      <td>0</td>\n",
       "    </tr>\n",
       "    <tr>\n",
       "      <th>21</th>\n",
       "      <td>47</td>\n",
       "      <td>0</td>\n",
       "      <td>0</td>\n",
       "      <td>2</td>\n",
       "      <td>741</td>\n",
       "      <td>0</td>\n",
       "      <td>0</td>\n",
       "    </tr>\n",
       "    <tr>\n",
       "      <th>22</th>\n",
       "      <td>49</td>\n",
       "      <td>0</td>\n",
       "      <td>0</td>\n",
       "      <td>1</td>\n",
       "      <td>322</td>\n",
       "      <td>0</td>\n",
       "      <td>0</td>\n",
       "    </tr>\n",
       "    <tr>\n",
       "      <th>23</th>\n",
       "      <td>53</td>\n",
       "      <td>0</td>\n",
       "      <td>0</td>\n",
       "      <td>2</td>\n",
       "      <td>925</td>\n",
       "      <td>0</td>\n",
       "      <td>0</td>\n",
       "    </tr>\n",
       "    <tr>\n",
       "      <th>24</th>\n",
       "      <td>57</td>\n",
       "      <td>0</td>\n",
       "      <td>0</td>\n",
       "      <td>1</td>\n",
       "      <td>351</td>\n",
       "      <td>0</td>\n",
       "      <td>0</td>\n",
       "    </tr>\n",
       "    <tr>\n",
       "      <th>25</th>\n",
       "      <td>79</td>\n",
       "      <td>0</td>\n",
       "      <td>0</td>\n",
       "      <td>1</td>\n",
       "      <td>407</td>\n",
       "      <td>1</td>\n",
       "      <td>424</td>\n",
       "    </tr>\n",
       "    <tr>\n",
       "      <th>26</th>\n",
       "      <td>80</td>\n",
       "      <td>0</td>\n",
       "      <td>0</td>\n",
       "      <td>3</td>\n",
       "      <td>1798</td>\n",
       "      <td>0</td>\n",
       "      <td>0</td>\n",
       "    </tr>\n",
       "    <tr>\n",
       "      <th>27</th>\n",
       "      <td>81</td>\n",
       "      <td>0</td>\n",
       "      <td>0</td>\n",
       "      <td>2</td>\n",
       "      <td>683</td>\n",
       "      <td>1</td>\n",
       "      <td>257</td>\n",
       "    </tr>\n",
       "    <tr>\n",
       "      <th>28</th>\n",
       "      <td>92</td>\n",
       "      <td>0</td>\n",
       "      <td>0</td>\n",
       "      <td>1</td>\n",
       "      <td>268</td>\n",
       "      <td>0</td>\n",
       "      <td>0</td>\n",
       "    </tr>\n",
       "    <tr>\n",
       "      <th>29</th>\n",
       "      <td>93</td>\n",
       "      <td>0</td>\n",
       "      <td>0</td>\n",
       "      <td>2</td>\n",
       "      <td>592</td>\n",
       "      <td>0</td>\n",
       "      <td>0</td>\n",
       "    </tr>\n",
       "  </tbody>\n",
       "</table>\n",
       "</div>"
      ],
      "text/plain": [
       "    Index  iDocCount  iDocCharCount  qDocCount  qDocCharCount  \\\n",
       "0       0          1           1475          0              0   \n",
       "1      66          1           1387          0              0   \n",
       "2      91          1            696          1            402   \n",
       "3     116          3           3231          0              0   \n",
       "4     135          4           4939          0              0   \n",
       "5     192          2           2207          4           1472   \n",
       "6     199          1           1374          0              0   \n",
       "7     205          1            826          1            425   \n",
       "8     276          1            750          1            349   \n",
       "9     277          1           1006          0              0   \n",
       "10    288          1            968          0              0   \n",
       "11    300          1            698          0              0   \n",
       "12    322          1           1870          0              0   \n",
       "13    474          2           2726          1            316   \n",
       "14    476          1            351          2           1380   \n",
       "15    487          1           1572          0              0   \n",
       "16    488          1            827          2            753   \n",
       "17    489          1           1559          1            855   \n",
       "18      5          0              0          1            622   \n",
       "19     13          0              0          1            260   \n",
       "20     32          0              0          1            271   \n",
       "21     47          0              0          2            741   \n",
       "22     49          0              0          1            322   \n",
       "23     53          0              0          2            925   \n",
       "24     57          0              0          1            351   \n",
       "25     79          0              0          1            407   \n",
       "26     80          0              0          3           1798   \n",
       "27     81          0              0          2            683   \n",
       "28     92          0              0          1            268   \n",
       "29     93          0              0          2            592   \n",
       "\n",
       "    qDocCountCommentary  qDocCharCountCommentary  \n",
       "0                     5                     2937  \n",
       "1                     0                        0  \n",
       "2                     1                      296  \n",
       "3                     1                      280  \n",
       "4                     4                     2819  \n",
       "5                     0                        0  \n",
       "6                     0                        0  \n",
       "7                     1                      895  \n",
       "8                     4                     1868  \n",
       "9                     0                        0  \n",
       "10                    3                     1275  \n",
       "11                    0                        0  \n",
       "12                    1                      292  \n",
       "13                    2                      993  \n",
       "14                    0                        0  \n",
       "15                    0                        0  \n",
       "16                    0                        0  \n",
       "17                    0                        0  \n",
       "18                    0                        0  \n",
       "19                    0                        0  \n",
       "20                    0                        0  \n",
       "21                    0                        0  \n",
       "22                    0                        0  \n",
       "23                    0                        0  \n",
       "24                    0                        0  \n",
       "25                    1                      424  \n",
       "26                    0                        0  \n",
       "27                    1                      257  \n",
       "28                    0                        0  \n",
       "29                    0                        0  "
      ]
     },
     "execution_count": 32,
     "metadata": {},
     "output_type": "execute_result"
    }
   ],
   "source": [
    "AllDf.head(30)"
   ]
  },
  {
   "cell_type": "code",
   "execution_count": 11,
   "metadata": {},
   "outputs": [
    {
     "data": {
      "text/plain": [
       "{'section',\n",
       " '世家',\n",
       " '傳:',\n",
       " '列傳',\n",
       " '史記正義',\n",
       " '吳書',\n",
       " '志',\n",
       " '書',\n",
       " '本紀',\n",
       " '紀:',\n",
       " '蜀書',\n",
       " '表',\n",
       " '魏書',\n",
       " '點校後記'}"
      ]
     },
     "execution_count": 11,
     "metadata": {},
     "output_type": "execute_result"
    }
   ],
   "source": []
  },
  {
   "cell_type": "code",
   "execution_count": null,
   "metadata": {},
   "outputs": [],
   "source": []
  }
 ],
 "metadata": {
  "kernelspec": {
   "display_name": "Python 3",
   "language": "python",
   "name": "python3"
  },
  "language_info": {
   "codemirror_mode": {
    "name": "ipython",
    "version": 3
   },
   "file_extension": ".py",
   "mimetype": "text/x-python",
   "name": "python",
   "nbconvert_exporter": "python",
   "pygments_lexer": "ipython3",
   "version": "3.6.8"
  }
 },
 "nbformat": 4,
 "nbformat_minor": 4
}
